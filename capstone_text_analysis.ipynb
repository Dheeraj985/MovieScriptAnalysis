{
 "cells": [
  {
   "cell_type": "code",
   "execution_count": 27,
   "id": "0906ee11",
   "metadata": {},
   "outputs": [
    {
     "name": "stdout",
     "output_type": "stream",
     "text": [
      "Collecting textblob\n",
      "  Downloading textblob-0.18.0.post0-py3-none-any.whl (626 kB)\n",
      "\u001b[K     |████████████████████████████████| 626 kB 2.5 MB/s eta 0:00:01\n",
      "\u001b[?25hCollecting nltk>=3.8\n",
      "  Downloading nltk-3.8.1-py3-none-any.whl (1.5 MB)\n",
      "\u001b[K     |████████████████████████████████| 1.5 MB 30.0 MB/s eta 0:00:01\n",
      "\u001b[?25hRequirement already satisfied: click in /Users/dheerajkashyapvaranasi/opt/anaconda3/lib/python3.9/site-packages (from nltk>=3.8->textblob) (8.0.4)\n",
      "Requirement already satisfied: regex>=2021.8.3 in /Users/dheerajkashyapvaranasi/opt/anaconda3/lib/python3.9/site-packages (from nltk>=3.8->textblob) (2022.3.15)\n",
      "Requirement already satisfied: joblib in /Users/dheerajkashyapvaranasi/opt/anaconda3/lib/python3.9/site-packages (from nltk>=3.8->textblob) (1.1.0)\n",
      "Requirement already satisfied: tqdm in /Users/dheerajkashyapvaranasi/opt/anaconda3/lib/python3.9/site-packages (from nltk>=3.8->textblob) (4.64.0)\n",
      "Installing collected packages: nltk, textblob\n",
      "  Attempting uninstall: nltk\n",
      "    Found existing installation: nltk 3.7\n",
      "    Uninstalling nltk-3.7:\n",
      "      Successfully uninstalled nltk-3.7\n",
      "Successfully installed nltk-3.8.1 textblob-0.18.0.post0\n",
      "Note: you may need to restart the kernel to use updated packages.\n"
     ]
    }
   ],
   "source": [
    "pip install textblob"
   ]
  },
  {
   "cell_type": "code",
   "execution_count": 39,
   "id": "6e8feae1",
   "metadata": {
    "scrolled": true
   },
   "outputs": [
    {
     "name": "stdout",
     "output_type": "stream",
     "text": [
      "Collecting nrclex\n",
      "  Downloading NRCLex-4.0-py3-none-any.whl (4.4 kB)\n",
      "  Downloading NRCLex-3.0.0.tar.gz (396 kB)\n",
      "\u001b[K     |████████████████████████████████| 396 kB 1.1 MB/s eta 0:00:01\n",
      "\u001b[?25hRequirement already satisfied: textblob in /Users/dheerajkashyapvaranasi/opt/anaconda3/lib/python3.9/site-packages (from nrclex) (0.18.0.post0)\n",
      "Requirement already satisfied: nltk>=3.8 in /Users/dheerajkashyapvaranasi/opt/anaconda3/lib/python3.9/site-packages (from textblob->nrclex) (3.8.1)\n",
      "Requirement already satisfied: regex>=2021.8.3 in /Users/dheerajkashyapvaranasi/opt/anaconda3/lib/python3.9/site-packages (from nltk>=3.8->textblob->nrclex) (2022.3.15)\n",
      "Requirement already satisfied: click in /Users/dheerajkashyapvaranasi/opt/anaconda3/lib/python3.9/site-packages (from nltk>=3.8->textblob->nrclex) (8.0.4)\n",
      "Requirement already satisfied: tqdm in /Users/dheerajkashyapvaranasi/opt/anaconda3/lib/python3.9/site-packages (from nltk>=3.8->textblob->nrclex) (4.64.0)\n",
      "Requirement already satisfied: joblib in /Users/dheerajkashyapvaranasi/opt/anaconda3/lib/python3.9/site-packages (from nltk>=3.8->textblob->nrclex) (1.1.0)\n",
      "Building wheels for collected packages: nrclex\n",
      "  Building wheel for nrclex (setup.py) ... \u001b[?25ldone\n",
      "\u001b[?25h  Created wheel for nrclex: filename=NRCLex-3.0.0-py3-none-any.whl size=43329 sha256=c189827e560ef0c9a019a1582ef21ef7065dcbc1b4d5eed0c10b1b901186f0b0\n",
      "  Stored in directory: /Users/dheerajkashyapvaranasi/Library/Caches/pip/wheels/68/c4/f2/c390dd3eac398fdf45f7a01c6516bc53fa7a9ab59c7d2ff518\n",
      "Successfully built nrclex\n",
      "Installing collected packages: nrclex\n",
      "Successfully installed nrclex-3.0.0\n",
      "Note: you may need to restart the kernel to use updated packages.\n"
     ]
    }
   ],
   "source": [
    "pip install nrclex\n"
   ]
  },
  {
   "cell_type": "markdown",
   "id": "86f6b738",
   "metadata": {},
   "source": [
    "## Characters"
   ]
  },
  {
   "cell_type": "code",
   "execution_count": 17,
   "id": "2f23a054",
   "metadata": {},
   "outputs": [],
   "source": [
    "import re\n",
    "def characters_fn(file_name):\n",
    "    characters=[]\n",
    "    one_word=[]\n",
    "    two_words=[]\n",
    "    tw_list=[]\n",
    "    char_set = set()\n",
    "    final_char = []\n",
    "    with open(filename,'r',encoding='UTF-8') as file:\n",
    "    \n",
    "        for line in file:\n",
    "            #print(line)\n",
    "            pattern = r'\\s?\\b[A-Z][A-Z]+\\s'\n",
    "            words=line.split()\n",
    "            if len(words)>=1 and len(words)<=2 and re.findall(pattern,line):\n",
    "                #print(words)\n",
    "                if len(words)==2:\n",
    "                    two_words.append(words)\n",
    "                else:\n",
    "                    one_word.append(words)\n",
    "\n",
    "    for word in two_words:\n",
    "        new_word=' '.join(word)\n",
    "        characters.append(new_word)\n",
    "    for char in one_word:\n",
    "        new_char=' '.join(char)\n",
    "        characters.append(new_char)\n",
    "\n",
    "    set_characters=set(characters)\n",
    "    char_list = list(set_characters)\n",
    "\n",
    "    for i in char_list:\n",
    "        if ':' in i or '.' in i or ',' in i or '(' in i or ')' in i or '-' in i or '_' in i or '!' in i or '@' in i or '#' in i or 'THE END' in i or 'CUT' in i:\n",
    "            continue\n",
    "        else:\n",
    "            final_char.append(i)\n",
    "\n",
    "\n",
    "    return final_char"
   ]
  },
  {
   "cell_type": "markdown",
   "id": "a5d166a5",
   "metadata": {},
   "source": [
    "## Script Structure"
   ]
  },
  {
   "cell_type": "code",
   "execution_count": 10,
   "id": "0f098ddd",
   "metadata": {},
   "outputs": [],
   "source": [
    "def identify_script_structure(script_text):\n",
    "    three_act,five_act,hero,nonlinear,parallel,circular,open_end,in_medias,experimental = 0,0,0,0,0,0,0,0,0\n",
    "\n",
    "    script_text_lower = script_text.lower()\n",
    "\n",
    "        # Three-Act Structure\n",
    "    three_act_keywords = [\"act 1\", \"act i\", \"act one\",\"act 2\", \"act ii\", \"act two\",\"act 3\", \"act iii\", \"act three\",\n",
    "        \"setup\", \"conflict\", \"resolution\",\"introduction\", \"rising action\",\"climax\", \"falling action\", \"denouement\"]\n",
    "    # Five-Act Structure\n",
    "    five_act_keywords = [\"act 1\", \"act i\", \"act one\",\"act 2\", \"act ii\", \"act two\",\"act 3\", \"act iii\", \"act three\",\n",
    "        \"act 4\", \"act iv\", \"act four\",\"act 5\", \"act v\", \"act five\",\"exposition\", \"complication\",\"development\", \"crisis\", \"catastrophe\"]\n",
    "    # Hero's Journey\n",
    "    hero_journey_keywords = [\"call to adventure\", \"trials\", \"return\",\"departure\", \"mentor\", \"threshold guardian\",\n",
    "        \"abyss\", \"transformation\", \"atonement\",\"return with elixir\"]\n",
    "    # Nonlinear Narrative\n",
    "    nonlinear_keywords = [\"flashback\", \"flash-forward\", \"parallel storylines\",\"nonlinear storytelling\", \"time jumps\",\n",
    "        \"fragmented narrative\", \"anachronistic\",\"disjointed timeline\"]\n",
    "    # Parallel Storylines\n",
    "    parallel_storylines_keywords = [\"multiple storylines\", \"interconnected\",\"converge\", \"diverge\", \"interwoven narratives\",\n",
    "        \"cross-cutting\", \"interlocking plots\",\"simultaneous events\", \"colliding storylines\"]\n",
    "    # Circular Structure\n",
    "    circular_structure_keywords = [\"ends where it began\", \"cyclical\",\"repeat\", \"closure\", \"ouroboros\",\n",
    "        \"loop\", \"repetition\", \"resurrection\",\"eternal return\"]\n",
    "    # Open-Ended\n",
    "    open_ended_keywords = [\"open-ended\", \"ambiguous\", \"interpretation\",\"unresolved\", \"uncertainty\", \"interpretive ending\"]\n",
    "    # In Medias Res\n",
    "    in_medias_res_keywords = [\"in medias res\", \"starting in the middle\",\"middle of the action\", \"jumping into the middle\",\n",
    "        \"immediate conflict\"]\n",
    "    # Experimental\n",
    "    experimental_keywords = [\"experimental\", \"unconventional\", \"avant-garde\",\"rule-breaking\", \"nontraditional structure\",\n",
    "        \"trailblazing storytelling\"]\n",
    "\n",
    "\n",
    "    def check_keywords(keywords):\n",
    "        count = sum(keyword in script_text_lower for keyword in keywords)\n",
    "        return count\n",
    "\n",
    "    identified_structures = []\n",
    "\n",
    "    if check_keywords(three_act_keywords) > 0:\n",
    "        three_act = 1\n",
    "\n",
    "    if check_keywords(five_act_keywords) > 0:\n",
    "        five_act = 1\n",
    "\n",
    "    if check_keywords(hero_journey_keywords) > 0:\n",
    "        hero = 1\n",
    "\n",
    "    if check_keywords(nonlinear_keywords) > 0:\n",
    "        nonlinear = 1\n",
    "\n",
    "    if check_keywords(parallel_storylines_keywords) > 0:\n",
    "        parallel = 1\n",
    "\n",
    "    if check_keywords(circular_structure_keywords) > 0:\n",
    "        circular = 1\n",
    "\n",
    "    if check_keywords(open_ended_keywords) > 0:\n",
    "        open_end = 1\n",
    "\n",
    "    if check_keywords(in_medias_res_keywords) > 0:\n",
    "        in_medias = 1\n",
    "        \n",
    "    if check_keywords(experimental_keywords) > 0:\n",
    "        experimental = 1\n",
    "\n",
    "    structures = str(three_act)+','+str(five_act)+','+str(hero)+','+str(nonlinear)+','+str(parallel)+','+str(circular)+','+str(open_end)+','+str(in_medias)+','+str(experimental)\n",
    "    \n",
    "    return structures\n"
   ]
  },
  {
   "cell_type": "markdown",
   "id": "5ea1910e",
   "metadata": {},
   "source": [
    "## Breakdown into scenes"
   ]
  },
  {
   "cell_type": "code",
   "execution_count": 18,
   "id": "49efbef1",
   "metadata": {},
   "outputs": [],
   "source": [
    "import re\n",
    "def breakdown_into_scenes(script_text):\n",
    "    # Define a regular expression pattern for scene transitions\n",
    "    scene_pattern = re.compile(r'^\\.|\\s*(?:INT\\.|EXT\\.)\\s+',re.MULTILINE)\n",
    "\n",
    "    scenes = scene_pattern.split(script_text)\n",
    "\n",
    "    return scenes"
   ]
  },
  {
   "cell_type": "markdown",
   "id": "e4ca16e5",
   "metadata": {},
   "source": [
    "## Sentiment Analysis"
   ]
  },
  {
   "cell_type": "code",
   "execution_count": 16,
   "id": "7610ccb7",
   "metadata": {},
   "outputs": [],
   "source": [
    "from textblob import TextBlob\n",
    "import numpy as np\n",
    "\n",
    "def sentiment_polarity(scenes):\n",
    "    positives = 0\n",
    "    negatives = 0\n",
    "    neutrals = 0\n",
    "    polarity_list = []\n",
    "    # Create a TextBlob object\n",
    "    for scene in scenes:\n",
    "        blob = TextBlob(scene)\n",
    "\n",
    "    # Get the sentiment polarity (-1 to 1, where -1 is negative, 0 is neutral, and 1 is positive)\n",
    "        sentiment_polarity = blob.sentiment.polarity\n",
    "        polarity_list.append(sentiment_polarity)\n",
    "\n",
    "    # Classify the sentiment as positive, negative, or neutral\n",
    "        if sentiment_polarity > 0:\n",
    "            scene_sentiment_label = 'Positive'\n",
    "            positives = positives + 1\n",
    "        elif sentiment_polarity < 0:\n",
    "            scene_sentiment_label = 'Negative'\n",
    "            negatives = negatives + 1\n",
    "        else:\n",
    "            scene_sentiment_label = 'Neutral'\n",
    "            neutrals = neutrals + 1\n",
    "        \n",
    "        overall_polarity = np.mean(polarity_list)\n",
    "        if overall_polarity > 0:\n",
    "            sentiment_label = 'Positive'\n",
    "        elif overall_polarity < 0:\n",
    "            sentiment_label = 'Negative'\n",
    "        else:\n",
    "            overall_polarity = 'Neutral'\n",
    "        \n",
    "    return positives, negatives, neutrals, overall_polarity\n",
    "\n"
   ]
  },
  {
   "cell_type": "markdown",
   "id": "fd4261a1",
   "metadata": {},
   "source": [
    "## Emotion Analysis"
   ]
  },
  {
   "cell_type": "code",
   "execution_count": 15,
   "id": "55ac4abb",
   "metadata": {},
   "outputs": [],
   "source": [
    "from nrclex import NRCLex\n",
    "from collections import Counter\n",
    "scene_emotions=[]\n",
    "scene_dict = {}\n",
    "def emotion_polarity(scenes):\n",
    "    scene_emotions=[]\n",
    "    scene_dict = {}\n",
    "    for scene in scenes:\n",
    "        # Analyze emotions in the text\n",
    "        emotions = NRCLex(scene).affect_frequencies\n",
    "        max_value = max(emotions.values())\n",
    "        max_keys = [key for key,value in emotions.items() if value == max_value]\n",
    "        scene_emotions.append(max_keys)\n",
    "    for i, emotion in enumerate(scene_emotions,start=1):\n",
    "        scene_dict[f'scene_{i}']=emotion\n",
    "    text_counts = Counter(text for sublist in scene_dict.values() for text in sublist)\n",
    "\n",
    "    return text_counts"
   ]
  },
  {
   "cell_type": "markdown",
   "id": "bea4238b",
   "metadata": {},
   "source": [
    "## Main"
   ]
  },
  {
   "cell_type": "code",
   "execution_count": 19,
   "id": "58c29eb5",
   "metadata": {},
   "outputs": [],
   "source": [
    "count0 = 0\n",
    "import os,glob\n",
    "folder_path = 'imsdbfilmscripts'\n",
    "\n",
    "        \n",
    "with open('Preprocess_out.csv', 'w', encoding='utf-8',newline='') as out_file:\n",
    "    out_file.write('Title,NumberOfScenes,RunTime,PositiveScenes,NegativeScenes,NeutralScenes,SentimentPolarity,Fear,Anger,Anticipation,Trust,Surprise,Positive,Negative,Sadness,Disgust,Joy,NumberOfCharacters,ThreeActStructure,FiveActStructure,HeroStructure,NonlinearStructure,ParallelStructure,CircularStructure,OpenEndedStructre,InMediasStructure,ExperimentalStructure\\n')\n",
    "       \n",
    "    for filename in glob.glob(os.path.join(folder_path, '*.txt')):\n",
    "        run_time = 0\n",
    "\n",
    "        with open(filename, 'r', encoding='utf-8') as file:\n",
    "            #print(file)\n",
    "            character_list = characters_fn(filename)\n",
    "            filename=filename.replace('imsdbfilmscripts/','').replace('.txt','').replace('-',' ').replace(',',' ')\n",
    "            file_content = file.read()\n",
    "            structures = identify_script_structure(file_content)\n",
    "            scenes = breakdown_into_scenes(file_content)\n",
    "            number_scenes = len(scenes)\n",
    "        \n",
    "        if number_scenes>70:\n",
    "            \n",
    "            if number_scenes > 70 and number_scenes <= 90:\n",
    "                run_time = number_scenes * 1.5\n",
    "            elif number_scenes > 90 and number_scenes <= 200:\n",
    "                run_time = number_scenes\n",
    "            elif number_scenes > 200 and number_scenes <= 300:\n",
    "                run_time = number_scenes * 0.75\n",
    "            elif number_scenes > 300 and number_scenes <= 400:\n",
    "                run_time = number_scenes * 0.5\n",
    "            else:\n",
    "                run_time = 'NA'\n",
    "            \n",
    "            \n",
    "            \n",
    "            count0 = count0+1\n",
    "            #print(filename, \"scenes: \", h)\n",
    "            s_positives, s_negatives, s_neutrals, s_overall_polarity = sentiment_polarity(scenes)\n",
    "            emotion_dict = emotion_polarity(scenes)\n",
    "            emotion_string = (str(emotion_dict['fear'])+ ',' + str(emotion_dict['anger']) + ',' + str(emotion_dict['anticipation'])\n",
    "                            + ',' + str(emotion_dict['trust']) + ',' + str(emotion_dict['surprise']) + ',' + str(emotion_dict['positive'])\n",
    "                            + ',' + str(emotion_dict['negative']) + ',' + str(emotion_dict['sadness']) + ',' + str(emotion_dict['disgust'])\n",
    "                            + ',' + str(emotion_dict['joy']))\n",
    "            max_emotion = max(emotion_dict.values())\n",
    "            #max_keys = [key for key,value in emotion_dict.items() if value == max_emotion]\n",
    "            \n",
    "            out_file.write(str(filename)+','+str(number_scenes)+','+ str(run_time) + ',' +\n",
    "                           str(s_positives)+','+str(s_negatives)+','+str(s_neutrals)+','+str(s_overall_polarity)+ ','\n",
    "                           + emotion_string + ',' + str(len(character_list))+ ',' + structures +'\\n')\n"
   ]
  },
  {
   "cell_type": "code",
   "execution_count": null,
   "id": "cb03b753",
   "metadata": {},
   "outputs": [],
   "source": []
  },
  {
   "cell_type": "code",
   "execution_count": null,
   "id": "ab7af4a1",
   "metadata": {},
   "outputs": [],
   "source": []
  },
  {
   "cell_type": "code",
   "execution_count": null,
   "id": "31bba727",
   "metadata": {},
   "outputs": [],
   "source": []
  },
  {
   "cell_type": "code",
   "execution_count": null,
   "id": "b1373535",
   "metadata": {},
   "outputs": [],
   "source": []
  },
  {
   "cell_type": "code",
   "execution_count": null,
   "id": "75a25562",
   "metadata": {},
   "outputs": [],
   "source": []
  },
  {
   "cell_type": "code",
   "execution_count": null,
   "id": "e308be83",
   "metadata": {},
   "outputs": [],
   "source": []
  }
 ],
 "metadata": {
  "kernelspec": {
   "display_name": "Python 3 (ipykernel)",
   "language": "python",
   "name": "python3"
  },
  "language_info": {
   "codemirror_mode": {
    "name": "ipython",
    "version": 3
   },
   "file_extension": ".py",
   "mimetype": "text/x-python",
   "name": "python",
   "nbconvert_exporter": "python",
   "pygments_lexer": "ipython3",
   "version": "3.9.16"
  }
 },
 "nbformat": 4,
 "nbformat_minor": 5
}
