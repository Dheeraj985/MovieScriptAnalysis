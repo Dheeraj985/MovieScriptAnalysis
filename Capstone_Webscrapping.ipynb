{
 "cells": [
  {
   "cell_type": "markdown",
   "id": "f2bea547",
   "metadata": {},
   "source": [
    "# Importing all required packages"
   ]
  },
  {
   "cell_type": "code",
   "execution_count": 1,
   "id": "1cf8012b",
   "metadata": {},
   "outputs": [
    {
     "data": {
      "text/html": [
       "        <script type=\"text/javascript\">\n",
       "        window.PlotlyConfig = {MathJaxConfig: 'local'};\n",
       "        if (window.MathJax) {MathJax.Hub.Config({SVG: {font: \"STIX-Web\"}});}\n",
       "        if (typeof require !== 'undefined') {\n",
       "        require.undef(\"plotly\");\n",
       "        requirejs.config({\n",
       "            paths: {\n",
       "                'plotly': ['https://cdn.plot.ly/plotly-2.9.0.min']\n",
       "            }\n",
       "        });\n",
       "        require(['plotly'], function(Plotly) {\n",
       "            window._Plotly = Plotly;\n",
       "        });\n",
       "        }\n",
       "        </script>\n",
       "        "
      ]
     },
     "metadata": {},
     "output_type": "display_data"
    }
   ],
   "source": [
    "from collections import Counter\n",
    "\n",
    "import glob\n",
    "import os\n",
    "import shutil\n",
    "import random\n",
    "\n",
    "import plotly.graph_objects as go\n",
    "import pandas as pd\n",
    "import numpy as np\n",
    "import re\n",
    "import matplotlib.pyplot as plt\n",
    "import seaborn as sns\n",
    "\n",
    "# plotly\n",
    "import chart_studio.plotly as py\n",
    "import plotly.graph_objs as go\n",
    "from plotly import tools\n",
    "from plotly.offline import init_notebook_mode, iplot\n",
    "init_notebook_mode(connected=True)\n",
    "import plotly.express as px\n",
    "\n",
    "\n",
    "from bs4 import  BeautifulSoup, SoupStrainer\n",
    "import httplib2\n",
    "import pprint\n",
    "import re"
   ]
  },
  {
   "cell_type": "markdown",
   "id": "5c34204b",
   "metadata": {},
   "source": [
    "# Web Scrapping Code"
   ]
  },
  {
   "cell_type": "code",
   "execution_count": 2,
   "id": "63929d55",
   "metadata": {},
   "outputs": [],
   "source": [
    "#scarpping out all the urls for the movies\n",
    "\n",
    "http = httplib2.Http()\n",
    "status, response = http.request('https://imsdb.com/all-scripts.html')\n",
    "\n",
    "url_list=[]\n",
    "\n",
    "for link in BeautifulSoup(response, parse_only= SoupStrainer('a')):\n",
    "    if link.has_attr('href'):\n",
    "        url_in = link['href']\n",
    "        if '/Movie Scripts/' in url_in:\n",
    "            if link.has_attr('title'):\n",
    "                url_in = link['title']\n",
    "                url_in = url_in.replace(' ', '-')\n",
    "                url_in = re.sub(r'\\:', '', url_in)\n",
    "                url_in = re.sub(r'-Script', '', url_in)\n",
    "                url_in = 'http://www.imsdb.com/scripts/' + url_in + '.html'\n",
    "                url_list.append(url_in)\n",
    "                #print(url_in)"
   ]
  },
  {
   "cell_type": "code",
   "execution_count": null,
   "id": "c86f1606",
   "metadata": {},
   "outputs": [],
   "source": [
    "# accessing the links and writing to text files\n",
    "\n",
    "script_list =[]\n",
    "http = httplib2.Http()\n",
    "film_list= url_list\n",
    "for index in range(len(film_list)):\n",
    "    film_name  = film_list[index].strip('http://www.imsdb.com/scripts/')\n",
    "    film_name = film_name.replace('.html','')\n",
    "    film_name = film_name.replace(':', '')\n",
    "    print(film_name)\n",
    "    status, response = http.request(film_list[index])\n",
    "    \n",
    "    filename ='./imsdbfilmscripts/'+film_name+'.txt'\n",
    "    for link in BeautifulSoup(response, parse_only= SoupStrainer('pre')):\n",
    "        script_list = link.text\n",
    "        with open(filename, \"w\", encoding='utf-8', errors='ignore') as f:\n",
    "            for s in script_list:\n",
    "                f.write(s)"
   ]
  },
  {
   "cell_type": "code",
   "execution_count": null,
   "id": "e7466b51",
   "metadata": {},
   "outputs": [],
   "source": []
  }
 ],
 "metadata": {
  "kernelspec": {
   "display_name": "Python 3 (ipykernel)",
   "language": "python",
   "name": "python3"
  },
  "language_info": {
   "codemirror_mode": {
    "name": "ipython",
    "version": 3
   },
   "file_extension": ".py",
   "mimetype": "text/x-python",
   "name": "python",
   "nbconvert_exporter": "python",
   "pygments_lexer": "ipython3",
   "version": "3.9.16"
  }
 },
 "nbformat": 4,
 "nbformat_minor": 5
}
