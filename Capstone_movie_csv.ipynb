{
 "cells": [
  {
   "cell_type": "markdown",
   "id": "99623589",
   "metadata": {},
   "source": [
    "## Breakdown into scenes"
   ]
  },
  {
   "cell_type": "code",
   "execution_count": 33,
   "id": "7cf209ef",
   "metadata": {},
   "outputs": [],
   "source": [
    "import re\n",
    "def breakdown_into_scenes(script_text): \n",
    "    scene_pattern = re.compile(r'^\\.|\\s*(?:INT\\.|EXT\\.)\\s+',re.MULTILINE)\n",
    "\n",
    "    scenes = scene_pattern.split(script_text)\n",
    "    \n",
    "    return scenes"
   ]
  },
  {
   "cell_type": "markdown",
   "id": "e05f3d5c",
   "metadata": {},
   "source": [
    "## Sentiment Analysis"
   ]
  },
  {
   "cell_type": "code",
   "execution_count": 2,
   "id": "da75fb75",
   "metadata": {},
   "outputs": [],
   "source": [
    "from textblob import TextBlob\n",
    "import numpy as np\n",
    "\n",
    "def sentiment_polarity(scene):\n",
    "    positives = 0\n",
    "    negatives = 0\n",
    "    neutrals = 0\n",
    "    polarity_list = []\n",
    "\n",
    "    blob = TextBlob(scene)\n",
    "\n",
    "    sentiment_polarity = blob.sentiment.polarity\n",
    "    #polarity_list.append(sentiment_polarity)\n",
    "\n",
    "    # Classify the sentiment as positive, negative, or neutral\n",
    "    if sentiment_polarity > 0:\n",
    "        scene_sentiment_label = 'Positive'\n",
    "    elif sentiment_polarity < 0:\n",
    "        scene_sentiment_label = 'Negative'\n",
    "    else:\n",
    "        scene_sentiment_label = 'Neutral'\n",
    "        \n",
    "    return scene_sentiment_label\n",
    "\n"
   ]
  },
  {
   "cell_type": "markdown",
   "id": "c6d99759",
   "metadata": {},
   "source": [
    "## Emotion Analysis"
   ]
  },
  {
   "cell_type": "code",
   "execution_count": 3,
   "id": "2ff5a2e4",
   "metadata": {},
   "outputs": [],
   "source": [
    "from nrclex import NRCLex\n",
    "from collections import Counter\n",
    "scene_emotions=[]\n",
    "scene_dict = {}\n",
    "def emotion_polarity(scene):\n",
    "    scene_emotions=[]\n",
    "    scene_dict = {}\n",
    "    #for scene in scenes:\n",
    "        # Analyze emotions in the text\n",
    "    emotions = NRCLex(scene).affect_frequencies\n",
    "    max_value = max(emotions.values())\n",
    "    max_keys = [key for key,value in emotions.items() if value == max_value]\n",
    "    \n",
    "    return max_keys\n",
    "    "
   ]
  },
  {
   "cell_type": "markdown",
   "id": "15d2646d",
   "metadata": {},
   "source": [
    "## Main"
   ]
  },
  {
   "cell_type": "code",
   "execution_count": 45,
   "id": "6f0e1d88",
   "metadata": {},
   "outputs": [],
   "source": [
    "count = 0\n",
    "import os,glob\n",
    "folder_path = 'imsdbfilmscripts'\n",
    "\n",
    "for filename in glob.glob(os.path.join(folder_path, '*.txt')):\n",
    "    count = count + 1\n",
    "    run_time = 0\n",
    "\n",
    "\n",
    "\n",
    "    with open(filename, 'r', encoding='utf-8') as file:\n",
    "        #print(file)\n",
    "        #all_characters = all_characters_fn(filename)\n",
    "        filename=filename.replace('imsdbfilmscripts/','').replace('.txt','').replace('-',' ').replace(',',' ')\n",
    "        file_content = file.read()\n",
    "        \n",
    "        scenes = breakdown_into_scenes(file_content)\n",
    "        number_scenes = len(scenes)\n",
    "\n",
    "    if number_scenes>70:\n",
    "          \n",
    "        out_file = 'csv_out/' + filename + '.csv'\n",
    "        with open(out_file, 'w', encoding='utf-8') as file1:\n",
    "            file1.write(\"scene_number,positive_sentiment,negative_sentiment,neutral_sentiment,fear,anger,anticipation,trust,surprise,positive,negative,sad,disgust,joy,words \\n\")\n",
    "\n",
    "            scene_index = 0 \n",
    "            for scene in scenes:\n",
    "                pos_flag, neg_flag, neu_flag = 0, 0, 0\n",
    "                fear_flag, anger_flag, anticip_flag, trust_flag, surp_flag, positive_flag, negative_flag, sad_flag, dis_flag, joy_flag = 0, 0, 0, 0, 0, 0, 0, 0, 0, 0\n",
    "                    \n",
    "                scene_sentiment_label = sentiment_polarity(scene)\n",
    "                if scene_sentiment_label == 'Positive':\n",
    "                    pos_flag = 1\n",
    "                if scene_sentiment_label == 'Negative':\n",
    "                    neg_flag = 1\n",
    "                if scene_sentiment_label == 'Neutral':\n",
    "                    neu_flag = 1\n",
    "                scene_emotion = emotion_polarity(scene)\n",
    "\n",
    "                if 'fear' in scene_emotion:\n",
    "                    fear_flag = 1\n",
    "                if 'anger' in scene_emotion:\n",
    "                    anger_flag = 1\n",
    "                if 'anticipation' in scene_emotion:\n",
    "                    anticip_flag = 1\n",
    "                if 'trust' in scene_emotion:\n",
    "                    trust_flag = 1\n",
    "                if 'surprise' in scene_emotion:\n",
    "                    surp_flag = 1\n",
    "                if 'positive' in scene_emotion:\n",
    "                    positive_flag = 1\n",
    "                if 'negative' in scene_emotion:\n",
    "                    negative_flag = 1\n",
    "                if 'sadness' in scene_emotion:\n",
    "                    sad_flag = 1\n",
    "                if 'disgust' in scene_emotion:\n",
    "                    dis_flag = 1\n",
    "                if 'joy' in scene_emotion:\n",
    "                    joy_flag = 1\n",
    "                #scene_char = scene_character(scene)\n",
    "                #print(scene_char)\n",
    "                word_num = len(scene.split())\n",
    "\n",
    "                if scene_index == 0:\n",
    "                    scene_index = scene_index + 1\n",
    "                    continue\n",
    "                else:\n",
    "                    file1.write(str(scene_index) + ',' + str(pos_flag) + ',' + str(neg_flag) + ',' + str(neu_flag)\n",
    "                           + ',' + str(fear_flag) + ',' + str(anger_flag) + ',' + str(anticip_flag) + ',' + str(trust_flag)\n",
    "                           + ',' + str(surp_flag) + ',' + str(positive_flag) + ',' + str(negative_flag)\n",
    "                           + ',' + str(sad_flag) + ',' + str(dis_flag) + ',' + str(joy_flag) + ',' + str(word_num) +'\\n')\n",
    "                scene_index = scene_index + 1\n",
    "        \n",
    "    if count == 100:\n",
    "        break;\n",
    "        \n",
    "            \n",
    "            \n",
    "        \n",
    "        "
   ]
  },
  {
   "cell_type": "code",
   "execution_count": null,
   "id": "f795d971",
   "metadata": {},
   "outputs": [],
   "source": []
  }
 ],
 "metadata": {
  "kernelspec": {
   "display_name": "Python 3 (ipykernel)",
   "language": "python",
   "name": "python3"
  },
  "language_info": {
   "codemirror_mode": {
    "name": "ipython",
    "version": 3
   },
   "file_extension": ".py",
   "mimetype": "text/x-python",
   "name": "python",
   "nbconvert_exporter": "python",
   "pygments_lexer": "ipython3",
   "version": "3.9.16"
  }
 },
 "nbformat": 4,
 "nbformat_minor": 5
}
