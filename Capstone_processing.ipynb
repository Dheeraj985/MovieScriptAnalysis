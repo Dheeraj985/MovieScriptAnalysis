{
 "cells": [
  {
   "cell_type": "code",
   "execution_count": 24,
   "id": "e10d972f",
   "metadata": {},
   "outputs": [],
   "source": [
    "import pandas as pd\n",
    "import seaborn as sns\n",
    "import matplotlib.pyplot as plt"
   ]
  },
  {
   "cell_type": "code",
   "execution_count": 25,
   "id": "96e3bd0b",
   "metadata": {},
   "outputs": [],
   "source": [
    "preprocess_df = pd.read_csv('Preprocess_out.csv')"
   ]
  },
  {
   "cell_type": "code",
   "execution_count": 26,
   "id": "34cee5d1",
   "metadata": {},
   "outputs": [
    {
     "data": {
      "text/html": [
       "<div>\n",
       "<style scoped>\n",
       "    .dataframe tbody tr th:only-of-type {\n",
       "        vertical-align: middle;\n",
       "    }\n",
       "\n",
       "    .dataframe tbody tr th {\n",
       "        vertical-align: top;\n",
       "    }\n",
       "\n",
       "    .dataframe thead th {\n",
       "        text-align: right;\n",
       "    }\n",
       "</style>\n",
       "<table border=\"1\" class=\"dataframe\">\n",
       "  <thead>\n",
       "    <tr style=\"text-align: right;\">\n",
       "      <th></th>\n",
       "      <th>Title</th>\n",
       "      <th>NumberOfScenes</th>\n",
       "      <th>RunTime</th>\n",
       "      <th>PositiveScenes</th>\n",
       "      <th>NegativeScenes</th>\n",
       "      <th>NeutralScenes</th>\n",
       "      <th>SentimentPolarity</th>\n",
       "      <th>Fear</th>\n",
       "      <th>Anger</th>\n",
       "      <th>Anticipation</th>\n",
       "      <th>...</th>\n",
       "      <th>NumberOfCharacters</th>\n",
       "      <th>ThreeActStructure</th>\n",
       "      <th>FiveActStructure</th>\n",
       "      <th>HeroStructure</th>\n",
       "      <th>NonlinearStructure</th>\n",
       "      <th>ParallelStructure</th>\n",
       "      <th>CircularStructure</th>\n",
       "      <th>OpenEndedStructre</th>\n",
       "      <th>InMediasStructure</th>\n",
       "      <th>ExperimentalStructure</th>\n",
       "    </tr>\n",
       "  </thead>\n",
       "  <tbody>\n",
       "    <tr>\n",
       "      <th>0</th>\n",
       "      <td>Big Eyes</td>\n",
       "      <td>122</td>\n",
       "      <td>122.0</td>\n",
       "      <td>68</td>\n",
       "      <td>46</td>\n",
       "      <td>8</td>\n",
       "      <td>0.039856</td>\n",
       "      <td>18</td>\n",
       "      <td>16</td>\n",
       "      <td>10</td>\n",
       "      <td>...</td>\n",
       "      <td>53</td>\n",
       "      <td>1</td>\n",
       "      <td>1</td>\n",
       "      <td>1</td>\n",
       "      <td>1</td>\n",
       "      <td>0</td>\n",
       "      <td>0</td>\n",
       "      <td>1</td>\n",
       "      <td>0</td>\n",
       "      <td>0</td>\n",
       "    </tr>\n",
       "    <tr>\n",
       "      <th>1</th>\n",
       "      <td>Warrior</td>\n",
       "      <td>169</td>\n",
       "      <td>169.0</td>\n",
       "      <td>87</td>\n",
       "      <td>53</td>\n",
       "      <td>29</td>\n",
       "      <td>0.006693</td>\n",
       "      <td>39</td>\n",
       "      <td>29</td>\n",
       "      <td>31</td>\n",
       "      <td>...</td>\n",
       "      <td>30</td>\n",
       "      <td>1</td>\n",
       "      <td>1</td>\n",
       "      <td>1</td>\n",
       "      <td>0</td>\n",
       "      <td>0</td>\n",
       "      <td>1</td>\n",
       "      <td>0</td>\n",
       "      <td>0</td>\n",
       "      <td>0</td>\n",
       "    </tr>\n",
       "    <tr>\n",
       "      <th>2</th>\n",
       "      <td>Hellraiser Hellseeker</td>\n",
       "      <td>120</td>\n",
       "      <td>120.0</td>\n",
       "      <td>52</td>\n",
       "      <td>52</td>\n",
       "      <td>16</td>\n",
       "      <td>0.021793</td>\n",
       "      <td>27</td>\n",
       "      <td>15</td>\n",
       "      <td>15</td>\n",
       "      <td>...</td>\n",
       "      <td>44</td>\n",
       "      <td>1</td>\n",
       "      <td>0</td>\n",
       "      <td>1</td>\n",
       "      <td>1</td>\n",
       "      <td>0</td>\n",
       "      <td>1</td>\n",
       "      <td>1</td>\n",
       "      <td>0</td>\n",
       "      <td>0</td>\n",
       "    </tr>\n",
       "    <tr>\n",
       "      <th>3</th>\n",
       "      <td>Graduate  The</td>\n",
       "      <td>164</td>\n",
       "      <td>164.0</td>\n",
       "      <td>85</td>\n",
       "      <td>52</td>\n",
       "      <td>27</td>\n",
       "      <td>0.051395</td>\n",
       "      <td>37</td>\n",
       "      <td>35</td>\n",
       "      <td>31</td>\n",
       "      <td>...</td>\n",
       "      <td>44</td>\n",
       "      <td>0</td>\n",
       "      <td>0</td>\n",
       "      <td>1</td>\n",
       "      <td>0</td>\n",
       "      <td>0</td>\n",
       "      <td>1</td>\n",
       "      <td>0</td>\n",
       "      <td>0</td>\n",
       "      <td>0</td>\n",
       "    </tr>\n",
       "    <tr>\n",
       "      <th>4</th>\n",
       "      <td>Cinema Paradiso</td>\n",
       "      <td>112</td>\n",
       "      <td>112.0</td>\n",
       "      <td>75</td>\n",
       "      <td>33</td>\n",
       "      <td>4</td>\n",
       "      <td>0.030608</td>\n",
       "      <td>9</td>\n",
       "      <td>5</td>\n",
       "      <td>10</td>\n",
       "      <td>...</td>\n",
       "      <td>67</td>\n",
       "      <td>1</td>\n",
       "      <td>1</td>\n",
       "      <td>1</td>\n",
       "      <td>1</td>\n",
       "      <td>0</td>\n",
       "      <td>1</td>\n",
       "      <td>0</td>\n",
       "      <td>0</td>\n",
       "      <td>0</td>\n",
       "    </tr>\n",
       "  </tbody>\n",
       "</table>\n",
       "<p>5 rows × 27 columns</p>\n",
       "</div>"
      ],
      "text/plain": [
       "                   Title  NumberOfScenes  RunTime  PositiveScenes  \\\n",
       "0               Big Eyes             122    122.0              68   \n",
       "1                Warrior             169    169.0              87   \n",
       "2  Hellraiser Hellseeker             120    120.0              52   \n",
       "3          Graduate  The             164    164.0              85   \n",
       "4        Cinema Paradiso             112    112.0              75   \n",
       "\n",
       "   NegativeScenes  NeutralScenes  SentimentPolarity  Fear  Anger  \\\n",
       "0              46              8           0.039856    18     16   \n",
       "1              53             29           0.006693    39     29   \n",
       "2              52             16           0.021793    27     15   \n",
       "3              52             27           0.051395    37     35   \n",
       "4              33              4           0.030608     9      5   \n",
       "\n",
       "   Anticipation  ...  NumberOfCharacters  ThreeActStructure  FiveActStructure  \\\n",
       "0            10  ...                  53                  1                 1   \n",
       "1            31  ...                  30                  1                 1   \n",
       "2            15  ...                  44                  1                 0   \n",
       "3            31  ...                  44                  0                 0   \n",
       "4            10  ...                  67                  1                 1   \n",
       "\n",
       "   HeroStructure  NonlinearStructure  ParallelStructure  CircularStructure  \\\n",
       "0              1                   1                  0                  0   \n",
       "1              1                   0                  0                  1   \n",
       "2              1                   1                  0                  1   \n",
       "3              1                   0                  0                  1   \n",
       "4              1                   1                  0                  1   \n",
       "\n",
       "   OpenEndedStructre  InMediasStructure  ExperimentalStructure  \n",
       "0                  1                  0                      0  \n",
       "1                  0                  0                      0  \n",
       "2                  1                  0                      0  \n",
       "3                  0                  0                      0  \n",
       "4                  0                  0                      0  \n",
       "\n",
       "[5 rows x 27 columns]"
      ]
     },
     "execution_count": 26,
     "metadata": {},
     "output_type": "execute_result"
    }
   ],
   "source": [
    "preprocess_df.head()"
   ]
  },
  {
   "cell_type": "code",
   "execution_count": 27,
   "id": "0af0d5de",
   "metadata": {},
   "outputs": [],
   "source": [
    "ratings_df = pd.read_excel('updated_ratings_with_budget_collections.xlsx')"
   ]
  },
  {
   "cell_type": "code",
   "execution_count": 28,
   "id": "fc4e708e",
   "metadata": {},
   "outputs": [
    {
     "data": {
      "text/html": [
       "<div>\n",
       "<style scoped>\n",
       "    .dataframe tbody tr th:only-of-type {\n",
       "        vertical-align: middle;\n",
       "    }\n",
       "\n",
       "    .dataframe tbody tr th {\n",
       "        vertical-align: top;\n",
       "    }\n",
       "\n",
       "    .dataframe thead th {\n",
       "        text-align: right;\n",
       "    }\n",
       "</style>\n",
       "<table border=\"1\" class=\"dataframe\">\n",
       "  <thead>\n",
       "    <tr style=\"text-align: right;\">\n",
       "      <th></th>\n",
       "      <th>Title</th>\n",
       "      <th>Rating</th>\n",
       "      <th>budget</th>\n",
       "      <th>collections</th>\n",
       "    </tr>\n",
       "  </thead>\n",
       "  <tbody>\n",
       "    <tr>\n",
       "      <th>0</th>\n",
       "      <td>Big Eyes</td>\n",
       "      <td>7.0</td>\n",
       "      <td>5000000</td>\n",
       "      <td>15000000</td>\n",
       "    </tr>\n",
       "    <tr>\n",
       "      <th>1</th>\n",
       "      <td>Warrior</td>\n",
       "      <td>8.1</td>\n",
       "      <td>18000000</td>\n",
       "      <td>35000000</td>\n",
       "    </tr>\n",
       "    <tr>\n",
       "      <th>2</th>\n",
       "      <td>Hellraiser Hellseeker</td>\n",
       "      <td>4.9</td>\n",
       "      <td>3000000</td>\n",
       "      <td>2000000</td>\n",
       "    </tr>\n",
       "    <tr>\n",
       "      <th>3</th>\n",
       "      <td>Graduate  The</td>\n",
       "      <td>8.0</td>\n",
       "      <td>3000000</td>\n",
       "      <td>6000000</td>\n",
       "    </tr>\n",
       "    <tr>\n",
       "      <th>4</th>\n",
       "      <td>Cinema Paradiso</td>\n",
       "      <td>8.5</td>\n",
       "      <td>12000000</td>\n",
       "      <td>25000000</td>\n",
       "    </tr>\n",
       "  </tbody>\n",
       "</table>\n",
       "</div>"
      ],
      "text/plain": [
       "                   Title  Rating    budget  collections\n",
       "0               Big Eyes     7.0   5000000     15000000\n",
       "1                Warrior     8.1  18000000     35000000\n",
       "2  Hellraiser Hellseeker     4.9   3000000      2000000\n",
       "3          Graduate  The     8.0   3000000      6000000\n",
       "4        Cinema Paradiso     8.5  12000000     25000000"
      ]
     },
     "execution_count": 28,
     "metadata": {},
     "output_type": "execute_result"
    }
   ],
   "source": [
    "ratings_df.head()"
   ]
  },
  {
   "cell_type": "code",
   "execution_count": 29,
   "id": "5bf23619",
   "metadata": {},
   "outputs": [],
   "source": [
    "process_df = pd.merge(preprocess_df, ratings_df, on='Title', how='inner')"
   ]
  },
  {
   "cell_type": "code",
   "execution_count": 30,
   "id": "7d630b69",
   "metadata": {},
   "outputs": [
    {
     "data": {
      "text/html": [
       "<div>\n",
       "<style scoped>\n",
       "    .dataframe tbody tr th:only-of-type {\n",
       "        vertical-align: middle;\n",
       "    }\n",
       "\n",
       "    .dataframe tbody tr th {\n",
       "        vertical-align: top;\n",
       "    }\n",
       "\n",
       "    .dataframe thead th {\n",
       "        text-align: right;\n",
       "    }\n",
       "</style>\n",
       "<table border=\"1\" class=\"dataframe\">\n",
       "  <thead>\n",
       "    <tr style=\"text-align: right;\">\n",
       "      <th></th>\n",
       "      <th>Title</th>\n",
       "      <th>NumberOfScenes</th>\n",
       "      <th>RunTime</th>\n",
       "      <th>PositiveScenes</th>\n",
       "      <th>NegativeScenes</th>\n",
       "      <th>NeutralScenes</th>\n",
       "      <th>SentimentPolarity</th>\n",
       "      <th>Fear</th>\n",
       "      <th>Anger</th>\n",
       "      <th>Anticipation</th>\n",
       "      <th>...</th>\n",
       "      <th>HeroStructure</th>\n",
       "      <th>NonlinearStructure</th>\n",
       "      <th>ParallelStructure</th>\n",
       "      <th>CircularStructure</th>\n",
       "      <th>OpenEndedStructre</th>\n",
       "      <th>InMediasStructure</th>\n",
       "      <th>ExperimentalStructure</th>\n",
       "      <th>Rating</th>\n",
       "      <th>budget</th>\n",
       "      <th>collections</th>\n",
       "    </tr>\n",
       "  </thead>\n",
       "  <tbody>\n",
       "    <tr>\n",
       "      <th>0</th>\n",
       "      <td>Big Eyes</td>\n",
       "      <td>122</td>\n",
       "      <td>122.0</td>\n",
       "      <td>68</td>\n",
       "      <td>46</td>\n",
       "      <td>8</td>\n",
       "      <td>0.039856</td>\n",
       "      <td>18</td>\n",
       "      <td>16</td>\n",
       "      <td>10</td>\n",
       "      <td>...</td>\n",
       "      <td>1</td>\n",
       "      <td>1</td>\n",
       "      <td>0</td>\n",
       "      <td>0</td>\n",
       "      <td>1</td>\n",
       "      <td>0</td>\n",
       "      <td>0</td>\n",
       "      <td>7.0</td>\n",
       "      <td>5000000</td>\n",
       "      <td>15000000</td>\n",
       "    </tr>\n",
       "    <tr>\n",
       "      <th>1</th>\n",
       "      <td>Warrior</td>\n",
       "      <td>169</td>\n",
       "      <td>169.0</td>\n",
       "      <td>87</td>\n",
       "      <td>53</td>\n",
       "      <td>29</td>\n",
       "      <td>0.006693</td>\n",
       "      <td>39</td>\n",
       "      <td>29</td>\n",
       "      <td>31</td>\n",
       "      <td>...</td>\n",
       "      <td>1</td>\n",
       "      <td>0</td>\n",
       "      <td>0</td>\n",
       "      <td>1</td>\n",
       "      <td>0</td>\n",
       "      <td>0</td>\n",
       "      <td>0</td>\n",
       "      <td>8.1</td>\n",
       "      <td>18000000</td>\n",
       "      <td>35000000</td>\n",
       "    </tr>\n",
       "    <tr>\n",
       "      <th>2</th>\n",
       "      <td>Hellraiser Hellseeker</td>\n",
       "      <td>120</td>\n",
       "      <td>120.0</td>\n",
       "      <td>52</td>\n",
       "      <td>52</td>\n",
       "      <td>16</td>\n",
       "      <td>0.021793</td>\n",
       "      <td>27</td>\n",
       "      <td>15</td>\n",
       "      <td>15</td>\n",
       "      <td>...</td>\n",
       "      <td>1</td>\n",
       "      <td>1</td>\n",
       "      <td>0</td>\n",
       "      <td>1</td>\n",
       "      <td>1</td>\n",
       "      <td>0</td>\n",
       "      <td>0</td>\n",
       "      <td>4.9</td>\n",
       "      <td>3000000</td>\n",
       "      <td>2000000</td>\n",
       "    </tr>\n",
       "    <tr>\n",
       "      <th>3</th>\n",
       "      <td>Graduate  The</td>\n",
       "      <td>164</td>\n",
       "      <td>164.0</td>\n",
       "      <td>85</td>\n",
       "      <td>52</td>\n",
       "      <td>27</td>\n",
       "      <td>0.051395</td>\n",
       "      <td>37</td>\n",
       "      <td>35</td>\n",
       "      <td>31</td>\n",
       "      <td>...</td>\n",
       "      <td>1</td>\n",
       "      <td>0</td>\n",
       "      <td>0</td>\n",
       "      <td>1</td>\n",
       "      <td>0</td>\n",
       "      <td>0</td>\n",
       "      <td>0</td>\n",
       "      <td>8.0</td>\n",
       "      <td>3000000</td>\n",
       "      <td>6000000</td>\n",
       "    </tr>\n",
       "    <tr>\n",
       "      <th>4</th>\n",
       "      <td>Cinema Paradiso</td>\n",
       "      <td>112</td>\n",
       "      <td>112.0</td>\n",
       "      <td>75</td>\n",
       "      <td>33</td>\n",
       "      <td>4</td>\n",
       "      <td>0.030608</td>\n",
       "      <td>9</td>\n",
       "      <td>5</td>\n",
       "      <td>10</td>\n",
       "      <td>...</td>\n",
       "      <td>1</td>\n",
       "      <td>1</td>\n",
       "      <td>0</td>\n",
       "      <td>1</td>\n",
       "      <td>0</td>\n",
       "      <td>0</td>\n",
       "      <td>0</td>\n",
       "      <td>8.5</td>\n",
       "      <td>12000000</td>\n",
       "      <td>25000000</td>\n",
       "    </tr>\n",
       "  </tbody>\n",
       "</table>\n",
       "<p>5 rows × 30 columns</p>\n",
       "</div>"
      ],
      "text/plain": [
       "                   Title  NumberOfScenes  RunTime  PositiveScenes  \\\n",
       "0               Big Eyes             122    122.0              68   \n",
       "1                Warrior             169    169.0              87   \n",
       "2  Hellraiser Hellseeker             120    120.0              52   \n",
       "3          Graduate  The             164    164.0              85   \n",
       "4        Cinema Paradiso             112    112.0              75   \n",
       "\n",
       "   NegativeScenes  NeutralScenes  SentimentPolarity  Fear  Anger  \\\n",
       "0              46              8           0.039856    18     16   \n",
       "1              53             29           0.006693    39     29   \n",
       "2              52             16           0.021793    27     15   \n",
       "3              52             27           0.051395    37     35   \n",
       "4              33              4           0.030608     9      5   \n",
       "\n",
       "   Anticipation  ...  HeroStructure  NonlinearStructure  ParallelStructure  \\\n",
       "0            10  ...              1                   1                  0   \n",
       "1            31  ...              1                   0                  0   \n",
       "2            15  ...              1                   1                  0   \n",
       "3            31  ...              1                   0                  0   \n",
       "4            10  ...              1                   1                  0   \n",
       "\n",
       "   CircularStructure  OpenEndedStructre  InMediasStructure  \\\n",
       "0                  0                  1                  0   \n",
       "1                  1                  0                  0   \n",
       "2                  1                  1                  0   \n",
       "3                  1                  0                  0   \n",
       "4                  1                  0                  0   \n",
       "\n",
       "   ExperimentalStructure  Rating    budget  collections  \n",
       "0                      0     7.0   5000000     15000000  \n",
       "1                      0     8.1  18000000     35000000  \n",
       "2                      0     4.9   3000000      2000000  \n",
       "3                      0     8.0   3000000      6000000  \n",
       "4                      0     8.5  12000000     25000000  \n",
       "\n",
       "[5 rows x 30 columns]"
      ]
     },
     "execution_count": 30,
     "metadata": {},
     "output_type": "execute_result"
    }
   ],
   "source": [
    "process_df.head()"
   ]
  },
  {
   "cell_type": "code",
   "execution_count": 31,
   "id": "43e451e6",
   "metadata": {},
   "outputs": [
    {
     "name": "stdout",
     "output_type": "stream",
     "text": [
      "<class 'pandas.core.frame.DataFrame'>\n",
      "Int64Index: 902 entries, 0 to 901\n",
      "Data columns (total 30 columns):\n",
      " #   Column                 Non-Null Count  Dtype  \n",
      "---  ------                 --------------  -----  \n",
      " 0   Title                  902 non-null    object \n",
      " 1   NumberOfScenes         902 non-null    int64  \n",
      " 2   RunTime                896 non-null    float64\n",
      " 3   PositiveScenes         902 non-null    int64  \n",
      " 4   NegativeScenes         902 non-null    int64  \n",
      " 5   NeutralScenes          902 non-null    int64  \n",
      " 6   SentimentPolarity      902 non-null    float64\n",
      " 7   Fear                   902 non-null    int64  \n",
      " 8   Anger                  902 non-null    int64  \n",
      " 9   Anticipation           902 non-null    int64  \n",
      " 10  Trust                  902 non-null    int64  \n",
      " 11  Surprise               902 non-null    int64  \n",
      " 12  Positive               902 non-null    int64  \n",
      " 13  Negative               902 non-null    int64  \n",
      " 14  Sadness                902 non-null    int64  \n",
      " 15  Disgust                902 non-null    int64  \n",
      " 16  Joy                    902 non-null    int64  \n",
      " 17  NumberOfCharacters     902 non-null    int64  \n",
      " 18  ThreeActStructure      902 non-null    int64  \n",
      " 19  FiveActStructure       902 non-null    int64  \n",
      " 20  HeroStructure          902 non-null    int64  \n",
      " 21  NonlinearStructure     902 non-null    int64  \n",
      " 22  ParallelStructure      902 non-null    int64  \n",
      " 23  CircularStructure      902 non-null    int64  \n",
      " 24  OpenEndedStructre      902 non-null    int64  \n",
      " 25  InMediasStructure      902 non-null    int64  \n",
      " 26  ExperimentalStructure  902 non-null    int64  \n",
      " 27  Rating                 902 non-null    float64\n",
      " 28  budget                 902 non-null    int64  \n",
      " 29  collections            902 non-null    int64  \n",
      "dtypes: float64(3), int64(26), object(1)\n",
      "memory usage: 218.5+ KB\n"
     ]
    },
    {
     "data": {
      "text/plain": [
       "Title                    0\n",
       "NumberOfScenes           0\n",
       "RunTime                  6\n",
       "PositiveScenes           0\n",
       "NegativeScenes           0\n",
       "NeutralScenes            0\n",
       "SentimentPolarity        0\n",
       "Fear                     0\n",
       "Anger                    0\n",
       "Anticipation             0\n",
       "Trust                    0\n",
       "Surprise                 0\n",
       "Positive                 0\n",
       "Negative                 0\n",
       "Sadness                  0\n",
       "Disgust                  0\n",
       "Joy                      0\n",
       "NumberOfCharacters       0\n",
       "ThreeActStructure        0\n",
       "FiveActStructure         0\n",
       "HeroStructure            0\n",
       "NonlinearStructure       0\n",
       "ParallelStructure        0\n",
       "CircularStructure        0\n",
       "OpenEndedStructre        0\n",
       "InMediasStructure        0\n",
       "ExperimentalStructure    0\n",
       "Rating                   0\n",
       "budget                   0\n",
       "collections              0\n",
       "dtype: int64"
      ]
     },
     "execution_count": 31,
     "metadata": {},
     "output_type": "execute_result"
    }
   ],
   "source": [
    "process_df.info()\n",
    "process_df.isnull().sum()  # Count of missing values in each column"
   ]
  },
  {
   "cell_type": "code",
   "execution_count": 32,
   "id": "eaeb6032",
   "metadata": {},
   "outputs": [],
   "source": [
    "process_df.dropna(subset=['RunTime'], inplace=True)"
   ]
  },
  {
   "cell_type": "code",
   "execution_count": 33,
   "id": "3a2fa2a1",
   "metadata": {},
   "outputs": [
    {
     "data": {
      "text/html": [
       "<div>\n",
       "<style scoped>\n",
       "    .dataframe tbody tr th:only-of-type {\n",
       "        vertical-align: middle;\n",
       "    }\n",
       "\n",
       "    .dataframe tbody tr th {\n",
       "        vertical-align: top;\n",
       "    }\n",
       "\n",
       "    .dataframe thead th {\n",
       "        text-align: right;\n",
       "    }\n",
       "</style>\n",
       "<table border=\"1\" class=\"dataframe\">\n",
       "  <thead>\n",
       "    <tr style=\"text-align: right;\">\n",
       "      <th></th>\n",
       "      <th>NumberOfScenes</th>\n",
       "      <th>RunTime</th>\n",
       "      <th>PositiveScenes</th>\n",
       "      <th>NegativeScenes</th>\n",
       "      <th>NeutralScenes</th>\n",
       "      <th>SentimentPolarity</th>\n",
       "      <th>Fear</th>\n",
       "      <th>Anger</th>\n",
       "      <th>Anticipation</th>\n",
       "      <th>Trust</th>\n",
       "      <th>...</th>\n",
       "      <th>HeroStructure</th>\n",
       "      <th>NonlinearStructure</th>\n",
       "      <th>ParallelStructure</th>\n",
       "      <th>CircularStructure</th>\n",
       "      <th>OpenEndedStructre</th>\n",
       "      <th>InMediasStructure</th>\n",
       "      <th>ExperimentalStructure</th>\n",
       "      <th>Rating</th>\n",
       "      <th>budget</th>\n",
       "      <th>collections</th>\n",
       "    </tr>\n",
       "  </thead>\n",
       "  <tbody>\n",
       "    <tr>\n",
       "      <th>count</th>\n",
       "      <td>896.000000</td>\n",
       "      <td>896.000000</td>\n",
       "      <td>896.000000</td>\n",
       "      <td>896.000000</td>\n",
       "      <td>896.000000</td>\n",
       "      <td>896.000000</td>\n",
       "      <td>896.00000</td>\n",
       "      <td>896.000000</td>\n",
       "      <td>896.000000</td>\n",
       "      <td>896.000000</td>\n",
       "      <td>...</td>\n",
       "      <td>896.000000</td>\n",
       "      <td>896.000000</td>\n",
       "      <td>896.000000</td>\n",
       "      <td>896.000000</td>\n",
       "      <td>896.000000</td>\n",
       "      <td>896.000000</td>\n",
       "      <td>896.000000</td>\n",
       "      <td>896.000000</td>\n",
       "      <td>8.960000e+02</td>\n",
       "      <td>8.960000e+02</td>\n",
       "    </tr>\n",
       "    <tr>\n",
       "      <th>mean</th>\n",
       "      <td>155.361607</td>\n",
       "      <td>146.286551</td>\n",
       "      <td>77.308036</td>\n",
       "      <td>58.446429</td>\n",
       "      <td>19.607143</td>\n",
       "      <td>0.024632</td>\n",
       "      <td>34.46875</td>\n",
       "      <td>26.505580</td>\n",
       "      <td>19.489955</td>\n",
       "      <td>37.316964</td>\n",
       "      <td>...</td>\n",
       "      <td>0.953125</td>\n",
       "      <td>0.272321</td>\n",
       "      <td>0.161830</td>\n",
       "      <td>0.757812</td>\n",
       "      <td>0.154018</td>\n",
       "      <td>0.001116</td>\n",
       "      <td>0.070312</td>\n",
       "      <td>6.898661</td>\n",
       "      <td>1.194978e+07</td>\n",
       "      <td>1.299330e+07</td>\n",
       "    </tr>\n",
       "    <tr>\n",
       "      <th>std</th>\n",
       "      <td>55.803795</td>\n",
       "      <td>30.355001</td>\n",
       "      <td>27.066295</td>\n",
       "      <td>25.680230</td>\n",
       "      <td>16.156418</td>\n",
       "      <td>0.036528</td>\n",
       "      <td>22.89815</td>\n",
       "      <td>18.695441</td>\n",
       "      <td>10.288243</td>\n",
       "      <td>22.808897</td>\n",
       "      <td>...</td>\n",
       "      <td>0.211489</td>\n",
       "      <td>0.445403</td>\n",
       "      <td>0.368501</td>\n",
       "      <td>0.428646</td>\n",
       "      <td>0.361167</td>\n",
       "      <td>0.033408</td>\n",
       "      <td>0.255816</td>\n",
       "      <td>0.961120</td>\n",
       "      <td>7.695079e+06</td>\n",
       "      <td>4.278563e+06</td>\n",
       "    </tr>\n",
       "    <tr>\n",
       "      <th>min</th>\n",
       "      <td>71.000000</td>\n",
       "      <td>91.000000</td>\n",
       "      <td>19.000000</td>\n",
       "      <td>8.000000</td>\n",
       "      <td>0.000000</td>\n",
       "      <td>-0.137206</td>\n",
       "      <td>3.00000</td>\n",
       "      <td>1.000000</td>\n",
       "      <td>1.000000</td>\n",
       "      <td>5.000000</td>\n",
       "      <td>...</td>\n",
       "      <td>0.000000</td>\n",
       "      <td>0.000000</td>\n",
       "      <td>0.000000</td>\n",
       "      <td>0.000000</td>\n",
       "      <td>0.000000</td>\n",
       "      <td>0.000000</td>\n",
       "      <td>0.000000</td>\n",
       "      <td>2.100000</td>\n",
       "      <td>2.000000e+06</td>\n",
       "      <td>2.000000e+06</td>\n",
       "    </tr>\n",
       "    <tr>\n",
       "      <th>25%</th>\n",
       "      <td>114.000000</td>\n",
       "      <td>121.500000</td>\n",
       "      <td>58.750000</td>\n",
       "      <td>40.000000</td>\n",
       "      <td>9.000000</td>\n",
       "      <td>0.001552</td>\n",
       "      <td>18.00000</td>\n",
       "      <td>14.000000</td>\n",
       "      <td>12.000000</td>\n",
       "      <td>21.000000</td>\n",
       "      <td>...</td>\n",
       "      <td>1.000000</td>\n",
       "      <td>0.000000</td>\n",
       "      <td>0.000000</td>\n",
       "      <td>1.000000</td>\n",
       "      <td>0.000000</td>\n",
       "      <td>0.000000</td>\n",
       "      <td>0.000000</td>\n",
       "      <td>6.400000</td>\n",
       "      <td>8.000000e+06</td>\n",
       "      <td>1.000000e+07</td>\n",
       "    </tr>\n",
       "    <tr>\n",
       "      <th>50%</th>\n",
       "      <td>146.000000</td>\n",
       "      <td>146.000000</td>\n",
       "      <td>73.000000</td>\n",
       "      <td>54.000000</td>\n",
       "      <td>16.000000</td>\n",
       "      <td>0.022838</td>\n",
       "      <td>29.00000</td>\n",
       "      <td>22.000000</td>\n",
       "      <td>17.000000</td>\n",
       "      <td>32.000000</td>\n",
       "      <td>...</td>\n",
       "      <td>1.000000</td>\n",
       "      <td>0.000000</td>\n",
       "      <td>0.000000</td>\n",
       "      <td>1.000000</td>\n",
       "      <td>0.000000</td>\n",
       "      <td>0.000000</td>\n",
       "      <td>0.000000</td>\n",
       "      <td>7.000000</td>\n",
       "      <td>1.000000e+07</td>\n",
       "      <td>1.200000e+07</td>\n",
       "    </tr>\n",
       "    <tr>\n",
       "      <th>75%</th>\n",
       "      <td>184.000000</td>\n",
       "      <td>169.000000</td>\n",
       "      <td>93.000000</td>\n",
       "      <td>73.000000</td>\n",
       "      <td>25.000000</td>\n",
       "      <td>0.045613</td>\n",
       "      <td>43.25000</td>\n",
       "      <td>33.250000</td>\n",
       "      <td>25.000000</td>\n",
       "      <td>47.000000</td>\n",
       "      <td>...</td>\n",
       "      <td>1.000000</td>\n",
       "      <td>1.000000</td>\n",
       "      <td>0.000000</td>\n",
       "      <td>1.000000</td>\n",
       "      <td>0.000000</td>\n",
       "      <td>0.000000</td>\n",
       "      <td>0.000000</td>\n",
       "      <td>7.500000</td>\n",
       "      <td>1.500000e+07</td>\n",
       "      <td>1.500000e+07</td>\n",
       "    </tr>\n",
       "    <tr>\n",
       "      <th>max</th>\n",
       "      <td>385.000000</td>\n",
       "      <td>225.000000</td>\n",
       "      <td>205.000000</td>\n",
       "      <td>153.000000</td>\n",
       "      <td>136.000000</td>\n",
       "      <td>0.224665</td>\n",
       "      <td>177.00000</td>\n",
       "      <td>147.000000</td>\n",
       "      <td>65.000000</td>\n",
       "      <td>170.000000</td>\n",
       "      <td>...</td>\n",
       "      <td>1.000000</td>\n",
       "      <td>1.000000</td>\n",
       "      <td>1.000000</td>\n",
       "      <td>1.000000</td>\n",
       "      <td>1.000000</td>\n",
       "      <td>1.000000</td>\n",
       "      <td>1.000000</td>\n",
       "      <td>9.000000</td>\n",
       "      <td>2.500000e+07</td>\n",
       "      <td>3.500000e+07</td>\n",
       "    </tr>\n",
       "  </tbody>\n",
       "</table>\n",
       "<p>8 rows × 29 columns</p>\n",
       "</div>"
      ],
      "text/plain": [
       "       NumberOfScenes     RunTime  PositiveScenes  NegativeScenes  \\\n",
       "count      896.000000  896.000000      896.000000      896.000000   \n",
       "mean       155.361607  146.286551       77.308036       58.446429   \n",
       "std         55.803795   30.355001       27.066295       25.680230   \n",
       "min         71.000000   91.000000       19.000000        8.000000   \n",
       "25%        114.000000  121.500000       58.750000       40.000000   \n",
       "50%        146.000000  146.000000       73.000000       54.000000   \n",
       "75%        184.000000  169.000000       93.000000       73.000000   \n",
       "max        385.000000  225.000000      205.000000      153.000000   \n",
       "\n",
       "       NeutralScenes  SentimentPolarity       Fear       Anger  Anticipation  \\\n",
       "count     896.000000         896.000000  896.00000  896.000000    896.000000   \n",
       "mean       19.607143           0.024632   34.46875   26.505580     19.489955   \n",
       "std        16.156418           0.036528   22.89815   18.695441     10.288243   \n",
       "min         0.000000          -0.137206    3.00000    1.000000      1.000000   \n",
       "25%         9.000000           0.001552   18.00000   14.000000     12.000000   \n",
       "50%        16.000000           0.022838   29.00000   22.000000     17.000000   \n",
       "75%        25.000000           0.045613   43.25000   33.250000     25.000000   \n",
       "max       136.000000           0.224665  177.00000  147.000000     65.000000   \n",
       "\n",
       "            Trust  ...  HeroStructure  NonlinearStructure  ParallelStructure  \\\n",
       "count  896.000000  ...     896.000000          896.000000         896.000000   \n",
       "mean    37.316964  ...       0.953125            0.272321           0.161830   \n",
       "std     22.808897  ...       0.211489            0.445403           0.368501   \n",
       "min      5.000000  ...       0.000000            0.000000           0.000000   \n",
       "25%     21.000000  ...       1.000000            0.000000           0.000000   \n",
       "50%     32.000000  ...       1.000000            0.000000           0.000000   \n",
       "75%     47.000000  ...       1.000000            1.000000           0.000000   \n",
       "max    170.000000  ...       1.000000            1.000000           1.000000   \n",
       "\n",
       "       CircularStructure  OpenEndedStructre  InMediasStructure  \\\n",
       "count         896.000000         896.000000         896.000000   \n",
       "mean            0.757812           0.154018           0.001116   \n",
       "std             0.428646           0.361167           0.033408   \n",
       "min             0.000000           0.000000           0.000000   \n",
       "25%             1.000000           0.000000           0.000000   \n",
       "50%             1.000000           0.000000           0.000000   \n",
       "75%             1.000000           0.000000           0.000000   \n",
       "max             1.000000           1.000000           1.000000   \n",
       "\n",
       "       ExperimentalStructure      Rating        budget   collections  \n",
       "count             896.000000  896.000000  8.960000e+02  8.960000e+02  \n",
       "mean                0.070312    6.898661  1.194978e+07  1.299330e+07  \n",
       "std                 0.255816    0.961120  7.695079e+06  4.278563e+06  \n",
       "min                 0.000000    2.100000  2.000000e+06  2.000000e+06  \n",
       "25%                 0.000000    6.400000  8.000000e+06  1.000000e+07  \n",
       "50%                 0.000000    7.000000  1.000000e+07  1.200000e+07  \n",
       "75%                 0.000000    7.500000  1.500000e+07  1.500000e+07  \n",
       "max                 1.000000    9.000000  2.500000e+07  3.500000e+07  \n",
       "\n",
       "[8 rows x 29 columns]"
      ]
     },
     "execution_count": 33,
     "metadata": {},
     "output_type": "execute_result"
    }
   ],
   "source": [
    "process_df.describe()"
   ]
  },
  {
   "cell_type": "code",
   "execution_count": 34,
   "id": "7a14ddb3",
   "metadata": {},
   "outputs": [],
   "source": [
    "process_df.to_csv('process_out.csv')"
   ]
  },
  {
   "cell_type": "code",
   "execution_count": 35,
   "id": "590dd011",
   "metadata": {},
   "outputs": [],
   "source": [
    "correlation = process_df.corr()"
   ]
  },
  {
   "cell_type": "code",
   "execution_count": 37,
   "id": "43f91070",
   "metadata": {},
   "outputs": [
    {
     "data": {
      "image/png": "[encoded data removed]",
      "text/plain": [
       "<Figure size 864x720 with 2 Axes>"
      ]
     },
     "metadata": {},
     "output_type": "display_data"
    }
   ],
   "source": [
    "# Assuming 'correlation_matrix' is your Pandas DataFrame correlation matrix\n",
    "sns.set(style=\"white\")\n",
    "\n",
    "# Set up the matplotlib figure\n",
    "plt.figure(figsize=(12, 10))\n",
    "\n",
    "# Draw the heatmap with the mask and correct aspect ratio\n",
    "sns.heatmap(correlation, annot=True, fmt=\".2f\", cmap='coolwarm', square=True, linewidths=.5, cbar_kws={\"shrink\": .5}, annot_kws={\"size\": 8})\n",
    "\n",
    "plt.title('Correlation Matrix Heatmap')\n",
    "plt.xticks(rotation=45, ha='right')\n",
    "plt.yticks(rotation=0)\n",
    "plt.tight_layout()  # adjusts subplots to give some padding\n",
    "plt.show()"
   ]
  },
  {
   "cell_type": "code",
   "execution_count": 36,
   "id": "de6349ca",
   "metadata": {},
   "outputs": [
    {
     "data": {
      "application/vnd.plotly.v1+json": {
       "config": {
        "plotlyServerURL": "https://plot.ly"
       },
       "data": [
        {
         "colorscale": [
          [
           0,
           "#440154"
          ],
          [
           0.1111111111111111,
           "#482878"
          ],
          [
           0.2222222222222222,
           "#3e4989"
          ],
          [
           0.3333333333333333,
           "#31688e"
          ],
          [
           0.4444444444444444,
           "#26828e"
          ],
          [
           0.5555555555555556,
           "#1f9e89"
          ],
          [
           0.6666666666666666,
           "#35b779"
          ],
          [
           0.7777777777777778,
           "#6ece58"
          ],
          [
           0.8888888888888888,
           "#b5de2b"
          ],
          [
           1,
           "#fde725"
          ]
         ],
         "hoverinfo": "z",
         "reversescale": false,
         "showscale": false,
         "type": "heatmap",
         "x": [
          "NumberOfScenes",
          "RunTime",
          "PositiveScenes",
          "NegativeScenes",
          "NeutralScenes",
          "SentimentPolarity",
          "Fear",
          "Anger",
          "Anticipation",
          "Trust",
          "Surprise",
          "Positive",
          "Negative",
          "Sadness",
          "Disgust",
          "Joy",
          "NumberOfCharacters",
          "ThreeActStructure",
          "FiveActStructure",
          "HeroStructure",
          "NonlinearStructure",
          "ParallelStructure",
          "CircularStructure",
          "OpenEndedStructre",
          "InMediasStructure",
          "ExperimentalStructure",
          "Rating",
          "budget",
          "collections"
         ],
         "y": [
          "NumberOfScenes",
          "RunTime",
          "PositiveScenes",
          "NegativeScenes",
          "NeutralScenes",
          "SentimentPolarity",
          "Fear",
          "Anger",
          "Anticipation",
          "Trust",
          "Surprise",
          "Positive",
          "Negative",
          "Sadness",
          "Disgust",
          "Joy",
          "NumberOfCharacters",
          "ThreeActStructure",
          "FiveActStructure",
          "HeroStructure",
          "NonlinearStructure",
          "ParallelStructure",
          "CircularStructure",
          "OpenEndedStructre",
          "InMediasStructure",
          "ExperimentalStructure",
          "Rating",
          "budget",
          "collections"
         ],
         "z": [
          [
           1,
           0.8121554272851311,
           0.8125109142687519,
           0.8086618002614541,
           0.8074508314755003,
           -0.09505184828768427,
           0.8695097187365248,
           0.8367944475174887,
           0.7923948842533088,
           0.8747636707113372,
           0.805487376560166,
           0.9092780904466012,
           0.906182638018822,
           0.8359599098276371,
           0.8002111862699651,
           0.8004714844293966,
           0.07326850574719418,
           0.07607795321855568,
           0.02186028545239289,
           0.06581533990713016,
           0.10207814790400602,
           0.0800653601445766,
           0.1245986511185521,
           0.006491646773956232,
           -0.01100469291407142,
           0.009096245627427103,
           0.12650016434209607,
           -0.05691710827612719,
           -0.04307557680127558
          ],
          [
           0.8121554272851311,
           1,
           0.6738326536199527,
           0.6788048493845574,
           0.5973685713977137,
           -0.08447471226510575,
           0.6685514930639562,
           0.643119356105712,
           0.6605896527483336,
           0.6815400647452049,
           0.6236328518925474,
           0.7317076782450221,
           0.7323842166079411,
           0.6504087628735252,
           0.627375987084597,
           0.6265971493311441,
           0.0672982704689706,
           0.06258097607732929,
           0.015006706483343785,
           0.05861538096319503,
           0.06678034671910114,
           0.01640142421152121,
           0.09917535327156908,
           0.013932382572107571,
           -0.010231873850886815,
           -0.01504370646204819,
           0.08613533108438247,
           -0.05671927021241008,
           -0.04454433096700772
          ],
          [
           0.8125109142687519,
           0.6738326536199527,
           1,
           0.379139868325787,
           0.5284895371910169,
           0.40871769277134895,
           0.557854410030584,
           0.5586731159643415,
           0.7174447669282462,
           0.6481010840680128,
           0.56130232387883,
           0.8502793387697908,
           0.5847673796163418,
           0.574224277284665,
           0.5296963223576308,
           0.595404087703649,
           0.11457597806492627,
           0.12447870579446071,
           0.09887610201049016,
           0.08040654864341418,
           0.08719877924359566,
           0.016280936566969516,
           0.09648258075032075,
           0.04280366872725935,
           0.007033383872698357,
           0.003000460297343838,
           0.1259989030917084,
           -0.06604935464061674,
           -0.05008572424091272
          ],
          [
           0.8086618002614541,
           0.6788048493845574,
           0.379139868325787,
           1,
           0.5684586292497312,
           -0.579494204983749,
           0.7424822709527793,
           0.662580422408069,
           0.5506486358686434,
           0.6598835208971991,
           0.5874933698352292,
           0.5803010298452415,
           0.8641795673520541,
           0.6550638351435139,
           0.616788123125456,
           0.5546341202767504,
           0.013854805985388338,
           0.02335961454996333,
           -0.045093820665578224,
           0.07421579335300277,
           0.0899742375060169,
           0.11810163738418064,
           0.1330577275702654,
           -0.022961941203965247,
           -0.024023946496102518,
           0.0033803209499407715,
           0.08432405939593095,
           -0.04399419997027956,
           -0.029005382555485525
          ],
          [
           0.8074508314755003,
           0.5973685713977137,
           0.5284895371910169,
           0.5684586292497312,
           1,
           -0.09192526369450887,
           0.8885493018245388,
           0.9011821913227323,
           0.6597555081886621,
           0.886797815098088,
           0.9079928911168421,
           0.7938017047006442,
           0.7766952458415846,
           0.8841948244866452,
           0.896154247365019,
           0.8857675979545905,
           0.039100176364344805,
           0.0171065642849977,
           -0.018463448305583326,
           -0.02534227058084288,
           0.06348195311662579,
           0.06154885597351402,
           0.05723412552951597,
           -0.01278812376596346,
           -0.011607200998019061,
           0.021018659944100095,
           0.09181517986990771,
           -0.016012095655114945,
           -0.0187715335959624
          ],
          [
           -0.09505184828768427,
           -0.08447471226510575,
           0.40871769277134895,
           -0.579494204983749,
           -0.09192526369450887,
           1,
           -0.22002741297313771,
           -0.15197428081408884,
           0.05953993196432901,
           -0.08259728644589087,
           -0.0833502459698235,
           0.13320255665702738,
           -0.31561802302107184,
           -0.12487023392688607,
           -0.13156208836065783,
           -0.023002851555814968,
           0.052789690588987706,
           0.04778806063684193,
           0.08356869051784661,
           0.008028029013748631,
           -0.008477997315757123,
           -0.07921084989435154,
           -0.0693739595791903,
           0.05824771642639064,
           0.03293364792732073,
           -0.003810127400271323,
           0.014304404557217279,
           0.00274405611508699,
           -0.00511769003143105
          ],
          [
           0.8695097187365248,
           0.6685514930639562,
           0.557854410030584,
           0.7424822709527793,
           0.8885493018245388,
           -0.22002741297313771,
           1,
           0.9509924975074595,
           0.6637235267658241,
           0.9060116232525286,
           0.9212152351065861,
           0.7756669935916171,
           0.8930484977294862,
           0.9233729360176489,
           0.9197054103898701,
           0.8759496924531378,
           0.03904726235403114,
           0.011820541346085449,
           -0.022108753849565874,
           0.012617594862230118,
           0.09800865017600223,
           0.08011538531127375,
           0.09650040226859401,
           -0.0032002740503443926,
           -0.015290630715958672,
           0.026411987618499562,
           0.08310698141720307,
           -0.026016873175063654,
           -0.0256966186836387
          ],
          [
           0.8367944475174887,
           0.643119356105712,
           0.5586731159643415,
           0.662580422408069,
           0.9011821913227323,
           -0.15197428081408884,
           0.9509924975074595,
           1,
           0.6683759554212413,
           0.9249370469057644,
           0.9640274165353772,
           0.801533190186778,
           0.8556990543868712,
           0.9568088588137091,
           0.9650790928562797,
           0.9380033748625183,
           0.03092653329691212,
           0.0012809231171784694,
           -0.014889588860144977,
           -0.021975605723827733,
           0.0785810083673043,
           0.05720012650305427,
           0.07622541135935818,
           -0.014192813125229329,
           -0.013427016719576485,
           0.015453739353253157,
           0.09498315258820224,
           -0.039168648533707266,
           -0.03902694206719672
          ],
          [
           0.7923948842533088,
           0.6605896527483336,
           0.7174447669282462,
           0.5506486358686434,
           0.6597555081886621,
           0.05953993196432901,
           0.6637235267658241,
           0.6683759554212413,
           1,
           0.7268359323832181,
           0.6687224557401199,
           0.7735998617963601,
           0.6379287488126567,
           0.6823250783538009,
           0.6383338929483432,
           0.6887615484857674,
           0.03743483184448492,
           0.06225876653186695,
           0.02142354012694479,
           0.04343159181833546,
           0.059360005855874406,
           0.025627085755030525,
           0.0758355272197602,
           -0.006799882837257912,
           -0.014595930264024446,
           0.02255647877899899,
           0.11760349199292486,
           -0.03813294289116842,
           -0.021602208240826155
          ],
          [
           0.8747636707113372,
           0.6815400647452049,
           0.6481010840680128,
           0.6598835208971991,
           0.886797815098088,
           -0.08259728644589087,
           0.9060116232525286,
           0.9249370469057644,
           0.7268359323832181,
           1,
           0.9224168692187541,
           0.8640666739246624,
           0.807557221982102,
           0.9162185839459023,
           0.9178443365282077,
           0.9208945078541922,
           0.04776185578369807,
           0.038730229403992567,
           -0.0022960621132099143,
           -0.002707112120009549,
           0.08915765061429648,
           0.060622987885320584,
           0.06888635106315837,
           -0.018682178219844598,
           -0.009262646795174035,
           -0.0034408305922016148,
           0.12863633336997085,
           -0.05448403694601737,
           -0.03914590466645126
          ],
          [
           0.805487376560166,
           0.6236328518925474,
           0.56130232387883,
           0.5874933698352292,
           0.9079928911168421,
           -0.0833502459698235,
           0.9212152351065861,
           0.9640274165353772,
           0.6687224557401199,
           0.9224168692187541,
           1,
           0.8153362629363796,
           0.8007410072870788,
           0.958954297442042,
           0.9689963003255639,
           0.9638439910850504,
           0.021180986427933927,
           0.0014674479472753755,
           -0.011947596141541585,
           -0.03276194475033967,
           0.06880757926389772,
           0.020857607966246,
           0.05704707251185521,
           -0.009511424482242493,
           -0.011666438272109203,
           0.019124011158958447,
           0.09971859507607367,
           -0.04108388099478318,
           -0.038311985385900735
          ],
          [
           0.9092780904466012,
           0.7317076782450221,
           0.8502793387697908,
           0.5803010298452415,
           0.7938017047006442,
           0.13320255665702738,
           0.7756669935916171,
           0.801533190186778,
           0.7735998617963601,
           0.8640666739246624,
           0.8153362629363796,
           1,
           0.7087738587791836,
           0.8116227632251753,
           0.7955783533678826,
           0.8476926855375887,
           0.08270822706994337,
           0.09207254048811184,
           0.0764712076674103,
           0.02861732400457433,
           0.06665138603238606,
           0.03386649616332705,
           0.07261214365243313,
           0.035517645878703576,
           0.007746067579658845,
           0.011443475627847647,
           0.1374619445845459,
           -0.05770953999231559,
           -0.0422462749714176
          ],
          [
           0.906182638018822,
           0.7323842166079411,
           0.5847673796163418,
           0.8641795673520541,
           0.7766952458415846,
           -0.31561802302107184,
           0.8930484977294862,
           0.8556990543868712,
           0.6379287488126567,
           0.807557221982102,
           0.8007410072870788,
           0.7087738587791836,
           1,
           0.8442885048882485,
           0.8181628316221512,
           0.7617518380630655,
           0.030217272378731203,
           0.02869927011446337,
           -0.031002911360450584,
           0.04349192331143469,
           0.12085133949775681,
           0.0883822395310403,
           0.13634208664837777,
           -0.013479574299258341,
           -0.024651996838042405,
           0.010836089161161877,
           0.08900262323526312,
           -0.05778839369682803,
           -0.05210971951365512
          ],
          [
           0.8359599098276371,
           0.6504087628735252,
           0.574224277284665,
           0.6550638351435139,
           0.8841948244866452,
           -0.12487023392688607,
           0.9233729360176489,
           0.9568088588137091,
           0.6823250783538009,
           0.9162185839459023,
           0.958954297442042,
           0.8116227632251753,
           0.8442885048882485,
           1,
           0.9587868042245349,
           0.9465503367659654,
           -0.0003790910396968108,
           -0.0031618070417287546,
           -0.01642245934161104,
           -0.015592541997063019,
           0.08554062770331779,
           0.03356857827160142,
           0.05987772631018421,
           0.009812557389855906,
           -0.00379415629768192,
           0.013943901134498322,
           0.11156650659600557,
           -0.050706029996281515,
           -0.044246339728368486
          ],
          [
           0.8002111862699651,
           0.627375987084597,
           0.5296963223576308,
           0.616788123125456,
           0.896154247365019,
           -0.13156208836065783,
           0.9197054103898701,
           0.9650790928562797,
           0.6383338929483432,
           0.9178443365282077,
           0.9689963003255639,
           0.7955783533678826,
           0.8181628316221512,
           0.9587868042245349,
           1,
           0.9569146820505576,
           0.009475098154868754,
           -0.017395516107934297,
           -0.03351473604877728,
           -0.034074482363297895,
           0.07359182202809338,
           0.0309773756576545,
           0.053497498842259024,
           -0.0024893214191735596,
           -0.015010271351757013,
           0.015819926866247846,
           0.0970917186058204,
           -0.04190491663634608,
           -0.04168779681674244
          ],
          [
           0.8004714844293966,
           0.6265971493311441,
           0.595404087703649,
           0.5546341202767504,
           0.8857675979545905,
           -0.023002851555814968,
           0.8759496924531378,
           0.9380033748625183,
           0.6887615484857674,
           0.9208945078541922,
           0.9638439910850504,
           0.8476926855375887,
           0.7617518380630655,
           0.9465503367659654,
           0.9569146820505576,
           1,
           0.02152785945897973,
           -0.0025742388373098998,
           -0.026603214325518147,
           -0.05614674642884176,
           0.08206205388333022,
           -0.007871584579740735,
           0.029981526119307208,
           -0.0001746348624667731,
           0.004104922738166097,
           -0.003968735538584911,
           0.12476656680347523,
           -0.0496924603718622,
           -0.04512789266106464
          ],
          [
           0.07326850574719418,
           0.0672982704689706,
           0.11457597806492627,
           0.013854805985388338,
           0.039100176364344805,
           0.052789690588987706,
           0.03904726235403114,
           0.03092653329691212,
           0.03743483184448492,
           0.04776185578369807,
           0.021180986427933927,
           0.08270822706994337,
           0.030217272378731203,
           -0.0003790910396968108,
           0.009475098154868754,
           0.02152785945897973,
           1,
           0.10099985068564818,
           0.11404912436650129,
           -0.009076123795084472,
           -9.852182137306249e-05,
           -0.006904066336731025,
           0.02845122572331365,
           0.06213262560976856,
           0.045645128532346105,
           -0.019517556881501603,
           0.055492268389403465,
           -0.0014798667119581964,
           0.016827518926240376
          ],
          [
           0.07607795321855568,
           0.06258097607732929,
           0.12447870579446071,
           0.02335961454996333,
           0.0171065642849977,
           0.04778806063684193,
           0.011820541346085449,
           0.0012809231171784694,
           0.06225876653186695,
           0.038730229403992567,
           0.0014674479472753755,
           0.09207254048811184,
           0.02869927011446337,
           -0.0031618070417287546,
           -0.017395516107934297,
           -0.0025742388373098998,
           0.10099985068564818,
           1,
           0.43725787914397835,
           0.031063650463569004,
           0.05815651882665662,
           0.055927538733810754,
           0.10392983899610778,
           0.0831681838682485,
           -0.04031710230215457,
           0.13027942840094892,
           0.061980811664614166,
           -0.025793276925003994,
           -0.014578115743470904
          ],
          [
           0.02186028545239289,
           0.015006706483343785,
           0.09887610201049016,
           -0.045093820665578224,
           -0.018463448305583326,
           0.08356869051784661,
           -0.022108753849565874,
           -0.014889588860144977,
           0.02142354012694479,
           -0.0022960621132099143,
           -0.011947596141541585,
           0.0764712076674103,
           -0.031002911360450584,
           -0.01642245934161104,
           -0.03351473604877728,
           -0.026603214325518147,
           0.11404912436650129,
           0.43725787914397835,
           1,
           0.04919544197763964,
           0.005957404160633317,
           0.06205824841404783,
           0.10890023986555751,
           -0.0009666918054272854,
           -0.03448772964585268,
           0.10932057914999288,
           0.004925820271313876,
           0.0006397388324014835,
           0.023027975068809974
          ],
          [
           0.06581533990713016,
           0.05861538096319503,
           0.08040654864341418,
           0.07421579335300277,
           -0.02534227058084288,
           0.008028029013748631,
           0.012617594862230118,
           -0.021975605723827733,
           0.04343159181833546,
           -0.002707112120009549,
           -0.03276194475033967,
           0.02861732400457433,
           0.04349192331143469,
           -0.015592541997063019,
           -0.034074482363297895,
           -0.05614674642884176,
           -0.009076123795084472,
           0.031063650463569004,
           0.04919544197763964,
           1,
           0.017050753324362462,
           0.05443481598151323,
           0.047181939070711276,
           -0.007771041462675072,
           0.007412832589793564,
           0.019683916529226433,
           0.0029888931386865443,
           0.01502913577674639,
           0.018174476739564734
          ],
          [
           0.10207814790400602,
           0.06678034671910114,
           0.08719877924359566,
           0.0899742375060169,
           0.06348195311662579,
           -0.008477997315757123,
           0.09800865017600223,
           0.0785810083673043,
           0.059360005855874406,
           0.08915765061429648,
           0.06880757926389772,
           0.06665138603238606,
           0.12085133949775681,
           0.08554062770331779,
           0.07359182202809338,
           0.08206205388333022,
           -9.852182137306249e-05,
           0.05815651882665662,
           0.005957404160633317,
           0.017050753324362462,
           1,
           0.017109830434500824,
           0.029810013358299678,
           0.04458882420992779,
           -0.02044841250847118,
           0.027886110066600692,
           0.011554056511771226,
           -0.013282834098864259,
           -0.022494336503586697
          ],
          [
           0.0800653601445766,
           0.01640142421152121,
           0.016280936566969516,
           0.11810163738418064,
           0.06154885597351402,
           -0.07921084989435154,
           0.08011538531127375,
           0.05720012650305427,
           0.025627085755030525,
           0.060622987885320584,
           0.020857607966246,
           0.03386649616332705,
           0.0883822395310403,
           0.03356857827160142,
           0.0309773756576545,
           -0.007871584579740735,
           -0.006904066336731025,
           0.055927538733810754,
           0.06205824841404783,
           0.05443481598151323,
           0.017109830434500824,
           1,
           0.0432704167851172,
           0.030788564700667872,
           -0.01468765676446845,
           -0.014167483834845078,
           -0.0391368285267795,
           -0.03180488873342534,
           -0.015611180064468187
          ],
          [
           0.1245986511185521,
           0.09917535327156908,
           0.09648258075032075,
           0.1330577275702654,
           0.05723412552951597,
           -0.0693739595791903,
           0.09650040226859401,
           0.07622541135935818,
           0.0758355272197602,
           0.06888635106315837,
           0.05704707251185521,
           0.07261214365243313,
           0.13634208664837777,
           0.05987772631018421,
           0.053497498842259024,
           0.029981526119307208,
           0.02845122572331365,
           0.10392983899610778,
           0.10890023986555751,
           0.047181939070711276,
           0.029810013358299678,
           0.0432704167851172,
           1,
           0.04634799564372609,
           0.01889659095104001,
           0.053574185210474676,
           0.02714606626730091,
           3.440313786626773e-05,
           -0.014288299069462189
          ],
          [
           0.006491646773956232,
           0.013932382572107571,
           0.04280366872725935,
           -0.022961941203965247,
           -0.01278812376596346,
           0.05824771642639064,
           -0.0032002740503443926,
           -0.014192813125229329,
           -0.006799882837257912,
           -0.018682178219844598,
           -0.009511424482242493,
           0.035517645878703576,
           -0.013479574299258341,
           0.009812557389855906,
           -0.0024893214191735596,
           -0.0001746348624667731,
           0.06213262560976856,
           0.0831681838682485,
           -0.0009666918054272854,
           -0.007771041462675072,
           0.04458882420992779,
           0.030788564700667872,
           0.04634799564372609,
           1,
           -0.014262426611267517,
           0.0035901675333579455,
           -0.020649013225504234,
           -0.039024443230690445,
           -0.054283885718890985
          ],
          [
           -0.01100469291407142,
           -0.010231873850886815,
           0.007033383872698357,
           -0.024023946496102518,
           -0.011607200998019061,
           0.03293364792732073,
           -0.015290630715958672,
           -0.013427016719576485,
           -0.014595930264024446,
           -0.009262646795174035,
           -0.011666438272109203,
           0.007746067579658845,
           -0.024651996838042405,
           -0.00379415629768192,
           -0.015010271351757013,
           0.004104922738166097,
           0.045645128532346105,
           -0.04031710230215457,
           -0.03448772964585268,
           0.007412832589793564,
           -0.02044841250847118,
           -0.01468765676446845,
           0.01889659095104001,
           -0.014262426611267517,
           1,
           -0.0091925554103854,
           -0.0034331868179809854,
           -0.017166844076809993,
           -0.02339827354312541
          ],
          [
           0.009096245627427103,
           -0.01504370646204819,
           0.003000460297343838,
           0.0033803209499407715,
           0.021018659944100095,
           -0.003810127400271323,
           0.026411987618499562,
           0.015453739353253157,
           0.02255647877899899,
           -0.0034408305922016148,
           0.019124011158958447,
           0.011443475627847647,
           0.010836089161161877,
           0.013943901134498322,
           0.015819926866247846,
           -0.003968735538584911,
           -0.019517556881501603,
           0.13027942840094892,
           0.10932057914999288,
           0.019683916529226433,
           0.027886110066600692,
           -0.014167483834845078,
           0.053574185210474676,
           0.0035901675333579455,
           -0.0091925554103854,
           1,
           -0.04051573450224424,
           0.055149593603461174,
           0.030034619771931885
          ],
          [
           0.12650016434209607,
           0.08613533108438247,
           0.1259989030917084,
           0.08432405939593095,
           0.09181517986990771,
           0.014304404557217279,
           0.08310698141720307,
           0.09498315258820224,
           0.11760349199292486,
           0.12863633336997085,
           0.09971859507607367,
           0.1374619445845459,
           0.08900262323526312,
           0.11156650659600557,
           0.0970917186058204,
           0.12476656680347523,
           0.055492268389403465,
           0.061980811664614166,
           0.004925820271313876,
           0.0029888931386865443,
           0.011554056511771226,
           -0.0391368285267795,
           0.02714606626730091,
           -0.020649013225504234,
           -0.0034331868179809854,
           -0.04051573450224424,
           1,
           -0.01268410801292146,
           -0.004838572743571139
          ],
          [
           -0.05691710827612719,
           -0.05671927021241008,
           -0.06604935464061674,
           -0.04399419997027956,
           -0.016012095655114945,
           0.00274405611508699,
           -0.026016873175063654,
           -0.039168648533707266,
           -0.03813294289116842,
           -0.05448403694601737,
           -0.04108388099478318,
           -0.05770953999231559,
           -0.05778839369682803,
           -0.050706029996281515,
           -0.04190491663634608,
           -0.0496924603718622,
           -0.0014798667119581964,
           -0.025793276925003994,
           0.0006397388324014835,
           0.01502913577674639,
           -0.013282834098864259,
           -0.03180488873342534,
           3.440313786626773e-05,
           -0.039024443230690445,
           -0.017166844076809993,
           0.055149593603461174,
           -0.01268410801292146,
           1,
           0.8860017437279885
          ],
          [
           -0.04307557680127558,
           -0.04454433096700772,
           -0.05008572424091272,
           -0.029005382555485525,
           -0.0187715335959624,
           -0.00511769003143105,
           -0.0256966186836387,
           -0.03902694206719672,
           -0.021602208240826155,
           -0.03914590466645126,
           -0.038311985385900735,
           -0.0422462749714176,
           -0.05210971951365512,
           -0.044246339728368486,
           -0.04168779681674244,
           -0.04512789266106464,
           0.016827518926240376,
           -0.014578115743470904,
           0.023027975068809974,
           0.018174476739564734,
           -0.022494336503586697,
           -0.015611180064468187,
           -0.014288299069462189,
           -0.054283885718890985,
           -0.02339827354312541,
           0.030034619771931885,
           -0.004838572743571139,
           0.8860017437279885,
           1
          ]
         ]
        }
       ],
       "layout": {
        "annotations": [
         {
          "font": {
           "color": "#000000"
          },
          "showarrow": false,
          "text": "1.0",
          "x": "NumberOfScenes",
          "xref": "x",
          "y": "NumberOfScenes",
          "yref": "y"
         },
         {
          "font": {
           "color": "#000000"
          },
          "showarrow": false,
          "text": "0.81",
          "x": "RunTime",
          "xref": "x",
          "y": "NumberOfScenes",
          "yref": "y"
         },
         {
          "font": {
           "color": "#000000"
          },
          "showarrow": false,
          "text": "0.81",
          "x": "PositiveScenes",
          "xref": "x",
          "y": "NumberOfScenes",
          "yref": "y"
         },
         {
          "font": {
           "color": "#000000"
          },
          "showarrow": false,
          "text": "0.81",
          "x": "NegativeScenes",
          "xref": "x",
          "y": "NumberOfScenes",
          "yref": "y"
         },
         {
          "font": {
           "color": "#000000"
          },
          "showarrow": false,
          "text": "0.81",
          "x": "NeutralScenes",
          "xref": "x",
          "y": "NumberOfScenes",
          "yref": "y"
         },
         {
          "font": {
           "color": "#FFFFFF"
          },
          "showarrow": false,
          "text": "-0.1",
          "x": "SentimentPolarity",
          "xref": "x",
          "y": "NumberOfScenes",
          "yref": "y"
         },
         {
          "font": {
           "color": "#000000"
          },
          "showarrow": false,
          "text": "0.87",
          "x": "Fear",
          "xref": "x",
          "y": "NumberOfScenes",
          "yref": "y"
         },
         {
          "font": {
           "color": "#000000"
          },
          "showarrow": false,
          "text": "0.84",
          "x": "Anger",
          "xref": "x",
          "y": "NumberOfScenes",
          "yref": "y"
         },
         {
          "font": {
           "color": "#000000"
          },
          "showarrow": false,
          "text": "0.79",
          "x": "Anticipation",
          "xref": "x",
          "y": "NumberOfScenes",
          "yref": "y"
         },
         {
          "font": {
           "color": "#000000"
          },
          "showarrow": false,
          "text": "0.87",
          "x": "Trust",
          "xref": "x",
          "y": "NumberOfScenes",
          "yref": "y"
         },
         {
          "font": {
           "color": "#000000"
          },
          "showarrow": false,
          "text": "0.81",
          "x": "Surprise",
          "xref": "x",
          "y": "NumberOfScenes",
          "yref": "y"
         },
         {
          "font": {
           "color": "#000000"
          },
          "showarrow": false,
          "text": "0.91",
          "x": "Positive",
          "xref": "x",
          "y": "NumberOfScenes",
          "yref": "y"
         },
         {
          "font": {
           "color": "#000000"
          },
          "showarrow": false,
          "text": "0.91",
          "x": "Negative",
          "xref": "x",
          "y": "NumberOfScenes",
          "yref": "y"
         },
         {
          "font": {
           "color": "#000000"
          },
          "showarrow": false,
          "text": "0.84",
          "x": "Sadness",
          "xref": "x",
          "y": "NumberOfScenes",
          "yref": "y"
         },
         {
          "font": {
           "color": "#000000"
          },
          "showarrow": false,
          "text": "0.8",
          "x": "Disgust",
          "xref": "x",
          "y": "NumberOfScenes",
          "yref": "y"
         },
         {
          "font": {
           "color": "#000000"
          },
          "showarrow": false,
          "text": "0.8",
          "x": "Joy",
          "xref": "x",
          "y": "NumberOfScenes",
          "yref": "y"
         },
         {
          "font": {
           "color": "#FFFFFF"
          },
          "showarrow": false,
          "text": "0.07",
          "x": "NumberOfCharacters",
          "xref": "x",
          "y": "NumberOfScenes",
          "yref": "y"
         },
         {
          "font": {
           "color": "#FFFFFF"
          },
          "showarrow": false,
          "text": "0.08",
          "x": "ThreeActStructure",
          "xref": "x",
          "y": "NumberOfScenes",
          "yref": "y"
         },
         {
          "font": {
           "color": "#FFFFFF"
          },
          "showarrow": false,
          "text": "0.02",
          "x": "FiveActStructure",
          "xref": "x",
          "y": "NumberOfScenes",
          "yref": "y"
         },
         {
          "font": {
           "color": "#FFFFFF"
          },
          "showarrow": false,
          "text": "0.07",
          "x": "HeroStructure",
          "xref": "x",
          "y": "NumberOfScenes",
          "yref": "y"
         },
         {
          "font": {
           "color": "#FFFFFF"
          },
          "showarrow": false,
          "text": "0.1",
          "x": "NonlinearStructure",
          "xref": "x",
          "y": "NumberOfScenes",
          "yref": "y"
         },
         {
          "font": {
           "color": "#FFFFFF"
          },
          "showarrow": false,
          "text": "0.08",
          "x": "ParallelStructure",
          "xref": "x",
          "y": "NumberOfScenes",
          "yref": "y"
         },
         {
          "font": {
           "color": "#FFFFFF"
          },
          "showarrow": false,
          "text": "0.12",
          "x": "CircularStructure",
          "xref": "x",
          "y": "NumberOfScenes",
          "yref": "y"
         },
         {
          "font": {
           "color": "#FFFFFF"
          },
          "showarrow": false,
          "text": "0.01",
          "x": "OpenEndedStructre",
          "xref": "x",
          "y": "NumberOfScenes",
          "yref": "y"
         },
         {
          "font": {
           "color": "#FFFFFF"
          },
          "showarrow": false,
          "text": "-0.01",
          "x": "InMediasStructure",
          "xref": "x",
          "y": "NumberOfScenes",
          "yref": "y"
         },
         {
          "font": {
           "color": "#FFFFFF"
          },
          "showarrow": false,
          "text": "0.01",
          "x": "ExperimentalStructure",
          "xref": "x",
          "y": "NumberOfScenes",
          "yref": "y"
         },
         {
          "font": {
           "color": "#FFFFFF"
          },
          "showarrow": false,
          "text": "0.13",
          "x": "Rating",
          "xref": "x",
          "y": "NumberOfScenes",
          "yref": "y"
         },
         {
          "font": {
           "color": "#FFFFFF"
          },
          "showarrow": false,
          "text": "-0.06",
          "x": "budget",
          "xref": "x",
          "y": "NumberOfScenes",
          "yref": "y"
         },
         {
          "font": {
           "color": "#FFFFFF"
          },
          "showarrow": false,
          "text": "-0.04",
          "x": "collections",
          "xref": "x",
          "y": "NumberOfScenes",
          "yref": "y"
         },
         {
          "font": {
           "color": "#000000"
          },
          "showarrow": false,
          "text": "0.81",
          "x": "NumberOfScenes",
          "xref": "x",
          "y": "RunTime",
          "yref": "y"
         },
         {
          "font": {
           "color": "#000000"
          },
          "showarrow": false,
          "text": "1.0",
          "x": "RunTime",
          "xref": "x",
          "y": "RunTime",
          "yref": "y"
         },
         {
          "font": {
           "color": "#000000"
          },
          "showarrow": false,
          "text": "0.67",
          "x": "PositiveScenes",
          "xref": "x",
          "y": "RunTime",
          "yref": "y"
         },
         {
          "font": {
           "color": "#000000"
          },
          "showarrow": false,
          "text": "0.68",
          "x": "NegativeScenes",
          "xref": "x",
          "y": "RunTime",
          "yref": "y"
         },
         {
          "font": {
           "color": "#000000"
          },
          "showarrow": false,
          "text": "0.6",
          "x": "NeutralScenes",
          "xref": "x",
          "y": "RunTime",
          "yref": "y"
         },
         {
          "font": {
           "color": "#FFFFFF"
          },
          "showarrow": false,
          "text": "-0.08",
          "x": "SentimentPolarity",
          "xref": "x",
          "y": "RunTime",
          "yref": "y"
         },
         {
          "font": {
           "color": "#000000"
          },
          "showarrow": false,
          "text": "0.67",
          "x": "Fear",
          "xref": "x",
          "y": "RunTime",
          "yref": "y"
         },
         {
          "font": {
           "color": "#000000"
          },
          "showarrow": false,
          "text": "0.64",
          "x": "Anger",
          "xref": "x",
          "y": "RunTime",
          "yref": "y"
         },
         {
          "font": {
           "color": "#000000"
          },
          "showarrow": false,
          "text": "0.66",
          "x": "Anticipation",
          "xref": "x",
          "y": "RunTime",
          "yref": "y"
         },
         {
          "font": {
           "color": "#000000"
          },
          "showarrow": false,
          "text": "0.68",
          "x": "Trust",
          "xref": "x",
          "y": "RunTime",
          "yref": "y"
         },
         {
          "font": {
           "color": "#000000"
          },
          "showarrow": false,
          "text": "0.62",
          "x": "Surprise",
          "xref": "x",
          "y": "RunTime",
          "yref": "y"
         },
         {
          "font": {
           "color": "#000000"
          },
          "showarrow": false,
          "text": "0.73",
          "x": "Positive",
          "xref": "x",
          "y": "RunTime",
          "yref": "y"
         },
         {
          "font": {
           "color": "#000000"
          },
          "showarrow": false,
          "text": "0.73",
          "x": "Negative",
          "xref": "x",
          "y": "RunTime",
          "yref": "y"
         },
         {
          "font": {
           "color": "#000000"
          },
          "showarrow": false,
          "text": "0.65",
          "x": "Sadness",
          "xref": "x",
          "y": "RunTime",
          "yref": "y"
         },
         {
          "font": {
           "color": "#000000"
          },
          "showarrow": false,
          "text": "0.63",
          "x": "Disgust",
          "xref": "x",
          "y": "RunTime",
          "yref": "y"
         },
         {
          "font": {
           "color": "#000000"
          },
          "showarrow": false,
          "text": "0.63",
          "x": "Joy",
          "xref": "x",
          "y": "RunTime",
          "yref": "y"
         },
         {
          "font": {
           "color": "#FFFFFF"
          },
          "showarrow": false,
          "text": "0.07",
          "x": "NumberOfCharacters",
          "xref": "x",
          "y": "RunTime",
          "yref": "y"
         },
         {
          "font": {
           "color": "#FFFFFF"
          },
          "showarrow": false,
          "text": "0.06",
          "x": "ThreeActStructure",
          "xref": "x",
          "y": "RunTime",
          "yref": "y"
         },
         {
          "font": {
           "color": "#FFFFFF"
          },
          "showarrow": false,
          "text": "0.02",
          "x": "FiveActStructure",
          "xref": "x",
          "y": "RunTime",
          "yref": "y"
         },
         {
          "font": {
           "color": "#FFFFFF"
          },
          "showarrow": false,
          "text": "0.06",
          "x": "HeroStructure",
          "xref": "x",
          "y": "RunTime",
          "yref": "y"
         },
         {
          "font": {
           "color": "#FFFFFF"
          },
          "showarrow": false,
          "text": "0.07",
          "x": "NonlinearStructure",
          "xref": "x",
          "y": "RunTime",
          "yref": "y"
         },
         {
          "font": {
           "color": "#FFFFFF"
          },
          "showarrow": false,
          "text": "0.02",
          "x": "ParallelStructure",
          "xref": "x",
          "y": "RunTime",
          "yref": "y"
         },
         {
          "font": {
           "color": "#FFFFFF"
          },
          "showarrow": false,
          "text": "0.1",
          "x": "CircularStructure",
          "xref": "x",
          "y": "RunTime",
          "yref": "y"
         },
         {
          "font": {
           "color": "#FFFFFF"
          },
          "showarrow": false,
          "text": "0.01",
          "x": "OpenEndedStructre",
          "xref": "x",
          "y": "RunTime",
          "yref": "y"
         },
         {
          "font": {
           "color": "#FFFFFF"
          },
          "showarrow": false,
          "text": "-0.01",
          "x": "InMediasStructure",
          "xref": "x",
          "y": "RunTime",
          "yref": "y"
         },
         {
          "font": {
           "color": "#FFFFFF"
          },
          "showarrow": false,
          "text": "-0.02",
          "x": "ExperimentalStructure",
          "xref": "x",
          "y": "RunTime",
          "yref": "y"
         },
         {
          "font": {
           "color": "#FFFFFF"
          },
          "showarrow": false,
          "text": "0.09",
          "x": "Rating",
          "xref": "x",
          "y": "RunTime",
          "yref": "y"
         },
         {
          "font": {
           "color": "#FFFFFF"
          },
          "showarrow": false,
          "text": "-0.06",
          "x": "budget",
          "xref": "x",
          "y": "RunTime",
          "yref": "y"
         },
         {
          "font": {
           "color": "#FFFFFF"
          },
          "showarrow": false,
          "text": "-0.04",
          "x": "collections",
          "xref": "x",
          "y": "RunTime",
          "yref": "y"
         },
         {
          "font": {
           "color": "#000000"
          },
          "showarrow": false,
          "text": "0.81",
          "x": "NumberOfScenes",
          "xref": "x",
          "y": "PositiveScenes",
          "yref": "y"
         },
         {
          "font": {
           "color": "#000000"
          },
          "showarrow": false,
          "text": "0.67",
          "x": "RunTime",
          "xref": "x",
          "y": "PositiveScenes",
          "yref": "y"
         },
         {
          "font": {
           "color": "#000000"
          },
          "showarrow": false,
          "text": "1.0",
          "x": "PositiveScenes",
          "xref": "x",
          "y": "PositiveScenes",
          "yref": "y"
         },
         {
          "font": {
           "color": "#000000"
          },
          "showarrow": false,
          "text": "0.38",
          "x": "NegativeScenes",
          "xref": "x",
          "y": "PositiveScenes",
          "yref": "y"
         },
         {
          "font": {
           "color": "#000000"
          },
          "showarrow": false,
          "text": "0.53",
          "x": "NeutralScenes",
          "xref": "x",
          "y": "PositiveScenes",
          "yref": "y"
         },
         {
          "font": {
           "color": "#000000"
          },
          "showarrow": false,
          "text": "0.41",
          "x": "SentimentPolarity",
          "xref": "x",
          "y": "PositiveScenes",
          "yref": "y"
         },
         {
          "font": {
           "color": "#000000"
          },
          "showarrow": false,
          "text": "0.56",
          "x": "Fear",
          "xref": "x",
          "y": "PositiveScenes",
          "yref": "y"
         },
         {
          "font": {
           "color": "#000000"
          },
          "showarrow": false,
          "text": "0.56",
          "x": "Anger",
          "xref": "x",
          "y": "PositiveScenes",
          "yref": "y"
         },
         {
          "font": {
           "color": "#000000"
          },
          "showarrow": false,
          "text": "0.72",
          "x": "Anticipation",
          "xref": "x",
          "y": "PositiveScenes",
          "yref": "y"
         },
         {
          "font": {
           "color": "#000000"
          },
          "showarrow": false,
          "text": "0.65",
          "x": "Trust",
          "xref": "x",
          "y": "PositiveScenes",
          "yref": "y"
         },
         {
          "font": {
           "color": "#000000"
          },
          "showarrow": false,
          "text": "0.56",
          "x": "Surprise",
          "xref": "x",
          "y": "PositiveScenes",
          "yref": "y"
         },
         {
          "font": {
           "color": "#000000"
          },
          "showarrow": false,
          "text": "0.85",
          "x": "Positive",
          "xref": "x",
          "y": "PositiveScenes",
          "yref": "y"
         },
         {
          "font": {
           "color": "#000000"
          },
          "showarrow": false,
          "text": "0.58",
          "x": "Negative",
          "xref": "x",
          "y": "PositiveScenes",
          "yref": "y"
         },
         {
          "font": {
           "color": "#000000"
          },
          "showarrow": false,
          "text": "0.57",
          "x": "Sadness",
          "xref": "x",
          "y": "PositiveScenes",
          "yref": "y"
         },
         {
          "font": {
           "color": "#000000"
          },
          "showarrow": false,
          "text": "0.53",
          "x": "Disgust",
          "xref": "x",
          "y": "PositiveScenes",
          "yref": "y"
         },
         {
          "font": {
           "color": "#000000"
          },
          "showarrow": false,
          "text": "0.6",
          "x": "Joy",
          "xref": "x",
          "y": "PositiveScenes",
          "yref": "y"
         },
         {
          "font": {
           "color": "#FFFFFF"
          },
          "showarrow": false,
          "text": "0.11",
          "x": "NumberOfCharacters",
          "xref": "x",
          "y": "PositiveScenes",
          "yref": "y"
         },
         {
          "font": {
           "color": "#FFFFFF"
          },
          "showarrow": false,
          "text": "0.12",
          "x": "ThreeActStructure",
          "xref": "x",
          "y": "PositiveScenes",
          "yref": "y"
         },
         {
          "font": {
           "color": "#FFFFFF"
          },
          "showarrow": false,
          "text": "0.1",
          "x": "FiveActStructure",
          "xref": "x",
          "y": "PositiveScenes",
          "yref": "y"
         },
         {
          "font": {
           "color": "#FFFFFF"
          },
          "showarrow": false,
          "text": "0.08",
          "x": "HeroStructure",
          "xref": "x",
          "y": "PositiveScenes",
          "yref": "y"
         },
         {
          "font": {
           "color": "#FFFFFF"
          },
          "showarrow": false,
          "text": "0.09",
          "x": "NonlinearStructure",
          "xref": "x",
          "y": "PositiveScenes",
          "yref": "y"
         },
         {
          "font": {
           "color": "#FFFFFF"
          },
          "showarrow": false,
          "text": "0.02",
          "x": "ParallelStructure",
          "xref": "x",
          "y": "PositiveScenes",
          "yref": "y"
         },
         {
          "font": {
           "color": "#FFFFFF"
          },
          "showarrow": false,
          "text": "0.1",
          "x": "CircularStructure",
          "xref": "x",
          "y": "PositiveScenes",
          "yref": "y"
         },
         {
          "font": {
           "color": "#FFFFFF"
          },
          "showarrow": false,
          "text": "0.04",
          "x": "OpenEndedStructre",
          "xref": "x",
          "y": "PositiveScenes",
          "yref": "y"
         },
         {
          "font": {
           "color": "#FFFFFF"
          },
          "showarrow": false,
          "text": "0.01",
          "x": "InMediasStructure",
          "xref": "x",
          "y": "PositiveScenes",
          "yref": "y"
         },
         {
          "font": {
           "color": "#FFFFFF"
          },
          "showarrow": false,
          "text": "0.0",
          "x": "ExperimentalStructure",
          "xref": "x",
          "y": "PositiveScenes",
          "yref": "y"
         },
         {
          "font": {
           "color": "#FFFFFF"
          },
          "showarrow": false,
          "text": "0.13",
          "x": "Rating",
          "xref": "x",
          "y": "PositiveScenes",
          "yref": "y"
         },
         {
          "font": {
           "color": "#FFFFFF"
          },
          "showarrow": false,
          "text": "-0.07",
          "x": "budget",
          "xref": "x",
          "y": "PositiveScenes",
          "yref": "y"
         },
         {
          "font": {
           "color": "#FFFFFF"
          },
          "showarrow": false,
          "text": "-0.05",
          "x": "collections",
          "xref": "x",
          "y": "PositiveScenes",
          "yref": "y"
         },
         {
          "font": {
           "color": "#000000"
          },
          "showarrow": false,
          "text": "0.81",
          "x": "NumberOfScenes",
          "xref": "x",
          "y": "NegativeScenes",
          "yref": "y"
         },
         {
          "font": {
           "color": "#000000"
          },
          "showarrow": false,
          "text": "0.68",
          "x": "RunTime",
          "xref": "x",
          "y": "NegativeScenes",
          "yref": "y"
         },
         {
          "font": {
           "color": "#000000"
          },
          "showarrow": false,
          "text": "0.38",
          "x": "PositiveScenes",
          "xref": "x",
          "y": "NegativeScenes",
          "yref": "y"
         },
         {
          "font": {
           "color": "#000000"
          },
          "showarrow": false,
          "text": "1.0",
          "x": "NegativeScenes",
          "xref": "x",
          "y": "NegativeScenes",
          "yref": "y"
         },
         {
          "font": {
           "color": "#000000"
          },
          "showarrow": false,
          "text": "0.57",
          "x": "NeutralScenes",
          "xref": "x",
          "y": "NegativeScenes",
          "yref": "y"
         },
         {
          "font": {
           "color": "#FFFFFF"
          },
          "showarrow": false,
          "text": "-0.58",
          "x": "SentimentPolarity",
          "xref": "x",
          "y": "NegativeScenes",
          "yref": "y"
         },
         {
          "font": {
           "color": "#000000"
          },
          "showarrow": false,
          "text": "0.74",
          "x": "Fear",
          "xref": "x",
          "y": "NegativeScenes",
          "yref": "y"
         },
         {
          "font": {
           "color": "#000000"
          },
          "showarrow": false,
          "text": "0.66",
          "x": "Anger",
          "xref": "x",
          "y": "NegativeScenes",
          "yref": "y"
         },
         {
          "font": {
           "color": "#000000"
          },
          "showarrow": false,
          "text": "0.55",
          "x": "Anticipation",
          "xref": "x",
          "y": "NegativeScenes",
          "yref": "y"
         },
         {
          "font": {
           "color": "#000000"
          },
          "showarrow": false,
          "text": "0.66",
          "x": "Trust",
          "xref": "x",
          "y": "NegativeScenes",
          "yref": "y"
         },
         {
          "font": {
           "color": "#000000"
          },
          "showarrow": false,
          "text": "0.59",
          "x": "Surprise",
          "xref": "x",
          "y": "NegativeScenes",
          "yref": "y"
         },
         {
          "font": {
           "color": "#000000"
          },
          "showarrow": false,
          "text": "0.58",
          "x": "Positive",
          "xref": "x",
          "y": "NegativeScenes",
          "yref": "y"
         },
         {
          "font": {
           "color": "#000000"
          },
          "showarrow": false,
          "text": "0.86",
          "x": "Negative",
          "xref": "x",
          "y": "NegativeScenes",
          "yref": "y"
         },
         {
          "font": {
           "color": "#000000"
          },
          "showarrow": false,
          "text": "0.66",
          "x": "Sadness",
          "xref": "x",
          "y": "NegativeScenes",
          "yref": "y"
         },
         {
          "font": {
           "color": "#000000"
          },
          "showarrow": false,
          "text": "0.62",
          "x": "Disgust",
          "xref": "x",
          "y": "NegativeScenes",
          "yref": "y"
         },
         {
          "font": {
           "color": "#000000"
          },
          "showarrow": false,
          "text": "0.55",
          "x": "Joy",
          "xref": "x",
          "y": "NegativeScenes",
          "yref": "y"
         },
         {
          "font": {
           "color": "#FFFFFF"
          },
          "showarrow": false,
          "text": "0.01",
          "x": "NumberOfCharacters",
          "xref": "x",
          "y": "NegativeScenes",
          "yref": "y"
         },
         {
          "font": {
           "color": "#FFFFFF"
          },
          "showarrow": false,
          "text": "0.02",
          "x": "ThreeActStructure",
          "xref": "x",
          "y": "NegativeScenes",
          "yref": "y"
         },
         {
          "font": {
           "color": "#FFFFFF"
          },
          "showarrow": false,
          "text": "-0.05",
          "x": "FiveActStructure",
          "xref": "x",
          "y": "NegativeScenes",
          "yref": "y"
         },
         {
          "font": {
           "color": "#FFFFFF"
          },
          "showarrow": false,
          "text": "0.07",
          "x": "HeroStructure",
          "xref": "x",
          "y": "NegativeScenes",
          "yref": "y"
         },
         {
          "font": {
           "color": "#FFFFFF"
          },
          "showarrow": false,
          "text": "0.09",
          "x": "NonlinearStructure",
          "xref": "x",
          "y": "NegativeScenes",
          "yref": "y"
         },
         {
          "font": {
           "color": "#FFFFFF"
          },
          "showarrow": false,
          "text": "0.12",
          "x": "ParallelStructure",
          "xref": "x",
          "y": "NegativeScenes",
          "yref": "y"
         },
         {
          "font": {
           "color": "#FFFFFF"
          },
          "showarrow": false,
          "text": "0.13",
          "x": "CircularStructure",
          "xref": "x",
          "y": "NegativeScenes",
          "yref": "y"
         },
         {
          "font": {
           "color": "#FFFFFF"
          },
          "showarrow": false,
          "text": "-0.02",
          "x": "OpenEndedStructre",
          "xref": "x",
          "y": "NegativeScenes",
          "yref": "y"
         },
         {
          "font": {
           "color": "#FFFFFF"
          },
          "showarrow": false,
          "text": "-0.02",
          "x": "InMediasStructure",
          "xref": "x",
          "y": "NegativeScenes",
          "yref": "y"
         },
         {
          "font": {
           "color": "#FFFFFF"
          },
          "showarrow": false,
          "text": "0.0",
          "x": "ExperimentalStructure",
          "xref": "x",
          "y": "NegativeScenes",
          "yref": "y"
         },
         {
          "font": {
           "color": "#FFFFFF"
          },
          "showarrow": false,
          "text": "0.08",
          "x": "Rating",
          "xref": "x",
          "y": "NegativeScenes",
          "yref": "y"
         },
         {
          "font": {
           "color": "#FFFFFF"
          },
          "showarrow": false,
          "text": "-0.04",
          "x": "budget",
          "xref": "x",
          "y": "NegativeScenes",
          "yref": "y"
         },
         {
          "font": {
           "color": "#FFFFFF"
          },
          "showarrow": false,
          "text": "-0.03",
          "x": "collections",
          "xref": "x",
          "y": "NegativeScenes",
          "yref": "y"
         },
         {
          "font": {
           "color": "#000000"
          },
          "showarrow": false,
          "text": "0.81",
          "x": "NumberOfScenes",
          "xref": "x",
          "y": "NeutralScenes",
          "yref": "y"
         },
         {
          "font": {
           "color": "#000000"
          },
          "showarrow": false,
          "text": "0.6",
          "x": "RunTime",
          "xref": "x",
          "y": "NeutralScenes",
          "yref": "y"
         },
         {
          "font": {
           "color": "#000000"
          },
          "showarrow": false,
          "text": "0.53",
          "x": "PositiveScenes",
          "xref": "x",
          "y": "NeutralScenes",
          "yref": "y"
         },
         {
          "font": {
           "color": "#000000"
          },
          "showarrow": false,
          "text": "0.57",
          "x": "NegativeScenes",
          "xref": "x",
          "y": "NeutralScenes",
          "yref": "y"
         },
         {
          "font": {
           "color": "#000000"
          },
          "showarrow": false,
          "text": "1.0",
          "x": "NeutralScenes",
          "xref": "x",
          "y": "NeutralScenes",
          "yref": "y"
         },
         {
          "font": {
           "color": "#FFFFFF"
          },
          "showarrow": false,
          "text": "-0.09",
          "x": "SentimentPolarity",
          "xref": "x",
          "y": "NeutralScenes",
          "yref": "y"
         },
         {
          "font": {
           "color": "#000000"
          },
          "showarrow": false,
          "text": "0.89",
          "x": "Fear",
          "xref": "x",
          "y": "NeutralScenes",
          "yref": "y"
         },
         {
          "font": {
           "color": "#000000"
          },
          "showarrow": false,
          "text": "0.9",
          "x": "Anger",
          "xref": "x",
          "y": "NeutralScenes",
          "yref": "y"
         },
         {
          "font": {
           "color": "#000000"
          },
          "showarrow": false,
          "text": "0.66",
          "x": "Anticipation",
          "xref": "x",
          "y": "NeutralScenes",
          "yref": "y"
         },
         {
          "font": {
           "color": "#000000"
          },
          "showarrow": false,
          "text": "0.89",
          "x": "Trust",
          "xref": "x",
          "y": "NeutralScenes",
          "yref": "y"
         },
         {
          "font": {
           "color": "#000000"
          },
          "showarrow": false,
          "text": "0.91",
          "x": "Surprise",
          "xref": "x",
          "y": "NeutralScenes",
          "yref": "y"
         },
         {
          "font": {
           "color": "#000000"
          },
          "showarrow": false,
          "text": "0.79",
          "x": "Positive",
          "xref": "x",
          "y": "NeutralScenes",
          "yref": "y"
         },
         {
          "font": {
           "color": "#000000"
          },
          "showarrow": false,
          "text": "0.78",
          "x": "Negative",
          "xref": "x",
          "y": "NeutralScenes",
          "yref": "y"
         },
         {
          "font": {
           "color": "#000000"
          },
          "showarrow": false,
          "text": "0.88",
          "x": "Sadness",
          "xref": "x",
          "y": "NeutralScenes",
          "yref": "y"
         },
         {
          "font": {
           "color": "#000000"
          },
          "showarrow": false,
          "text": "0.9",
          "x": "Disgust",
          "xref": "x",
          "y": "NeutralScenes",
          "yref": "y"
         },
         {
          "font": {
           "color": "#000000"
          },
          "showarrow": false,
          "text": "0.89",
          "x": "Joy",
          "xref": "x",
          "y": "NeutralScenes",
          "yref": "y"
         },
         {
          "font": {
           "color": "#FFFFFF"
          },
          "showarrow": false,
          "text": "0.04",
          "x": "NumberOfCharacters",
          "xref": "x",
          "y": "NeutralScenes",
          "yref": "y"
         },
         {
          "font": {
           "color": "#FFFFFF"
          },
          "showarrow": false,
          "text": "0.02",
          "x": "ThreeActStructure",
          "xref": "x",
          "y": "NeutralScenes",
          "yref": "y"
         },
         {
          "font": {
           "color": "#FFFFFF"
          },
          "showarrow": false,
          "text": "-0.02",
          "x": "FiveActStructure",
          "xref": "x",
          "y": "NeutralScenes",
          "yref": "y"
         },
         {
          "font": {
           "color": "#FFFFFF"
          },
          "showarrow": false,
          "text": "-0.03",
          "x": "HeroStructure",
          "xref": "x",
          "y": "NeutralScenes",
          "yref": "y"
         },
         {
          "font": {
           "color": "#FFFFFF"
          },
          "showarrow": false,
          "text": "0.06",
          "x": "NonlinearStructure",
          "xref": "x",
          "y": "NeutralScenes",
          "yref": "y"
         },
         {
          "font": {
           "color": "#FFFFFF"
          },
          "showarrow": false,
          "text": "0.06",
          "x": "ParallelStructure",
          "xref": "x",
          "y": "NeutralScenes",
          "yref": "y"
         },
         {
          "font": {
           "color": "#FFFFFF"
          },
          "showarrow": false,
          "text": "0.06",
          "x": "CircularStructure",
          "xref": "x",
          "y": "NeutralScenes",
          "yref": "y"
         },
         {
          "font": {
           "color": "#FFFFFF"
          },
          "showarrow": false,
          "text": "-0.01",
          "x": "OpenEndedStructre",
          "xref": "x",
          "y": "NeutralScenes",
          "yref": "y"
         },
         {
          "font": {
           "color": "#FFFFFF"
          },
          "showarrow": false,
          "text": "-0.01",
          "x": "InMediasStructure",
          "xref": "x",
          "y": "NeutralScenes",
          "yref": "y"
         },
         {
          "font": {
           "color": "#FFFFFF"
          },
          "showarrow": false,
          "text": "0.02",
          "x": "ExperimentalStructure",
          "xref": "x",
          "y": "NeutralScenes",
          "yref": "y"
         },
         {
          "font": {
           "color": "#FFFFFF"
          },
          "showarrow": false,
          "text": "0.09",
          "x": "Rating",
          "xref": "x",
          "y": "NeutralScenes",
          "yref": "y"
         },
         {
          "font": {
           "color": "#FFFFFF"
          },
          "showarrow": false,
          "text": "-0.02",
          "x": "budget",
          "xref": "x",
          "y": "NeutralScenes",
          "yref": "y"
         },
         {
          "font": {
           "color": "#FFFFFF"
          },
          "showarrow": false,
          "text": "-0.02",
          "x": "collections",
          "xref": "x",
          "y": "NeutralScenes",
          "yref": "y"
         },
         {
          "font": {
           "color": "#FFFFFF"
          },
          "showarrow": false,
          "text": "-0.1",
          "x": "NumberOfScenes",
          "xref": "x",
          "y": "SentimentPolarity",
          "yref": "y"
         },
         {
          "font": {
           "color": "#FFFFFF"
          },
          "showarrow": false,
          "text": "-0.08",
          "x": "RunTime",
          "xref": "x",
          "y": "SentimentPolarity",
          "yref": "y"
         },
         {
          "font": {
           "color": "#000000"
          },
          "showarrow": false,
          "text": "0.41",
          "x": "PositiveScenes",
          "xref": "x",
          "y": "SentimentPolarity",
          "yref": "y"
         },
         {
          "font": {
           "color": "#FFFFFF"
          },
          "showarrow": false,
          "text": "-0.58",
          "x": "NegativeScenes",
          "xref": "x",
          "y": "SentimentPolarity",
          "yref": "y"
         },
         {
          "font": {
           "color": "#FFFFFF"
          },
          "showarrow": false,
          "text": "-0.09",
          "x": "NeutralScenes",
          "xref": "x",
          "y": "SentimentPolarity",
          "yref": "y"
         },
         {
          "font": {
           "color": "#000000"
          },
          "showarrow": false,
          "text": "1.0",
          "x": "SentimentPolarity",
          "xref": "x",
          "y": "SentimentPolarity",
          "yref": "y"
         },
         {
          "font": {
           "color": "#FFFFFF"
          },
          "showarrow": false,
          "text": "-0.22",
          "x": "Fear",
          "xref": "x",
          "y": "SentimentPolarity",
          "yref": "y"
         },
         {
          "font": {
           "color": "#FFFFFF"
          },
          "showarrow": false,
          "text": "-0.15",
          "x": "Anger",
          "xref": "x",
          "y": "SentimentPolarity",
          "yref": "y"
         },
         {
          "font": {
           "color": "#FFFFFF"
          },
          "showarrow": false,
          "text": "0.06",
          "x": "Anticipation",
          "xref": "x",
          "y": "SentimentPolarity",
          "yref": "y"
         },
         {
          "font": {
           "color": "#FFFFFF"
          },
          "showarrow": false,
          "text": "-0.08",
          "x": "Trust",
          "xref": "x",
          "y": "SentimentPolarity",
          "yref": "y"
         },
         {
          "font": {
           "color": "#FFFFFF"
          },
          "showarrow": false,
          "text": "-0.08",
          "x": "Surprise",
          "xref": "x",
          "y": "SentimentPolarity",
          "yref": "y"
         },
         {
          "font": {
           "color": "#FFFFFF"
          },
          "showarrow": false,
          "text": "0.13",
          "x": "Positive",
          "xref": "x",
          "y": "SentimentPolarity",
          "yref": "y"
         },
         {
          "font": {
           "color": "#FFFFFF"
          },
          "showarrow": false,
          "text": "-0.32",
          "x": "Negative",
          "xref": "x",
          "y": "SentimentPolarity",
          "yref": "y"
         },
         {
          "font": {
           "color": "#FFFFFF"
          },
          "showarrow": false,
          "text": "-0.12",
          "x": "Sadness",
          "xref": "x",
          "y": "SentimentPolarity",
          "yref": "y"
         },
         {
          "font": {
           "color": "#FFFFFF"
          },
          "showarrow": false,
          "text": "-0.13",
          "x": "Disgust",
          "xref": "x",
          "y": "SentimentPolarity",
          "yref": "y"
         },
         {
          "font": {
           "color": "#FFFFFF"
          },
          "showarrow": false,
          "text": "-0.02",
          "x": "Joy",
          "xref": "x",
          "y": "SentimentPolarity",
          "yref": "y"
         },
         {
          "font": {
           "color": "#FFFFFF"
          },
          "showarrow": false,
          "text": "0.05",
          "x": "NumberOfCharacters",
          "xref": "x",
          "y": "SentimentPolarity",
          "yref": "y"
         },
         {
          "font": {
           "color": "#FFFFFF"
          },
          "showarrow": false,
          "text": "0.05",
          "x": "ThreeActStructure",
          "xref": "x",
          "y": "SentimentPolarity",
          "yref": "y"
         },
         {
          "font": {
           "color": "#FFFFFF"
          },
          "showarrow": false,
          "text": "0.08",
          "x": "FiveActStructure",
          "xref": "x",
          "y": "SentimentPolarity",
          "yref": "y"
         },
         {
          "font": {
           "color": "#FFFFFF"
          },
          "showarrow": false,
          "text": "0.01",
          "x": "HeroStructure",
          "xref": "x",
          "y": "SentimentPolarity",
          "yref": "y"
         },
         {
          "font": {
           "color": "#FFFFFF"
          },
          "showarrow": false,
          "text": "-0.01",
          "x": "NonlinearStructure",
          "xref": "x",
          "y": "SentimentPolarity",
          "yref": "y"
         },
         {
          "font": {
           "color": "#FFFFFF"
          },
          "showarrow": false,
          "text": "-0.08",
          "x": "ParallelStructure",
          "xref": "x",
          "y": "SentimentPolarity",
          "yref": "y"
         },
         {
          "font": {
           "color": "#FFFFFF"
          },
          "showarrow": false,
          "text": "-0.07",
          "x": "CircularStructure",
          "xref": "x",
          "y": "SentimentPolarity",
          "yref": "y"
         },
         {
          "font": {
           "color": "#FFFFFF"
          },
          "showarrow": false,
          "text": "0.06",
          "x": "OpenEndedStructre",
          "xref": "x",
          "y": "SentimentPolarity",
          "yref": "y"
         },
         {
          "font": {
           "color": "#FFFFFF"
          },
          "showarrow": false,
          "text": "0.03",
          "x": "InMediasStructure",
          "xref": "x",
          "y": "SentimentPolarity",
          "yref": "y"
         },
         {
          "font": {
           "color": "#FFFFFF"
          },
          "showarrow": false,
          "text": "-0.0",
          "x": "ExperimentalStructure",
          "xref": "x",
          "y": "SentimentPolarity",
          "yref": "y"
         },
         {
          "font": {
           "color": "#FFFFFF"
          },
          "showarrow": false,
          "text": "0.01",
          "x": "Rating",
          "xref": "x",
          "y": "SentimentPolarity",
          "yref": "y"
         },
         {
          "font": {
           "color": "#FFFFFF"
          },
          "showarrow": false,
          "text": "0.0",
          "x": "budget",
          "xref": "x",
          "y": "SentimentPolarity",
          "yref": "y"
         },
         {
          "font": {
           "color": "#FFFFFF"
          },
          "showarrow": false,
          "text": "-0.01",
          "x": "collections",
          "xref": "x",
          "y": "SentimentPolarity",
          "yref": "y"
         },
         {
          "font": {
           "color": "#000000"
          },
          "showarrow": false,
          "text": "0.87",
          "x": "NumberOfScenes",
          "xref": "x",
          "y": "Fear",
          "yref": "y"
         },
         {
          "font": {
           "color": "#000000"
          },
          "showarrow": false,
          "text": "0.67",
          "x": "RunTime",
          "xref": "x",
          "y": "Fear",
          "yref": "y"
         },
         {
          "font": {
           "color": "#000000"
          },
          "showarrow": false,
          "text": "0.56",
          "x": "PositiveScenes",
          "xref": "x",
          "y": "Fear",
          "yref": "y"
         },
         {
          "font": {
           "color": "#000000"
          },
          "showarrow": false,
          "text": "0.74",
          "x": "NegativeScenes",
          "xref": "x",
          "y": "Fear",
          "yref": "y"
         },
         {
          "font": {
           "color": "#000000"
          },
          "showarrow": false,
          "text": "0.89",
          "x": "NeutralScenes",
          "xref": "x",
          "y": "Fear",
          "yref": "y"
         },
         {
          "font": {
           "color": "#FFFFFF"
          },
          "showarrow": false,
          "text": "-0.22",
          "x": "SentimentPolarity",
          "xref": "x",
          "y": "Fear",
          "yref": "y"
         },
         {
          "font": {
           "color": "#000000"
          },
          "showarrow": false,
          "text": "1.0",
          "x": "Fear",
          "xref": "x",
          "y": "Fear",
          "yref": "y"
         },
         {
          "font": {
           "color": "#000000"
          },
          "showarrow": false,
          "text": "0.95",
          "x": "Anger",
          "xref": "x",
          "y": "Fear",
          "yref": "y"
         },
         {
          "font": {
           "color": "#000000"
          },
          "showarrow": false,
          "text": "0.66",
          "x": "Anticipation",
          "xref": "x",
          "y": "Fear",
          "yref": "y"
         },
         {
          "font": {
           "color": "#000000"
          },
          "showarrow": false,
          "text": "0.91",
          "x": "Trust",
          "xref": "x",
          "y": "Fear",
          "yref": "y"
         },
         {
          "font": {
           "color": "#000000"
          },
          "showarrow": false,
          "text": "0.92",
          "x": "Surprise",
          "xref": "x",
          "y": "Fear",
          "yref": "y"
         },
         {
          "font": {
           "color": "#000000"
          },
          "showarrow": false,
          "text": "0.78",
          "x": "Positive",
          "xref": "x",
          "y": "Fear",
          "yref": "y"
         },
         {
          "font": {
           "color": "#000000"
          },
          "showarrow": false,
          "text": "0.89",
          "x": "Negative",
          "xref": "x",
          "y": "Fear",
          "yref": "y"
         },
         {
          "font": {
           "color": "#000000"
          },
          "showarrow": false,
          "text": "0.92",
          "x": "Sadness",
          "xref": "x",
          "y": "Fear",
          "yref": "y"
         },
         {
          "font": {
           "color": "#000000"
          },
          "showarrow": false,
          "text": "0.92",
          "x": "Disgust",
          "xref": "x",
          "y": "Fear",
          "yref": "y"
         },
         {
          "font": {
           "color": "#000000"
          },
          "showarrow": false,
          "text": "0.88",
          "x": "Joy",
          "xref": "x",
          "y": "Fear",
          "yref": "y"
         },
         {
          "font": {
           "color": "#FFFFFF"
          },
          "showarrow": false,
          "text": "0.04",
          "x": "NumberOfCharacters",
          "xref": "x",
          "y": "Fear",
          "yref": "y"
         },
         {
          "font": {
           "color": "#FFFFFF"
          },
          "showarrow": false,
          "text": "0.01",
          "x": "ThreeActStructure",
          "xref": "x",
          "y": "Fear",
          "yref": "y"
         },
         {
          "font": {
           "color": "#FFFFFF"
          },
          "showarrow": false,
          "text": "-0.02",
          "x": "FiveActStructure",
          "xref": "x",
          "y": "Fear",
          "yref": "y"
         },
         {
          "font": {
           "color": "#FFFFFF"
          },
          "showarrow": false,
          "text": "0.01",
          "x": "HeroStructure",
          "xref": "x",
          "y": "Fear",
          "yref": "y"
         },
         {
          "font": {
           "color": "#FFFFFF"
          },
          "showarrow": false,
          "text": "0.1",
          "x": "NonlinearStructure",
          "xref": "x",
          "y": "Fear",
          "yref": "y"
         },
         {
          "font": {
           "color": "#FFFFFF"
          },
          "showarrow": false,
          "text": "0.08",
          "x": "ParallelStructure",
          "xref": "x",
          "y": "Fear",
          "yref": "y"
         },
         {
          "font": {
           "color": "#FFFFFF"
          },
          "showarrow": false,
          "text": "0.1",
          "x": "CircularStructure",
          "xref": "x",
          "y": "Fear",
          "yref": "y"
         },
         {
          "font": {
           "color": "#FFFFFF"
          },
          "showarrow": false,
          "text": "-0.0",
          "x": "OpenEndedStructre",
          "xref": "x",
          "y": "Fear",
          "yref": "y"
         },
         {
          "font": {
           "color": "#FFFFFF"
          },
          "showarrow": false,
          "text": "-0.02",
          "x": "InMediasStructure",
          "xref": "x",
          "y": "Fear",
          "yref": "y"
         },
         {
          "font": {
           "color": "#FFFFFF"
          },
          "showarrow": false,
          "text": "0.03",
          "x": "ExperimentalStructure",
          "xref": "x",
          "y": "Fear",
          "yref": "y"
         },
         {
          "font": {
           "color": "#FFFFFF"
          },
          "showarrow": false,
          "text": "0.08",
          "x": "Rating",
          "xref": "x",
          "y": "Fear",
          "yref": "y"
         },
         {
          "font": {
           "color": "#FFFFFF"
          },
          "showarrow": false,
          "text": "-0.03",
          "x": "budget",
          "xref": "x",
          "y": "Fear",
          "yref": "y"
         },
         {
          "font": {
           "color": "#FFFFFF"
          },
          "showarrow": false,
          "text": "-0.03",
          "x": "collections",
          "xref": "x",
          "y": "Fear",
          "yref": "y"
         },
         {
          "font": {
           "color": "#000000"
          },
          "showarrow": false,
          "text": "0.84",
          "x": "NumberOfScenes",
          "xref": "x",
          "y": "Anger",
          "yref": "y"
         },
         {
          "font": {
           "color": "#000000"
          },
          "showarrow": false,
          "text": "0.64",
          "x": "RunTime",
          "xref": "x",
          "y": "Anger",
          "yref": "y"
         },
         {
          "font": {
           "color": "#000000"
          },
          "showarrow": false,
          "text": "0.56",
          "x": "PositiveScenes",
          "xref": "x",
          "y": "Anger",
          "yref": "y"
         },
         {
          "font": {
           "color": "#000000"
          },
          "showarrow": false,
          "text": "0.66",
          "x": "NegativeScenes",
          "xref": "x",
          "y": "Anger",
          "yref": "y"
         },
         {
          "font": {
           "color": "#000000"
          },
          "showarrow": false,
          "text": "0.9",
          "x": "NeutralScenes",
          "xref": "x",
          "y": "Anger",
          "yref": "y"
         },
         {
          "font": {
           "color": "#FFFFFF"
          },
          "showarrow": false,
          "text": "-0.15",
          "x": "SentimentPolarity",
          "xref": "x",
          "y": "Anger",
          "yref": "y"
         },
         {
          "font": {
           "color": "#000000"
          },
          "showarrow": false,
          "text": "0.95",
          "x": "Fear",
          "xref": "x",
          "y": "Anger",
          "yref": "y"
         },
         {
          "font": {
           "color": "#000000"
          },
          "showarrow": false,
          "text": "1.0",
          "x": "Anger",
          "xref": "x",
          "y": "Anger",
          "yref": "y"
         },
         {
          "font": {
           "color": "#000000"
          },
          "showarrow": false,
          "text": "0.67",
          "x": "Anticipation",
          "xref": "x",
          "y": "Anger",
          "yref": "y"
         },
         {
          "font": {
           "color": "#000000"
          },
          "showarrow": false,
          "text": "0.92",
          "x": "Trust",
          "xref": "x",
          "y": "Anger",
          "yref": "y"
         },
         {
          "font": {
           "color": "#000000"
          },
          "showarrow": false,
          "text": "0.96",
          "x": "Surprise",
          "xref": "x",
          "y": "Anger",
          "yref": "y"
         },
         {
          "font": {
           "color": "#000000"
          },
          "showarrow": false,
          "text": "0.8",
          "x": "Positive",
          "xref": "x",
          "y": "Anger",
          "yref": "y"
         },
         {
          "font": {
           "color": "#000000"
          },
          "showarrow": false,
          "text": "0.86",
          "x": "Negative",
          "xref": "x",
          "y": "Anger",
          "yref": "y"
         },
         {
          "font": {
           "color": "#000000"
          },
          "showarrow": false,
          "text": "0.96",
          "x": "Sadness",
          "xref": "x",
          "y": "Anger",
          "yref": "y"
         },
         {
          "font": {
           "color": "#000000"
          },
          "showarrow": false,
          "text": "0.97",
          "x": "Disgust",
          "xref": "x",
          "y": "Anger",
          "yref": "y"
         },
         {
          "font": {
           "color": "#000000"
          },
          "showarrow": false,
          "text": "0.94",
          "x": "Joy",
          "xref": "x",
          "y": "Anger",
          "yref": "y"
         },
         {
          "font": {
           "color": "#FFFFFF"
          },
          "showarrow": false,
          "text": "0.03",
          "x": "NumberOfCharacters",
          "xref": "x",
          "y": "Anger",
          "yref": "y"
         },
         {
          "font": {
           "color": "#FFFFFF"
          },
          "showarrow": false,
          "text": "0.0",
          "x": "ThreeActStructure",
          "xref": "x",
          "y": "Anger",
          "yref": "y"
         },
         {
          "font": {
           "color": "#FFFFFF"
          },
          "showarrow": false,
          "text": "-0.01",
          "x": "FiveActStructure",
          "xref": "x",
          "y": "Anger",
          "yref": "y"
         },
         {
          "font": {
           "color": "#FFFFFF"
          },
          "showarrow": false,
          "text": "-0.02",
          "x": "HeroStructure",
          "xref": "x",
          "y": "Anger",
          "yref": "y"
         },
         {
          "font": {
           "color": "#FFFFFF"
          },
          "showarrow": false,
          "text": "0.08",
          "x": "NonlinearStructure",
          "xref": "x",
          "y": "Anger",
          "yref": "y"
         },
         {
          "font": {
           "color": "#FFFFFF"
          },
          "showarrow": false,
          "text": "0.06",
          "x": "ParallelStructure",
          "xref": "x",
          "y": "Anger",
          "yref": "y"
         },
         {
          "font": {
           "color": "#FFFFFF"
          },
          "showarrow": false,
          "text": "0.08",
          "x": "CircularStructure",
          "xref": "x",
          "y": "Anger",
          "yref": "y"
         },
         {
          "font": {
           "color": "#FFFFFF"
          },
          "showarrow": false,
          "text": "-0.01",
          "x": "OpenEndedStructre",
          "xref": "x",
          "y": "Anger",
          "yref": "y"
         },
         {
          "font": {
           "color": "#FFFFFF"
          },
          "showarrow": false,
          "text": "-0.01",
          "x": "InMediasStructure",
          "xref": "x",
          "y": "Anger",
          "yref": "y"
         },
         {
          "font": {
           "color": "#FFFFFF"
          },
          "showarrow": false,
          "text": "0.02",
          "x": "ExperimentalStructure",
          "xref": "x",
          "y": "Anger",
          "yref": "y"
         },
         {
          "font": {
           "color": "#FFFFFF"
          },
          "showarrow": false,
          "text": "0.09",
          "x": "Rating",
          "xref": "x",
          "y": "Anger",
          "yref": "y"
         },
         {
          "font": {
           "color": "#FFFFFF"
          },
          "showarrow": false,
          "text": "-0.04",
          "x": "budget",
          "xref": "x",
          "y": "Anger",
          "yref": "y"
         },
         {
          "font": {
           "color": "#FFFFFF"
          },
          "showarrow": false,
          "text": "-0.04",
          "x": "collections",
          "xref": "x",
          "y": "Anger",
          "yref": "y"
         },
         {
          "font": {
           "color": "#000000"
          },
          "showarrow": false,
          "text": "0.79",
          "x": "NumberOfScenes",
          "xref": "x",
          "y": "Anticipation",
          "yref": "y"
         },
         {
          "font": {
           "color": "#000000"
          },
          "showarrow": false,
          "text": "0.66",
          "x": "RunTime",
          "xref": "x",
          "y": "Anticipation",
          "yref": "y"
         },
         {
          "font": {
           "color": "#000000"
          },
          "showarrow": false,
          "text": "0.72",
          "x": "PositiveScenes",
          "xref": "x",
          "y": "Anticipation",
          "yref": "y"
         },
         {
          "font": {
           "color": "#000000"
          },
          "showarrow": false,
          "text": "0.55",
          "x": "NegativeScenes",
          "xref": "x",
          "y": "Anticipation",
          "yref": "y"
         },
         {
          "font": {
           "color": "#000000"
          },
          "showarrow": false,
          "text": "0.66",
          "x": "NeutralScenes",
          "xref": "x",
          "y": "Anticipation",
          "yref": "y"
         },
         {
          "font": {
           "color": "#FFFFFF"
          },
          "showarrow": false,
          "text": "0.06",
          "x": "SentimentPolarity",
          "xref": "x",
          "y": "Anticipation",
          "yref": "y"
         },
         {
          "font": {
           "color": "#000000"
          },
          "showarrow": false,
          "text": "0.66",
          "x": "Fear",
          "xref": "x",
          "y": "Anticipation",
          "yref": "y"
         },
         {
          "font": {
           "color": "#000000"
          },
          "showarrow": false,
          "text": "0.67",
          "x": "Anger",
          "xref": "x",
          "y": "Anticipation",
          "yref": "y"
         },
         {
          "font": {
           "color": "#000000"
          },
          "showarrow": false,
          "text": "1.0",
          "x": "Anticipation",
          "xref": "x",
          "y": "Anticipation",
          "yref": "y"
         },
         {
          "font": {
           "color": "#000000"
          },
          "showarrow": false,
          "text": "0.73",
          "x": "Trust",
          "xref": "x",
          "y": "Anticipation",
          "yref": "y"
         },
         {
          "font": {
           "color": "#000000"
          },
          "showarrow": false,
          "text": "0.67",
          "x": "Surprise",
          "xref": "x",
          "y": "Anticipation",
          "yref": "y"
         },
         {
          "font": {
           "color": "#000000"
          },
          "showarrow": false,
          "text": "0.77",
          "x": "Positive",
          "xref": "x",
          "y": "Anticipation",
          "yref": "y"
         },
         {
          "font": {
           "color": "#000000"
          },
          "showarrow": false,
          "text": "0.64",
          "x": "Negative",
          "xref": "x",
          "y": "Anticipation",
          "yref": "y"
         },
         {
          "font": {
           "color": "#000000"
          },
          "showarrow": false,
          "text": "0.68",
          "x": "Sadness",
          "xref": "x",
          "y": "Anticipation",
          "yref": "y"
         },
         {
          "font": {
           "color": "#000000"
          },
          "showarrow": false,
          "text": "0.64",
          "x": "Disgust",
          "xref": "x",
          "y": "Anticipation",
          "yref": "y"
         },
         {
          "font": {
           "color": "#000000"
          },
          "showarrow": false,
          "text": "0.69",
          "x": "Joy",
          "xref": "x",
          "y": "Anticipation",
          "yref": "y"
         },
         {
          "font": {
           "color": "#FFFFFF"
          },
          "showarrow": false,
          "text": "0.04",
          "x": "NumberOfCharacters",
          "xref": "x",
          "y": "Anticipation",
          "yref": "y"
         },
         {
          "font": {
           "color": "#FFFFFF"
          },
          "showarrow": false,
          "text": "0.06",
          "x": "ThreeActStructure",
          "xref": "x",
          "y": "Anticipation",
          "yref": "y"
         },
         {
          "font": {
           "color": "#FFFFFF"
          },
          "showarrow": false,
          "text": "0.02",
          "x": "FiveActStructure",
          "xref": "x",
          "y": "Anticipation",
          "yref": "y"
         },
         {
          "font": {
           "color": "#FFFFFF"
          },
          "showarrow": false,
          "text": "0.04",
          "x": "HeroStructure",
          "xref": "x",
          "y": "Anticipation",
          "yref": "y"
         },
         {
          "font": {
           "color": "#FFFFFF"
          },
          "showarrow": false,
          "text": "0.06",
          "x": "NonlinearStructure",
          "xref": "x",
          "y": "Anticipation",
          "yref": "y"
         },
         {
          "font": {
           "color": "#FFFFFF"
          },
          "showarrow": false,
          "text": "0.03",
          "x": "ParallelStructure",
          "xref": "x",
          "y": "Anticipation",
          "yref": "y"
         },
         {
          "font": {
           "color": "#FFFFFF"
          },
          "showarrow": false,
          "text": "0.08",
          "x": "CircularStructure",
          "xref": "x",
          "y": "Anticipation",
          "yref": "y"
         },
         {
          "font": {
           "color": "#FFFFFF"
          },
          "showarrow": false,
          "text": "-0.01",
          "x": "OpenEndedStructre",
          "xref": "x",
          "y": "Anticipation",
          "yref": "y"
         },
         {
          "font": {
           "color": "#FFFFFF"
          },
          "showarrow": false,
          "text": "-0.01",
          "x": "InMediasStructure",
          "xref": "x",
          "y": "Anticipation",
          "yref": "y"
         },
         {
          "font": {
           "color": "#FFFFFF"
          },
          "showarrow": false,
          "text": "0.02",
          "x": "ExperimentalStructure",
          "xref": "x",
          "y": "Anticipation",
          "yref": "y"
         },
         {
          "font": {
           "color": "#FFFFFF"
          },
          "showarrow": false,
          "text": "0.12",
          "x": "Rating",
          "xref": "x",
          "y": "Anticipation",
          "yref": "y"
         },
         {
          "font": {
           "color": "#FFFFFF"
          },
          "showarrow": false,
          "text": "-0.04",
          "x": "budget",
          "xref": "x",
          "y": "Anticipation",
          "yref": "y"
         },
         {
          "font": {
           "color": "#FFFFFF"
          },
          "showarrow": false,
          "text": "-0.02",
          "x": "collections",
          "xref": "x",
          "y": "Anticipation",
          "yref": "y"
         },
         {
          "font": {
           "color": "#000000"
          },
          "showarrow": false,
          "text": "0.87",
          "x": "NumberOfScenes",
          "xref": "x",
          "y": "Trust",
          "yref": "y"
         },
         {
          "font": {
           "color": "#000000"
          },
          "showarrow": false,
          "text": "0.68",
          "x": "RunTime",
          "xref": "x",
          "y": "Trust",
          "yref": "y"
         },
         {
          "font": {
           "color": "#000000"
          },
          "showarrow": false,
          "text": "0.65",
          "x": "PositiveScenes",
          "xref": "x",
          "y": "Trust",
          "yref": "y"
         },
         {
          "font": {
           "color": "#000000"
          },
          "showarrow": false,
          "text": "0.66",
          "x": "NegativeScenes",
          "xref": "x",
          "y": "Trust",
          "yref": "y"
         },
         {
          "font": {
           "color": "#000000"
          },
          "showarrow": false,
          "text": "0.89",
          "x": "NeutralScenes",
          "xref": "x",
          "y": "Trust",
          "yref": "y"
         },
         {
          "font": {
           "color": "#FFFFFF"
          },
          "showarrow": false,
          "text": "-0.08",
          "x": "SentimentPolarity",
          "xref": "x",
          "y": "Trust",
          "yref": "y"
         },
         {
          "font": {
           "color": "#000000"
          },
          "showarrow": false,
          "text": "0.91",
          "x": "Fear",
          "xref": "x",
          "y": "Trust",
          "yref": "y"
         },
         {
          "font": {
           "color": "#000000"
          },
          "showarrow": false,
          "text": "0.92",
          "x": "Anger",
          "xref": "x",
          "y": "Trust",
          "yref": "y"
         },
         {
          "font": {
           "color": "#000000"
          },
          "showarrow": false,
          "text": "0.73",
          "x": "Anticipation",
          "xref": "x",
          "y": "Trust",
          "yref": "y"
         },
         {
          "font": {
           "color": "#000000"
          },
          "showarrow": false,
          "text": "1.0",
          "x": "Trust",
          "xref": "x",
          "y": "Trust",
          "yref": "y"
         },
         {
          "font": {
           "color": "#000000"
          },
          "showarrow": false,
          "text": "0.92",
          "x": "Surprise",
          "xref": "x",
          "y": "Trust",
          "yref": "y"
         },
         {
          "font": {
           "color": "#000000"
          },
          "showarrow": false,
          "text": "0.86",
          "x": "Positive",
          "xref": "x",
          "y": "Trust",
          "yref": "y"
         },
         {
          "font": {
           "color": "#000000"
          },
          "showarrow": false,
          "text": "0.81",
          "x": "Negative",
          "xref": "x",
          "y": "Trust",
          "yref": "y"
         },
         {
          "font": {
           "color": "#000000"
          },
          "showarrow": false,
          "text": "0.92",
          "x": "Sadness",
          "xref": "x",
          "y": "Trust",
          "yref": "y"
         },
         {
          "font": {
           "color": "#000000"
          },
          "showarrow": false,
          "text": "0.92",
          "x": "Disgust",
          "xref": "x",
          "y": "Trust",
          "yref": "y"
         },
         {
          "font": {
           "color": "#000000"
          },
          "showarrow": false,
          "text": "0.92",
          "x": "Joy",
          "xref": "x",
          "y": "Trust",
          "yref": "y"
         },
         {
          "font": {
           "color": "#FFFFFF"
          },
          "showarrow": false,
          "text": "0.05",
          "x": "NumberOfCharacters",
          "xref": "x",
          "y": "Trust",
          "yref": "y"
         },
         {
          "font": {
           "color": "#FFFFFF"
          },
          "showarrow": false,
          "text": "0.04",
          "x": "ThreeActStructure",
          "xref": "x",
          "y": "Trust",
          "yref": "y"
         },
         {
          "font": {
           "color": "#FFFFFF"
          },
          "showarrow": false,
          "text": "-0.0",
          "x": "FiveActStructure",
          "xref": "x",
          "y": "Trust",
          "yref": "y"
         },
         {
          "font": {
           "color": "#FFFFFF"
          },
          "showarrow": false,
          "text": "-0.0",
          "x": "HeroStructure",
          "xref": "x",
          "y": "Trust",
          "yref": "y"
         },
         {
          "font": {
           "color": "#FFFFFF"
          },
          "showarrow": false,
          "text": "0.09",
          "x": "NonlinearStructure",
          "xref": "x",
          "y": "Trust",
          "yref": "y"
         },
         {
          "font": {
           "color": "#FFFFFF"
          },
          "showarrow": false,
          "text": "0.06",
          "x": "ParallelStructure",
          "xref": "x",
          "y": "Trust",
          "yref": "y"
         },
         {
          "font": {
           "color": "#FFFFFF"
          },
          "showarrow": false,
          "text": "0.07",
          "x": "CircularStructure",
          "xref": "x",
          "y": "Trust",
          "yref": "y"
         },
         {
          "font": {
           "color": "#FFFFFF"
          },
          "showarrow": false,
          "text": "-0.02",
          "x": "OpenEndedStructre",
          "xref": "x",
          "y": "Trust",
          "yref": "y"
         },
         {
          "font": {
           "color": "#FFFFFF"
          },
          "showarrow": false,
          "text": "-0.01",
          "x": "InMediasStructure",
          "xref": "x",
          "y": "Trust",
          "yref": "y"
         },
         {
          "font": {
           "color": "#FFFFFF"
          },
          "showarrow": false,
          "text": "-0.0",
          "x": "ExperimentalStructure",
          "xref": "x",
          "y": "Trust",
          "yref": "y"
         },
         {
          "font": {
           "color": "#FFFFFF"
          },
          "showarrow": false,
          "text": "0.13",
          "x": "Rating",
          "xref": "x",
          "y": "Trust",
          "yref": "y"
         },
         {
          "font": {
           "color": "#FFFFFF"
          },
          "showarrow": false,
          "text": "-0.05",
          "x": "budget",
          "xref": "x",
          "y": "Trust",
          "yref": "y"
         },
         {
          "font": {
           "color": "#FFFFFF"
          },
          "showarrow": false,
          "text": "-0.04",
          "x": "collections",
          "xref": "x",
          "y": "Trust",
          "yref": "y"
         },
         {
          "font": {
           "color": "#000000"
          },
          "showarrow": false,
          "text": "0.81",
          "x": "NumberOfScenes",
          "xref": "x",
          "y": "Surprise",
          "yref": "y"
         },
         {
          "font": {
           "color": "#000000"
          },
          "showarrow": false,
          "text": "0.62",
          "x": "RunTime",
          "xref": "x",
          "y": "Surprise",
          "yref": "y"
         },
         {
          "font": {
           "color": "#000000"
          },
          "showarrow": false,
          "text": "0.56",
          "x": "PositiveScenes",
          "xref": "x",
          "y": "Surprise",
          "yref": "y"
         },
         {
          "font": {
           "color": "#000000"
          },
          "showarrow": false,
          "text": "0.59",
          "x": "NegativeScenes",
          "xref": "x",
          "y": "Surprise",
          "yref": "y"
         },
         {
          "font": {
           "color": "#000000"
          },
          "showarrow": false,
          "text": "0.91",
          "x": "NeutralScenes",
          "xref": "x",
          "y": "Surprise",
          "yref": "y"
         },
         {
          "font": {
           "color": "#FFFFFF"
          },
          "showarrow": false,
          "text": "-0.08",
          "x": "SentimentPolarity",
          "xref": "x",
          "y": "Surprise",
          "yref": "y"
         },
         {
          "font": {
           "color": "#000000"
          },
          "showarrow": false,
          "text": "0.92",
          "x": "Fear",
          "xref": "x",
          "y": "Surprise",
          "yref": "y"
         },
         {
          "font": {
           "color": "#000000"
          },
          "showarrow": false,
          "text": "0.96",
          "x": "Anger",
          "xref": "x",
          "y": "Surprise",
          "yref": "y"
         },
         {
          "font": {
           "color": "#000000"
          },
          "showarrow": false,
          "text": "0.67",
          "x": "Anticipation",
          "xref": "x",
          "y": "Surprise",
          "yref": "y"
         },
         {
          "font": {
           "color": "#000000"
          },
          "showarrow": false,
          "text": "0.92",
          "x": "Trust",
          "xref": "x",
          "y": "Surprise",
          "yref": "y"
         },
         {
          "font": {
           "color": "#000000"
          },
          "showarrow": false,
          "text": "1.0",
          "x": "Surprise",
          "xref": "x",
          "y": "Surprise",
          "yref": "y"
         },
         {
          "font": {
           "color": "#000000"
          },
          "showarrow": false,
          "text": "0.82",
          "x": "Positive",
          "xref": "x",
          "y": "Surprise",
          "yref": "y"
         },
         {
          "font": {
           "color": "#000000"
          },
          "showarrow": false,
          "text": "0.8",
          "x": "Negative",
          "xref": "x",
          "y": "Surprise",
          "yref": "y"
         },
         {
          "font": {
           "color": "#000000"
          },
          "showarrow": false,
          "text": "0.96",
          "x": "Sadness",
          "xref": "x",
          "y": "Surprise",
          "yref": "y"
         },
         {
          "font": {
           "color": "#000000"
          },
          "showarrow": false,
          "text": "0.97",
          "x": "Disgust",
          "xref": "x",
          "y": "Surprise",
          "yref": "y"
         },
         {
          "font": {
           "color": "#000000"
          },
          "showarrow": false,
          "text": "0.96",
          "x": "Joy",
          "xref": "x",
          "y": "Surprise",
          "yref": "y"
         },
         {
          "font": {
           "color": "#FFFFFF"
          },
          "showarrow": false,
          "text": "0.02",
          "x": "NumberOfCharacters",
          "xref": "x",
          "y": "Surprise",
          "yref": "y"
         },
         {
          "font": {
           "color": "#FFFFFF"
          },
          "showarrow": false,
          "text": "0.0",
          "x": "ThreeActStructure",
          "xref": "x",
          "y": "Surprise",
          "yref": "y"
         },
         {
          "font": {
           "color": "#FFFFFF"
          },
          "showarrow": false,
          "text": "-0.01",
          "x": "FiveActStructure",
          "xref": "x",
          "y": "Surprise",
          "yref": "y"
         },
         {
          "font": {
           "color": "#FFFFFF"
          },
          "showarrow": false,
          "text": "-0.03",
          "x": "HeroStructure",
          "xref": "x",
          "y": "Surprise",
          "yref": "y"
         },
         {
          "font": {
           "color": "#FFFFFF"
          },
          "showarrow": false,
          "text": "0.07",
          "x": "NonlinearStructure",
          "xref": "x",
          "y": "Surprise",
          "yref": "y"
         },
         {
          "font": {
           "color": "#FFFFFF"
          },
          "showarrow": false,
          "text": "0.02",
          "x": "ParallelStructure",
          "xref": "x",
          "y": "Surprise",
          "yref": "y"
         },
         {
          "font": {
           "color": "#FFFFFF"
          },
          "showarrow": false,
          "text": "0.06",
          "x": "CircularStructure",
          "xref": "x",
          "y": "Surprise",
          "yref": "y"
         },
         {
          "font": {
           "color": "#FFFFFF"
          },
          "showarrow": false,
          "text": "-0.01",
          "x": "OpenEndedStructre",
          "xref": "x",
          "y": "Surprise",
          "yref": "y"
         },
         {
          "font": {
           "color": "#FFFFFF"
          },
          "showarrow": false,
          "text": "-0.01",
          "x": "InMediasStructure",
          "xref": "x",
          "y": "Surprise",
          "yref": "y"
         },
         {
          "font": {
           "color": "#FFFFFF"
          },
          "showarrow": false,
          "text": "0.02",
          "x": "ExperimentalStructure",
          "xref": "x",
          "y": "Surprise",
          "yref": "y"
         },
         {
          "font": {
           "color": "#FFFFFF"
          },
          "showarrow": false,
          "text": "0.1",
          "x": "Rating",
          "xref": "x",
          "y": "Surprise",
          "yref": "y"
         },
         {
          "font": {
           "color": "#FFFFFF"
          },
          "showarrow": false,
          "text": "-0.04",
          "x": "budget",
          "xref": "x",
          "y": "Surprise",
          "yref": "y"
         },
         {
          "font": {
           "color": "#FFFFFF"
          },
          "showarrow": false,
          "text": "-0.04",
          "x": "collections",
          "xref": "x",
          "y": "Surprise",
          "yref": "y"
         },
         {
          "font": {
           "color": "#000000"
          },
          "showarrow": false,
          "text": "0.91",
          "x": "NumberOfScenes",
          "xref": "x",
          "y": "Positive",
          "yref": "y"
         },
         {
          "font": {
           "color": "#000000"
          },
          "showarrow": false,
          "text": "0.73",
          "x": "RunTime",
          "xref": "x",
          "y": "Positive",
          "yref": "y"
         },
         {
          "font": {
           "color": "#000000"
          },
          "showarrow": false,
          "text": "0.85",
          "x": "PositiveScenes",
          "xref": "x",
          "y": "Positive",
          "yref": "y"
         },
         {
          "font": {
           "color": "#000000"
          },
          "showarrow": false,
          "text": "0.58",
          "x": "NegativeScenes",
          "xref": "x",
          "y": "Positive",
          "yref": "y"
         },
         {
          "font": {
           "color": "#000000"
          },
          "showarrow": false,
          "text": "0.79",
          "x": "NeutralScenes",
          "xref": "x",
          "y": "Positive",
          "yref": "y"
         },
         {
          "font": {
           "color": "#FFFFFF"
          },
          "showarrow": false,
          "text": "0.13",
          "x": "SentimentPolarity",
          "xref": "x",
          "y": "Positive",
          "yref": "y"
         },
         {
          "font": {
           "color": "#000000"
          },
          "showarrow": false,
          "text": "0.78",
          "x": "Fear",
          "xref": "x",
          "y": "Positive",
          "yref": "y"
         },
         {
          "font": {
           "color": "#000000"
          },
          "showarrow": false,
          "text": "0.8",
          "x": "Anger",
          "xref": "x",
          "y": "Positive",
          "yref": "y"
         },
         {
          "font": {
           "color": "#000000"
          },
          "showarrow": false,
          "text": "0.77",
          "x": "Anticipation",
          "xref": "x",
          "y": "Positive",
          "yref": "y"
         },
         {
          "font": {
           "color": "#000000"
          },
          "showarrow": false,
          "text": "0.86",
          "x": "Trust",
          "xref": "x",
          "y": "Positive",
          "yref": "y"
         },
         {
          "font": {
           "color": "#000000"
          },
          "showarrow": false,
          "text": "0.82",
          "x": "Surprise",
          "xref": "x",
          "y": "Positive",
          "yref": "y"
         },
         {
          "font": {
           "color": "#000000"
          },
          "showarrow": false,
          "text": "1.0",
          "x": "Positive",
          "xref": "x",
          "y": "Positive",
          "yref": "y"
         },
         {
          "font": {
           "color": "#000000"
          },
          "showarrow": false,
          "text": "0.71",
          "x": "Negative",
          "xref": "x",
          "y": "Positive",
          "yref": "y"
         },
         {
          "font": {
           "color": "#000000"
          },
          "showarrow": false,
          "text": "0.81",
          "x": "Sadness",
          "xref": "x",
          "y": "Positive",
          "yref": "y"
         },
         {
          "font": {
           "color": "#000000"
          },
          "showarrow": false,
          "text": "0.8",
          "x": "Disgust",
          "xref": "x",
          "y": "Positive",
          "yref": "y"
         },
         {
          "font": {
           "color": "#000000"
          },
          "showarrow": false,
          "text": "0.85",
          "x": "Joy",
          "xref": "x",
          "y": "Positive",
          "yref": "y"
         },
         {
          "font": {
           "color": "#FFFFFF"
          },
          "showarrow": false,
          "text": "0.08",
          "x": "NumberOfCharacters",
          "xref": "x",
          "y": "Positive",
          "yref": "y"
         },
         {
          "font": {
           "color": "#FFFFFF"
          },
          "showarrow": false,
          "text": "0.09",
          "x": "ThreeActStructure",
          "xref": "x",
          "y": "Positive",
          "yref": "y"
         },
         {
          "font": {
           "color": "#FFFFFF"
          },
          "showarrow": false,
          "text": "0.08",
          "x": "FiveActStructure",
          "xref": "x",
          "y": "Positive",
          "yref": "y"
         },
         {
          "font": {
           "color": "#FFFFFF"
          },
          "showarrow": false,
          "text": "0.03",
          "x": "HeroStructure",
          "xref": "x",
          "y": "Positive",
          "yref": "y"
         },
         {
          "font": {
           "color": "#FFFFFF"
          },
          "showarrow": false,
          "text": "0.07",
          "x": "NonlinearStructure",
          "xref": "x",
          "y": "Positive",
          "yref": "y"
         },
         {
          "font": {
           "color": "#FFFFFF"
          },
          "showarrow": false,
          "text": "0.03",
          "x": "ParallelStructure",
          "xref": "x",
          "y": "Positive",
          "yref": "y"
         },
         {
          "font": {
           "color": "#FFFFFF"
          },
          "showarrow": false,
          "text": "0.07",
          "x": "CircularStructure",
          "xref": "x",
          "y": "Positive",
          "yref": "y"
         },
         {
          "font": {
           "color": "#FFFFFF"
          },
          "showarrow": false,
          "text": "0.04",
          "x": "OpenEndedStructre",
          "xref": "x",
          "y": "Positive",
          "yref": "y"
         },
         {
          "font": {
           "color": "#FFFFFF"
          },
          "showarrow": false,
          "text": "0.01",
          "x": "InMediasStructure",
          "xref": "x",
          "y": "Positive",
          "yref": "y"
         },
         {
          "font": {
           "color": "#FFFFFF"
          },
          "showarrow": false,
          "text": "0.01",
          "x": "ExperimentalStructure",
          "xref": "x",
          "y": "Positive",
          "yref": "y"
         },
         {
          "font": {
           "color": "#FFFFFF"
          },
          "showarrow": false,
          "text": "0.14",
          "x": "Rating",
          "xref": "x",
          "y": "Positive",
          "yref": "y"
         },
         {
          "font": {
           "color": "#FFFFFF"
          },
          "showarrow": false,
          "text": "-0.06",
          "x": "budget",
          "xref": "x",
          "y": "Positive",
          "yref": "y"
         },
         {
          "font": {
           "color": "#FFFFFF"
          },
          "showarrow": false,
          "text": "-0.04",
          "x": "collections",
          "xref": "x",
          "y": "Positive",
          "yref": "y"
         },
         {
          "font": {
           "color": "#000000"
          },
          "showarrow": false,
          "text": "0.91",
          "x": "NumberOfScenes",
          "xref": "x",
          "y": "Negative",
          "yref": "y"
         },
         {
          "font": {
           "color": "#000000"
          },
          "showarrow": false,
          "text": "0.73",
          "x": "RunTime",
          "xref": "x",
          "y": "Negative",
          "yref": "y"
         },
         {
          "font": {
           "color": "#000000"
          },
          "showarrow": false,
          "text": "0.58",
          "x": "PositiveScenes",
          "xref": "x",
          "y": "Negative",
          "yref": "y"
         },
         {
          "font": {
           "color": "#000000"
          },
          "showarrow": false,
          "text": "0.86",
          "x": "NegativeScenes",
          "xref": "x",
          "y": "Negative",
          "yref": "y"
         },
         {
          "font": {
           "color": "#000000"
          },
          "showarrow": false,
          "text": "0.78",
          "x": "NeutralScenes",
          "xref": "x",
          "y": "Negative",
          "yref": "y"
         },
         {
          "font": {
           "color": "#FFFFFF"
          },
          "showarrow": false,
          "text": "-0.32",
          "x": "SentimentPolarity",
          "xref": "x",
          "y": "Negative",
          "yref": "y"
         },
         {
          "font": {
           "color": "#000000"
          },
          "showarrow": false,
          "text": "0.89",
          "x": "Fear",
          "xref": "x",
          "y": "Negative",
          "yref": "y"
         },
         {
          "font": {
           "color": "#000000"
          },
          "showarrow": false,
          "text": "0.86",
          "x": "Anger",
          "xref": "x",
          "y": "Negative",
          "yref": "y"
         },
         {
          "font": {
           "color": "#000000"
          },
          "showarrow": false,
          "text": "0.64",
          "x": "Anticipation",
          "xref": "x",
          "y": "Negative",
          "yref": "y"
         },
         {
          "font": {
           "color": "#000000"
          },
          "showarrow": false,
          "text": "0.81",
          "x": "Trust",
          "xref": "x",
          "y": "Negative",
          "yref": "y"
         },
         {
          "font": {
           "color": "#000000"
          },
          "showarrow": false,
          "text": "0.8",
          "x": "Surprise",
          "xref": "x",
          "y": "Negative",
          "yref": "y"
         },
         {
          "font": {
           "color": "#000000"
          },
          "showarrow": false,
          "text": "0.71",
          "x": "Positive",
          "xref": "x",
          "y": "Negative",
          "yref": "y"
         },
         {
          "font": {
           "color": "#000000"
          },
          "showarrow": false,
          "text": "1.0",
          "x": "Negative",
          "xref": "x",
          "y": "Negative",
          "yref": "y"
         },
         {
          "font": {
           "color": "#000000"
          },
          "showarrow": false,
          "text": "0.84",
          "x": "Sadness",
          "xref": "x",
          "y": "Negative",
          "yref": "y"
         },
         {
          "font": {
           "color": "#000000"
          },
          "showarrow": false,
          "text": "0.82",
          "x": "Disgust",
          "xref": "x",
          "y": "Negative",
          "yref": "y"
         },
         {
          "font": {
           "color": "#000000"
          },
          "showarrow": false,
          "text": "0.76",
          "x": "Joy",
          "xref": "x",
          "y": "Negative",
          "yref": "y"
         },
         {
          "font": {
           "color": "#FFFFFF"
          },
          "showarrow": false,
          "text": "0.03",
          "x": "NumberOfCharacters",
          "xref": "x",
          "y": "Negative",
          "yref": "y"
         },
         {
          "font": {
           "color": "#FFFFFF"
          },
          "showarrow": false,
          "text": "0.03",
          "x": "ThreeActStructure",
          "xref": "x",
          "y": "Negative",
          "yref": "y"
         },
         {
          "font": {
           "color": "#FFFFFF"
          },
          "showarrow": false,
          "text": "-0.03",
          "x": "FiveActStructure",
          "xref": "x",
          "y": "Negative",
          "yref": "y"
         },
         {
          "font": {
           "color": "#FFFFFF"
          },
          "showarrow": false,
          "text": "0.04",
          "x": "HeroStructure",
          "xref": "x",
          "y": "Negative",
          "yref": "y"
         },
         {
          "font": {
           "color": "#FFFFFF"
          },
          "showarrow": false,
          "text": "0.12",
          "x": "NonlinearStructure",
          "xref": "x",
          "y": "Negative",
          "yref": "y"
         },
         {
          "font": {
           "color": "#FFFFFF"
          },
          "showarrow": false,
          "text": "0.09",
          "x": "ParallelStructure",
          "xref": "x",
          "y": "Negative",
          "yref": "y"
         },
         {
          "font": {
           "color": "#FFFFFF"
          },
          "showarrow": false,
          "text": "0.14",
          "x": "CircularStructure",
          "xref": "x",
          "y": "Negative",
          "yref": "y"
         },
         {
          "font": {
           "color": "#FFFFFF"
          },
          "showarrow": false,
          "text": "-0.01",
          "x": "OpenEndedStructre",
          "xref": "x",
          "y": "Negative",
          "yref": "y"
         },
         {
          "font": {
           "color": "#FFFFFF"
          },
          "showarrow": false,
          "text": "-0.02",
          "x": "InMediasStructure",
          "xref": "x",
          "y": "Negative",
          "yref": "y"
         },
         {
          "font": {
           "color": "#FFFFFF"
          },
          "showarrow": false,
          "text": "0.01",
          "x": "ExperimentalStructure",
          "xref": "x",
          "y": "Negative",
          "yref": "y"
         },
         {
          "font": {
           "color": "#FFFFFF"
          },
          "showarrow": false,
          "text": "0.09",
          "x": "Rating",
          "xref": "x",
          "y": "Negative",
          "yref": "y"
         },
         {
          "font": {
           "color": "#FFFFFF"
          },
          "showarrow": false,
          "text": "-0.06",
          "x": "budget",
          "xref": "x",
          "y": "Negative",
          "yref": "y"
         },
         {
          "font": {
           "color": "#FFFFFF"
          },
          "showarrow": false,
          "text": "-0.05",
          "x": "collections",
          "xref": "x",
          "y": "Negative",
          "yref": "y"
         },
         {
          "font": {
           "color": "#000000"
          },
          "showarrow": false,
          "text": "0.84",
          "x": "NumberOfScenes",
          "xref": "x",
          "y": "Sadness",
          "yref": "y"
         },
         {
          "font": {
           "color": "#000000"
          },
          "showarrow": false,
          "text": "0.65",
          "x": "RunTime",
          "xref": "x",
          "y": "Sadness",
          "yref": "y"
         },
         {
          "font": {
           "color": "#000000"
          },
          "showarrow": false,
          "text": "0.57",
          "x": "PositiveScenes",
          "xref": "x",
          "y": "Sadness",
          "yref": "y"
         },
         {
          "font": {
           "color": "#000000"
          },
          "showarrow": false,
          "text": "0.66",
          "x": "NegativeScenes",
          "xref": "x",
          "y": "Sadness",
          "yref": "y"
         },
         {
          "font": {
           "color": "#000000"
          },
          "showarrow": false,
          "text": "0.88",
          "x": "NeutralScenes",
          "xref": "x",
          "y": "Sadness",
          "yref": "y"
         },
         {
          "font": {
           "color": "#FFFFFF"
          },
          "showarrow": false,
          "text": "-0.12",
          "x": "SentimentPolarity",
          "xref": "x",
          "y": "Sadness",
          "yref": "y"
         },
         {
          "font": {
           "color": "#000000"
          },
          "showarrow": false,
          "text": "0.92",
          "x": "Fear",
          "xref": "x",
          "y": "Sadness",
          "yref": "y"
         },
         {
          "font": {
           "color": "#000000"
          },
          "showarrow": false,
          "text": "0.96",
          "x": "Anger",
          "xref": "x",
          "y": "Sadness",
          "yref": "y"
         },
         {
          "font": {
           "color": "#000000"
          },
          "showarrow": false,
          "text": "0.68",
          "x": "Anticipation",
          "xref": "x",
          "y": "Sadness",
          "yref": "y"
         },
         {
          "font": {
           "color": "#000000"
          },
          "showarrow": false,
          "text": "0.92",
          "x": "Trust",
          "xref": "x",
          "y": "Sadness",
          "yref": "y"
         },
         {
          "font": {
           "color": "#000000"
          },
          "showarrow": false,
          "text": "0.96",
          "x": "Surprise",
          "xref": "x",
          "y": "Sadness",
          "yref": "y"
         },
         {
          "font": {
           "color": "#000000"
          },
          "showarrow": false,
          "text": "0.81",
          "x": "Positive",
          "xref": "x",
          "y": "Sadness",
          "yref": "y"
         },
         {
          "font": {
           "color": "#000000"
          },
          "showarrow": false,
          "text": "0.84",
          "x": "Negative",
          "xref": "x",
          "y": "Sadness",
          "yref": "y"
         },
         {
          "font": {
           "color": "#000000"
          },
          "showarrow": false,
          "text": "1.0",
          "x": "Sadness",
          "xref": "x",
          "y": "Sadness",
          "yref": "y"
         },
         {
          "font": {
           "color": "#000000"
          },
          "showarrow": false,
          "text": "0.96",
          "x": "Disgust",
          "xref": "x",
          "y": "Sadness",
          "yref": "y"
         },
         {
          "font": {
           "color": "#000000"
          },
          "showarrow": false,
          "text": "0.95",
          "x": "Joy",
          "xref": "x",
          "y": "Sadness",
          "yref": "y"
         },
         {
          "font": {
           "color": "#FFFFFF"
          },
          "showarrow": false,
          "text": "-0.0",
          "x": "NumberOfCharacters",
          "xref": "x",
          "y": "Sadness",
          "yref": "y"
         },
         {
          "font": {
           "color": "#FFFFFF"
          },
          "showarrow": false,
          "text": "-0.0",
          "x": "ThreeActStructure",
          "xref": "x",
          "y": "Sadness",
          "yref": "y"
         },
         {
          "font": {
           "color": "#FFFFFF"
          },
          "showarrow": false,
          "text": "-0.02",
          "x": "FiveActStructure",
          "xref": "x",
          "y": "Sadness",
          "yref": "y"
         },
         {
          "font": {
           "color": "#FFFFFF"
          },
          "showarrow": false,
          "text": "-0.02",
          "x": "HeroStructure",
          "xref": "x",
          "y": "Sadness",
          "yref": "y"
         },
         {
          "font": {
           "color": "#FFFFFF"
          },
          "showarrow": false,
          "text": "0.09",
          "x": "NonlinearStructure",
          "xref": "x",
          "y": "Sadness",
          "yref": "y"
         },
         {
          "font": {
           "color": "#FFFFFF"
          },
          "showarrow": false,
          "text": "0.03",
          "x": "ParallelStructure",
          "xref": "x",
          "y": "Sadness",
          "yref": "y"
         },
         {
          "font": {
           "color": "#FFFFFF"
          },
          "showarrow": false,
          "text": "0.06",
          "x": "CircularStructure",
          "xref": "x",
          "y": "Sadness",
          "yref": "y"
         },
         {
          "font": {
           "color": "#FFFFFF"
          },
          "showarrow": false,
          "text": "0.01",
          "x": "OpenEndedStructre",
          "xref": "x",
          "y": "Sadness",
          "yref": "y"
         },
         {
          "font": {
           "color": "#FFFFFF"
          },
          "showarrow": false,
          "text": "-0.0",
          "x": "InMediasStructure",
          "xref": "x",
          "y": "Sadness",
          "yref": "y"
         },
         {
          "font": {
           "color": "#FFFFFF"
          },
          "showarrow": false,
          "text": "0.01",
          "x": "ExperimentalStructure",
          "xref": "x",
          "y": "Sadness",
          "yref": "y"
         },
         {
          "font": {
           "color": "#FFFFFF"
          },
          "showarrow": false,
          "text": "0.11",
          "x": "Rating",
          "xref": "x",
          "y": "Sadness",
          "yref": "y"
         },
         {
          "font": {
           "color": "#FFFFFF"
          },
          "showarrow": false,
          "text": "-0.05",
          "x": "budget",
          "xref": "x",
          "y": "Sadness",
          "yref": "y"
         },
         {
          "font": {
           "color": "#FFFFFF"
          },
          "showarrow": false,
          "text": "-0.04",
          "x": "collections",
          "xref": "x",
          "y": "Sadness",
          "yref": "y"
         },
         {
          "font": {
           "color": "#000000"
          },
          "showarrow": false,
          "text": "0.8",
          "x": "NumberOfScenes",
          "xref": "x",
          "y": "Disgust",
          "yref": "y"
         },
         {
          "font": {
           "color": "#000000"
          },
          "showarrow": false,
          "text": "0.63",
          "x": "RunTime",
          "xref": "x",
          "y": "Disgust",
          "yref": "y"
         },
         {
          "font": {
           "color": "#000000"
          },
          "showarrow": false,
          "text": "0.53",
          "x": "PositiveScenes",
          "xref": "x",
          "y": "Disgust",
          "yref": "y"
         },
         {
          "font": {
           "color": "#000000"
          },
          "showarrow": false,
          "text": "0.62",
          "x": "NegativeScenes",
          "xref": "x",
          "y": "Disgust",
          "yref": "y"
         },
         {
          "font": {
           "color": "#000000"
          },
          "showarrow": false,
          "text": "0.9",
          "x": "NeutralScenes",
          "xref": "x",
          "y": "Disgust",
          "yref": "y"
         },
         {
          "font": {
           "color": "#FFFFFF"
          },
          "showarrow": false,
          "text": "-0.13",
          "x": "SentimentPolarity",
          "xref": "x",
          "y": "Disgust",
          "yref": "y"
         },
         {
          "font": {
           "color": "#000000"
          },
          "showarrow": false,
          "text": "0.92",
          "x": "Fear",
          "xref": "x",
          "y": "Disgust",
          "yref": "y"
         },
         {
          "font": {
           "color": "#000000"
          },
          "showarrow": false,
          "text": "0.97",
          "x": "Anger",
          "xref": "x",
          "y": "Disgust",
          "yref": "y"
         },
         {
          "font": {
           "color": "#000000"
          },
          "showarrow": false,
          "text": "0.64",
          "x": "Anticipation",
          "xref": "x",
          "y": "Disgust",
          "yref": "y"
         },
         {
          "font": {
           "color": "#000000"
          },
          "showarrow": false,
          "text": "0.92",
          "x": "Trust",
          "xref": "x",
          "y": "Disgust",
          "yref": "y"
         },
         {
          "font": {
           "color": "#000000"
          },
          "showarrow": false,
          "text": "0.97",
          "x": "Surprise",
          "xref": "x",
          "y": "Disgust",
          "yref": "y"
         },
         {
          "font": {
           "color": "#000000"
          },
          "showarrow": false,
          "text": "0.8",
          "x": "Positive",
          "xref": "x",
          "y": "Disgust",
          "yref": "y"
         },
         {
          "font": {
           "color": "#000000"
          },
          "showarrow": false,
          "text": "0.82",
          "x": "Negative",
          "xref": "x",
          "y": "Disgust",
          "yref": "y"
         },
         {
          "font": {
           "color": "#000000"
          },
          "showarrow": false,
          "text": "0.96",
          "x": "Sadness",
          "xref": "x",
          "y": "Disgust",
          "yref": "y"
         },
         {
          "font": {
           "color": "#000000"
          },
          "showarrow": false,
          "text": "1.0",
          "x": "Disgust",
          "xref": "x",
          "y": "Disgust",
          "yref": "y"
         },
         {
          "font": {
           "color": "#000000"
          },
          "showarrow": false,
          "text": "0.96",
          "x": "Joy",
          "xref": "x",
          "y": "Disgust",
          "yref": "y"
         },
         {
          "font": {
           "color": "#FFFFFF"
          },
          "showarrow": false,
          "text": "0.01",
          "x": "NumberOfCharacters",
          "xref": "x",
          "y": "Disgust",
          "yref": "y"
         },
         {
          "font": {
           "color": "#FFFFFF"
          },
          "showarrow": false,
          "text": "-0.02",
          "x": "ThreeActStructure",
          "xref": "x",
          "y": "Disgust",
          "yref": "y"
         },
         {
          "font": {
           "color": "#FFFFFF"
          },
          "showarrow": false,
          "text": "-0.03",
          "x": "FiveActStructure",
          "xref": "x",
          "y": "Disgust",
          "yref": "y"
         },
         {
          "font": {
           "color": "#FFFFFF"
          },
          "showarrow": false,
          "text": "-0.03",
          "x": "HeroStructure",
          "xref": "x",
          "y": "Disgust",
          "yref": "y"
         },
         {
          "font": {
           "color": "#FFFFFF"
          },
          "showarrow": false,
          "text": "0.07",
          "x": "NonlinearStructure",
          "xref": "x",
          "y": "Disgust",
          "yref": "y"
         },
         {
          "font": {
           "color": "#FFFFFF"
          },
          "showarrow": false,
          "text": "0.03",
          "x": "ParallelStructure",
          "xref": "x",
          "y": "Disgust",
          "yref": "y"
         },
         {
          "font": {
           "color": "#FFFFFF"
          },
          "showarrow": false,
          "text": "0.05",
          "x": "CircularStructure",
          "xref": "x",
          "y": "Disgust",
          "yref": "y"
         },
         {
          "font": {
           "color": "#FFFFFF"
          },
          "showarrow": false,
          "text": "-0.0",
          "x": "OpenEndedStructre",
          "xref": "x",
          "y": "Disgust",
          "yref": "y"
         },
         {
          "font": {
           "color": "#FFFFFF"
          },
          "showarrow": false,
          "text": "-0.02",
          "x": "InMediasStructure",
          "xref": "x",
          "y": "Disgust",
          "yref": "y"
         },
         {
          "font": {
           "color": "#FFFFFF"
          },
          "showarrow": false,
          "text": "0.02",
          "x": "ExperimentalStructure",
          "xref": "x",
          "y": "Disgust",
          "yref": "y"
         },
         {
          "font": {
           "color": "#FFFFFF"
          },
          "showarrow": false,
          "text": "0.1",
          "x": "Rating",
          "xref": "x",
          "y": "Disgust",
          "yref": "y"
         },
         {
          "font": {
           "color": "#FFFFFF"
          },
          "showarrow": false,
          "text": "-0.04",
          "x": "budget",
          "xref": "x",
          "y": "Disgust",
          "yref": "y"
         },
         {
          "font": {
           "color": "#FFFFFF"
          },
          "showarrow": false,
          "text": "-0.04",
          "x": "collections",
          "xref": "x",
          "y": "Disgust",
          "yref": "y"
         },
         {
          "font": {
           "color": "#000000"
          },
          "showarrow": false,
          "text": "0.8",
          "x": "NumberOfScenes",
          "xref": "x",
          "y": "Joy",
          "yref": "y"
         },
         {
          "font": {
           "color": "#000000"
          },
          "showarrow": false,
          "text": "0.63",
          "x": "RunTime",
          "xref": "x",
          "y": "Joy",
          "yref": "y"
         },
         {
          "font": {
           "color": "#000000"
          },
          "showarrow": false,
          "text": "0.6",
          "x": "PositiveScenes",
          "xref": "x",
          "y": "Joy",
          "yref": "y"
         },
         {
          "font": {
           "color": "#000000"
          },
          "showarrow": false,
          "text": "0.55",
          "x": "NegativeScenes",
          "xref": "x",
          "y": "Joy",
          "yref": "y"
         },
         {
          "font": {
           "color": "#000000"
          },
          "showarrow": false,
          "text": "0.89",
          "x": "NeutralScenes",
          "xref": "x",
          "y": "Joy",
          "yref": "y"
         },
         {
          "font": {
           "color": "#FFFFFF"
          },
          "showarrow": false,
          "text": "-0.02",
          "x": "SentimentPolarity",
          "xref": "x",
          "y": "Joy",
          "yref": "y"
         },
         {
          "font": {
           "color": "#000000"
          },
          "showarrow": false,
          "text": "0.88",
          "x": "Fear",
          "xref": "x",
          "y": "Joy",
          "yref": "y"
         },
         {
          "font": {
           "color": "#000000"
          },
          "showarrow": false,
          "text": "0.94",
          "x": "Anger",
          "xref": "x",
          "y": "Joy",
          "yref": "y"
         },
         {
          "font": {
           "color": "#000000"
          },
          "showarrow": false,
          "text": "0.69",
          "x": "Anticipation",
          "xref": "x",
          "y": "Joy",
          "yref": "y"
         },
         {
          "font": {
           "color": "#000000"
          },
          "showarrow": false,
          "text": "0.92",
          "x": "Trust",
          "xref": "x",
          "y": "Joy",
          "yref": "y"
         },
         {
          "font": {
           "color": "#000000"
          },
          "showarrow": false,
          "text": "0.96",
          "x": "Surprise",
          "xref": "x",
          "y": "Joy",
          "yref": "y"
         },
         {
          "font": {
           "color": "#000000"
          },
          "showarrow": false,
          "text": "0.85",
          "x": "Positive",
          "xref": "x",
          "y": "Joy",
          "yref": "y"
         },
         {
          "font": {
           "color": "#000000"
          },
          "showarrow": false,
          "text": "0.76",
          "x": "Negative",
          "xref": "x",
          "y": "Joy",
          "yref": "y"
         },
         {
          "font": {
           "color": "#000000"
          },
          "showarrow": false,
          "text": "0.95",
          "x": "Sadness",
          "xref": "x",
          "y": "Joy",
          "yref": "y"
         },
         {
          "font": {
           "color": "#000000"
          },
          "showarrow": false,
          "text": "0.96",
          "x": "Disgust",
          "xref": "x",
          "y": "Joy",
          "yref": "y"
         },
         {
          "font": {
           "color": "#000000"
          },
          "showarrow": false,
          "text": "1.0",
          "x": "Joy",
          "xref": "x",
          "y": "Joy",
          "yref": "y"
         },
         {
          "font": {
           "color": "#FFFFFF"
          },
          "showarrow": false,
          "text": "0.02",
          "x": "NumberOfCharacters",
          "xref": "x",
          "y": "Joy",
          "yref": "y"
         },
         {
          "font": {
           "color": "#FFFFFF"
          },
          "showarrow": false,
          "text": "-0.0",
          "x": "ThreeActStructure",
          "xref": "x",
          "y": "Joy",
          "yref": "y"
         },
         {
          "font": {
           "color": "#FFFFFF"
          },
          "showarrow": false,
          "text": "-0.03",
          "x": "FiveActStructure",
          "xref": "x",
          "y": "Joy",
          "yref": "y"
         },
         {
          "font": {
           "color": "#FFFFFF"
          },
          "showarrow": false,
          "text": "-0.06",
          "x": "HeroStructure",
          "xref": "x",
          "y": "Joy",
          "yref": "y"
         },
         {
          "font": {
           "color": "#FFFFFF"
          },
          "showarrow": false,
          "text": "0.08",
          "x": "NonlinearStructure",
          "xref": "x",
          "y": "Joy",
          "yref": "y"
         },
         {
          "font": {
           "color": "#FFFFFF"
          },
          "showarrow": false,
          "text": "-0.01",
          "x": "ParallelStructure",
          "xref": "x",
          "y": "Joy",
          "yref": "y"
         },
         {
          "font": {
           "color": "#FFFFFF"
          },
          "showarrow": false,
          "text": "0.03",
          "x": "CircularStructure",
          "xref": "x",
          "y": "Joy",
          "yref": "y"
         },
         {
          "font": {
           "color": "#FFFFFF"
          },
          "showarrow": false,
          "text": "-0.0",
          "x": "OpenEndedStructre",
          "xref": "x",
          "y": "Joy",
          "yref": "y"
         },
         {
          "font": {
           "color": "#FFFFFF"
          },
          "showarrow": false,
          "text": "0.0",
          "x": "InMediasStructure",
          "xref": "x",
          "y": "Joy",
          "yref": "y"
         },
         {
          "font": {
           "color": "#FFFFFF"
          },
          "showarrow": false,
          "text": "-0.0",
          "x": "ExperimentalStructure",
          "xref": "x",
          "y": "Joy",
          "yref": "y"
         },
         {
          "font": {
           "color": "#FFFFFF"
          },
          "showarrow": false,
          "text": "0.12",
          "x": "Rating",
          "xref": "x",
          "y": "Joy",
          "yref": "y"
         },
         {
          "font": {
           "color": "#FFFFFF"
          },
          "showarrow": false,
          "text": "-0.05",
          "x": "budget",
          "xref": "x",
          "y": "Joy",
          "yref": "y"
         },
         {
          "font": {
           "color": "#FFFFFF"
          },
          "showarrow": false,
          "text": "-0.05",
          "x": "collections",
          "xref": "x",
          "y": "Joy",
          "yref": "y"
         },
         {
          "font": {
           "color": "#FFFFFF"
          },
          "showarrow": false,
          "text": "0.07",
          "x": "NumberOfScenes",
          "xref": "x",
          "y": "NumberOfCharacters",
          "yref": "y"
         },
         {
          "font": {
           "color": "#FFFFFF"
          },
          "showarrow": false,
          "text": "0.07",
          "x": "RunTime",
          "xref": "x",
          "y": "NumberOfCharacters",
          "yref": "y"
         },
         {
          "font": {
           "color": "#FFFFFF"
          },
          "showarrow": false,
          "text": "0.11",
          "x": "PositiveScenes",
          "xref": "x",
          "y": "NumberOfCharacters",
          "yref": "y"
         },
         {
          "font": {
           "color": "#FFFFFF"
          },
          "showarrow": false,
          "text": "0.01",
          "x": "NegativeScenes",
          "xref": "x",
          "y": "NumberOfCharacters",
          "yref": "y"
         },
         {
          "font": {
           "color": "#FFFFFF"
          },
          "showarrow": false,
          "text": "0.04",
          "x": "NeutralScenes",
          "xref": "x",
          "y": "NumberOfCharacters",
          "yref": "y"
         },
         {
          "font": {
           "color": "#FFFFFF"
          },
          "showarrow": false,
          "text": "0.05",
          "x": "SentimentPolarity",
          "xref": "x",
          "y": "NumberOfCharacters",
          "yref": "y"
         },
         {
          "font": {
           "color": "#FFFFFF"
          },
          "showarrow": false,
          "text": "0.04",
          "x": "Fear",
          "xref": "x",
          "y": "NumberOfCharacters",
          "yref": "y"
         },
         {
          "font": {
           "color": "#FFFFFF"
          },
          "showarrow": false,
          "text": "0.03",
          "x": "Anger",
          "xref": "x",
          "y": "NumberOfCharacters",
          "yref": "y"
         },
         {
          "font": {
           "color": "#FFFFFF"
          },
          "showarrow": false,
          "text": "0.04",
          "x": "Anticipation",
          "xref": "x",
          "y": "NumberOfCharacters",
          "yref": "y"
         },
         {
          "font": {
           "color": "#FFFFFF"
          },
          "showarrow": false,
          "text": "0.05",
          "x": "Trust",
          "xref": "x",
          "y": "NumberOfCharacters",
          "yref": "y"
         },
         {
          "font": {
           "color": "#FFFFFF"
          },
          "showarrow": false,
          "text": "0.02",
          "x": "Surprise",
          "xref": "x",
          "y": "NumberOfCharacters",
          "yref": "y"
         },
         {
          "font": {
           "color": "#FFFFFF"
          },
          "showarrow": false,
          "text": "0.08",
          "x": "Positive",
          "xref": "x",
          "y": "NumberOfCharacters",
          "yref": "y"
         },
         {
          "font": {
           "color": "#FFFFFF"
          },
          "showarrow": false,
          "text": "0.03",
          "x": "Negative",
          "xref": "x",
          "y": "NumberOfCharacters",
          "yref": "y"
         },
         {
          "font": {
           "color": "#FFFFFF"
          },
          "showarrow": false,
          "text": "-0.0",
          "x": "Sadness",
          "xref": "x",
          "y": "NumberOfCharacters",
          "yref": "y"
         },
         {
          "font": {
           "color": "#FFFFFF"
          },
          "showarrow": false,
          "text": "0.01",
          "x": "Disgust",
          "xref": "x",
          "y": "NumberOfCharacters",
          "yref": "y"
         },
         {
          "font": {
           "color": "#FFFFFF"
          },
          "showarrow": false,
          "text": "0.02",
          "x": "Joy",
          "xref": "x",
          "y": "NumberOfCharacters",
          "yref": "y"
         },
         {
          "font": {
           "color": "#000000"
          },
          "showarrow": false,
          "text": "1.0",
          "x": "NumberOfCharacters",
          "xref": "x",
          "y": "NumberOfCharacters",
          "yref": "y"
         },
         {
          "font": {
           "color": "#FFFFFF"
          },
          "showarrow": false,
          "text": "0.1",
          "x": "ThreeActStructure",
          "xref": "x",
          "y": "NumberOfCharacters",
          "yref": "y"
         },
         {
          "font": {
           "color": "#FFFFFF"
          },
          "showarrow": false,
          "text": "0.11",
          "x": "FiveActStructure",
          "xref": "x",
          "y": "NumberOfCharacters",
          "yref": "y"
         },
         {
          "font": {
           "color": "#FFFFFF"
          },
          "showarrow": false,
          "text": "-0.01",
          "x": "HeroStructure",
          "xref": "x",
          "y": "NumberOfCharacters",
          "yref": "y"
         },
         {
          "font": {
           "color": "#FFFFFF"
          },
          "showarrow": false,
          "text": "-0.0",
          "x": "NonlinearStructure",
          "xref": "x",
          "y": "NumberOfCharacters",
          "yref": "y"
         },
         {
          "font": {
           "color": "#FFFFFF"
          },
          "showarrow": false,
          "text": "-0.01",
          "x": "ParallelStructure",
          "xref": "x",
          "y": "NumberOfCharacters",
          "yref": "y"
         },
         {
          "font": {
           "color": "#FFFFFF"
          },
          "showarrow": false,
          "text": "0.03",
          "x": "CircularStructure",
          "xref": "x",
          "y": "NumberOfCharacters",
          "yref": "y"
         },
         {
          "font": {
           "color": "#FFFFFF"
          },
          "showarrow": false,
          "text": "0.06",
          "x": "OpenEndedStructre",
          "xref": "x",
          "y": "NumberOfCharacters",
          "yref": "y"
         },
         {
          "font": {
           "color": "#FFFFFF"
          },
          "showarrow": false,
          "text": "0.05",
          "x": "InMediasStructure",
          "xref": "x",
          "y": "NumberOfCharacters",
          "yref": "y"
         },
         {
          "font": {
           "color": "#FFFFFF"
          },
          "showarrow": false,
          "text": "-0.02",
          "x": "ExperimentalStructure",
          "xref": "x",
          "y": "NumberOfCharacters",
          "yref": "y"
         },
         {
          "font": {
           "color": "#FFFFFF"
          },
          "showarrow": false,
          "text": "0.06",
          "x": "Rating",
          "xref": "x",
          "y": "NumberOfCharacters",
          "yref": "y"
         },
         {
          "font": {
           "color": "#FFFFFF"
          },
          "showarrow": false,
          "text": "-0.0",
          "x": "budget",
          "xref": "x",
          "y": "NumberOfCharacters",
          "yref": "y"
         },
         {
          "font": {
           "color": "#FFFFFF"
          },
          "showarrow": false,
          "text": "0.02",
          "x": "collections",
          "xref": "x",
          "y": "NumberOfCharacters",
          "yref": "y"
         },
         {
          "font": {
           "color": "#FFFFFF"
          },
          "showarrow": false,
          "text": "0.08",
          "x": "NumberOfScenes",
          "xref": "x",
          "y": "ThreeActStructure",
          "yref": "y"
         },
         {
          "font": {
           "color": "#FFFFFF"
          },
          "showarrow": false,
          "text": "0.06",
          "x": "RunTime",
          "xref": "x",
          "y": "ThreeActStructure",
          "yref": "y"
         },
         {
          "font": {
           "color": "#FFFFFF"
          },
          "showarrow": false,
          "text": "0.12",
          "x": "PositiveScenes",
          "xref": "x",
          "y": "ThreeActStructure",
          "yref": "y"
         },
         {
          "font": {
           "color": "#FFFFFF"
          },
          "showarrow": false,
          "text": "0.02",
          "x": "NegativeScenes",
          "xref": "x",
          "y": "ThreeActStructure",
          "yref": "y"
         },
         {
          "font": {
           "color": "#FFFFFF"
          },
          "showarrow": false,
          "text": "0.02",
          "x": "NeutralScenes",
          "xref": "x",
          "y": "ThreeActStructure",
          "yref": "y"
         },
         {
          "font": {
           "color": "#FFFFFF"
          },
          "showarrow": false,
          "text": "0.05",
          "x": "SentimentPolarity",
          "xref": "x",
          "y": "ThreeActStructure",
          "yref": "y"
         },
         {
          "font": {
           "color": "#FFFFFF"
          },
          "showarrow": false,
          "text": "0.01",
          "x": "Fear",
          "xref": "x",
          "y": "ThreeActStructure",
          "yref": "y"
         },
         {
          "font": {
           "color": "#FFFFFF"
          },
          "showarrow": false,
          "text": "0.0",
          "x": "Anger",
          "xref": "x",
          "y": "ThreeActStructure",
          "yref": "y"
         },
         {
          "font": {
           "color": "#FFFFFF"
          },
          "showarrow": false,
          "text": "0.06",
          "x": "Anticipation",
          "xref": "x",
          "y": "ThreeActStructure",
          "yref": "y"
         },
         {
          "font": {
           "color": "#FFFFFF"
          },
          "showarrow": false,
          "text": "0.04",
          "x": "Trust",
          "xref": "x",
          "y": "ThreeActStructure",
          "yref": "y"
         },
         {
          "font": {
           "color": "#FFFFFF"
          },
          "showarrow": false,
          "text": "0.0",
          "x": "Surprise",
          "xref": "x",
          "y": "ThreeActStructure",
          "yref": "y"
         },
         {
          "font": {
           "color": "#FFFFFF"
          },
          "showarrow": false,
          "text": "0.09",
          "x": "Positive",
          "xref": "x",
          "y": "ThreeActStructure",
          "yref": "y"
         },
         {
          "font": {
           "color": "#FFFFFF"
          },
          "showarrow": false,
          "text": "0.03",
          "x": "Negative",
          "xref": "x",
          "y": "ThreeActStructure",
          "yref": "y"
         },
         {
          "font": {
           "color": "#FFFFFF"
          },
          "showarrow": false,
          "text": "-0.0",
          "x": "Sadness",
          "xref": "x",
          "y": "ThreeActStructure",
          "yref": "y"
         },
         {
          "font": {
           "color": "#FFFFFF"
          },
          "showarrow": false,
          "text": "-0.02",
          "x": "Disgust",
          "xref": "x",
          "y": "ThreeActStructure",
          "yref": "y"
         },
         {
          "font": {
           "color": "#FFFFFF"
          },
          "showarrow": false,
          "text": "-0.0",
          "x": "Joy",
          "xref": "x",
          "y": "ThreeActStructure",
          "yref": "y"
         },
         {
          "font": {
           "color": "#FFFFFF"
          },
          "showarrow": false,
          "text": "0.1",
          "x": "NumberOfCharacters",
          "xref": "x",
          "y": "ThreeActStructure",
          "yref": "y"
         },
         {
          "font": {
           "color": "#000000"
          },
          "showarrow": false,
          "text": "1.0",
          "x": "ThreeActStructure",
          "xref": "x",
          "y": "ThreeActStructure",
          "yref": "y"
         },
         {
          "font": {
           "color": "#000000"
          },
          "showarrow": false,
          "text": "0.44",
          "x": "FiveActStructure",
          "xref": "x",
          "y": "ThreeActStructure",
          "yref": "y"
         },
         {
          "font": {
           "color": "#FFFFFF"
          },
          "showarrow": false,
          "text": "0.03",
          "x": "HeroStructure",
          "xref": "x",
          "y": "ThreeActStructure",
          "yref": "y"
         },
         {
          "font": {
           "color": "#FFFFFF"
          },
          "showarrow": false,
          "text": "0.06",
          "x": "NonlinearStructure",
          "xref": "x",
          "y": "ThreeActStructure",
          "yref": "y"
         },
         {
          "font": {
           "color": "#FFFFFF"
          },
          "showarrow": false,
          "text": "0.06",
          "x": "ParallelStructure",
          "xref": "x",
          "y": "ThreeActStructure",
          "yref": "y"
         },
         {
          "font": {
           "color": "#FFFFFF"
          },
          "showarrow": false,
          "text": "0.1",
          "x": "CircularStructure",
          "xref": "x",
          "y": "ThreeActStructure",
          "yref": "y"
         },
         {
          "font": {
           "color": "#FFFFFF"
          },
          "showarrow": false,
          "text": "0.08",
          "x": "OpenEndedStructre",
          "xref": "x",
          "y": "ThreeActStructure",
          "yref": "y"
         },
         {
          "font": {
           "color": "#FFFFFF"
          },
          "showarrow": false,
          "text": "-0.04",
          "x": "InMediasStructure",
          "xref": "x",
          "y": "ThreeActStructure",
          "yref": "y"
         },
         {
          "font": {
           "color": "#FFFFFF"
          },
          "showarrow": false,
          "text": "0.13",
          "x": "ExperimentalStructure",
          "xref": "x",
          "y": "ThreeActStructure",
          "yref": "y"
         },
         {
          "font": {
           "color": "#FFFFFF"
          },
          "showarrow": false,
          "text": "0.06",
          "x": "Rating",
          "xref": "x",
          "y": "ThreeActStructure",
          "yref": "y"
         },
         {
          "font": {
           "color": "#FFFFFF"
          },
          "showarrow": false,
          "text": "-0.03",
          "x": "budget",
          "xref": "x",
          "y": "ThreeActStructure",
          "yref": "y"
         },
         {
          "font": {
           "color": "#FFFFFF"
          },
          "showarrow": false,
          "text": "-0.01",
          "x": "collections",
          "xref": "x",
          "y": "ThreeActStructure",
          "yref": "y"
         },
         {
          "font": {
           "color": "#FFFFFF"
          },
          "showarrow": false,
          "text": "0.02",
          "x": "NumberOfScenes",
          "xref": "x",
          "y": "FiveActStructure",
          "yref": "y"
         },
         {
          "font": {
           "color": "#FFFFFF"
          },
          "showarrow": false,
          "text": "0.02",
          "x": "RunTime",
          "xref": "x",
          "y": "FiveActStructure",
          "yref": "y"
         },
         {
          "font": {
           "color": "#FFFFFF"
          },
          "showarrow": false,
          "text": "0.1",
          "x": "PositiveScenes",
          "xref": "x",
          "y": "FiveActStructure",
          "yref": "y"
         },
         {
          "font": {
           "color": "#FFFFFF"
          },
          "showarrow": false,
          "text": "-0.05",
          "x": "NegativeScenes",
          "xref": "x",
          "y": "FiveActStructure",
          "yref": "y"
         },
         {
          "font": {
           "color": "#FFFFFF"
          },
          "showarrow": false,
          "text": "-0.02",
          "x": "NeutralScenes",
          "xref": "x",
          "y": "FiveActStructure",
          "yref": "y"
         },
         {
          "font": {
           "color": "#FFFFFF"
          },
          "showarrow": false,
          "text": "0.08",
          "x": "SentimentPolarity",
          "xref": "x",
          "y": "FiveActStructure",
          "yref": "y"
         },
         {
          "font": {
           "color": "#FFFFFF"
          },
          "showarrow": false,
          "text": "-0.02",
          "x": "Fear",
          "xref": "x",
          "y": "FiveActStructure",
          "yref": "y"
         },
         {
          "font": {
           "color": "#FFFFFF"
          },
          "showarrow": false,
          "text": "-0.01",
          "x": "Anger",
          "xref": "x",
          "y": "FiveActStructure",
          "yref": "y"
         },
         {
          "font": {
           "color": "#FFFFFF"
          },
          "showarrow": false,
          "text": "0.02",
          "x": "Anticipation",
          "xref": "x",
          "y": "FiveActStructure",
          "yref": "y"
         },
         {
          "font": {
           "color": "#FFFFFF"
          },
          "showarrow": false,
          "text": "-0.0",
          "x": "Trust",
          "xref": "x",
          "y": "FiveActStructure",
          "yref": "y"
         },
         {
          "font": {
           "color": "#FFFFFF"
          },
          "showarrow": false,
          "text": "-0.01",
          "x": "Surprise",
          "xref": "x",
          "y": "FiveActStructure",
          "yref": "y"
         },
         {
          "font": {
           "color": "#FFFFFF"
          },
          "showarrow": false,
          "text": "0.08",
          "x": "Positive",
          "xref": "x",
          "y": "FiveActStructure",
          "yref": "y"
         },
         {
          "font": {
           "color": "#FFFFFF"
          },
          "showarrow": false,
          "text": "-0.03",
          "x": "Negative",
          "xref": "x",
          "y": "FiveActStructure",
          "yref": "y"
         },
         {
          "font": {
           "color": "#FFFFFF"
          },
          "showarrow": false,
          "text": "-0.02",
          "x": "Sadness",
          "xref": "x",
          "y": "FiveActStructure",
          "yref": "y"
         },
         {
          "font": {
           "color": "#FFFFFF"
          },
          "showarrow": false,
          "text": "-0.03",
          "x": "Disgust",
          "xref": "x",
          "y": "FiveActStructure",
          "yref": "y"
         },
         {
          "font": {
           "color": "#FFFFFF"
          },
          "showarrow": false,
          "text": "-0.03",
          "x": "Joy",
          "xref": "x",
          "y": "FiveActStructure",
          "yref": "y"
         },
         {
          "font": {
           "color": "#FFFFFF"
          },
          "showarrow": false,
          "text": "0.11",
          "x": "NumberOfCharacters",
          "xref": "x",
          "y": "FiveActStructure",
          "yref": "y"
         },
         {
          "font": {
           "color": "#000000"
          },
          "showarrow": false,
          "text": "0.44",
          "x": "ThreeActStructure",
          "xref": "x",
          "y": "FiveActStructure",
          "yref": "y"
         },
         {
          "font": {
           "color": "#000000"
          },
          "showarrow": false,
          "text": "1.0",
          "x": "FiveActStructure",
          "xref": "x",
          "y": "FiveActStructure",
          "yref": "y"
         },
         {
          "font": {
           "color": "#FFFFFF"
          },
          "showarrow": false,
          "text": "0.05",
          "x": "HeroStructure",
          "xref": "x",
          "y": "FiveActStructure",
          "yref": "y"
         },
         {
          "font": {
           "color": "#FFFFFF"
          },
          "showarrow": false,
          "text": "0.01",
          "x": "NonlinearStructure",
          "xref": "x",
          "y": "FiveActStructure",
          "yref": "y"
         },
         {
          "font": {
           "color": "#FFFFFF"
          },
          "showarrow": false,
          "text": "0.06",
          "x": "ParallelStructure",
          "xref": "x",
          "y": "FiveActStructure",
          "yref": "y"
         },
         {
          "font": {
           "color": "#FFFFFF"
          },
          "showarrow": false,
          "text": "0.11",
          "x": "CircularStructure",
          "xref": "x",
          "y": "FiveActStructure",
          "yref": "y"
         },
         {
          "font": {
           "color": "#FFFFFF"
          },
          "showarrow": false,
          "text": "-0.0",
          "x": "OpenEndedStructre",
          "xref": "x",
          "y": "FiveActStructure",
          "yref": "y"
         },
         {
          "font": {
           "color": "#FFFFFF"
          },
          "showarrow": false,
          "text": "-0.03",
          "x": "InMediasStructure",
          "xref": "x",
          "y": "FiveActStructure",
          "yref": "y"
         },
         {
          "font": {
           "color": "#FFFFFF"
          },
          "showarrow": false,
          "text": "0.11",
          "x": "ExperimentalStructure",
          "xref": "x",
          "y": "FiveActStructure",
          "yref": "y"
         },
         {
          "font": {
           "color": "#FFFFFF"
          },
          "showarrow": false,
          "text": "0.0",
          "x": "Rating",
          "xref": "x",
          "y": "FiveActStructure",
          "yref": "y"
         },
         {
          "font": {
           "color": "#FFFFFF"
          },
          "showarrow": false,
          "text": "0.0",
          "x": "budget",
          "xref": "x",
          "y": "FiveActStructure",
          "yref": "y"
         },
         {
          "font": {
           "color": "#FFFFFF"
          },
          "showarrow": false,
          "text": "0.02",
          "x": "collections",
          "xref": "x",
          "y": "FiveActStructure",
          "yref": "y"
         },
         {
          "font": {
           "color": "#FFFFFF"
          },
          "showarrow": false,
          "text": "0.07",
          "x": "NumberOfScenes",
          "xref": "x",
          "y": "HeroStructure",
          "yref": "y"
         },
         {
          "font": {
           "color": "#FFFFFF"
          },
          "showarrow": false,
          "text": "0.06",
          "x": "RunTime",
          "xref": "x",
          "y": "HeroStructure",
          "yref": "y"
         },
         {
          "font": {
           "color": "#FFFFFF"
          },
          "showarrow": false,
          "text": "0.08",
          "x": "PositiveScenes",
          "xref": "x",
          "y": "HeroStructure",
          "yref": "y"
         },
         {
          "font": {
           "color": "#FFFFFF"
          },
          "showarrow": false,
          "text": "0.07",
          "x": "NegativeScenes",
          "xref": "x",
          "y": "HeroStructure",
          "yref": "y"
         },
         {
          "font": {
           "color": "#FFFFFF"
          },
          "showarrow": false,
          "text": "-0.03",
          "x": "NeutralScenes",
          "xref": "x",
          "y": "HeroStructure",
          "yref": "y"
         },
         {
          "font": {
           "color": "#FFFFFF"
          },
          "showarrow": false,
          "text": "0.01",
          "x": "SentimentPolarity",
          "xref": "x",
          "y": "HeroStructure",
          "yref": "y"
         },
         {
          "font": {
           "color": "#FFFFFF"
          },
          "showarrow": false,
          "text": "0.01",
          "x": "Fear",
          "xref": "x",
          "y": "HeroStructure",
          "yref": "y"
         },
         {
          "font": {
           "color": "#FFFFFF"
          },
          "showarrow": false,
          "text": "-0.02",
          "x": "Anger",
          "xref": "x",
          "y": "HeroStructure",
          "yref": "y"
         },
         {
          "font": {
           "color": "#FFFFFF"
          },
          "showarrow": false,
          "text": "0.04",
          "x": "Anticipation",
          "xref": "x",
          "y": "HeroStructure",
          "yref": "y"
         },
         {
          "font": {
           "color": "#FFFFFF"
          },
          "showarrow": false,
          "text": "-0.0",
          "x": "Trust",
          "xref": "x",
          "y": "HeroStructure",
          "yref": "y"
         },
         {
          "font": {
           "color": "#FFFFFF"
          },
          "showarrow": false,
          "text": "-0.03",
          "x": "Surprise",
          "xref": "x",
          "y": "HeroStructure",
          "yref": "y"
         },
         {
          "font": {
           "color": "#FFFFFF"
          },
          "showarrow": false,
          "text": "0.03",
          "x": "Positive",
          "xref": "x",
          "y": "HeroStructure",
          "yref": "y"
         },
         {
          "font": {
           "color": "#FFFFFF"
          },
          "showarrow": false,
          "text": "0.04",
          "x": "Negative",
          "xref": "x",
          "y": "HeroStructure",
          "yref": "y"
         },
         {
          "font": {
           "color": "#FFFFFF"
          },
          "showarrow": false,
          "text": "-0.02",
          "x": "Sadness",
          "xref": "x",
          "y": "HeroStructure",
          "yref": "y"
         },
         {
          "font": {
           "color": "#FFFFFF"
          },
          "showarrow": false,
          "text": "-0.03",
          "x": "Disgust",
          "xref": "x",
          "y": "HeroStructure",
          "yref": "y"
         },
         {
          "font": {
           "color": "#FFFFFF"
          },
          "showarrow": false,
          "text": "-0.06",
          "x": "Joy",
          "xref": "x",
          "y": "HeroStructure",
          "yref": "y"
         },
         {
          "font": {
           "color": "#FFFFFF"
          },
          "showarrow": false,
          "text": "-0.01",
          "x": "NumberOfCharacters",
          "xref": "x",
          "y": "HeroStructure",
          "yref": "y"
         },
         {
          "font": {
           "color": "#FFFFFF"
          },
          "showarrow": false,
          "text": "0.03",
          "x": "ThreeActStructure",
          "xref": "x",
          "y": "HeroStructure",
          "yref": "y"
         },
         {
          "font": {
           "color": "#FFFFFF"
          },
          "showarrow": false,
          "text": "0.05",
          "x": "FiveActStructure",
          "xref": "x",
          "y": "HeroStructure",
          "yref": "y"
         },
         {
          "font": {
           "color": "#000000"
          },
          "showarrow": false,
          "text": "1.0",
          "x": "HeroStructure",
          "xref": "x",
          "y": "HeroStructure",
          "yref": "y"
         },
         {
          "font": {
           "color": "#FFFFFF"
          },
          "showarrow": false,
          "text": "0.02",
          "x": "NonlinearStructure",
          "xref": "x",
          "y": "HeroStructure",
          "yref": "y"
         },
         {
          "font": {
           "color": "#FFFFFF"
          },
          "showarrow": false,
          "text": "0.05",
          "x": "ParallelStructure",
          "xref": "x",
          "y": "HeroStructure",
          "yref": "y"
         },
         {
          "font": {
           "color": "#FFFFFF"
          },
          "showarrow": false,
          "text": "0.05",
          "x": "CircularStructure",
          "xref": "x",
          "y": "HeroStructure",
          "yref": "y"
         },
         {
          "font": {
           "color": "#FFFFFF"
          },
          "showarrow": false,
          "text": "-0.01",
          "x": "OpenEndedStructre",
          "xref": "x",
          "y": "HeroStructure",
          "yref": "y"
         },
         {
          "font": {
           "color": "#FFFFFF"
          },
          "showarrow": false,
          "text": "0.01",
          "x": "InMediasStructure",
          "xref": "x",
          "y": "HeroStructure",
          "yref": "y"
         },
         {
          "font": {
           "color": "#FFFFFF"
          },
          "showarrow": false,
          "text": "0.02",
          "x": "ExperimentalStructure",
          "xref": "x",
          "y": "HeroStructure",
          "yref": "y"
         },
         {
          "font": {
           "color": "#FFFFFF"
          },
          "showarrow": false,
          "text": "0.0",
          "x": "Rating",
          "xref": "x",
          "y": "HeroStructure",
          "yref": "y"
         },
         {
          "font": {
           "color": "#FFFFFF"
          },
          "showarrow": false,
          "text": "0.02",
          "x": "budget",
          "xref": "x",
          "y": "HeroStructure",
          "yref": "y"
         },
         {
          "font": {
           "color": "#FFFFFF"
          },
          "showarrow": false,
          "text": "0.02",
          "x": "collections",
          "xref": "x",
          "y": "HeroStructure",
          "yref": "y"
         },
         {
          "font": {
           "color": "#FFFFFF"
          },
          "showarrow": false,
          "text": "0.1",
          "x": "NumberOfScenes",
          "xref": "x",
          "y": "NonlinearStructure",
          "yref": "y"
         },
         {
          "font": {
           "color": "#FFFFFF"
          },
          "showarrow": false,
          "text": "0.07",
          "x": "RunTime",
          "xref": "x",
          "y": "NonlinearStructure",
          "yref": "y"
         },
         {
          "font": {
           "color": "#FFFFFF"
          },
          "showarrow": false,
          "text": "0.09",
          "x": "PositiveScenes",
          "xref": "x",
          "y": "NonlinearStructure",
          "yref": "y"
         },
         {
          "font": {
           "color": "#FFFFFF"
          },
          "showarrow": false,
          "text": "0.09",
          "x": "NegativeScenes",
          "xref": "x",
          "y": "NonlinearStructure",
          "yref": "y"
         },
         {
          "font": {
           "color": "#FFFFFF"
          },
          "showarrow": false,
          "text": "0.06",
          "x": "NeutralScenes",
          "xref": "x",
          "y": "NonlinearStructure",
          "yref": "y"
         },
         {
          "font": {
           "color": "#FFFFFF"
          },
          "showarrow": false,
          "text": "-0.01",
          "x": "SentimentPolarity",
          "xref": "x",
          "y": "NonlinearStructure",
          "yref": "y"
         },
         {
          "font": {
           "color": "#FFFFFF"
          },
          "showarrow": false,
          "text": "0.1",
          "x": "Fear",
          "xref": "x",
          "y": "NonlinearStructure",
          "yref": "y"
         },
         {
          "font": {
           "color": "#FFFFFF"
          },
          "showarrow": false,
          "text": "0.08",
          "x": "Anger",
          "xref": "x",
          "y": "NonlinearStructure",
          "yref": "y"
         },
         {
          "font": {
           "color": "#FFFFFF"
          },
          "showarrow": false,
          "text": "0.06",
          "x": "Anticipation",
          "xref": "x",
          "y": "NonlinearStructure",
          "yref": "y"
         },
         {
          "font": {
           "color": "#FFFFFF"
          },
          "showarrow": false,
          "text": "0.09",
          "x": "Trust",
          "xref": "x",
          "y": "NonlinearStructure",
          "yref": "y"
         },
         {
          "font": {
           "color": "#FFFFFF"
          },
          "showarrow": false,
          "text": "0.07",
          "x": "Surprise",
          "xref": "x",
          "y": "NonlinearStructure",
          "yref": "y"
         },
         {
          "font": {
           "color": "#FFFFFF"
          },
          "showarrow": false,
          "text": "0.07",
          "x": "Positive",
          "xref": "x",
          "y": "NonlinearStructure",
          "yref": "y"
         },
         {
          "font": {
           "color": "#FFFFFF"
          },
          "showarrow": false,
          "text": "0.12",
          "x": "Negative",
          "xref": "x",
          "y": "NonlinearStructure",
          "yref": "y"
         },
         {
          "font": {
           "color": "#FFFFFF"
          },
          "showarrow": false,
          "text": "0.09",
          "x": "Sadness",
          "xref": "x",
          "y": "NonlinearStructure",
          "yref": "y"
         },
         {
          "font": {
           "color": "#FFFFFF"
          },
          "showarrow": false,
          "text": "0.07",
          "x": "Disgust",
          "xref": "x",
          "y": "NonlinearStructure",
          "yref": "y"
         },
         {
          "font": {
           "color": "#FFFFFF"
          },
          "showarrow": false,
          "text": "0.08",
          "x": "Joy",
          "xref": "x",
          "y": "NonlinearStructure",
          "yref": "y"
         },
         {
          "font": {
           "color": "#FFFFFF"
          },
          "showarrow": false,
          "text": "-0.0",
          "x": "NumberOfCharacters",
          "xref": "x",
          "y": "NonlinearStructure",
          "yref": "y"
         },
         {
          "font": {
           "color": "#FFFFFF"
          },
          "showarrow": false,
          "text": "0.06",
          "x": "ThreeActStructure",
          "xref": "x",
          "y": "NonlinearStructure",
          "yref": "y"
         },
         {
          "font": {
           "color": "#FFFFFF"
          },
          "showarrow": false,
          "text": "0.01",
          "x": "FiveActStructure",
          "xref": "x",
          "y": "NonlinearStructure",
          "yref": "y"
         },
         {
          "font": {
           "color": "#FFFFFF"
          },
          "showarrow": false,
          "text": "0.02",
          "x": "HeroStructure",
          "xref": "x",
          "y": "NonlinearStructure",
          "yref": "y"
         },
         {
          "font": {
           "color": "#000000"
          },
          "showarrow": false,
          "text": "1.0",
          "x": "NonlinearStructure",
          "xref": "x",
          "y": "NonlinearStructure",
          "yref": "y"
         },
         {
          "font": {
           "color": "#FFFFFF"
          },
          "showarrow": false,
          "text": "0.02",
          "x": "ParallelStructure",
          "xref": "x",
          "y": "NonlinearStructure",
          "yref": "y"
         },
         {
          "font": {
           "color": "#FFFFFF"
          },
          "showarrow": false,
          "text": "0.03",
          "x": "CircularStructure",
          "xref": "x",
          "y": "NonlinearStructure",
          "yref": "y"
         },
         {
          "font": {
           "color": "#FFFFFF"
          },
          "showarrow": false,
          "text": "0.04",
          "x": "OpenEndedStructre",
          "xref": "x",
          "y": "NonlinearStructure",
          "yref": "y"
         },
         {
          "font": {
           "color": "#FFFFFF"
          },
          "showarrow": false,
          "text": "-0.02",
          "x": "InMediasStructure",
          "xref": "x",
          "y": "NonlinearStructure",
          "yref": "y"
         },
         {
          "font": {
           "color": "#FFFFFF"
          },
          "showarrow": false,
          "text": "0.03",
          "x": "ExperimentalStructure",
          "xref": "x",
          "y": "NonlinearStructure",
          "yref": "y"
         },
         {
          "font": {
           "color": "#FFFFFF"
          },
          "showarrow": false,
          "text": "0.01",
          "x": "Rating",
          "xref": "x",
          "y": "NonlinearStructure",
          "yref": "y"
         },
         {
          "font": {
           "color": "#FFFFFF"
          },
          "showarrow": false,
          "text": "-0.01",
          "x": "budget",
          "xref": "x",
          "y": "NonlinearStructure",
          "yref": "y"
         },
         {
          "font": {
           "color": "#FFFFFF"
          },
          "showarrow": false,
          "text": "-0.02",
          "x": "collections",
          "xref": "x",
          "y": "NonlinearStructure",
          "yref": "y"
         },
         {
          "font": {
           "color": "#FFFFFF"
          },
          "showarrow": false,
          "text": "0.08",
          "x": "NumberOfScenes",
          "xref": "x",
          "y": "ParallelStructure",
          "yref": "y"
         },
         {
          "font": {
           "color": "#FFFFFF"
          },
          "showarrow": false,
          "text": "0.02",
          "x": "RunTime",
          "xref": "x",
          "y": "ParallelStructure",
          "yref": "y"
         },
         {
          "font": {
           "color": "#FFFFFF"
          },
          "showarrow": false,
          "text": "0.02",
          "x": "PositiveScenes",
          "xref": "x",
          "y": "ParallelStructure",
          "yref": "y"
         },
         {
          "font": {
           "color": "#FFFFFF"
          },
          "showarrow": false,
          "text": "0.12",
          "x": "NegativeScenes",
          "xref": "x",
          "y": "ParallelStructure",
          "yref": "y"
         },
         {
          "font": {
           "color": "#FFFFFF"
          },
          "showarrow": false,
          "text": "0.06",
          "x": "NeutralScenes",
          "xref": "x",
          "y": "ParallelStructure",
          "yref": "y"
         },
         {
          "font": {
           "color": "#FFFFFF"
          },
          "showarrow": false,
          "text": "-0.08",
          "x": "SentimentPolarity",
          "xref": "x",
          "y": "ParallelStructure",
          "yref": "y"
         },
         {
          "font": {
           "color": "#FFFFFF"
          },
          "showarrow": false,
          "text": "0.08",
          "x": "Fear",
          "xref": "x",
          "y": "ParallelStructure",
          "yref": "y"
         },
         {
          "font": {
           "color": "#FFFFFF"
          },
          "showarrow": false,
          "text": "0.06",
          "x": "Anger",
          "xref": "x",
          "y": "ParallelStructure",
          "yref": "y"
         },
         {
          "font": {
           "color": "#FFFFFF"
          },
          "showarrow": false,
          "text": "0.03",
          "x": "Anticipation",
          "xref": "x",
          "y": "ParallelStructure",
          "yref": "y"
         },
         {
          "font": {
           "color": "#FFFFFF"
          },
          "showarrow": false,
          "text": "0.06",
          "x": "Trust",
          "xref": "x",
          "y": "ParallelStructure",
          "yref": "y"
         },
         {
          "font": {
           "color": "#FFFFFF"
          },
          "showarrow": false,
          "text": "0.02",
          "x": "Surprise",
          "xref": "x",
          "y": "ParallelStructure",
          "yref": "y"
         },
         {
          "font": {
           "color": "#FFFFFF"
          },
          "showarrow": false,
          "text": "0.03",
          "x": "Positive",
          "xref": "x",
          "y": "ParallelStructure",
          "yref": "y"
         },
         {
          "font": {
           "color": "#FFFFFF"
          },
          "showarrow": false,
          "text": "0.09",
          "x": "Negative",
          "xref": "x",
          "y": "ParallelStructure",
          "yref": "y"
         },
         {
          "font": {
           "color": "#FFFFFF"
          },
          "showarrow": false,
          "text": "0.03",
          "x": "Sadness",
          "xref": "x",
          "y": "ParallelStructure",
          "yref": "y"
         },
         {
          "font": {
           "color": "#FFFFFF"
          },
          "showarrow": false,
          "text": "0.03",
          "x": "Disgust",
          "xref": "x",
          "y": "ParallelStructure",
          "yref": "y"
         },
         {
          "font": {
           "color": "#FFFFFF"
          },
          "showarrow": false,
          "text": "-0.01",
          "x": "Joy",
          "xref": "x",
          "y": "ParallelStructure",
          "yref": "y"
         },
         {
          "font": {
           "color": "#FFFFFF"
          },
          "showarrow": false,
          "text": "-0.01",
          "x": "NumberOfCharacters",
          "xref": "x",
          "y": "ParallelStructure",
          "yref": "y"
         },
         {
          "font": {
           "color": "#FFFFFF"
          },
          "showarrow": false,
          "text": "0.06",
          "x": "ThreeActStructure",
          "xref": "x",
          "y": "ParallelStructure",
          "yref": "y"
         },
         {
          "font": {
           "color": "#FFFFFF"
          },
          "showarrow": false,
          "text": "0.06",
          "x": "FiveActStructure",
          "xref": "x",
          "y": "ParallelStructure",
          "yref": "y"
         },
         {
          "font": {
           "color": "#FFFFFF"
          },
          "showarrow": false,
          "text": "0.05",
          "x": "HeroStructure",
          "xref": "x",
          "y": "ParallelStructure",
          "yref": "y"
         },
         {
          "font": {
           "color": "#FFFFFF"
          },
          "showarrow": false,
          "text": "0.02",
          "x": "NonlinearStructure",
          "xref": "x",
          "y": "ParallelStructure",
          "yref": "y"
         },
         {
          "font": {
           "color": "#000000"
          },
          "showarrow": false,
          "text": "1.0",
          "x": "ParallelStructure",
          "xref": "x",
          "y": "ParallelStructure",
          "yref": "y"
         },
         {
          "font": {
           "color": "#FFFFFF"
          },
          "showarrow": false,
          "text": "0.04",
          "x": "CircularStructure",
          "xref": "x",
          "y": "ParallelStructure",
          "yref": "y"
         },
         {
          "font": {
           "color": "#FFFFFF"
          },
          "showarrow": false,
          "text": "0.03",
          "x": "OpenEndedStructre",
          "xref": "x",
          "y": "ParallelStructure",
          "yref": "y"
         },
         {
          "font": {
           "color": "#FFFFFF"
          },
          "showarrow": false,
          "text": "-0.01",
          "x": "InMediasStructure",
          "xref": "x",
          "y": "ParallelStructure",
          "yref": "y"
         },
         {
          "font": {
           "color": "#FFFFFF"
          },
          "showarrow": false,
          "text": "-0.01",
          "x": "ExperimentalStructure",
          "xref": "x",
          "y": "ParallelStructure",
          "yref": "y"
         },
         {
          "font": {
           "color": "#FFFFFF"
          },
          "showarrow": false,
          "text": "-0.04",
          "x": "Rating",
          "xref": "x",
          "y": "ParallelStructure",
          "yref": "y"
         },
         {
          "font": {
           "color": "#FFFFFF"
          },
          "showarrow": false,
          "text": "-0.03",
          "x": "budget",
          "xref": "x",
          "y": "ParallelStructure",
          "yref": "y"
         },
         {
          "font": {
           "color": "#FFFFFF"
          },
          "showarrow": false,
          "text": "-0.02",
          "x": "collections",
          "xref": "x",
          "y": "ParallelStructure",
          "yref": "y"
         },
         {
          "font": {
           "color": "#FFFFFF"
          },
          "showarrow": false,
          "text": "0.12",
          "x": "NumberOfScenes",
          "xref": "x",
          "y": "CircularStructure",
          "yref": "y"
         },
         {
          "font": {
           "color": "#FFFFFF"
          },
          "showarrow": false,
          "text": "0.1",
          "x": "RunTime",
          "xref": "x",
          "y": "CircularStructure",
          "yref": "y"
         },
         {
          "font": {
           "color": "#FFFFFF"
          },
          "showarrow": false,
          "text": "0.1",
          "x": "PositiveScenes",
          "xref": "x",
          "y": "CircularStructure",
          "yref": "y"
         },
         {
          "font": {
           "color": "#FFFFFF"
          },
          "showarrow": false,
          "text": "0.13",
          "x": "NegativeScenes",
          "xref": "x",
          "y": "CircularStructure",
          "yref": "y"
         },
         {
          "font": {
           "color": "#FFFFFF"
          },
          "showarrow": false,
          "text": "0.06",
          "x": "NeutralScenes",
          "xref": "x",
          "y": "CircularStructure",
          "yref": "y"
         },
         {
          "font": {
           "color": "#FFFFFF"
          },
          "showarrow": false,
          "text": "-0.07",
          "x": "SentimentPolarity",
          "xref": "x",
          "y": "CircularStructure",
          "yref": "y"
         },
         {
          "font": {
           "color": "#FFFFFF"
          },
          "showarrow": false,
          "text": "0.1",
          "x": "Fear",
          "xref": "x",
          "y": "CircularStructure",
          "yref": "y"
         },
         {
          "font": {
           "color": "#FFFFFF"
          },
          "showarrow": false,
          "text": "0.08",
          "x": "Anger",
          "xref": "x",
          "y": "CircularStructure",
          "yref": "y"
         },
         {
          "font": {
           "color": "#FFFFFF"
          },
          "showarrow": false,
          "text": "0.08",
          "x": "Anticipation",
          "xref": "x",
          "y": "CircularStructure",
          "yref": "y"
         },
         {
          "font": {
           "color": "#FFFFFF"
          },
          "showarrow": false,
          "text": "0.07",
          "x": "Trust",
          "xref": "x",
          "y": "CircularStructure",
          "yref": "y"
         },
         {
          "font": {
           "color": "#FFFFFF"
          },
          "showarrow": false,
          "text": "0.06",
          "x": "Surprise",
          "xref": "x",
          "y": "CircularStructure",
          "yref": "y"
         },
         {
          "font": {
           "color": "#FFFFFF"
          },
          "showarrow": false,
          "text": "0.07",
          "x": "Positive",
          "xref": "x",
          "y": "CircularStructure",
          "yref": "y"
         },
         {
          "font": {
           "color": "#FFFFFF"
          },
          "showarrow": false,
          "text": "0.14",
          "x": "Negative",
          "xref": "x",
          "y": "CircularStructure",
          "yref": "y"
         },
         {
          "font": {
           "color": "#FFFFFF"
          },
          "showarrow": false,
          "text": "0.06",
          "x": "Sadness",
          "xref": "x",
          "y": "CircularStructure",
          "yref": "y"
         },
         {
          "font": {
           "color": "#FFFFFF"
          },
          "showarrow": false,
          "text": "0.05",
          "x": "Disgust",
          "xref": "x",
          "y": "CircularStructure",
          "yref": "y"
         },
         {
          "font": {
           "color": "#FFFFFF"
          },
          "showarrow": false,
          "text": "0.03",
          "x": "Joy",
          "xref": "x",
          "y": "CircularStructure",
          "yref": "y"
         },
         {
          "font": {
           "color": "#FFFFFF"
          },
          "showarrow": false,
          "text": "0.03",
          "x": "NumberOfCharacters",
          "xref": "x",
          "y": "CircularStructure",
          "yref": "y"
         },
         {
          "font": {
           "color": "#FFFFFF"
          },
          "showarrow": false,
          "text": "0.1",
          "x": "ThreeActStructure",
          "xref": "x",
          "y": "CircularStructure",
          "yref": "y"
         },
         {
          "font": {
           "color": "#FFFFFF"
          },
          "showarrow": false,
          "text": "0.11",
          "x": "FiveActStructure",
          "xref": "x",
          "y": "CircularStructure",
          "yref": "y"
         },
         {
          "font": {
           "color": "#FFFFFF"
          },
          "showarrow": false,
          "text": "0.05",
          "x": "HeroStructure",
          "xref": "x",
          "y": "CircularStructure",
          "yref": "y"
         },
         {
          "font": {
           "color": "#FFFFFF"
          },
          "showarrow": false,
          "text": "0.03",
          "x": "NonlinearStructure",
          "xref": "x",
          "y": "CircularStructure",
          "yref": "y"
         },
         {
          "font": {
           "color": "#FFFFFF"
          },
          "showarrow": false,
          "text": "0.04",
          "x": "ParallelStructure",
          "xref": "x",
          "y": "CircularStructure",
          "yref": "y"
         },
         {
          "font": {
           "color": "#000000"
          },
          "showarrow": false,
          "text": "1.0",
          "x": "CircularStructure",
          "xref": "x",
          "y": "CircularStructure",
          "yref": "y"
         },
         {
          "font": {
           "color": "#FFFFFF"
          },
          "showarrow": false,
          "text": "0.05",
          "x": "OpenEndedStructre",
          "xref": "x",
          "y": "CircularStructure",
          "yref": "y"
         },
         {
          "font": {
           "color": "#FFFFFF"
          },
          "showarrow": false,
          "text": "0.02",
          "x": "InMediasStructure",
          "xref": "x",
          "y": "CircularStructure",
          "yref": "y"
         },
         {
          "font": {
           "color": "#FFFFFF"
          },
          "showarrow": false,
          "text": "0.05",
          "x": "ExperimentalStructure",
          "xref": "x",
          "y": "CircularStructure",
          "yref": "y"
         },
         {
          "font": {
           "color": "#FFFFFF"
          },
          "showarrow": false,
          "text": "0.03",
          "x": "Rating",
          "xref": "x",
          "y": "CircularStructure",
          "yref": "y"
         },
         {
          "font": {
           "color": "#FFFFFF"
          },
          "showarrow": false,
          "text": "0.0",
          "x": "budget",
          "xref": "x",
          "y": "CircularStructure",
          "yref": "y"
         },
         {
          "font": {
           "color": "#FFFFFF"
          },
          "showarrow": false,
          "text": "-0.01",
          "x": "collections",
          "xref": "x",
          "y": "CircularStructure",
          "yref": "y"
         },
         {
          "font": {
           "color": "#FFFFFF"
          },
          "showarrow": false,
          "text": "0.01",
          "x": "NumberOfScenes",
          "xref": "x",
          "y": "OpenEndedStructre",
          "yref": "y"
         },
         {
          "font": {
           "color": "#FFFFFF"
          },
          "showarrow": false,
          "text": "0.01",
          "x": "RunTime",
          "xref": "x",
          "y": "OpenEndedStructre",
          "yref": "y"
         },
         {
          "font": {
           "color": "#FFFFFF"
          },
          "showarrow": false,
          "text": "0.04",
          "x": "PositiveScenes",
          "xref": "x",
          "y": "OpenEndedStructre",
          "yref": "y"
         },
         {
          "font": {
           "color": "#FFFFFF"
          },
          "showarrow": false,
          "text": "-0.02",
          "x": "NegativeScenes",
          "xref": "x",
          "y": "OpenEndedStructre",
          "yref": "y"
         },
         {
          "font": {
           "color": "#FFFFFF"
          },
          "showarrow": false,
          "text": "-0.01",
          "x": "NeutralScenes",
          "xref": "x",
          "y": "OpenEndedStructre",
          "yref": "y"
         },
         {
          "font": {
           "color": "#FFFFFF"
          },
          "showarrow": false,
          "text": "0.06",
          "x": "SentimentPolarity",
          "xref": "x",
          "y": "OpenEndedStructre",
          "yref": "y"
         },
         {
          "font": {
           "color": "#FFFFFF"
          },
          "showarrow": false,
          "text": "-0.0",
          "x": "Fear",
          "xref": "x",
          "y": "OpenEndedStructre",
          "yref": "y"
         },
         {
          "font": {
           "color": "#FFFFFF"
          },
          "showarrow": false,
          "text": "-0.01",
          "x": "Anger",
          "xref": "x",
          "y": "OpenEndedStructre",
          "yref": "y"
         },
         {
          "font": {
           "color": "#FFFFFF"
          },
          "showarrow": false,
          "text": "-0.01",
          "x": "Anticipation",
          "xref": "x",
          "y": "OpenEndedStructre",
          "yref": "y"
         },
         {
          "font": {
           "color": "#FFFFFF"
          },
          "showarrow": false,
          "text": "-0.02",
          "x": "Trust",
          "xref": "x",
          "y": "OpenEndedStructre",
          "yref": "y"
         },
         {
          "font": {
           "color": "#FFFFFF"
          },
          "showarrow": false,
          "text": "-0.01",
          "x": "Surprise",
          "xref": "x",
          "y": "OpenEndedStructre",
          "yref": "y"
         },
         {
          "font": {
           "color": "#FFFFFF"
          },
          "showarrow": false,
          "text": "0.04",
          "x": "Positive",
          "xref": "x",
          "y": "OpenEndedStructre",
          "yref": "y"
         },
         {
          "font": {
           "color": "#FFFFFF"
          },
          "showarrow": false,
          "text": "-0.01",
          "x": "Negative",
          "xref": "x",
          "y": "OpenEndedStructre",
          "yref": "y"
         },
         {
          "font": {
           "color": "#FFFFFF"
          },
          "showarrow": false,
          "text": "0.01",
          "x": "Sadness",
          "xref": "x",
          "y": "OpenEndedStructre",
          "yref": "y"
         },
         {
          "font": {
           "color": "#FFFFFF"
          },
          "showarrow": false,
          "text": "-0.0",
          "x": "Disgust",
          "xref": "x",
          "y": "OpenEndedStructre",
          "yref": "y"
         },
         {
          "font": {
           "color": "#FFFFFF"
          },
          "showarrow": false,
          "text": "-0.0",
          "x": "Joy",
          "xref": "x",
          "y": "OpenEndedStructre",
          "yref": "y"
         },
         {
          "font": {
           "color": "#FFFFFF"
          },
          "showarrow": false,
          "text": "0.06",
          "x": "NumberOfCharacters",
          "xref": "x",
          "y": "OpenEndedStructre",
          "yref": "y"
         },
         {
          "font": {
           "color": "#FFFFFF"
          },
          "showarrow": false,
          "text": "0.08",
          "x": "ThreeActStructure",
          "xref": "x",
          "y": "OpenEndedStructre",
          "yref": "y"
         },
         {
          "font": {
           "color": "#FFFFFF"
          },
          "showarrow": false,
          "text": "-0.0",
          "x": "FiveActStructure",
          "xref": "x",
          "y": "OpenEndedStructre",
          "yref": "y"
         },
         {
          "font": {
           "color": "#FFFFFF"
          },
          "showarrow": false,
          "text": "-0.01",
          "x": "HeroStructure",
          "xref": "x",
          "y": "OpenEndedStructre",
          "yref": "y"
         },
         {
          "font": {
           "color": "#FFFFFF"
          },
          "showarrow": false,
          "text": "0.04",
          "x": "NonlinearStructure",
          "xref": "x",
          "y": "OpenEndedStructre",
          "yref": "y"
         },
         {
          "font": {
           "color": "#FFFFFF"
          },
          "showarrow": false,
          "text": "0.03",
          "x": "ParallelStructure",
          "xref": "x",
          "y": "OpenEndedStructre",
          "yref": "y"
         },
         {
          "font": {
           "color": "#FFFFFF"
          },
          "showarrow": false,
          "text": "0.05",
          "x": "CircularStructure",
          "xref": "x",
          "y": "OpenEndedStructre",
          "yref": "y"
         },
         {
          "font": {
           "color": "#000000"
          },
          "showarrow": false,
          "text": "1.0",
          "x": "OpenEndedStructre",
          "xref": "x",
          "y": "OpenEndedStructre",
          "yref": "y"
         },
         {
          "font": {
           "color": "#FFFFFF"
          },
          "showarrow": false,
          "text": "-0.01",
          "x": "InMediasStructure",
          "xref": "x",
          "y": "OpenEndedStructre",
          "yref": "y"
         },
         {
          "font": {
           "color": "#FFFFFF"
          },
          "showarrow": false,
          "text": "0.0",
          "x": "ExperimentalStructure",
          "xref": "x",
          "y": "OpenEndedStructre",
          "yref": "y"
         },
         {
          "font": {
           "color": "#FFFFFF"
          },
          "showarrow": false,
          "text": "-0.02",
          "x": "Rating",
          "xref": "x",
          "y": "OpenEndedStructre",
          "yref": "y"
         },
         {
          "font": {
           "color": "#FFFFFF"
          },
          "showarrow": false,
          "text": "-0.04",
          "x": "budget",
          "xref": "x",
          "y": "OpenEndedStructre",
          "yref": "y"
         },
         {
          "font": {
           "color": "#FFFFFF"
          },
          "showarrow": false,
          "text": "-0.05",
          "x": "collections",
          "xref": "x",
          "y": "OpenEndedStructre",
          "yref": "y"
         },
         {
          "font": {
           "color": "#FFFFFF"
          },
          "showarrow": false,
          "text": "-0.01",
          "x": "NumberOfScenes",
          "xref": "x",
          "y": "InMediasStructure",
          "yref": "y"
         },
         {
          "font": {
           "color": "#FFFFFF"
          },
          "showarrow": false,
          "text": "-0.01",
          "x": "RunTime",
          "xref": "x",
          "y": "InMediasStructure",
          "yref": "y"
         },
         {
          "font": {
           "color": "#FFFFFF"
          },
          "showarrow": false,
          "text": "0.01",
          "x": "PositiveScenes",
          "xref": "x",
          "y": "InMediasStructure",
          "yref": "y"
         },
         {
          "font": {
           "color": "#FFFFFF"
          },
          "showarrow": false,
          "text": "-0.02",
          "x": "NegativeScenes",
          "xref": "x",
          "y": "InMediasStructure",
          "yref": "y"
         },
         {
          "font": {
           "color": "#FFFFFF"
          },
          "showarrow": false,
          "text": "-0.01",
          "x": "NeutralScenes",
          "xref": "x",
          "y": "InMediasStructure",
          "yref": "y"
         },
         {
          "font": {
           "color": "#FFFFFF"
          },
          "showarrow": false,
          "text": "0.03",
          "x": "SentimentPolarity",
          "xref": "x",
          "y": "InMediasStructure",
          "yref": "y"
         },
         {
          "font": {
           "color": "#FFFFFF"
          },
          "showarrow": false,
          "text": "-0.02",
          "x": "Fear",
          "xref": "x",
          "y": "InMediasStructure",
          "yref": "y"
         },
         {
          "font": {
           "color": "#FFFFFF"
          },
          "showarrow": false,
          "text": "-0.01",
          "x": "Anger",
          "xref": "x",
          "y": "InMediasStructure",
          "yref": "y"
         },
         {
          "font": {
           "color": "#FFFFFF"
          },
          "showarrow": false,
          "text": "-0.01",
          "x": "Anticipation",
          "xref": "x",
          "y": "InMediasStructure",
          "yref": "y"
         },
         {
          "font": {
           "color": "#FFFFFF"
          },
          "showarrow": false,
          "text": "-0.01",
          "x": "Trust",
          "xref": "x",
          "y": "InMediasStructure",
          "yref": "y"
         },
         {
          "font": {
           "color": "#FFFFFF"
          },
          "showarrow": false,
          "text": "-0.01",
          "x": "Surprise",
          "xref": "x",
          "y": "InMediasStructure",
          "yref": "y"
         },
         {
          "font": {
           "color": "#FFFFFF"
          },
          "showarrow": false,
          "text": "0.01",
          "x": "Positive",
          "xref": "x",
          "y": "InMediasStructure",
          "yref": "y"
         },
         {
          "font": {
           "color": "#FFFFFF"
          },
          "showarrow": false,
          "text": "-0.02",
          "x": "Negative",
          "xref": "x",
          "y": "InMediasStructure",
          "yref": "y"
         },
         {
          "font": {
           "color": "#FFFFFF"
          },
          "showarrow": false,
          "text": "-0.0",
          "x": "Sadness",
          "xref": "x",
          "y": "InMediasStructure",
          "yref": "y"
         },
         {
          "font": {
           "color": "#FFFFFF"
          },
          "showarrow": false,
          "text": "-0.02",
          "x": "Disgust",
          "xref": "x",
          "y": "InMediasStructure",
          "yref": "y"
         },
         {
          "font": {
           "color": "#FFFFFF"
          },
          "showarrow": false,
          "text": "0.0",
          "x": "Joy",
          "xref": "x",
          "y": "InMediasStructure",
          "yref": "y"
         },
         {
          "font": {
           "color": "#FFFFFF"
          },
          "showarrow": false,
          "text": "0.05",
          "x": "NumberOfCharacters",
          "xref": "x",
          "y": "InMediasStructure",
          "yref": "y"
         },
         {
          "font": {
           "color": "#FFFFFF"
          },
          "showarrow": false,
          "text": "-0.04",
          "x": "ThreeActStructure",
          "xref": "x",
          "y": "InMediasStructure",
          "yref": "y"
         },
         {
          "font": {
           "color": "#FFFFFF"
          },
          "showarrow": false,
          "text": "-0.03",
          "x": "FiveActStructure",
          "xref": "x",
          "y": "InMediasStructure",
          "yref": "y"
         },
         {
          "font": {
           "color": "#FFFFFF"
          },
          "showarrow": false,
          "text": "0.01",
          "x": "HeroStructure",
          "xref": "x",
          "y": "InMediasStructure",
          "yref": "y"
         },
         {
          "font": {
           "color": "#FFFFFF"
          },
          "showarrow": false,
          "text": "-0.02",
          "x": "NonlinearStructure",
          "xref": "x",
          "y": "InMediasStructure",
          "yref": "y"
         },
         {
          "font": {
           "color": "#FFFFFF"
          },
          "showarrow": false,
          "text": "-0.01",
          "x": "ParallelStructure",
          "xref": "x",
          "y": "InMediasStructure",
          "yref": "y"
         },
         {
          "font": {
           "color": "#FFFFFF"
          },
          "showarrow": false,
          "text": "0.02",
          "x": "CircularStructure",
          "xref": "x",
          "y": "InMediasStructure",
          "yref": "y"
         },
         {
          "font": {
           "color": "#FFFFFF"
          },
          "showarrow": false,
          "text": "-0.01",
          "x": "OpenEndedStructre",
          "xref": "x",
          "y": "InMediasStructure",
          "yref": "y"
         },
         {
          "font": {
           "color": "#000000"
          },
          "showarrow": false,
          "text": "1.0",
          "x": "InMediasStructure",
          "xref": "x",
          "y": "InMediasStructure",
          "yref": "y"
         },
         {
          "font": {
           "color": "#FFFFFF"
          },
          "showarrow": false,
          "text": "-0.01",
          "x": "ExperimentalStructure",
          "xref": "x",
          "y": "InMediasStructure",
          "yref": "y"
         },
         {
          "font": {
           "color": "#FFFFFF"
          },
          "showarrow": false,
          "text": "-0.0",
          "x": "Rating",
          "xref": "x",
          "y": "InMediasStructure",
          "yref": "y"
         },
         {
          "font": {
           "color": "#FFFFFF"
          },
          "showarrow": false,
          "text": "-0.02",
          "x": "budget",
          "xref": "x",
          "y": "InMediasStructure",
          "yref": "y"
         },
         {
          "font": {
           "color": "#FFFFFF"
          },
          "showarrow": false,
          "text": "-0.02",
          "x": "collections",
          "xref": "x",
          "y": "InMediasStructure",
          "yref": "y"
         },
         {
          "font": {
           "color": "#FFFFFF"
          },
          "showarrow": false,
          "text": "0.01",
          "x": "NumberOfScenes",
          "xref": "x",
          "y": "ExperimentalStructure",
          "yref": "y"
         },
         {
          "font": {
           "color": "#FFFFFF"
          },
          "showarrow": false,
          "text": "-0.02",
          "x": "RunTime",
          "xref": "x",
          "y": "ExperimentalStructure",
          "yref": "y"
         },
         {
          "font": {
           "color": "#FFFFFF"
          },
          "showarrow": false,
          "text": "0.0",
          "x": "PositiveScenes",
          "xref": "x",
          "y": "ExperimentalStructure",
          "yref": "y"
         },
         {
          "font": {
           "color": "#FFFFFF"
          },
          "showarrow": false,
          "text": "0.0",
          "x": "NegativeScenes",
          "xref": "x",
          "y": "ExperimentalStructure",
          "yref": "y"
         },
         {
          "font": {
           "color": "#FFFFFF"
          },
          "showarrow": false,
          "text": "0.02",
          "x": "NeutralScenes",
          "xref": "x",
          "y": "ExperimentalStructure",
          "yref": "y"
         },
         {
          "font": {
           "color": "#FFFFFF"
          },
          "showarrow": false,
          "text": "-0.0",
          "x": "SentimentPolarity",
          "xref": "x",
          "y": "ExperimentalStructure",
          "yref": "y"
         },
         {
          "font": {
           "color": "#FFFFFF"
          },
          "showarrow": false,
          "text": "0.03",
          "x": "Fear",
          "xref": "x",
          "y": "ExperimentalStructure",
          "yref": "y"
         },
         {
          "font": {
           "color": "#FFFFFF"
          },
          "showarrow": false,
          "text": "0.02",
          "x": "Anger",
          "xref": "x",
          "y": "ExperimentalStructure",
          "yref": "y"
         },
         {
          "font": {
           "color": "#FFFFFF"
          },
          "showarrow": false,
          "text": "0.02",
          "x": "Anticipation",
          "xref": "x",
          "y": "ExperimentalStructure",
          "yref": "y"
         },
         {
          "font": {
           "color": "#FFFFFF"
          },
          "showarrow": false,
          "text": "-0.0",
          "x": "Trust",
          "xref": "x",
          "y": "ExperimentalStructure",
          "yref": "y"
         },
         {
          "font": {
           "color": "#FFFFFF"
          },
          "showarrow": false,
          "text": "0.02",
          "x": "Surprise",
          "xref": "x",
          "y": "ExperimentalStructure",
          "yref": "y"
         },
         {
          "font": {
           "color": "#FFFFFF"
          },
          "showarrow": false,
          "text": "0.01",
          "x": "Positive",
          "xref": "x",
          "y": "ExperimentalStructure",
          "yref": "y"
         },
         {
          "font": {
           "color": "#FFFFFF"
          },
          "showarrow": false,
          "text": "0.01",
          "x": "Negative",
          "xref": "x",
          "y": "ExperimentalStructure",
          "yref": "y"
         },
         {
          "font": {
           "color": "#FFFFFF"
          },
          "showarrow": false,
          "text": "0.01",
          "x": "Sadness",
          "xref": "x",
          "y": "ExperimentalStructure",
          "yref": "y"
         },
         {
          "font": {
           "color": "#FFFFFF"
          },
          "showarrow": false,
          "text": "0.02",
          "x": "Disgust",
          "xref": "x",
          "y": "ExperimentalStructure",
          "yref": "y"
         },
         {
          "font": {
           "color": "#FFFFFF"
          },
          "showarrow": false,
          "text": "-0.0",
          "x": "Joy",
          "xref": "x",
          "y": "ExperimentalStructure",
          "yref": "y"
         },
         {
          "font": {
           "color": "#FFFFFF"
          },
          "showarrow": false,
          "text": "-0.02",
          "x": "NumberOfCharacters",
          "xref": "x",
          "y": "ExperimentalStructure",
          "yref": "y"
         },
         {
          "font": {
           "color": "#FFFFFF"
          },
          "showarrow": false,
          "text": "0.13",
          "x": "ThreeActStructure",
          "xref": "x",
          "y": "ExperimentalStructure",
          "yref": "y"
         },
         {
          "font": {
           "color": "#FFFFFF"
          },
          "showarrow": false,
          "text": "0.11",
          "x": "FiveActStructure",
          "xref": "x",
          "y": "ExperimentalStructure",
          "yref": "y"
         },
         {
          "font": {
           "color": "#FFFFFF"
          },
          "showarrow": false,
          "text": "0.02",
          "x": "HeroStructure",
          "xref": "x",
          "y": "ExperimentalStructure",
          "yref": "y"
         },
         {
          "font": {
           "color": "#FFFFFF"
          },
          "showarrow": false,
          "text": "0.03",
          "x": "NonlinearStructure",
          "xref": "x",
          "y": "ExperimentalStructure",
          "yref": "y"
         },
         {
          "font": {
           "color": "#FFFFFF"
          },
          "showarrow": false,
          "text": "-0.01",
          "x": "ParallelStructure",
          "xref": "x",
          "y": "ExperimentalStructure",
          "yref": "y"
         },
         {
          "font": {
           "color": "#FFFFFF"
          },
          "showarrow": false,
          "text": "0.05",
          "x": "CircularStructure",
          "xref": "x",
          "y": "ExperimentalStructure",
          "yref": "y"
         },
         {
          "font": {
           "color": "#FFFFFF"
          },
          "showarrow": false,
          "text": "0.0",
          "x": "OpenEndedStructre",
          "xref": "x",
          "y": "ExperimentalStructure",
          "yref": "y"
         },
         {
          "font": {
           "color": "#FFFFFF"
          },
          "showarrow": false,
          "text": "-0.01",
          "x": "InMediasStructure",
          "xref": "x",
          "y": "ExperimentalStructure",
          "yref": "y"
         },
         {
          "font": {
           "color": "#000000"
          },
          "showarrow": false,
          "text": "1.0",
          "x": "ExperimentalStructure",
          "xref": "x",
          "y": "ExperimentalStructure",
          "yref": "y"
         },
         {
          "font": {
           "color": "#FFFFFF"
          },
          "showarrow": false,
          "text": "-0.04",
          "x": "Rating",
          "xref": "x",
          "y": "ExperimentalStructure",
          "yref": "y"
         },
         {
          "font": {
           "color": "#FFFFFF"
          },
          "showarrow": false,
          "text": "0.06",
          "x": "budget",
          "xref": "x",
          "y": "ExperimentalStructure",
          "yref": "y"
         },
         {
          "font": {
           "color": "#FFFFFF"
          },
          "showarrow": false,
          "text": "0.03",
          "x": "collections",
          "xref": "x",
          "y": "ExperimentalStructure",
          "yref": "y"
         },
         {
          "font": {
           "color": "#FFFFFF"
          },
          "showarrow": false,
          "text": "0.13",
          "x": "NumberOfScenes",
          "xref": "x",
          "y": "Rating",
          "yref": "y"
         },
         {
          "font": {
           "color": "#FFFFFF"
          },
          "showarrow": false,
          "text": "0.09",
          "x": "RunTime",
          "xref": "x",
          "y": "Rating",
          "yref": "y"
         },
         {
          "font": {
           "color": "#FFFFFF"
          },
          "showarrow": false,
          "text": "0.13",
          "x": "PositiveScenes",
          "xref": "x",
          "y": "Rating",
          "yref": "y"
         },
         {
          "font": {
           "color": "#FFFFFF"
          },
          "showarrow": false,
          "text": "0.08",
          "x": "NegativeScenes",
          "xref": "x",
          "y": "Rating",
          "yref": "y"
         },
         {
          "font": {
           "color": "#FFFFFF"
          },
          "showarrow": false,
          "text": "0.09",
          "x": "NeutralScenes",
          "xref": "x",
          "y": "Rating",
          "yref": "y"
         },
         {
          "font": {
           "color": "#FFFFFF"
          },
          "showarrow": false,
          "text": "0.01",
          "x": "SentimentPolarity",
          "xref": "x",
          "y": "Rating",
          "yref": "y"
         },
         {
          "font": {
           "color": "#FFFFFF"
          },
          "showarrow": false,
          "text": "0.08",
          "x": "Fear",
          "xref": "x",
          "y": "Rating",
          "yref": "y"
         },
         {
          "font": {
           "color": "#FFFFFF"
          },
          "showarrow": false,
          "text": "0.09",
          "x": "Anger",
          "xref": "x",
          "y": "Rating",
          "yref": "y"
         },
         {
          "font": {
           "color": "#FFFFFF"
          },
          "showarrow": false,
          "text": "0.12",
          "x": "Anticipation",
          "xref": "x",
          "y": "Rating",
          "yref": "y"
         },
         {
          "font": {
           "color": "#FFFFFF"
          },
          "showarrow": false,
          "text": "0.13",
          "x": "Trust",
          "xref": "x",
          "y": "Rating",
          "yref": "y"
         },
         {
          "font": {
           "color": "#FFFFFF"
          },
          "showarrow": false,
          "text": "0.1",
          "x": "Surprise",
          "xref": "x",
          "y": "Rating",
          "yref": "y"
         },
         {
          "font": {
           "color": "#FFFFFF"
          },
          "showarrow": false,
          "text": "0.14",
          "x": "Positive",
          "xref": "x",
          "y": "Rating",
          "yref": "y"
         },
         {
          "font": {
           "color": "#FFFFFF"
          },
          "showarrow": false,
          "text": "0.09",
          "x": "Negative",
          "xref": "x",
          "y": "Rating",
          "yref": "y"
         },
         {
          "font": {
           "color": "#FFFFFF"
          },
          "showarrow": false,
          "text": "0.11",
          "x": "Sadness",
          "xref": "x",
          "y": "Rating",
          "yref": "y"
         },
         {
          "font": {
           "color": "#FFFFFF"
          },
          "showarrow": false,
          "text": "0.1",
          "x": "Disgust",
          "xref": "x",
          "y": "Rating",
          "yref": "y"
         },
         {
          "font": {
           "color": "#FFFFFF"
          },
          "showarrow": false,
          "text": "0.12",
          "x": "Joy",
          "xref": "x",
          "y": "Rating",
          "yref": "y"
         },
         {
          "font": {
           "color": "#FFFFFF"
          },
          "showarrow": false,
          "text": "0.06",
          "x": "NumberOfCharacters",
          "xref": "x",
          "y": "Rating",
          "yref": "y"
         },
         {
          "font": {
           "color": "#FFFFFF"
          },
          "showarrow": false,
          "text": "0.06",
          "x": "ThreeActStructure",
          "xref": "x",
          "y": "Rating",
          "yref": "y"
         },
         {
          "font": {
           "color": "#FFFFFF"
          },
          "showarrow": false,
          "text": "0.0",
          "x": "FiveActStructure",
          "xref": "x",
          "y": "Rating",
          "yref": "y"
         },
         {
          "font": {
           "color": "#FFFFFF"
          },
          "showarrow": false,
          "text": "0.0",
          "x": "HeroStructure",
          "xref": "x",
          "y": "Rating",
          "yref": "y"
         },
         {
          "font": {
           "color": "#FFFFFF"
          },
          "showarrow": false,
          "text": "0.01",
          "x": "NonlinearStructure",
          "xref": "x",
          "y": "Rating",
          "yref": "y"
         },
         {
          "font": {
           "color": "#FFFFFF"
          },
          "showarrow": false,
          "text": "-0.04",
          "x": "ParallelStructure",
          "xref": "x",
          "y": "Rating",
          "yref": "y"
         },
         {
          "font": {
           "color": "#FFFFFF"
          },
          "showarrow": false,
          "text": "0.03",
          "x": "CircularStructure",
          "xref": "x",
          "y": "Rating",
          "yref": "y"
         },
         {
          "font": {
           "color": "#FFFFFF"
          },
          "showarrow": false,
          "text": "-0.02",
          "x": "OpenEndedStructre",
          "xref": "x",
          "y": "Rating",
          "yref": "y"
         },
         {
          "font": {
           "color": "#FFFFFF"
          },
          "showarrow": false,
          "text": "-0.0",
          "x": "InMediasStructure",
          "xref": "x",
          "y": "Rating",
          "yref": "y"
         },
         {
          "font": {
           "color": "#FFFFFF"
          },
          "showarrow": false,
          "text": "-0.04",
          "x": "ExperimentalStructure",
          "xref": "x",
          "y": "Rating",
          "yref": "y"
         },
         {
          "font": {
           "color": "#000000"
          },
          "showarrow": false,
          "text": "1.0",
          "x": "Rating",
          "xref": "x",
          "y": "Rating",
          "yref": "y"
         },
         {
          "font": {
           "color": "#FFFFFF"
          },
          "showarrow": false,
          "text": "-0.01",
          "x": "budget",
          "xref": "x",
          "y": "Rating",
          "yref": "y"
         },
         {
          "font": {
           "color": "#FFFFFF"
          },
          "showarrow": false,
          "text": "-0.0",
          "x": "collections",
          "xref": "x",
          "y": "Rating",
          "yref": "y"
         },
         {
          "font": {
           "color": "#FFFFFF"
          },
          "showarrow": false,
          "text": "-0.06",
          "x": "NumberOfScenes",
          "xref": "x",
          "y": "budget",
          "yref": "y"
         },
         {
          "font": {
           "color": "#FFFFFF"
          },
          "showarrow": false,
          "text": "-0.06",
          "x": "RunTime",
          "xref": "x",
          "y": "budget",
          "yref": "y"
         },
         {
          "font": {
           "color": "#FFFFFF"
          },
          "showarrow": false,
          "text": "-0.07",
          "x": "PositiveScenes",
          "xref": "x",
          "y": "budget",
          "yref": "y"
         },
         {
          "font": {
           "color": "#FFFFFF"
          },
          "showarrow": false,
          "text": "-0.04",
          "x": "NegativeScenes",
          "xref": "x",
          "y": "budget",
          "yref": "y"
         },
         {
          "font": {
           "color": "#FFFFFF"
          },
          "showarrow": false,
          "text": "-0.02",
          "x": "NeutralScenes",
          "xref": "x",
          "y": "budget",
          "yref": "y"
         },
         {
          "font": {
           "color": "#FFFFFF"
          },
          "showarrow": false,
          "text": "0.0",
          "x": "SentimentPolarity",
          "xref": "x",
          "y": "budget",
          "yref": "y"
         },
         {
          "font": {
           "color": "#FFFFFF"
          },
          "showarrow": false,
          "text": "-0.03",
          "x": "Fear",
          "xref": "x",
          "y": "budget",
          "yref": "y"
         },
         {
          "font": {
           "color": "#FFFFFF"
          },
          "showarrow": false,
          "text": "-0.04",
          "x": "Anger",
          "xref": "x",
          "y": "budget",
          "yref": "y"
         },
         {
          "font": {
           "color": "#FFFFFF"
          },
          "showarrow": false,
          "text": "-0.04",
          "x": "Anticipation",
          "xref": "x",
          "y": "budget",
          "yref": "y"
         },
         {
          "font": {
           "color": "#FFFFFF"
          },
          "showarrow": false,
          "text": "-0.05",
          "x": "Trust",
          "xref": "x",
          "y": "budget",
          "yref": "y"
         },
         {
          "font": {
           "color": "#FFFFFF"
          },
          "showarrow": false,
          "text": "-0.04",
          "x": "Surprise",
          "xref": "x",
          "y": "budget",
          "yref": "y"
         },
         {
          "font": {
           "color": "#FFFFFF"
          },
          "showarrow": false,
          "text": "-0.06",
          "x": "Positive",
          "xref": "x",
          "y": "budget",
          "yref": "y"
         },
         {
          "font": {
           "color": "#FFFFFF"
          },
          "showarrow": false,
          "text": "-0.06",
          "x": "Negative",
          "xref": "x",
          "y": "budget",
          "yref": "y"
         },
         {
          "font": {
           "color": "#FFFFFF"
          },
          "showarrow": false,
          "text": "-0.05",
          "x": "Sadness",
          "xref": "x",
          "y": "budget",
          "yref": "y"
         },
         {
          "font": {
           "color": "#FFFFFF"
          },
          "showarrow": false,
          "text": "-0.04",
          "x": "Disgust",
          "xref": "x",
          "y": "budget",
          "yref": "y"
         },
         {
          "font": {
           "color": "#FFFFFF"
          },
          "showarrow": false,
          "text": "-0.05",
          "x": "Joy",
          "xref": "x",
          "y": "budget",
          "yref": "y"
         },
         {
          "font": {
           "color": "#FFFFFF"
          },
          "showarrow": false,
          "text": "-0.0",
          "x": "NumberOfCharacters",
          "xref": "x",
          "y": "budget",
          "yref": "y"
         },
         {
          "font": {
           "color": "#FFFFFF"
          },
          "showarrow": false,
          "text": "-0.03",
          "x": "ThreeActStructure",
          "xref": "x",
          "y": "budget",
          "yref": "y"
         },
         {
          "font": {
           "color": "#FFFFFF"
          },
          "showarrow": false,
          "text": "0.0",
          "x": "FiveActStructure",
          "xref": "x",
          "y": "budget",
          "yref": "y"
         },
         {
          "font": {
           "color": "#FFFFFF"
          },
          "showarrow": false,
          "text": "0.02",
          "x": "HeroStructure",
          "xref": "x",
          "y": "budget",
          "yref": "y"
         },
         {
          "font": {
           "color": "#FFFFFF"
          },
          "showarrow": false,
          "text": "-0.01",
          "x": "NonlinearStructure",
          "xref": "x",
          "y": "budget",
          "yref": "y"
         },
         {
          "font": {
           "color": "#FFFFFF"
          },
          "showarrow": false,
          "text": "-0.03",
          "x": "ParallelStructure",
          "xref": "x",
          "y": "budget",
          "yref": "y"
         },
         {
          "font": {
           "color": "#FFFFFF"
          },
          "showarrow": false,
          "text": "0.0",
          "x": "CircularStructure",
          "xref": "x",
          "y": "budget",
          "yref": "y"
         },
         {
          "font": {
           "color": "#FFFFFF"
          },
          "showarrow": false,
          "text": "-0.04",
          "x": "OpenEndedStructre",
          "xref": "x",
          "y": "budget",
          "yref": "y"
         },
         {
          "font": {
           "color": "#FFFFFF"
          },
          "showarrow": false,
          "text": "-0.02",
          "x": "InMediasStructure",
          "xref": "x",
          "y": "budget",
          "yref": "y"
         },
         {
          "font": {
           "color": "#FFFFFF"
          },
          "showarrow": false,
          "text": "0.06",
          "x": "ExperimentalStructure",
          "xref": "x",
          "y": "budget",
          "yref": "y"
         },
         {
          "font": {
           "color": "#FFFFFF"
          },
          "showarrow": false,
          "text": "-0.01",
          "x": "Rating",
          "xref": "x",
          "y": "budget",
          "yref": "y"
         },
         {
          "font": {
           "color": "#000000"
          },
          "showarrow": false,
          "text": "1.0",
          "x": "budget",
          "xref": "x",
          "y": "budget",
          "yref": "y"
         },
         {
          "font": {
           "color": "#000000"
          },
          "showarrow": false,
          "text": "0.89",
          "x": "collections",
          "xref": "x",
          "y": "budget",
          "yref": "y"
         },
         {
          "font": {
           "color": "#FFFFFF"
          },
          "showarrow": false,
          "text": "-0.04",
          "x": "NumberOfScenes",
          "xref": "x",
          "y": "collections",
          "yref": "y"
         },
         {
          "font": {
           "color": "#FFFFFF"
          },
          "showarrow": false,
          "text": "-0.04",
          "x": "RunTime",
          "xref": "x",
          "y": "collections",
          "yref": "y"
         },
         {
          "font": {
           "color": "#FFFFFF"
          },
          "showarrow": false,
          "text": "-0.05",
          "x": "PositiveScenes",
          "xref": "x",
          "y": "collections",
          "yref": "y"
         },
         {
          "font": {
           "color": "#FFFFFF"
          },
          "showarrow": false,
          "text": "-0.03",
          "x": "NegativeScenes",
          "xref": "x",
          "y": "collections",
          "yref": "y"
         },
         {
          "font": {
           "color": "#FFFFFF"
          },
          "showarrow": false,
          "text": "-0.02",
          "x": "NeutralScenes",
          "xref": "x",
          "y": "collections",
          "yref": "y"
         },
         {
          "font": {
           "color": "#FFFFFF"
          },
          "showarrow": false,
          "text": "-0.01",
          "x": "SentimentPolarity",
          "xref": "x",
          "y": "collections",
          "yref": "y"
         },
         {
          "font": {
           "color": "#FFFFFF"
          },
          "showarrow": false,
          "text": "-0.03",
          "x": "Fear",
          "xref": "x",
          "y": "collections",
          "yref": "y"
         },
         {
          "font": {
           "color": "#FFFFFF"
          },
          "showarrow": false,
          "text": "-0.04",
          "x": "Anger",
          "xref": "x",
          "y": "collections",
          "yref": "y"
         },
         {
          "font": {
           "color": "#FFFFFF"
          },
          "showarrow": false,
          "text": "-0.02",
          "x": "Anticipation",
          "xref": "x",
          "y": "collections",
          "yref": "y"
         },
         {
          "font": {
           "color": "#FFFFFF"
          },
          "showarrow": false,
          "text": "-0.04",
          "x": "Trust",
          "xref": "x",
          "y": "collections",
          "yref": "y"
         },
         {
          "font": {
           "color": "#FFFFFF"
          },
          "showarrow": false,
          "text": "-0.04",
          "x": "Surprise",
          "xref": "x",
          "y": "collections",
          "yref": "y"
         },
         {
          "font": {
           "color": "#FFFFFF"
          },
          "showarrow": false,
          "text": "-0.04",
          "x": "Positive",
          "xref": "x",
          "y": "collections",
          "yref": "y"
         },
         {
          "font": {
           "color": "#FFFFFF"
          },
          "showarrow": false,
          "text": "-0.05",
          "x": "Negative",
          "xref": "x",
          "y": "collections",
          "yref": "y"
         },
         {
          "font": {
           "color": "#FFFFFF"
          },
          "showarrow": false,
          "text": "-0.04",
          "x": "Sadness",
          "xref": "x",
          "y": "collections",
          "yref": "y"
         },
         {
          "font": {
           "color": "#FFFFFF"
          },
          "showarrow": false,
          "text": "-0.04",
          "x": "Disgust",
          "xref": "x",
          "y": "collections",
          "yref": "y"
         },
         {
          "font": {
           "color": "#FFFFFF"
          },
          "showarrow": false,
          "text": "-0.05",
          "x": "Joy",
          "xref": "x",
          "y": "collections",
          "yref": "y"
         },
         {
          "font": {
           "color": "#FFFFFF"
          },
          "showarrow": false,
          "text": "0.02",
          "x": "NumberOfCharacters",
          "xref": "x",
          "y": "collections",
          "yref": "y"
         },
         {
          "font": {
           "color": "#FFFFFF"
          },
          "showarrow": false,
          "text": "-0.01",
          "x": "ThreeActStructure",
          "xref": "x",
          "y": "collections",
          "yref": "y"
         },
         {
          "font": {
           "color": "#FFFFFF"
          },
          "showarrow": false,
          "text": "0.02",
          "x": "FiveActStructure",
          "xref": "x",
          "y": "collections",
          "yref": "y"
         },
         {
          "font": {
           "color": "#FFFFFF"
          },
          "showarrow": false,
          "text": "0.02",
          "x": "HeroStructure",
          "xref": "x",
          "y": "collections",
          "yref": "y"
         },
         {
          "font": {
           "color": "#FFFFFF"
          },
          "showarrow": false,
          "text": "-0.02",
          "x": "NonlinearStructure",
          "xref": "x",
          "y": "collections",
          "yref": "y"
         },
         {
          "font": {
           "color": "#FFFFFF"
          },
          "showarrow": false,
          "text": "-0.02",
          "x": "ParallelStructure",
          "xref": "x",
          "y": "collections",
          "yref": "y"
         },
         {
          "font": {
           "color": "#FFFFFF"
          },
          "showarrow": false,
          "text": "-0.01",
          "x": "CircularStructure",
          "xref": "x",
          "y": "collections",
          "yref": "y"
         },
         {
          "font": {
           "color": "#FFFFFF"
          },
          "showarrow": false,
          "text": "-0.05",
          "x": "OpenEndedStructre",
          "xref": "x",
          "y": "collections",
          "yref": "y"
         },
         {
          "font": {
           "color": "#FFFFFF"
          },
          "showarrow": false,
          "text": "-0.02",
          "x": "InMediasStructure",
          "xref": "x",
          "y": "collections",
          "yref": "y"
         },
         {
          "font": {
           "color": "#FFFFFF"
          },
          "showarrow": false,
          "text": "0.03",
          "x": "ExperimentalStructure",
          "xref": "x",
          "y": "collections",
          "yref": "y"
         },
         {
          "font": {
           "color": "#FFFFFF"
          },
          "showarrow": false,
          "text": "-0.0",
          "x": "Rating",
          "xref": "x",
          "y": "collections",
          "yref": "y"
         },
         {
          "font": {
           "color": "#000000"
          },
          "showarrow": false,
          "text": "0.89",
          "x": "budget",
          "xref": "x",
          "y": "collections",
          "yref": "y"
         },
         {
          "font": {
           "color": "#000000"
          },
          "showarrow": false,
          "text": "1.0",
          "x": "collections",
          "xref": "x",
          "y": "collections",
          "yref": "y"
         }
        ],
        "height": 800,
        "template": {
         "data": {
          "bar": [
           {
            "error_x": {
             "color": "#2a3f5f"
            },
            "error_y": {
             "color": "#2a3f5f"
            },
            "marker": {
             "line": {
              "color": "#E5ECF6",
              "width": 0.5
             },
             "pattern": {
              "fillmode": "overlay",
              "size": 10,
              "solidity": 0.2
             }
            },
            "type": "bar"
           }
          ],
          "barpolar": [
           {
            "marker": {
             "line": {
              "color": "#E5ECF6",
              "width": 0.5
             },
             "pattern": {
              "fillmode": "overlay",
              "size": 10,
              "solidity": 0.2
             }
            },
            "type": "barpolar"
           }
          ],
          "carpet": [
           {
            "aaxis": {
             "endlinecolor": "#2a3f5f",
             "gridcolor": "white",
             "linecolor": "white",
             "minorgridcolor": "white",
             "startlinecolor": "#2a3f5f"
            },
            "baxis": {
             "endlinecolor": "#2a3f5f",
             "gridcolor": "white",
             "linecolor": "white",
             "minorgridcolor": "white",
             "startlinecolor": "#2a3f5f"
            },
            "type": "carpet"
           }
          ],
          "choropleth": [
           {
            "colorbar": {
             "outlinewidth": 0,
             "ticks": ""
            },
            "type": "choropleth"
           }
          ],
          "contour": [
           {
            "colorbar": {
             "outlinewidth": 0,
             "ticks": ""
            },
            "colorscale": [
             [
              0,
              "#0d0887"
             ],
             [
              0.1111111111111111,
              "#46039f"
             ],
             [
              0.2222222222222222,
              "#7201a8"
             ],
             [
              0.3333333333333333,
              "#9c179e"
             ],
             [
              0.4444444444444444,
              "#bd3786"
             ],
             [
              0.5555555555555556,
              "#d8576b"
             ],
             [
              0.6666666666666666,
              "#ed7953"
             ],
             [
              0.7777777777777778,
              "#fb9f3a"
             ],
             [
              0.8888888888888888,
              "#fdca26"
             ],
             [
              1,
              "#f0f921"
             ]
            ],
            "type": "contour"
           }
          ],
          "contourcarpet": [
           {
            "colorbar": {
             "outlinewidth": 0,
             "ticks": ""
            },
            "type": "contourcarpet"
           }
          ],
          "heatmap": [
           {
            "colorbar": {
             "outlinewidth": 0,
             "ticks": ""
            },
            "colorscale": [
             [
              0,
              "#0d0887"
             ],
             [
              0.1111111111111111,
              "#46039f"
             ],
             [
              0.2222222222222222,
              "#7201a8"
             ],
             [
              0.3333333333333333,
              "#9c179e"
             ],
             [
              0.4444444444444444,
              "#bd3786"
             ],
             [
              0.5555555555555556,
              "#d8576b"
             ],
             [
              0.6666666666666666,
              "#ed7953"
             ],
             [
              0.7777777777777778,
              "#fb9f3a"
             ],
             [
              0.8888888888888888,
              "#fdca26"
             ],
             [
              1,
              "#f0f921"
             ]
            ],
            "type": "heatmap"
           }
          ],
          "heatmapgl": [
           {
            "colorbar": {
             "outlinewidth": 0,
             "ticks": ""
            },
            "colorscale": [
             [
              0,
              "#0d0887"
             ],
             [
              0.1111111111111111,
              "#46039f"
             ],
             [
              0.2222222222222222,
              "#7201a8"
             ],
             [
              0.3333333333333333,
              "#9c179e"
             ],
             [
              0.4444444444444444,
              "#bd3786"
             ],
             [
              0.5555555555555556,
              "#d8576b"
             ],
             [
              0.6666666666666666,
              "#ed7953"
             ],
             [
              0.7777777777777778,
              "#fb9f3a"
             ],
             [
              0.8888888888888888,
              "#fdca26"
             ],
             [
              1,
              "#f0f921"
             ]
            ],
            "type": "heatmapgl"
           }
          ],
          "histogram": [
           {
            "marker": {
             "pattern": {
              "fillmode": "overlay",
              "size": 10,
              "solidity": 0.2
             }
            },
            "type": "histogram"
           }
          ],
          "histogram2d": [
           {
            "colorbar": {
             "outlinewidth": 0,
             "ticks": ""
            },
            "colorscale": [
             [
              0,
              "#0d0887"
             ],
             [
              0.1111111111111111,
              "#46039f"
             ],
             [
              0.2222222222222222,
              "#7201a8"
             ],
             [
              0.3333333333333333,
              "#9c179e"
             ],
             [
              0.4444444444444444,
              "#bd3786"
             ],
             [
              0.5555555555555556,
              "#d8576b"
             ],
             [
              0.6666666666666666,
              "#ed7953"
             ],
             [
              0.7777777777777778,
              "#fb9f3a"
             ],
             [
              0.8888888888888888,
              "#fdca26"
             ],
             [
              1,
              "#f0f921"
             ]
            ],
            "type": "histogram2d"
           }
          ],
          "histogram2dcontour": [
           {
            "colorbar": {
             "outlinewidth": 0,
             "ticks": ""
            },
            "colorscale": [
             [
              0,
              "#0d0887"
             ],
             [
              0.1111111111111111,
              "#46039f"
             ],
             [
              0.2222222222222222,
              "#7201a8"
             ],
             [
              0.3333333333333333,
              "#9c179e"
             ],
             [
              0.4444444444444444,
              "#bd3786"
             ],
             [
              0.5555555555555556,
              "#d8576b"
             ],
             [
              0.6666666666666666,
              "#ed7953"
             ],
             [
              0.7777777777777778,
              "#fb9f3a"
             ],
             [
              0.8888888888888888,
              "#fdca26"
             ],
             [
              1,
              "#f0f921"
             ]
            ],
            "type": "histogram2dcontour"
           }
          ],
          "mesh3d": [
           {
            "colorbar": {
             "outlinewidth": 0,
             "ticks": ""
            },
            "type": "mesh3d"
           }
          ],
          "parcoords": [
           {
            "line": {
             "colorbar": {
              "outlinewidth": 0,
              "ticks": ""
             }
            },
            "type": "parcoords"
           }
          ],
          "pie": [
           {
            "automargin": true,
            "type": "pie"
           }
          ],
          "scatter": [
           {
            "marker": {
             "colorbar": {
              "outlinewidth": 0,
              "ticks": ""
             }
            },
            "type": "scatter"
           }
          ],
          "scatter3d": [
           {
            "line": {
             "colorbar": {
              "outlinewidth": 0,
              "ticks": ""
             }
            },
            "marker": {
             "colorbar": {
              "outlinewidth": 0,
              "ticks": ""
             }
            },
            "type": "scatter3d"
           }
          ],
          "scattercarpet": [
           {
            "marker": {
             "colorbar": {
              "outlinewidth": 0,
              "ticks": ""
             }
            },
            "type": "scattercarpet"
           }
          ],
          "scattergeo": [
           {
            "marker": {
             "colorbar": {
              "outlinewidth": 0,
              "ticks": ""
             }
            },
            "type": "scattergeo"
           }
          ],
          "scattergl": [
           {
            "marker": {
             "colorbar": {
              "outlinewidth": 0,
              "ticks": ""
             }
            },
            "type": "scattergl"
           }
          ],
          "scattermapbox": [
           {
            "marker": {
             "colorbar": {
              "outlinewidth": 0,
              "ticks": ""
             }
            },
            "type": "scattermapbox"
           }
          ],
          "scatterpolar": [
           {
            "marker": {
             "colorbar": {
              "outlinewidth": 0,
              "ticks": ""
             }
            },
            "type": "scatterpolar"
           }
          ],
          "scatterpolargl": [
           {
            "marker": {
             "colorbar": {
              "outlinewidth": 0,
              "ticks": ""
             }
            },
            "type": "scatterpolargl"
           }
          ],
          "scatterternary": [
           {
            "marker": {
             "colorbar": {
              "outlinewidth": 0,
              "ticks": ""
             }
            },
            "type": "scatterternary"
           }
          ],
          "surface": [
           {
            "colorbar": {
             "outlinewidth": 0,
             "ticks": ""
            },
            "colorscale": [
             [
              0,
              "#0d0887"
             ],
             [
              0.1111111111111111,
              "#46039f"
             ],
             [
              0.2222222222222222,
              "#7201a8"
             ],
             [
              0.3333333333333333,
              "#9c179e"
             ],
             [
              0.4444444444444444,
              "#bd3786"
             ],
             [
              0.5555555555555556,
              "#d8576b"
             ],
             [
              0.6666666666666666,
              "#ed7953"
             ],
             [
              0.7777777777777778,
              "#fb9f3a"
             ],
             [
              0.8888888888888888,
              "#fdca26"
             ],
             [
              1,
              "#f0f921"
             ]
            ],
            "type": "surface"
           }
          ],
          "table": [
           {
            "cells": {
             "fill": {
              "color": "#EBF0F8"
             },
             "line": {
              "color": "white"
             }
            },
            "header": {
             "fill": {
              "color": "#C8D4E3"
             },
             "line": {
              "color": "white"
             }
            },
            "type": "table"
           }
          ]
         },
         "layout": {
          "annotationdefaults": {
           "arrowcolor": "#2a3f5f",
           "arrowhead": 0,
           "arrowwidth": 1
          },
          "autotypenumbers": "strict",
          "coloraxis": {
           "colorbar": {
            "outlinewidth": 0,
            "ticks": ""
           }
          },
          "colorscale": {
           "diverging": [
            [
             0,
             "#8e0152"
            ],
            [
             0.1,
             "#c51b7d"
            ],
            [
             0.2,
             "#de77ae"
            ],
            [
             0.3,
             "#f1b6da"
            ],
            [
             0.4,
             "#fde0ef"
            ],
            [
             0.5,
             "#f7f7f7"
            ],
            [
             0.6,
             "#e6f5d0"
            ],
            [
             0.7,
             "#b8e186"
            ],
            [
             0.8,
             "#7fbc41"
            ],
            [
             0.9,
             "#4d9221"
            ],
            [
             1,
             "#276419"
            ]
           ],
           "sequential": [
            [
             0,
             "#0d0887"
            ],
            [
             0.1111111111111111,
             "#46039f"
            ],
            [
             0.2222222222222222,
             "#7201a8"
            ],
            [
             0.3333333333333333,
             "#9c179e"
            ],
            [
             0.4444444444444444,
             "#bd3786"
            ],
            [
             0.5555555555555556,
             "#d8576b"
            ],
            [
             0.6666666666666666,
             "#ed7953"
            ],
            [
             0.7777777777777778,
             "#fb9f3a"
            ],
            [
             0.8888888888888888,
             "#fdca26"
            ],
            [
             1,
             "#f0f921"
            ]
           ],
           "sequentialminus": [
            [
             0,
             "#0d0887"
            ],
            [
             0.1111111111111111,
             "#46039f"
            ],
            [
             0.2222222222222222,
             "#7201a8"
            ],
            [
             0.3333333333333333,
             "#9c179e"
            ],
            [
             0.4444444444444444,
             "#bd3786"
            ],
            [
             0.5555555555555556,
             "#d8576b"
            ],
            [
             0.6666666666666666,
             "#ed7953"
            ],
            [
             0.7777777777777778,
             "#fb9f3a"
            ],
            [
             0.8888888888888888,
             "#fdca26"
            ],
            [
             1,
             "#f0f921"
            ]
           ]
          },
          "colorway": [
           "#636efa",
           "#EF553B",
           "#00cc96",
           "#ab63fa",
           "#FFA15A",
           "#19d3f3",
           "#FF6692",
           "#B6E880",
           "#FF97FF",
           "#FECB52"
          ],
          "font": {
           "color": "#2a3f5f"
          },
          "geo": {
           "bgcolor": "white",
           "lakecolor": "white",
           "landcolor": "#E5ECF6",
           "showlakes": true,
           "showland": true,
           "subunitcolor": "white"
          },
          "hoverlabel": {
           "align": "left"
          },
          "hovermode": "closest",
          "mapbox": {
           "style": "light"
          },
          "paper_bgcolor": "white",
          "plot_bgcolor": "#E5ECF6",
          "polar": {
           "angularaxis": {
            "gridcolor": "white",
            "linecolor": "white",
            "ticks": ""
           },
           "bgcolor": "#E5ECF6",
           "radialaxis": {
            "gridcolor": "white",
            "linecolor": "white",
            "ticks": ""
           }
          },
          "scene": {
           "xaxis": {
            "backgroundcolor": "#E5ECF6",
            "gridcolor": "white",
            "gridwidth": 2,
            "linecolor": "white",
            "showbackground": true,
            "ticks": "",
            "zerolinecolor": "white"
           },
           "yaxis": {
            "backgroundcolor": "#E5ECF6",
            "gridcolor": "white",
            "gridwidth": 2,
            "linecolor": "white",
            "showbackground": true,
            "ticks": "",
            "zerolinecolor": "white"
           },
           "zaxis": {
            "backgroundcolor": "#E5ECF6",
            "gridcolor": "white",
            "gridwidth": 2,
            "linecolor": "white",
            "showbackground": true,
            "ticks": "",
            "zerolinecolor": "white"
           }
          },
          "shapedefaults": {
           "line": {
            "color": "#2a3f5f"
           }
          },
          "ternary": {
           "aaxis": {
            "gridcolor": "white",
            "linecolor": "white",
            "ticks": ""
           },
           "baxis": {
            "gridcolor": "white",
            "linecolor": "white",
            "ticks": ""
           },
           "bgcolor": "#E5ECF6",
           "caxis": {
            "gridcolor": "white",
            "linecolor": "white",
            "ticks": ""
           }
          },
          "title": {
           "x": 0.05
          },
          "xaxis": {
           "automargin": true,
           "gridcolor": "white",
           "linecolor": "white",
           "ticks": "",
           "title": {
            "standoff": 15
           },
           "zerolinecolor": "white",
           "zerolinewidth": 2
          },
          "yaxis": {
           "automargin": true,
           "gridcolor": "white",
           "linecolor": "white",
           "ticks": "",
           "title": {
            "standoff": 15
           },
           "zerolinecolor": "white",
           "zerolinewidth": 2
          }
         }
        },
        "title": {
         "text": "Heatmap"
        },
        "width": 1000,
        "xaxis": {
         "dtick": 1,
         "gridcolor": "rgb(0, 0, 0)",
         "side": "top",
         "ticks": ""
        },
        "yaxis": {
         "dtick": 1,
         "ticks": "",
         "ticksuffix": "  "
        }
       }
      },
      "text/html": [
       "<div>                            <div id=\"48863017-1459-407c-8fb3-58e9136f74b1\" class=\"plotly-graph-div\" style=\"height:800px; width:1000px;\"></div>            <script type=\"text/javascript\">                require([\"plotly\"], function(Plotly) {                    window.PLOTLYENV=window.PLOTLYENV || {};                                    if (document.getElementById(\"48863017-1459-407c-8fb3-58e9136f74b1\")) {                    Plotly.newPlot(                        \"48863017-1459-407c-8fb3-58e9136f74b1\",                        [{\"colorscale\":[[0.0,\"#440154\"],[0.1111111111111111,\"#482878\"],[0.2222222222222222,\"#3e4989\"],[0.3333333333333333,\"#31688e\"],[0.4444444444444444,\"#26828e\"],[0.5555555555555556,\"#1f9e89\"],[0.6666666666666666,\"#35b779\"],[0.7777777777777778,\"#6ece58\"],[0.8888888888888888,\"#b5de2b\"],[1.0,\"#fde725\"]],\"hoverinfo\":\"z\",\"reversescale\":false,\"showscale\":false,\"x\":[\"NumberOfScenes\",\"RunTime\",\"PositiveScenes\",\"NegativeScenes\",\"NeutralScenes\",\"SentimentPolarity\",\"Fear\",\"Anger\",\"Anticipation\",\"Trust\",\"Surprise\",\"Positive\",\"Negative\",\"Sadness\",\"Disgust\",\"Joy\",\"NumberOfCharacters\",\"ThreeActStructure\",\"FiveActStructure\",\"HeroStructure\",\"NonlinearStructure\",\"ParallelStructure\",\"CircularStructure\",\"OpenEndedStructre\",\"InMediasStructure\",\"ExperimentalStructure\",\"Rating\",\"budget\",\"collections\"],\"y\":[\"NumberOfScenes\",\"RunTime\",\"PositiveScenes\",\"NegativeScenes\",\"NeutralScenes\",\"SentimentPolarity\",\"Fear\",\"Anger\",\"Anticipation\",\"Trust\",\"Surprise\",\"Positive\",\"Negative\",\"Sadness\",\"Disgust\",\"Joy\",\"NumberOfCharacters\",\"ThreeActStructure\",\"FiveActStructure\",\"HeroStructure\",\"NonlinearStructure\",\"ParallelStructure\",\"CircularStructure\",\"OpenEndedStructre\",\"InMediasStructure\",\"ExperimentalStructure\",\"Rating\",\"budget\",\"collections\"],\"z\":[[1.0,0.8121554272851311,0.8125109142687519,0.8086618002614541,0.8074508314755003,-0.09505184828768427,0.8695097187365248,0.8367944475174887,0.7923948842533088,0.8747636707113372,0.805487376560166,0.9092780904466012,0.906182638018822,0.8359599098276371,0.8002111862699651,0.8004714844293966,0.07326850574719418,0.07607795321855568,0.02186028545239289,0.06581533990713016,0.10207814790400602,0.0800653601445766,0.1245986511185521,0.006491646773956232,-0.01100469291407142,0.009096245627427103,0.12650016434209607,-0.05691710827612719,-0.04307557680127558],[0.8121554272851311,1.0,0.6738326536199527,0.6788048493845574,0.5973685713977137,-0.08447471226510575,0.6685514930639562,0.643119356105712,0.6605896527483336,0.6815400647452049,0.6236328518925474,0.7317076782450221,0.7323842166079411,0.6504087628735252,0.627375987084597,0.6265971493311441,0.0672982704689706,0.06258097607732929,0.015006706483343785,0.05861538096319503,0.06678034671910114,0.01640142421152121,0.09917535327156908,0.013932382572107571,-0.010231873850886815,-0.01504370646204819,0.08613533108438247,-0.05671927021241008,-0.04454433096700772],[0.8125109142687519,0.6738326536199527,1.0,0.379139868325787,0.5284895371910169,0.40871769277134895,0.557854410030584,0.5586731159643415,0.7174447669282462,0.6481010840680128,0.56130232387883,0.8502793387697908,0.5847673796163418,0.574224277284665,0.5296963223576308,0.595404087703649,0.11457597806492627,0.12447870579446071,0.09887610201049016,0.08040654864341418,0.08719877924359566,0.016280936566969516,0.09648258075032075,0.04280366872725935,0.007033383872698357,0.003000460297343838,0.1259989030917084,-0.06604935464061674,-0.05008572424091272],[0.8086618002614541,0.6788048493845574,0.379139868325787,1.0,0.5684586292497312,-0.579494204983749,0.7424822709527793,0.662580422408069,0.5506486358686434,0.6598835208971991,0.5874933698352292,0.5803010298452415,0.8641795673520541,0.6550638351435139,0.616788123125456,0.5546341202767504,0.013854805985388338,0.02335961454996333,-0.045093820665578224,0.07421579335300277,0.0899742375060169,0.11810163738418064,0.1330577275702654,-0.022961941203965247,-0.024023946496102518,0.0033803209499407715,0.08432405939593095,-0.04399419997027956,-0.029005382555485525],[0.8074508314755003,0.5973685713977137,0.5284895371910169,0.5684586292497312,1.0,-0.09192526369450887,0.8885493018245388,0.9011821913227323,0.6597555081886621,0.886797815098088,0.9079928911168421,0.7938017047006442,0.7766952458415846,0.8841948244866452,0.896154247365019,0.8857675979545905,0.039100176364344805,0.0171065642849977,-0.018463448305583326,-0.02534227058084288,0.06348195311662579,0.06154885597351402,0.05723412552951597,-0.01278812376596346,-0.011607200998019061,0.021018659944100095,0.09181517986990771,-0.016012095655114945,-0.0187715335959624],[-0.09505184828768427,-0.08447471226510575,0.40871769277134895,-0.579494204983749,-0.09192526369450887,1.0,-0.22002741297313771,-0.15197428081408884,0.05953993196432901,-0.08259728644589087,-0.0833502459698235,0.13320255665702738,-0.31561802302107184,-0.12487023392688607,-0.13156208836065783,-0.023002851555814968,0.052789690588987706,0.04778806063684193,0.08356869051784661,0.008028029013748631,-0.008477997315757123,-0.07921084989435154,-0.0693739595791903,0.05824771642639064,0.03293364792732073,-0.003810127400271323,0.014304404557217279,0.00274405611508699,-0.00511769003143105],[0.8695097187365248,0.6685514930639562,0.557854410030584,0.7424822709527793,0.8885493018245388,-0.22002741297313771,1.0,0.9509924975074595,0.6637235267658241,0.9060116232525286,0.9212152351065861,0.7756669935916171,0.8930484977294862,0.9233729360176489,0.9197054103898701,0.8759496924531378,0.03904726235403114,0.011820541346085449,-0.022108753849565874,0.012617594862230118,0.09800865017600223,0.08011538531127375,0.09650040226859401,-0.0032002740503443926,-0.015290630715958672,0.026411987618499562,0.08310698141720307,-0.026016873175063654,-0.0256966186836387],[0.8367944475174887,0.643119356105712,0.5586731159643415,0.662580422408069,0.9011821913227323,-0.15197428081408884,0.9509924975074595,1.0,0.6683759554212413,0.9249370469057644,0.9640274165353772,0.801533190186778,0.8556990543868712,0.9568088588137091,0.9650790928562797,0.9380033748625183,0.03092653329691212,0.0012809231171784694,-0.014889588860144977,-0.021975605723827733,0.0785810083673043,0.05720012650305427,0.07622541135935818,-0.014192813125229329,-0.013427016719576485,0.015453739353253157,0.09498315258820224,-0.039168648533707266,-0.03902694206719672],[0.7923948842533088,0.6605896527483336,0.7174447669282462,0.5506486358686434,0.6597555081886621,0.05953993196432901,0.6637235267658241,0.6683759554212413,1.0,0.7268359323832181,0.6687224557401199,0.7735998617963601,0.6379287488126567,0.6823250783538009,0.6383338929483432,0.6887615484857674,0.03743483184448492,0.06225876653186695,0.02142354012694479,0.04343159181833546,0.059360005855874406,0.025627085755030525,0.0758355272197602,-0.006799882837257912,-0.014595930264024446,0.02255647877899899,0.11760349199292486,-0.03813294289116842,-0.021602208240826155],[0.8747636707113372,0.6815400647452049,0.6481010840680128,0.6598835208971991,0.886797815098088,-0.08259728644589087,0.9060116232525286,0.9249370469057644,0.7268359323832181,1.0,0.9224168692187541,0.8640666739246624,0.807557221982102,0.9162185839459023,0.9178443365282077,0.9208945078541922,0.04776185578369807,0.038730229403992567,-0.0022960621132099143,-0.002707112120009549,0.08915765061429648,0.060622987885320584,0.06888635106315837,-0.018682178219844598,-0.009262646795174035,-0.0034408305922016148,0.12863633336997085,-0.05448403694601737,-0.03914590466645126],[0.805487376560166,0.6236328518925474,0.56130232387883,0.5874933698352292,0.9079928911168421,-0.0833502459698235,0.9212152351065861,0.9640274165353772,0.6687224557401199,0.9224168692187541,1.0,0.8153362629363796,0.8007410072870788,0.958954297442042,0.9689963003255639,0.9638439910850504,0.021180986427933927,0.0014674479472753755,-0.011947596141541585,-0.03276194475033967,0.06880757926389772,0.020857607966246,0.05704707251185521,-0.009511424482242493,-0.011666438272109203,0.019124011158958447,0.09971859507607367,-0.04108388099478318,-0.038311985385900735],[0.9092780904466012,0.7317076782450221,0.8502793387697908,0.5803010298452415,0.7938017047006442,0.13320255665702738,0.7756669935916171,0.801533190186778,0.7735998617963601,0.8640666739246624,0.8153362629363796,1.0,0.7087738587791836,0.8116227632251753,0.7955783533678826,0.8476926855375887,0.08270822706994337,0.09207254048811184,0.0764712076674103,0.02861732400457433,0.06665138603238606,0.03386649616332705,0.07261214365243313,0.035517645878703576,0.007746067579658845,0.011443475627847647,0.1374619445845459,-0.05770953999231559,-0.0422462749714176],[0.906182638018822,0.7323842166079411,0.5847673796163418,0.8641795673520541,0.7766952458415846,-0.31561802302107184,0.8930484977294862,0.8556990543868712,0.6379287488126567,0.807557221982102,0.8007410072870788,0.7087738587791836,1.0,0.8442885048882485,0.8181628316221512,0.7617518380630655,0.030217272378731203,0.02869927011446337,-0.031002911360450584,0.04349192331143469,0.12085133949775681,0.0883822395310403,0.13634208664837777,-0.013479574299258341,-0.024651996838042405,0.010836089161161877,0.08900262323526312,-0.05778839369682803,-0.05210971951365512],[0.8359599098276371,0.6504087628735252,0.574224277284665,0.6550638351435139,0.8841948244866452,-0.12487023392688607,0.9233729360176489,0.9568088588137091,0.6823250783538009,0.9162185839459023,0.958954297442042,0.8116227632251753,0.8442885048882485,1.0,0.9587868042245349,0.9465503367659654,-0.0003790910396968108,-0.0031618070417287546,-0.01642245934161104,-0.015592541997063019,0.08554062770331779,0.03356857827160142,0.05987772631018421,0.009812557389855906,-0.00379415629768192,0.013943901134498322,0.11156650659600557,-0.050706029996281515,-0.044246339728368486],[0.8002111862699651,0.627375987084597,0.5296963223576308,0.616788123125456,0.896154247365019,-0.13156208836065783,0.9197054103898701,0.9650790928562797,0.6383338929483432,0.9178443365282077,0.9689963003255639,0.7955783533678826,0.8181628316221512,0.9587868042245349,1.0,0.9569146820505576,0.009475098154868754,-0.017395516107934297,-0.03351473604877728,-0.034074482363297895,0.07359182202809338,0.0309773756576545,0.053497498842259024,-0.0024893214191735596,-0.015010271351757013,0.015819926866247846,0.0970917186058204,-0.04190491663634608,-0.04168779681674244],[0.8004714844293966,0.6265971493311441,0.595404087703649,0.5546341202767504,0.8857675979545905,-0.023002851555814968,0.8759496924531378,0.9380033748625183,0.6887615484857674,0.9208945078541922,0.9638439910850504,0.8476926855375887,0.7617518380630655,0.9465503367659654,0.9569146820505576,1.0,0.02152785945897973,-0.0025742388373098998,-0.026603214325518147,-0.05614674642884176,0.08206205388333022,-0.007871584579740735,0.029981526119307208,-0.0001746348624667731,0.004104922738166097,-0.003968735538584911,0.12476656680347523,-0.0496924603718622,-0.04512789266106464],[0.07326850574719418,0.0672982704689706,0.11457597806492627,0.013854805985388338,0.039100176364344805,0.052789690588987706,0.03904726235403114,0.03092653329691212,0.03743483184448492,0.04776185578369807,0.021180986427933927,0.08270822706994337,0.030217272378731203,-0.0003790910396968108,0.009475098154868754,0.02152785945897973,1.0,0.10099985068564818,0.11404912436650129,-0.009076123795084472,-9.852182137306249e-05,-0.006904066336731025,0.02845122572331365,0.06213262560976856,0.045645128532346105,-0.019517556881501603,0.055492268389403465,-0.0014798667119581964,0.016827518926240376],[0.07607795321855568,0.06258097607732929,0.12447870579446071,0.02335961454996333,0.0171065642849977,0.04778806063684193,0.011820541346085449,0.0012809231171784694,0.06225876653186695,0.038730229403992567,0.0014674479472753755,0.09207254048811184,0.02869927011446337,-0.0031618070417287546,-0.017395516107934297,-0.0025742388373098998,0.10099985068564818,1.0,0.43725787914397835,0.031063650463569004,0.05815651882665662,0.055927538733810754,0.10392983899610778,0.0831681838682485,-0.04031710230215457,0.13027942840094892,0.061980811664614166,-0.025793276925003994,-0.014578115743470904],[0.02186028545239289,0.015006706483343785,0.09887610201049016,-0.045093820665578224,-0.018463448305583326,0.08356869051784661,-0.022108753849565874,-0.014889588860144977,0.02142354012694479,-0.0022960621132099143,-0.011947596141541585,0.0764712076674103,-0.031002911360450584,-0.01642245934161104,-0.03351473604877728,-0.026603214325518147,0.11404912436650129,0.43725787914397835,1.0,0.04919544197763964,0.005957404160633317,0.06205824841404783,0.10890023986555751,-0.0009666918054272854,-0.03448772964585268,0.10932057914999288,0.004925820271313876,0.0006397388324014835,0.023027975068809974],[0.06581533990713016,0.05861538096319503,0.08040654864341418,0.07421579335300277,-0.02534227058084288,0.008028029013748631,0.012617594862230118,-0.021975605723827733,0.04343159181833546,-0.002707112120009549,-0.03276194475033967,0.02861732400457433,0.04349192331143469,-0.015592541997063019,-0.034074482363297895,-0.05614674642884176,-0.009076123795084472,0.031063650463569004,0.04919544197763964,1.0,0.017050753324362462,0.05443481598151323,0.047181939070711276,-0.007771041462675072,0.007412832589793564,0.019683916529226433,0.0029888931386865443,0.01502913577674639,0.018174476739564734],[0.10207814790400602,0.06678034671910114,0.08719877924359566,0.0899742375060169,0.06348195311662579,-0.008477997315757123,0.09800865017600223,0.0785810083673043,0.059360005855874406,0.08915765061429648,0.06880757926389772,0.06665138603238606,0.12085133949775681,0.08554062770331779,0.07359182202809338,0.08206205388333022,-9.852182137306249e-05,0.05815651882665662,0.005957404160633317,0.017050753324362462,1.0,0.017109830434500824,0.029810013358299678,0.04458882420992779,-0.02044841250847118,0.027886110066600692,0.011554056511771226,-0.013282834098864259,-0.022494336503586697],[0.0800653601445766,0.01640142421152121,0.016280936566969516,0.11810163738418064,0.06154885597351402,-0.07921084989435154,0.08011538531127375,0.05720012650305427,0.025627085755030525,0.060622987885320584,0.020857607966246,0.03386649616332705,0.0883822395310403,0.03356857827160142,0.0309773756576545,-0.007871584579740735,-0.006904066336731025,0.055927538733810754,0.06205824841404783,0.05443481598151323,0.017109830434500824,1.0,0.0432704167851172,0.030788564700667872,-0.01468765676446845,-0.014167483834845078,-0.0391368285267795,-0.03180488873342534,-0.015611180064468187],[0.1245986511185521,0.09917535327156908,0.09648258075032075,0.1330577275702654,0.05723412552951597,-0.0693739595791903,0.09650040226859401,0.07622541135935818,0.0758355272197602,0.06888635106315837,0.05704707251185521,0.07261214365243313,0.13634208664837777,0.05987772631018421,0.053497498842259024,0.029981526119307208,0.02845122572331365,0.10392983899610778,0.10890023986555751,0.047181939070711276,0.029810013358299678,0.0432704167851172,1.0,0.04634799564372609,0.01889659095104001,0.053574185210474676,0.02714606626730091,3.440313786626773e-05,-0.014288299069462189],[0.006491646773956232,0.013932382572107571,0.04280366872725935,-0.022961941203965247,-0.01278812376596346,0.05824771642639064,-0.0032002740503443926,-0.014192813125229329,-0.006799882837257912,-0.018682178219844598,-0.009511424482242493,0.035517645878703576,-0.013479574299258341,0.009812557389855906,-0.0024893214191735596,-0.0001746348624667731,0.06213262560976856,0.0831681838682485,-0.0009666918054272854,-0.007771041462675072,0.04458882420992779,0.030788564700667872,0.04634799564372609,1.0,-0.014262426611267517,0.0035901675333579455,-0.020649013225504234,-0.039024443230690445,-0.054283885718890985],[-0.01100469291407142,-0.010231873850886815,0.007033383872698357,-0.024023946496102518,-0.011607200998019061,0.03293364792732073,-0.015290630715958672,-0.013427016719576485,-0.014595930264024446,-0.009262646795174035,-0.011666438272109203,0.007746067579658845,-0.024651996838042405,-0.00379415629768192,-0.015010271351757013,0.004104922738166097,0.045645128532346105,-0.04031710230215457,-0.03448772964585268,0.007412832589793564,-0.02044841250847118,-0.01468765676446845,0.01889659095104001,-0.014262426611267517,1.0,-0.0091925554103854,-0.0034331868179809854,-0.017166844076809993,-0.02339827354312541],[0.009096245627427103,-0.01504370646204819,0.003000460297343838,0.0033803209499407715,0.021018659944100095,-0.003810127400271323,0.026411987618499562,0.015453739353253157,0.02255647877899899,-0.0034408305922016148,0.019124011158958447,0.011443475627847647,0.010836089161161877,0.013943901134498322,0.015819926866247846,-0.003968735538584911,-0.019517556881501603,0.13027942840094892,0.10932057914999288,0.019683916529226433,0.027886110066600692,-0.014167483834845078,0.053574185210474676,0.0035901675333579455,-0.0091925554103854,1.0,-0.04051573450224424,0.055149593603461174,0.030034619771931885],[0.12650016434209607,0.08613533108438247,0.1259989030917084,0.08432405939593095,0.09181517986990771,0.014304404557217279,0.08310698141720307,0.09498315258820224,0.11760349199292486,0.12863633336997085,0.09971859507607367,0.1374619445845459,0.08900262323526312,0.11156650659600557,0.0970917186058204,0.12476656680347523,0.055492268389403465,0.061980811664614166,0.004925820271313876,0.0029888931386865443,0.011554056511771226,-0.0391368285267795,0.02714606626730091,-0.020649013225504234,-0.0034331868179809854,-0.04051573450224424,1.0,-0.01268410801292146,-0.004838572743571139],[-0.05691710827612719,-0.05671927021241008,-0.06604935464061674,-0.04399419997027956,-0.016012095655114945,0.00274405611508699,-0.026016873175063654,-0.039168648533707266,-0.03813294289116842,-0.05448403694601737,-0.04108388099478318,-0.05770953999231559,-0.05778839369682803,-0.050706029996281515,-0.04190491663634608,-0.0496924603718622,-0.0014798667119581964,-0.025793276925003994,0.0006397388324014835,0.01502913577674639,-0.013282834098864259,-0.03180488873342534,3.440313786626773e-05,-0.039024443230690445,-0.017166844076809993,0.055149593603461174,-0.01268410801292146,1.0,0.8860017437279885],[-0.04307557680127558,-0.04454433096700772,-0.05008572424091272,-0.029005382555485525,-0.0187715335959624,-0.00511769003143105,-0.0256966186836387,-0.03902694206719672,-0.021602208240826155,-0.03914590466645126,-0.038311985385900735,-0.0422462749714176,-0.05210971951365512,-0.044246339728368486,-0.04168779681674244,-0.04512789266106464,0.016827518926240376,-0.014578115743470904,0.023027975068809974,0.018174476739564734,-0.022494336503586697,-0.015611180064468187,-0.014288299069462189,-0.054283885718890985,-0.02339827354312541,0.030034619771931885,-0.004838572743571139,0.8860017437279885,1.0]],\"type\":\"heatmap\"}],                        {\"annotations\":[{\"font\":{\"color\":\"#000000\"},\"showarrow\":false,\"text\":\"1.0\",\"x\":\"NumberOfScenes\",\"xref\":\"x\",\"y\":\"NumberOfScenes\",\"yref\":\"y\"},{\"font\":{\"color\":\"#000000\"},\"showarrow\":false,\"text\":\"0.81\",\"x\":\"RunTime\",\"xref\":\"x\",\"y\":\"NumberOfScenes\",\"yref\":\"y\"},{\"font\":{\"color\":\"#000000\"},\"showarrow\":false,\"text\":\"0.81\",\"x\":\"PositiveScenes\",\"xref\":\"x\",\"y\":\"NumberOfScenes\",\"yref\":\"y\"},{\"font\":{\"color\":\"#000000\"},\"showarrow\":false,\"text\":\"0.81\",\"x\":\"NegativeScenes\",\"xref\":\"x\",\"y\":\"NumberOfScenes\",\"yref\":\"y\"},{\"font\":{\"color\":\"#000000\"},\"showarrow\":false,\"text\":\"0.81\",\"x\":\"NeutralScenes\",\"xref\":\"x\",\"y\":\"NumberOfScenes\",\"yref\":\"y\"},{\"font\":{\"color\":\"#FFFFFF\"},\"showarrow\":false,\"text\":\"-0.1\",\"x\":\"SentimentPolarity\",\"xref\":\"x\",\"y\":\"NumberOfScenes\",\"yref\":\"y\"},{\"font\":{\"color\":\"#000000\"},\"showarrow\":false,\"text\":\"0.87\",\"x\":\"Fear\",\"xref\":\"x\",\"y\":\"NumberOfScenes\",\"yref\":\"y\"},{\"font\":{\"color\":\"#000000\"},\"showarrow\":false,\"text\":\"0.84\",\"x\":\"Anger\",\"xref\":\"x\",\"y\":\"NumberOfScenes\",\"yref\":\"y\"},{\"font\":{\"color\":\"#000000\"},\"showarrow\":false,\"text\":\"0.79\",\"x\":\"Anticipation\",\"xref\":\"x\",\"y\":\"NumberOfScenes\",\"yref\":\"y\"},{\"font\":{\"color\":\"#000000\"},\"showarrow\":false,\"text\":\"0.87\",\"x\":\"Trust\",\"xref\":\"x\",\"y\":\"NumberOfScenes\",\"yref\":\"y\"},{\"font\":{\"color\":\"#000000\"},\"showarrow\":false,\"text\":\"0.81\",\"x\":\"Surprise\",\"xref\":\"x\",\"y\":\"NumberOfScenes\",\"yref\":\"y\"},{\"font\":{\"color\":\"#000000\"},\"showarrow\":false,\"text\":\"0.91\",\"x\":\"Positive\",\"xref\":\"x\",\"y\":\"NumberOfScenes\",\"yref\":\"y\"},{\"font\":{\"color\":\"#000000\"},\"showarrow\":false,\"text\":\"0.91\",\"x\":\"Negative\",\"xref\":\"x\",\"y\":\"NumberOfScenes\",\"yref\":\"y\"},{\"font\":{\"color\":\"#000000\"},\"showarrow\":false,\"text\":\"0.84\",\"x\":\"Sadness\",\"xref\":\"x\",\"y\":\"NumberOfScenes\",\"yref\":\"y\"},{\"font\":{\"color\":\"#000000\"},\"showarrow\":false,\"text\":\"0.8\",\"x\":\"Disgust\",\"xref\":\"x\",\"y\":\"NumberOfScenes\",\"yref\":\"y\"},{\"font\":{\"color\":\"#000000\"},\"showarrow\":false,\"text\":\"0.8\",\"x\":\"Joy\",\"xref\":\"x\",\"y\":\"NumberOfScenes\",\"yref\":\"y\"},{\"font\":{\"color\":\"#FFFFFF\"},\"showarrow\":false,\"text\":\"0.07\",\"x\":\"NumberOfCharacters\",\"xref\":\"x\",\"y\":\"NumberOfScenes\",\"yref\":\"y\"},{\"font\":{\"color\":\"#FFFFFF\"},\"showarrow\":false,\"text\":\"0.08\",\"x\":\"ThreeActStructure\",\"xref\":\"x\",\"y\":\"NumberOfScenes\",\"yref\":\"y\"},{\"font\":{\"color\":\"#FFFFFF\"},\"showarrow\":false,\"text\":\"0.02\",\"x\":\"FiveActStructure\",\"xref\":\"x\",\"y\":\"NumberOfScenes\",\"yref\":\"y\"},{\"font\":{\"color\":\"#FFFFFF\"},\"showarrow\":false,\"text\":\"0.07\",\"x\":\"HeroStructure\",\"xref\":\"x\",\"y\":\"NumberOfScenes\",\"yref\":\"y\"},{\"font\":{\"color\":\"#FFFFFF\"},\"showarrow\":false,\"text\":\"0.1\",\"x\":\"NonlinearStructure\",\"xref\":\"x\",\"y\":\"NumberOfScenes\",\"yref\":\"y\"},{\"font\":{\"color\":\"#FFFFFF\"},\"showarrow\":false,\"text\":\"0.08\",\"x\":\"ParallelStructure\",\"xref\":\"x\",\"y\":\"NumberOfScenes\",\"yref\":\"y\"},{\"font\":{\"color\":\"#FFFFFF\"},\"showarrow\":false,\"text\":\"0.12\",\"x\":\"CircularStructure\",\"xref\":\"x\",\"y\":\"NumberOfScenes\",\"yref\":\"y\"},{\"font\":{\"color\":\"#FFFFFF\"},\"showarrow\":false,\"text\":\"0.01\",\"x\":\"OpenEndedStructre\",\"xref\":\"x\",\"y\":\"NumberOfScenes\",\"yref\":\"y\"},{\"font\":{\"color\":\"#FFFFFF\"},\"showarrow\":false,\"text\":\"-0.01\",\"x\":\"InMediasStructure\",\"xref\":\"x\",\"y\":\"NumberOfScenes\",\"yref\":\"y\"},{\"font\":{\"color\":\"#FFFFFF\"},\"showarrow\":false,\"text\":\"0.01\",\"x\":\"ExperimentalStructure\",\"xref\":\"x\",\"y\":\"NumberOfScenes\",\"yref\":\"y\"},{\"font\":{\"color\":\"#FFFFFF\"},\"showarrow\":false,\"text\":\"0.13\",\"x\":\"Rating\",\"xref\":\"x\",\"y\":\"NumberOfScenes\",\"yref\":\"y\"},{\"font\":{\"color\":\"#FFFFFF\"},\"showarrow\":false,\"text\":\"-0.06\",\"x\":\"budget\",\"xref\":\"x\",\"y\":\"NumberOfScenes\",\"yref\":\"y\"},{\"font\":{\"color\":\"#FFFFFF\"},\"showarrow\":false,\"text\":\"-0.04\",\"x\":\"collections\",\"xref\":\"x\",\"y\":\"NumberOfScenes\",\"yref\":\"y\"},{\"font\":{\"color\":\"#000000\"},\"showarrow\":false,\"text\":\"0.81\",\"x\":\"NumberOfScenes\",\"xref\":\"x\",\"y\":\"RunTime\",\"yref\":\"y\"},{\"font\":{\"color\":\"#000000\"},\"showarrow\":false,\"text\":\"1.0\",\"x\":\"RunTime\",\"xref\":\"x\",\"y\":\"RunTime\",\"yref\":\"y\"},{\"font\":{\"color\":\"#000000\"},\"showarrow\":false,\"text\":\"0.67\",\"x\":\"PositiveScenes\",\"xref\":\"x\",\"y\":\"RunTime\",\"yref\":\"y\"},{\"font\":{\"color\":\"#000000\"},\"showarrow\":false,\"text\":\"0.68\",\"x\":\"NegativeScenes\",\"xref\":\"x\",\"y\":\"RunTime\",\"yref\":\"y\"},{\"font\":{\"color\":\"#000000\"},\"showarrow\":false,\"text\":\"0.6\",\"x\":\"NeutralScenes\",\"xref\":\"x\",\"y\":\"RunTime\",\"yref\":\"y\"},{\"font\":{\"color\":\"#FFFFFF\"},\"showarrow\":false,\"text\":\"-0.08\",\"x\":\"SentimentPolarity\",\"xref\":\"x\",\"y\":\"RunTime\",\"yref\":\"y\"},{\"font\":{\"color\":\"#000000\"},\"showarrow\":false,\"text\":\"0.67\",\"x\":\"Fear\",\"xref\":\"x\",\"y\":\"RunTime\",\"yref\":\"y\"},{\"font\":{\"color\":\"#000000\"},\"showarrow\":false,\"text\":\"0.64\",\"x\":\"Anger\",\"xref\":\"x\",\"y\":\"RunTime\",\"yref\":\"y\"},{\"font\":{\"color\":\"#000000\"},\"showarrow\":false,\"text\":\"0.66\",\"x\":\"Anticipation\",\"xref\":\"x\",\"y\":\"RunTime\",\"yref\":\"y\"},{\"font\":{\"color\":\"#000000\"},\"showarrow\":false,\"text\":\"0.68\",\"x\":\"Trust\",\"xref\":\"x\",\"y\":\"RunTime\",\"yref\":\"y\"},{\"font\":{\"color\":\"#000000\"},\"showarrow\":false,\"text\":\"0.62\",\"x\":\"Surprise\",\"xref\":\"x\",\"y\":\"RunTime\",\"yref\":\"y\"},{\"font\":{\"color\":\"#000000\"},\"showarrow\":false,\"text\":\"0.73\",\"x\":\"Positive\",\"xref\":\"x\",\"y\":\"RunTime\",\"yref\":\"y\"},{\"font\":{\"color\":\"#000000\"},\"showarrow\":false,\"text\":\"0.73\",\"x\":\"Negative\",\"xref\":\"x\",\"y\":\"RunTime\",\"yref\":\"y\"},{\"font\":{\"color\":\"#000000\"},\"showarrow\":false,\"text\":\"0.65\",\"x\":\"Sadness\",\"xref\":\"x\",\"y\":\"RunTime\",\"yref\":\"y\"},{\"font\":{\"color\":\"#000000\"},\"showarrow\":false,\"text\":\"0.63\",\"x\":\"Disgust\",\"xref\":\"x\",\"y\":\"RunTime\",\"yref\":\"y\"},{\"font\":{\"color\":\"#000000\"},\"showarrow\":false,\"text\":\"0.63\",\"x\":\"Joy\",\"xref\":\"x\",\"y\":\"RunTime\",\"yref\":\"y\"},{\"font\":{\"color\":\"#FFFFFF\"},\"showarrow\":false,\"text\":\"0.07\",\"x\":\"NumberOfCharacters\",\"xref\":\"x\",\"y\":\"RunTime\",\"yref\":\"y\"},{\"font\":{\"color\":\"#FFFFFF\"},\"showarrow\":false,\"text\":\"0.06\",\"x\":\"ThreeActStructure\",\"xref\":\"x\",\"y\":\"RunTime\",\"yref\":\"y\"},{\"font\":{\"color\":\"#FFFFFF\"},\"showarrow\":false,\"text\":\"0.02\",\"x\":\"FiveActStructure\",\"xref\":\"x\",\"y\":\"RunTime\",\"yref\":\"y\"},{\"font\":{\"color\":\"#FFFFFF\"},\"showarrow\":false,\"text\":\"0.06\",\"x\":\"HeroStructure\",\"xref\":\"x\",\"y\":\"RunTime\",\"yref\":\"y\"},{\"font\":{\"color\":\"#FFFFFF\"},\"showarrow\":false,\"text\":\"0.07\",\"x\":\"NonlinearStructure\",\"xref\":\"x\",\"y\":\"RunTime\",\"yref\":\"y\"},{\"font\":{\"color\":\"#FFFFFF\"},\"showarrow\":false,\"text\":\"0.02\",\"x\":\"ParallelStructure\",\"xref\":\"x\",\"y\":\"RunTime\",\"yref\":\"y\"},{\"font\":{\"color\":\"#FFFFFF\"},\"showarrow\":false,\"text\":\"0.1\",\"x\":\"CircularStructure\",\"xref\":\"x\",\"y\":\"RunTime\",\"yref\":\"y\"},{\"font\":{\"color\":\"#FFFFFF\"},\"showarrow\":false,\"text\":\"0.01\",\"x\":\"OpenEndedStructre\",\"xref\":\"x\",\"y\":\"RunTime\",\"yref\":\"y\"},{\"font\":{\"color\":\"#FFFFFF\"},\"showarrow\":false,\"text\":\"-0.01\",\"x\":\"InMediasStructure\",\"xref\":\"x\",\"y\":\"RunTime\",\"yref\":\"y\"},{\"font\":{\"color\":\"#FFFFFF\"},\"showarrow\":false,\"text\":\"-0.02\",\"x\":\"ExperimentalStructure\",\"xref\":\"x\",\"y\":\"RunTime\",\"yref\":\"y\"},{\"font\":{\"color\":\"#FFFFFF\"},\"showarrow\":false,\"text\":\"0.09\",\"x\":\"Rating\",\"xref\":\"x\",\"y\":\"RunTime\",\"yref\":\"y\"},{\"font\":{\"color\":\"#FFFFFF\"},\"showarrow\":false,\"text\":\"-0.06\",\"x\":\"budget\",\"xref\":\"x\",\"y\":\"RunTime\",\"yref\":\"y\"},{\"font\":{\"color\":\"#FFFFFF\"},\"showarrow\":false,\"text\":\"-0.04\",\"x\":\"collections\",\"xref\":\"x\",\"y\":\"RunTime\",\"yref\":\"y\"},{\"font\":{\"color\":\"#000000\"},\"showarrow\":false,\"text\":\"0.81\",\"x\":\"NumberOfScenes\",\"xref\":\"x\",\"y\":\"PositiveScenes\",\"yref\":\"y\"},{\"font\":{\"color\":\"#000000\"},\"showarrow\":false,\"text\":\"0.67\",\"x\":\"RunTime\",\"xref\":\"x\",\"y\":\"PositiveScenes\",\"yref\":\"y\"},{\"font\":{\"color\":\"#000000\"},\"showarrow\":false,\"text\":\"1.0\",\"x\":\"PositiveScenes\",\"xref\":\"x\",\"y\":\"PositiveScenes\",\"yref\":\"y\"},{\"font\":{\"color\":\"#000000\"},\"showarrow\":false,\"text\":\"0.38\",\"x\":\"NegativeScenes\",\"xref\":\"x\",\"y\":\"PositiveScenes\",\"yref\":\"y\"},{\"font\":{\"color\":\"#000000\"},\"showarrow\":false,\"text\":\"0.53\",\"x\":\"NeutralScenes\",\"xref\":\"x\",\"y\":\"PositiveScenes\",\"yref\":\"y\"},{\"font\":{\"color\":\"#000000\"},\"showarrow\":false,\"text\":\"0.41\",\"x\":\"SentimentPolarity\",\"xref\":\"x\",\"y\":\"PositiveScenes\",\"yref\":\"y\"},{\"font\":{\"color\":\"#000000\"},\"showarrow\":false,\"text\":\"0.56\",\"x\":\"Fear\",\"xref\":\"x\",\"y\":\"PositiveScenes\",\"yref\":\"y\"},{\"font\":{\"color\":\"#000000\"},\"showarrow\":false,\"text\":\"0.56\",\"x\":\"Anger\",\"xref\":\"x\",\"y\":\"PositiveScenes\",\"yref\":\"y\"},{\"font\":{\"color\":\"#000000\"},\"showarrow\":false,\"text\":\"0.72\",\"x\":\"Anticipation\",\"xref\":\"x\",\"y\":\"PositiveScenes\",\"yref\":\"y\"},{\"font\":{\"color\":\"#000000\"},\"showarrow\":false,\"text\":\"0.65\",\"x\":\"Trust\",\"xref\":\"x\",\"y\":\"PositiveScenes\",\"yref\":\"y\"},{\"font\":{\"color\":\"#000000\"},\"showarrow\":false,\"text\":\"0.56\",\"x\":\"Surprise\",\"xref\":\"x\",\"y\":\"PositiveScenes\",\"yref\":\"y\"},{\"font\":{\"color\":\"#000000\"},\"showarrow\":false,\"text\":\"0.85\",\"x\":\"Positive\",\"xref\":\"x\",\"y\":\"PositiveScenes\",\"yref\":\"y\"},{\"font\":{\"color\":\"#000000\"},\"showarrow\":false,\"text\":\"0.58\",\"x\":\"Negative\",\"xref\":\"x\",\"y\":\"PositiveScenes\",\"yref\":\"y\"},{\"font\":{\"color\":\"#000000\"},\"showarrow\":false,\"text\":\"0.57\",\"x\":\"Sadness\",\"xref\":\"x\",\"y\":\"PositiveScenes\",\"yref\":\"y\"},{\"font\":{\"color\":\"#000000\"},\"showarrow\":false,\"text\":\"0.53\",\"x\":\"Disgust\",\"xref\":\"x\",\"y\":\"PositiveScenes\",\"yref\":\"y\"},{\"font\":{\"color\":\"#000000\"},\"showarrow\":false,\"text\":\"0.6\",\"x\":\"Joy\",\"xref\":\"x\",\"y\":\"PositiveScenes\",\"yref\":\"y\"},{\"font\":{\"color\":\"#FFFFFF\"},\"showarrow\":false,\"text\":\"0.11\",\"x\":\"NumberOfCharacters\",\"xref\":\"x\",\"y\":\"PositiveScenes\",\"yref\":\"y\"},{\"font\":{\"color\":\"#FFFFFF\"},\"showarrow\":false,\"text\":\"0.12\",\"x\":\"ThreeActStructure\",\"xref\":\"x\",\"y\":\"PositiveScenes\",\"yref\":\"y\"},{\"font\":{\"color\":\"#FFFFFF\"},\"showarrow\":false,\"text\":\"0.1\",\"x\":\"FiveActStructure\",\"xref\":\"x\",\"y\":\"PositiveScenes\",\"yref\":\"y\"},{\"font\":{\"color\":\"#FFFFFF\"},\"showarrow\":false,\"text\":\"0.08\",\"x\":\"HeroStructure\",\"xref\":\"x\",\"y\":\"PositiveScenes\",\"yref\":\"y\"},{\"font\":{\"color\":\"#FFFFFF\"},\"showarrow\":false,\"text\":\"0.09\",\"x\":\"NonlinearStructure\",\"xref\":\"x\",\"y\":\"PositiveScenes\",\"yref\":\"y\"},{\"font\":{\"color\":\"#FFFFFF\"},\"showarrow\":false,\"text\":\"0.02\",\"x\":\"ParallelStructure\",\"xref\":\"x\",\"y\":\"PositiveScenes\",\"yref\":\"y\"},{\"font\":{\"color\":\"#FFFFFF\"},\"showarrow\":false,\"text\":\"0.1\",\"x\":\"CircularStructure\",\"xref\":\"x\",\"y\":\"PositiveScenes\",\"yref\":\"y\"},{\"font\":{\"color\":\"#FFFFFF\"},\"showarrow\":false,\"text\":\"0.04\",\"x\":\"OpenEndedStructre\",\"xref\":\"x\",\"y\":\"PositiveScenes\",\"yref\":\"y\"},{\"font\":{\"color\":\"#FFFFFF\"},\"showarrow\":false,\"text\":\"0.01\",\"x\":\"InMediasStructure\",\"xref\":\"x\",\"y\":\"PositiveScenes\",\"yref\":\"y\"},{\"font\":{\"color\":\"#FFFFFF\"},\"showarrow\":false,\"text\":\"0.0\",\"x\":\"ExperimentalStructure\",\"xref\":\"x\",\"y\":\"PositiveScenes\",\"yref\":\"y\"},{\"font\":{\"color\":\"#FFFFFF\"},\"showarrow\":false,\"text\":\"0.13\",\"x\":\"Rating\",\"xref\":\"x\",\"y\":\"PositiveScenes\",\"yref\":\"y\"},{\"font\":{\"color\":\"#FFFFFF\"},\"showarrow\":false,\"text\":\"-0.07\",\"x\":\"budget\",\"xref\":\"x\",\"y\":\"PositiveScenes\",\"yref\":\"y\"},{\"font\":{\"color\":\"#FFFFFF\"},\"showarrow\":false,\"text\":\"-0.05\",\"x\":\"collections\",\"xref\":\"x\",\"y\":\"PositiveScenes\",\"yref\":\"y\"},{\"font\":{\"color\":\"#000000\"},\"showarrow\":false,\"text\":\"0.81\",\"x\":\"NumberOfScenes\",\"xref\":\"x\",\"y\":\"NegativeScenes\",\"yref\":\"y\"},{\"font\":{\"color\":\"#000000\"},\"showarrow\":false,\"text\":\"0.68\",\"x\":\"RunTime\",\"xref\":\"x\",\"y\":\"NegativeScenes\",\"yref\":\"y\"},{\"font\":{\"color\":\"#000000\"},\"showarrow\":false,\"text\":\"0.38\",\"x\":\"PositiveScenes\",\"xref\":\"x\",\"y\":\"NegativeScenes\",\"yref\":\"y\"},{\"font\":{\"color\":\"#000000\"},\"showarrow\":false,\"text\":\"1.0\",\"x\":\"NegativeScenes\",\"xref\":\"x\",\"y\":\"NegativeScenes\",\"yref\":\"y\"},{\"font\":{\"color\":\"#000000\"},\"showarrow\":false,\"text\":\"0.57\",\"x\":\"NeutralScenes\",\"xref\":\"x\",\"y\":\"NegativeScenes\",\"yref\":\"y\"},{\"font\":{\"color\":\"#FFFFFF\"},\"showarrow\":false,\"text\":\"-0.58\",\"x\":\"SentimentPolarity\",\"xref\":\"x\",\"y\":\"NegativeScenes\",\"yref\":\"y\"},{\"font\":{\"color\":\"#000000\"},\"showarrow\":false,\"text\":\"0.74\",\"x\":\"Fear\",\"xref\":\"x\",\"y\":\"NegativeScenes\",\"yref\":\"y\"},{\"font\":{\"color\":\"#000000\"},\"showarrow\":false,\"text\":\"0.66\",\"x\":\"Anger\",\"xref\":\"x\",\"y\":\"NegativeScenes\",\"yref\":\"y\"},{\"font\":{\"color\":\"#000000\"},\"showarrow\":false,\"text\":\"0.55\",\"x\":\"Anticipation\",\"xref\":\"x\",\"y\":\"NegativeScenes\",\"yref\":\"y\"},{\"font\":{\"color\":\"#000000\"},\"showarrow\":false,\"text\":\"0.66\",\"x\":\"Trust\",\"xref\":\"x\",\"y\":\"NegativeScenes\",\"yref\":\"y\"},{\"font\":{\"color\":\"#000000\"},\"showarrow\":false,\"text\":\"0.59\",\"x\":\"Surprise\",\"xref\":\"x\",\"y\":\"NegativeScenes\",\"yref\":\"y\"},{\"font\":{\"color\":\"#000000\"},\"showarrow\":false,\"text\":\"0.58\",\"x\":\"Positive\",\"xref\":\"x\",\"y\":\"NegativeScenes\",\"yref\":\"y\"},{\"font\":{\"color\":\"#000000\"},\"showarrow\":false,\"text\":\"0.86\",\"x\":\"Negative\",\"xref\":\"x\",\"y\":\"NegativeScenes\",\"yref\":\"y\"},{\"font\":{\"color\":\"#000000\"},\"showarrow\":false,\"text\":\"0.66\",\"x\":\"Sadness\",\"xref\":\"x\",\"y\":\"NegativeScenes\",\"yref\":\"y\"},{\"font\":{\"color\":\"#000000\"},\"showarrow\":false,\"text\":\"0.62\",\"x\":\"Disgust\",\"xref\":\"x\",\"y\":\"NegativeScenes\",\"yref\":\"y\"},{\"font\":{\"color\":\"#000000\"},\"showarrow\":false,\"text\":\"0.55\",\"x\":\"Joy\",\"xref\":\"x\",\"y\":\"NegativeScenes\",\"yref\":\"y\"},{\"font\":{\"color\":\"#FFFFFF\"},\"showarrow\":false,\"text\":\"0.01\",\"x\":\"NumberOfCharacters\",\"xref\":\"x\",\"y\":\"NegativeScenes\",\"yref\":\"y\"},{\"font\":{\"color\":\"#FFFFFF\"},\"showarrow\":false,\"text\":\"0.02\",\"x\":\"ThreeActStructure\",\"xref\":\"x\",\"y\":\"NegativeScenes\",\"yref\":\"y\"},{\"font\":{\"color\":\"#FFFFFF\"},\"showarrow\":false,\"text\":\"-0.05\",\"x\":\"FiveActStructure\",\"xref\":\"x\",\"y\":\"NegativeScenes\",\"yref\":\"y\"},{\"font\":{\"color\":\"#FFFFFF\"},\"showarrow\":false,\"text\":\"0.07\",\"x\":\"HeroStructure\",\"xref\":\"x\",\"y\":\"NegativeScenes\",\"yref\":\"y\"},{\"font\":{\"color\":\"#FFFFFF\"},\"showarrow\":false,\"text\":\"0.09\",\"x\":\"NonlinearStructure\",\"xref\":\"x\",\"y\":\"NegativeScenes\",\"yref\":\"y\"},{\"font\":{\"color\":\"#FFFFFF\"},\"showarrow\":false,\"text\":\"0.12\",\"x\":\"ParallelStructure\",\"xref\":\"x\",\"y\":\"NegativeScenes\",\"yref\":\"y\"},{\"font\":{\"color\":\"#FFFFFF\"},\"showarrow\":false,\"text\":\"0.13\",\"x\":\"CircularStructure\",\"xref\":\"x\",\"y\":\"NegativeScenes\",\"yref\":\"y\"},{\"font\":{\"color\":\"#FFFFFF\"},\"showarrow\":false,\"text\":\"-0.02\",\"x\":\"OpenEndedStructre\",\"xref\":\"x\",\"y\":\"NegativeScenes\",\"yref\":\"y\"},{\"font\":{\"color\":\"#FFFFFF\"},\"showarrow\":false,\"text\":\"-0.02\",\"x\":\"InMediasStructure\",\"xref\":\"x\",\"y\":\"NegativeScenes\",\"yref\":\"y\"},{\"font\":{\"color\":\"#FFFFFF\"},\"showarrow\":false,\"text\":\"0.0\",\"x\":\"ExperimentalStructure\",\"xref\":\"x\",\"y\":\"NegativeScenes\",\"yref\":\"y\"},{\"font\":{\"color\":\"#FFFFFF\"},\"showarrow\":false,\"text\":\"0.08\",\"x\":\"Rating\",\"xref\":\"x\",\"y\":\"NegativeScenes\",\"yref\":\"y\"},{\"font\":{\"color\":\"#FFFFFF\"},\"showarrow\":false,\"text\":\"-0.04\",\"x\":\"budget\",\"xref\":\"x\",\"y\":\"NegativeScenes\",\"yref\":\"y\"},{\"font\":{\"color\":\"#FFFFFF\"},\"showarrow\":false,\"text\":\"-0.03\",\"x\":\"collections\",\"xref\":\"x\",\"y\":\"NegativeScenes\",\"yref\":\"y\"},{\"font\":{\"color\":\"#000000\"},\"showarrow\":false,\"text\":\"0.81\",\"x\":\"NumberOfScenes\",\"xref\":\"x\",\"y\":\"NeutralScenes\",\"yref\":\"y\"},{\"font\":{\"color\":\"#000000\"},\"showarrow\":false,\"text\":\"0.6\",\"x\":\"RunTime\",\"xref\":\"x\",\"y\":\"NeutralScenes\",\"yref\":\"y\"},{\"font\":{\"color\":\"#000000\"},\"showarrow\":false,\"text\":\"0.53\",\"x\":\"PositiveScenes\",\"xref\":\"x\",\"y\":\"NeutralScenes\",\"yref\":\"y\"},{\"font\":{\"color\":\"#000000\"},\"showarrow\":false,\"text\":\"0.57\",\"x\":\"NegativeScenes\",\"xref\":\"x\",\"y\":\"NeutralScenes\",\"yref\":\"y\"},{\"font\":{\"color\":\"#000000\"},\"showarrow\":false,\"text\":\"1.0\",\"x\":\"NeutralScenes\",\"xref\":\"x\",\"y\":\"NeutralScenes\",\"yref\":\"y\"},{\"font\":{\"color\":\"#FFFFFF\"},\"showarrow\":false,\"text\":\"-0.09\",\"x\":\"SentimentPolarity\",\"xref\":\"x\",\"y\":\"NeutralScenes\",\"yref\":\"y\"},{\"font\":{\"color\":\"#000000\"},\"showarrow\":false,\"text\":\"0.89\",\"x\":\"Fear\",\"xref\":\"x\",\"y\":\"NeutralScenes\",\"yref\":\"y\"},{\"font\":{\"color\":\"#000000\"},\"showarrow\":false,\"text\":\"0.9\",\"x\":\"Anger\",\"xref\":\"x\",\"y\":\"NeutralScenes\",\"yref\":\"y\"},{\"font\":{\"color\":\"#000000\"},\"showarrow\":false,\"text\":\"0.66\",\"x\":\"Anticipation\",\"xref\":\"x\",\"y\":\"NeutralScenes\",\"yref\":\"y\"},{\"font\":{\"color\":\"#000000\"},\"showarrow\":false,\"text\":\"0.89\",\"x\":\"Trust\",\"xref\":\"x\",\"y\":\"NeutralScenes\",\"yref\":\"y\"},{\"font\":{\"color\":\"#000000\"},\"showarrow\":false,\"text\":\"0.91\",\"x\":\"Surprise\",\"xref\":\"x\",\"y\":\"NeutralScenes\",\"yref\":\"y\"},{\"font\":{\"color\":\"#000000\"},\"showarrow\":false,\"text\":\"0.79\",\"x\":\"Positive\",\"xref\":\"x\",\"y\":\"NeutralScenes\",\"yref\":\"y\"},{\"font\":{\"color\":\"#000000\"},\"showarrow\":false,\"text\":\"0.78\",\"x\":\"Negative\",\"xref\":\"x\",\"y\":\"NeutralScenes\",\"yref\":\"y\"},{\"font\":{\"color\":\"#000000\"},\"showarrow\":false,\"text\":\"0.88\",\"x\":\"Sadness\",\"xref\":\"x\",\"y\":\"NeutralScenes\",\"yref\":\"y\"},{\"font\":{\"color\":\"#000000\"},\"showarrow\":false,\"text\":\"0.9\",\"x\":\"Disgust\",\"xref\":\"x\",\"y\":\"NeutralScenes\",\"yref\":\"y\"},{\"font\":{\"color\":\"#000000\"},\"showarrow\":false,\"text\":\"0.89\",\"x\":\"Joy\",\"xref\":\"x\",\"y\":\"NeutralScenes\",\"yref\":\"y\"},{\"font\":{\"color\":\"#FFFFFF\"},\"showarrow\":false,\"text\":\"0.04\",\"x\":\"NumberOfCharacters\",\"xref\":\"x\",\"y\":\"NeutralScenes\",\"yref\":\"y\"},{\"font\":{\"color\":\"#FFFFFF\"},\"showarrow\":false,\"text\":\"0.02\",\"x\":\"ThreeActStructure\",\"xref\":\"x\",\"y\":\"NeutralScenes\",\"yref\":\"y\"},{\"font\":{\"color\":\"#FFFFFF\"},\"showarrow\":false,\"text\":\"-0.02\",\"x\":\"FiveActStructure\",\"xref\":\"x\",\"y\":\"NeutralScenes\",\"yref\":\"y\"},{\"font\":{\"color\":\"#FFFFFF\"},\"showarrow\":false,\"text\":\"-0.03\",\"x\":\"HeroStructure\",\"xref\":\"x\",\"y\":\"NeutralScenes\",\"yref\":\"y\"},{\"font\":{\"color\":\"#FFFFFF\"},\"showarrow\":false,\"text\":\"0.06\",\"x\":\"NonlinearStructure\",\"xref\":\"x\",\"y\":\"NeutralScenes\",\"yref\":\"y\"},{\"font\":{\"color\":\"#FFFFFF\"},\"showarrow\":false,\"text\":\"0.06\",\"x\":\"ParallelStructure\",\"xref\":\"x\",\"y\":\"NeutralScenes\",\"yref\":\"y\"},{\"font\":{\"color\":\"#FFFFFF\"},\"showarrow\":false,\"text\":\"0.06\",\"x\":\"CircularStructure\",\"xref\":\"x\",\"y\":\"NeutralScenes\",\"yref\":\"y\"},{\"font\":{\"color\":\"#FFFFFF\"},\"showarrow\":false,\"text\":\"-0.01\",\"x\":\"OpenEndedStructre\",\"xref\":\"x\",\"y\":\"NeutralScenes\",\"yref\":\"y\"},{\"font\":{\"color\":\"#FFFFFF\"},\"showarrow\":false,\"text\":\"-0.01\",\"x\":\"InMediasStructure\",\"xref\":\"x\",\"y\":\"NeutralScenes\",\"yref\":\"y\"},{\"font\":{\"color\":\"#FFFFFF\"},\"showarrow\":false,\"text\":\"0.02\",\"x\":\"ExperimentalStructure\",\"xref\":\"x\",\"y\":\"NeutralScenes\",\"yref\":\"y\"},{\"font\":{\"color\":\"#FFFFFF\"},\"showarrow\":false,\"text\":\"0.09\",\"x\":\"Rating\",\"xref\":\"x\",\"y\":\"NeutralScenes\",\"yref\":\"y\"},{\"font\":{\"color\":\"#FFFFFF\"},\"showarrow\":false,\"text\":\"-0.02\",\"x\":\"budget\",\"xref\":\"x\",\"y\":\"NeutralScenes\",\"yref\":\"y\"},{\"font\":{\"color\":\"#FFFFFF\"},\"showarrow\":false,\"text\":\"-0.02\",\"x\":\"collections\",\"xref\":\"x\",\"y\":\"NeutralScenes\",\"yref\":\"y\"},{\"font\":{\"color\":\"#FFFFFF\"},\"showarrow\":false,\"text\":\"-0.1\",\"x\":\"NumberOfScenes\",\"xref\":\"x\",\"y\":\"SentimentPolarity\",\"yref\":\"y\"},{\"font\":{\"color\":\"#FFFFFF\"},\"showarrow\":false,\"text\":\"-0.08\",\"x\":\"RunTime\",\"xref\":\"x\",\"y\":\"SentimentPolarity\",\"yref\":\"y\"},{\"font\":{\"color\":\"#000000\"},\"showarrow\":false,\"text\":\"0.41\",\"x\":\"PositiveScenes\",\"xref\":\"x\",\"y\":\"SentimentPolarity\",\"yref\":\"y\"},{\"font\":{\"color\":\"#FFFFFF\"},\"showarrow\":false,\"text\":\"-0.58\",\"x\":\"NegativeScenes\",\"xref\":\"x\",\"y\":\"SentimentPolarity\",\"yref\":\"y\"},{\"font\":{\"color\":\"#FFFFFF\"},\"showarrow\":false,\"text\":\"-0.09\",\"x\":\"NeutralScenes\",\"xref\":\"x\",\"y\":\"SentimentPolarity\",\"yref\":\"y\"},{\"font\":{\"color\":\"#000000\"},\"showarrow\":false,\"text\":\"1.0\",\"x\":\"SentimentPolarity\",\"xref\":\"x\",\"y\":\"SentimentPolarity\",\"yref\":\"y\"},{\"font\":{\"color\":\"#FFFFFF\"},\"showarrow\":false,\"text\":\"-0.22\",\"x\":\"Fear\",\"xref\":\"x\",\"y\":\"SentimentPolarity\",\"yref\":\"y\"},{\"font\":{\"color\":\"#FFFFFF\"},\"showarrow\":false,\"text\":\"-0.15\",\"x\":\"Anger\",\"xref\":\"x\",\"y\":\"SentimentPolarity\",\"yref\":\"y\"},{\"font\":{\"color\":\"#FFFFFF\"},\"showarrow\":false,\"text\":\"0.06\",\"x\":\"Anticipation\",\"xref\":\"x\",\"y\":\"SentimentPolarity\",\"yref\":\"y\"},{\"font\":{\"color\":\"#FFFFFF\"},\"showarrow\":false,\"text\":\"-0.08\",\"x\":\"Trust\",\"xref\":\"x\",\"y\":\"SentimentPolarity\",\"yref\":\"y\"},{\"font\":{\"color\":\"#FFFFFF\"},\"showarrow\":false,\"text\":\"-0.08\",\"x\":\"Surprise\",\"xref\":\"x\",\"y\":\"SentimentPolarity\",\"yref\":\"y\"},{\"font\":{\"color\":\"#FFFFFF\"},\"showarrow\":false,\"text\":\"0.13\",\"x\":\"Positive\",\"xref\":\"x\",\"y\":\"SentimentPolarity\",\"yref\":\"y\"},{\"font\":{\"color\":\"#FFFFFF\"},\"showarrow\":false,\"text\":\"-0.32\",\"x\":\"Negative\",\"xref\":\"x\",\"y\":\"SentimentPolarity\",\"yref\":\"y\"},{\"font\":{\"color\":\"#FFFFFF\"},\"showarrow\":false,\"text\":\"-0.12\",\"x\":\"Sadness\",\"xref\":\"x\",\"y\":\"SentimentPolarity\",\"yref\":\"y\"},{\"font\":{\"color\":\"#FFFFFF\"},\"showarrow\":false,\"text\":\"-0.13\",\"x\":\"Disgust\",\"xref\":\"x\",\"y\":\"SentimentPolarity\",\"yref\":\"y\"},{\"font\":{\"color\":\"#FFFFFF\"},\"showarrow\":false,\"text\":\"-0.02\",\"x\":\"Joy\",\"xref\":\"x\",\"y\":\"SentimentPolarity\",\"yref\":\"y\"},{\"font\":{\"color\":\"#FFFFFF\"},\"showarrow\":false,\"text\":\"0.05\",\"x\":\"NumberOfCharacters\",\"xref\":\"x\",\"y\":\"SentimentPolarity\",\"yref\":\"y\"},{\"font\":{\"color\":\"#FFFFFF\"},\"showarrow\":false,\"text\":\"0.05\",\"x\":\"ThreeActStructure\",\"xref\":\"x\",\"y\":\"SentimentPolarity\",\"yref\":\"y\"},{\"font\":{\"color\":\"#FFFFFF\"},\"showarrow\":false,\"text\":\"0.08\",\"x\":\"FiveActStructure\",\"xref\":\"x\",\"y\":\"SentimentPolarity\",\"yref\":\"y\"},{\"font\":{\"color\":\"#FFFFFF\"},\"showarrow\":false,\"text\":\"0.01\",\"x\":\"HeroStructure\",\"xref\":\"x\",\"y\":\"SentimentPolarity\",\"yref\":\"y\"},{\"font\":{\"color\":\"#FFFFFF\"},\"showarrow\":false,\"text\":\"-0.01\",\"x\":\"NonlinearStructure\",\"xref\":\"x\",\"y\":\"SentimentPolarity\",\"yref\":\"y\"},{\"font\":{\"color\":\"#FFFFFF\"},\"showarrow\":false,\"text\":\"-0.08\",\"x\":\"ParallelStructure\",\"xref\":\"x\",\"y\":\"SentimentPolarity\",\"yref\":\"y\"},{\"font\":{\"color\":\"#FFFFFF\"},\"showarrow\":false,\"text\":\"-0.07\",\"x\":\"CircularStructure\",\"xref\":\"x\",\"y\":\"SentimentPolarity\",\"yref\":\"y\"},{\"font\":{\"color\":\"#FFFFFF\"},\"showarrow\":false,\"text\":\"0.06\",\"x\":\"OpenEndedStructre\",\"xref\":\"x\",\"y\":\"SentimentPolarity\",\"yref\":\"y\"},{\"font\":{\"color\":\"#FFFFFF\"},\"showarrow\":false,\"text\":\"0.03\",\"x\":\"InMediasStructure\",\"xref\":\"x\",\"y\":\"SentimentPolarity\",\"yref\":\"y\"},{\"font\":{\"color\":\"#FFFFFF\"},\"showarrow\":false,\"text\":\"-0.0\",\"x\":\"ExperimentalStructure\",\"xref\":\"x\",\"y\":\"SentimentPolarity\",\"yref\":\"y\"},{\"font\":{\"color\":\"#FFFFFF\"},\"showarrow\":false,\"text\":\"0.01\",\"x\":\"Rating\",\"xref\":\"x\",\"y\":\"SentimentPolarity\",\"yref\":\"y\"},{\"font\":{\"color\":\"#FFFFFF\"},\"showarrow\":false,\"text\":\"0.0\",\"x\":\"budget\",\"xref\":\"x\",\"y\":\"SentimentPolarity\",\"yref\":\"y\"},{\"font\":{\"color\":\"#FFFFFF\"},\"showarrow\":false,\"text\":\"-0.01\",\"x\":\"collections\",\"xref\":\"x\",\"y\":\"SentimentPolarity\",\"yref\":\"y\"},{\"font\":{\"color\":\"#000000\"},\"showarrow\":false,\"text\":\"0.87\",\"x\":\"NumberOfScenes\",\"xref\":\"x\",\"y\":\"Fear\",\"yref\":\"y\"},{\"font\":{\"color\":\"#000000\"},\"showarrow\":false,\"text\":\"0.67\",\"x\":\"RunTime\",\"xref\":\"x\",\"y\":\"Fear\",\"yref\":\"y\"},{\"font\":{\"color\":\"#000000\"},\"showarrow\":false,\"text\":\"0.56\",\"x\":\"PositiveScenes\",\"xref\":\"x\",\"y\":\"Fear\",\"yref\":\"y\"},{\"font\":{\"color\":\"#000000\"},\"showarrow\":false,\"text\":\"0.74\",\"x\":\"NegativeScenes\",\"xref\":\"x\",\"y\":\"Fear\",\"yref\":\"y\"},{\"font\":{\"color\":\"#000000\"},\"showarrow\":false,\"text\":\"0.89\",\"x\":\"NeutralScenes\",\"xref\":\"x\",\"y\":\"Fear\",\"yref\":\"y\"},{\"font\":{\"color\":\"#FFFFFF\"},\"showarrow\":false,\"text\":\"-0.22\",\"x\":\"SentimentPolarity\",\"xref\":\"x\",\"y\":\"Fear\",\"yref\":\"y\"},{\"font\":{\"color\":\"#000000\"},\"showarrow\":false,\"text\":\"1.0\",\"x\":\"Fear\",\"xref\":\"x\",\"y\":\"Fear\",\"yref\":\"y\"},{\"font\":{\"color\":\"#000000\"},\"showarrow\":false,\"text\":\"0.95\",\"x\":\"Anger\",\"xref\":\"x\",\"y\":\"Fear\",\"yref\":\"y\"},{\"font\":{\"color\":\"#000000\"},\"showarrow\":false,\"text\":\"0.66\",\"x\":\"Anticipation\",\"xref\":\"x\",\"y\":\"Fear\",\"yref\":\"y\"},{\"font\":{\"color\":\"#000000\"},\"showarrow\":false,\"text\":\"0.91\",\"x\":\"Trust\",\"xref\":\"x\",\"y\":\"Fear\",\"yref\":\"y\"},{\"font\":{\"color\":\"#000000\"},\"showarrow\":false,\"text\":\"0.92\",\"x\":\"Surprise\",\"xref\":\"x\",\"y\":\"Fear\",\"yref\":\"y\"},{\"font\":{\"color\":\"#000000\"},\"showarrow\":false,\"text\":\"0.78\",\"x\":\"Positive\",\"xref\":\"x\",\"y\":\"Fear\",\"yref\":\"y\"},{\"font\":{\"color\":\"#000000\"},\"showarrow\":false,\"text\":\"0.89\",\"x\":\"Negative\",\"xref\":\"x\",\"y\":\"Fear\",\"yref\":\"y\"},{\"font\":{\"color\":\"#000000\"},\"showarrow\":false,\"text\":\"0.92\",\"x\":\"Sadness\",\"xref\":\"x\",\"y\":\"Fear\",\"yref\":\"y\"},{\"font\":{\"color\":\"#000000\"},\"showarrow\":false,\"text\":\"0.92\",\"x\":\"Disgust\",\"xref\":\"x\",\"y\":\"Fear\",\"yref\":\"y\"},{\"font\":{\"color\":\"#000000\"},\"showarrow\":false,\"text\":\"0.88\",\"x\":\"Joy\",\"xref\":\"x\",\"y\":\"Fear\",\"yref\":\"y\"},{\"font\":{\"color\":\"#FFFFFF\"},\"showarrow\":false,\"text\":\"0.04\",\"x\":\"NumberOfCharacters\",\"xref\":\"x\",\"y\":\"Fear\",\"yref\":\"y\"},{\"font\":{\"color\":\"#FFFFFF\"},\"showarrow\":false,\"text\":\"0.01\",\"x\":\"ThreeActStructure\",\"xref\":\"x\",\"y\":\"Fear\",\"yref\":\"y\"},{\"font\":{\"color\":\"#FFFFFF\"},\"showarrow\":false,\"text\":\"-0.02\",\"x\":\"FiveActStructure\",\"xref\":\"x\",\"y\":\"Fear\",\"yref\":\"y\"},{\"font\":{\"color\":\"#FFFFFF\"},\"showarrow\":false,\"text\":\"0.01\",\"x\":\"HeroStructure\",\"xref\":\"x\",\"y\":\"Fear\",\"yref\":\"y\"},{\"font\":{\"color\":\"#FFFFFF\"},\"showarrow\":false,\"text\":\"0.1\",\"x\":\"NonlinearStructure\",\"xref\":\"x\",\"y\":\"Fear\",\"yref\":\"y\"},{\"font\":{\"color\":\"#FFFFFF\"},\"showarrow\":false,\"text\":\"0.08\",\"x\":\"ParallelStructure\",\"xref\":\"x\",\"y\":\"Fear\",\"yref\":\"y\"},{\"font\":{\"color\":\"#FFFFFF\"},\"showarrow\":false,\"text\":\"0.1\",\"x\":\"CircularStructure\",\"xref\":\"x\",\"y\":\"Fear\",\"yref\":\"y\"},{\"font\":{\"color\":\"#FFFFFF\"},\"showarrow\":false,\"text\":\"-0.0\",\"x\":\"OpenEndedStructre\",\"xref\":\"x\",\"y\":\"Fear\",\"yref\":\"y\"},{\"font\":{\"color\":\"#FFFFFF\"},\"showarrow\":false,\"text\":\"-0.02\",\"x\":\"InMediasStructure\",\"xref\":\"x\",\"y\":\"Fear\",\"yref\":\"y\"},{\"font\":{\"color\":\"#FFFFFF\"},\"showarrow\":false,\"text\":\"0.03\",\"x\":\"ExperimentalStructure\",\"xref\":\"x\",\"y\":\"Fear\",\"yref\":\"y\"},{\"font\":{\"color\":\"#FFFFFF\"},\"showarrow\":false,\"text\":\"0.08\",\"x\":\"Rating\",\"xref\":\"x\",\"y\":\"Fear\",\"yref\":\"y\"},{\"font\":{\"color\":\"#FFFFFF\"},\"showarrow\":false,\"text\":\"-0.03\",\"x\":\"budget\",\"xref\":\"x\",\"y\":\"Fear\",\"yref\":\"y\"},{\"font\":{\"color\":\"#FFFFFF\"},\"showarrow\":false,\"text\":\"-0.03\",\"x\":\"collections\",\"xref\":\"x\",\"y\":\"Fear\",\"yref\":\"y\"},{\"font\":{\"color\":\"#000000\"},\"showarrow\":false,\"text\":\"0.84\",\"x\":\"NumberOfScenes\",\"xref\":\"x\",\"y\":\"Anger\",\"yref\":\"y\"},{\"font\":{\"color\":\"#000000\"},\"showarrow\":false,\"text\":\"0.64\",\"x\":\"RunTime\",\"xref\":\"x\",\"y\":\"Anger\",\"yref\":\"y\"},{\"font\":{\"color\":\"#000000\"},\"showarrow\":false,\"text\":\"0.56\",\"x\":\"PositiveScenes\",\"xref\":\"x\",\"y\":\"Anger\",\"yref\":\"y\"},{\"font\":{\"color\":\"#000000\"},\"showarrow\":false,\"text\":\"0.66\",\"x\":\"NegativeScenes\",\"xref\":\"x\",\"y\":\"Anger\",\"yref\":\"y\"},{\"font\":{\"color\":\"#000000\"},\"showarrow\":false,\"text\":\"0.9\",\"x\":\"NeutralScenes\",\"xref\":\"x\",\"y\":\"Anger\",\"yref\":\"y\"},{\"font\":{\"color\":\"#FFFFFF\"},\"showarrow\":false,\"text\":\"-0.15\",\"x\":\"SentimentPolarity\",\"xref\":\"x\",\"y\":\"Anger\",\"yref\":\"y\"},{\"font\":{\"color\":\"#000000\"},\"showarrow\":false,\"text\":\"0.95\",\"x\":\"Fear\",\"xref\":\"x\",\"y\":\"Anger\",\"yref\":\"y\"},{\"font\":{\"color\":\"#000000\"},\"showarrow\":false,\"text\":\"1.0\",\"x\":\"Anger\",\"xref\":\"x\",\"y\":\"Anger\",\"yref\":\"y\"},{\"font\":{\"color\":\"#000000\"},\"showarrow\":false,\"text\":\"0.67\",\"x\":\"Anticipation\",\"xref\":\"x\",\"y\":\"Anger\",\"yref\":\"y\"},{\"font\":{\"color\":\"#000000\"},\"showarrow\":false,\"text\":\"0.92\",\"x\":\"Trust\",\"xref\":\"x\",\"y\":\"Anger\",\"yref\":\"y\"},{\"font\":{\"color\":\"#000000\"},\"showarrow\":false,\"text\":\"0.96\",\"x\":\"Surprise\",\"xref\":\"x\",\"y\":\"Anger\",\"yref\":\"y\"},{\"font\":{\"color\":\"#000000\"},\"showarrow\":false,\"text\":\"0.8\",\"x\":\"Positive\",\"xref\":\"x\",\"y\":\"Anger\",\"yref\":\"y\"},{\"font\":{\"color\":\"#000000\"},\"showarrow\":false,\"text\":\"0.86\",\"x\":\"Negative\",\"xref\":\"x\",\"y\":\"Anger\",\"yref\":\"y\"},{\"font\":{\"color\":\"#000000\"},\"showarrow\":false,\"text\":\"0.96\",\"x\":\"Sadness\",\"xref\":\"x\",\"y\":\"Anger\",\"yref\":\"y\"},{\"font\":{\"color\":\"#000000\"},\"showarrow\":false,\"text\":\"0.97\",\"x\":\"Disgust\",\"xref\":\"x\",\"y\":\"Anger\",\"yref\":\"y\"},{\"font\":{\"color\":\"#000000\"},\"showarrow\":false,\"text\":\"0.94\",\"x\":\"Joy\",\"xref\":\"x\",\"y\":\"Anger\",\"yref\":\"y\"},{\"font\":{\"color\":\"#FFFFFF\"},\"showarrow\":false,\"text\":\"0.03\",\"x\":\"NumberOfCharacters\",\"xref\":\"x\",\"y\":\"Anger\",\"yref\":\"y\"},{\"font\":{\"color\":\"#FFFFFF\"},\"showarrow\":false,\"text\":\"0.0\",\"x\":\"ThreeActStructure\",\"xref\":\"x\",\"y\":\"Anger\",\"yref\":\"y\"},{\"font\":{\"color\":\"#FFFFFF\"},\"showarrow\":false,\"text\":\"-0.01\",\"x\":\"FiveActStructure\",\"xref\":\"x\",\"y\":\"Anger\",\"yref\":\"y\"},{\"font\":{\"color\":\"#FFFFFF\"},\"showarrow\":false,\"text\":\"-0.02\",\"x\":\"HeroStructure\",\"xref\":\"x\",\"y\":\"Anger\",\"yref\":\"y\"},{\"font\":{\"color\":\"#FFFFFF\"},\"showarrow\":false,\"text\":\"0.08\",\"x\":\"NonlinearStructure\",\"xref\":\"x\",\"y\":\"Anger\",\"yref\":\"y\"},{\"font\":{\"color\":\"#FFFFFF\"},\"showarrow\":false,\"text\":\"0.06\",\"x\":\"ParallelStructure\",\"xref\":\"x\",\"y\":\"Anger\",\"yref\":\"y\"},{\"font\":{\"color\":\"#FFFFFF\"},\"showarrow\":false,\"text\":\"0.08\",\"x\":\"CircularStructure\",\"xref\":\"x\",\"y\":\"Anger\",\"yref\":\"y\"},{\"font\":{\"color\":\"#FFFFFF\"},\"showarrow\":false,\"text\":\"-0.01\",\"x\":\"OpenEndedStructre\",\"xref\":\"x\",\"y\":\"Anger\",\"yref\":\"y\"},{\"font\":{\"color\":\"#FFFFFF\"},\"showarrow\":false,\"text\":\"-0.01\",\"x\":\"InMediasStructure\",\"xref\":\"x\",\"y\":\"Anger\",\"yref\":\"y\"},{\"font\":{\"color\":\"#FFFFFF\"},\"showarrow\":false,\"text\":\"0.02\",\"x\":\"ExperimentalStructure\",\"xref\":\"x\",\"y\":\"Anger\",\"yref\":\"y\"},{\"font\":{\"color\":\"#FFFFFF\"},\"showarrow\":false,\"text\":\"0.09\",\"x\":\"Rating\",\"xref\":\"x\",\"y\":\"Anger\",\"yref\":\"y\"},{\"font\":{\"color\":\"#FFFFFF\"},\"showarrow\":false,\"text\":\"-0.04\",\"x\":\"budget\",\"xref\":\"x\",\"y\":\"Anger\",\"yref\":\"y\"},{\"font\":{\"color\":\"#FFFFFF\"},\"showarrow\":false,\"text\":\"-0.04\",\"x\":\"collections\",\"xref\":\"x\",\"y\":\"Anger\",\"yref\":\"y\"},{\"font\":{\"color\":\"#000000\"},\"showarrow\":false,\"text\":\"0.79\",\"x\":\"NumberOfScenes\",\"xref\":\"x\",\"y\":\"Anticipation\",\"yref\":\"y\"},{\"font\":{\"color\":\"#000000\"},\"showarrow\":false,\"text\":\"0.66\",\"x\":\"RunTime\",\"xref\":\"x\",\"y\":\"Anticipation\",\"yref\":\"y\"},{\"font\":{\"color\":\"#000000\"},\"showarrow\":false,\"text\":\"0.72\",\"x\":\"PositiveScenes\",\"xref\":\"x\",\"y\":\"Anticipation\",\"yref\":\"y\"},{\"font\":{\"color\":\"#000000\"},\"showarrow\":false,\"text\":\"0.55\",\"x\":\"NegativeScenes\",\"xref\":\"x\",\"y\":\"Anticipation\",\"yref\":\"y\"},{\"font\":{\"color\":\"#000000\"},\"showarrow\":false,\"text\":\"0.66\",\"x\":\"NeutralScenes\",\"xref\":\"x\",\"y\":\"Anticipation\",\"yref\":\"y\"},{\"font\":{\"color\":\"#FFFFFF\"},\"showarrow\":false,\"text\":\"0.06\",\"x\":\"SentimentPolarity\",\"xref\":\"x\",\"y\":\"Anticipation\",\"yref\":\"y\"},{\"font\":{\"color\":\"#000000\"},\"showarrow\":false,\"text\":\"0.66\",\"x\":\"Fear\",\"xref\":\"x\",\"y\":\"Anticipation\",\"yref\":\"y\"},{\"font\":{\"color\":\"#000000\"},\"showarrow\":false,\"text\":\"0.67\",\"x\":\"Anger\",\"xref\":\"x\",\"y\":\"Anticipation\",\"yref\":\"y\"},{\"font\":{\"color\":\"#000000\"},\"showarrow\":false,\"text\":\"1.0\",\"x\":\"Anticipation\",\"xref\":\"x\",\"y\":\"Anticipation\",\"yref\":\"y\"},{\"font\":{\"color\":\"#000000\"},\"showarrow\":false,\"text\":\"0.73\",\"x\":\"Trust\",\"xref\":\"x\",\"y\":\"Anticipation\",\"yref\":\"y\"},{\"font\":{\"color\":\"#000000\"},\"showarrow\":false,\"text\":\"0.67\",\"x\":\"Surprise\",\"xref\":\"x\",\"y\":\"Anticipation\",\"yref\":\"y\"},{\"font\":{\"color\":\"#000000\"},\"showarrow\":false,\"text\":\"0.77\",\"x\":\"Positive\",\"xref\":\"x\",\"y\":\"Anticipation\",\"yref\":\"y\"},{\"font\":{\"color\":\"#000000\"},\"showarrow\":false,\"text\":\"0.64\",\"x\":\"Negative\",\"xref\":\"x\",\"y\":\"Anticipation\",\"yref\":\"y\"},{\"font\":{\"color\":\"#000000\"},\"showarrow\":false,\"text\":\"0.68\",\"x\":\"Sadness\",\"xref\":\"x\",\"y\":\"Anticipation\",\"yref\":\"y\"},{\"font\":{\"color\":\"#000000\"},\"showarrow\":false,\"text\":\"0.64\",\"x\":\"Disgust\",\"xref\":\"x\",\"y\":\"Anticipation\",\"yref\":\"y\"},{\"font\":{\"color\":\"#000000\"},\"showarrow\":false,\"text\":\"0.69\",\"x\":\"Joy\",\"xref\":\"x\",\"y\":\"Anticipation\",\"yref\":\"y\"},{\"font\":{\"color\":\"#FFFFFF\"},\"showarrow\":false,\"text\":\"0.04\",\"x\":\"NumberOfCharacters\",\"xref\":\"x\",\"y\":\"Anticipation\",\"yref\":\"y\"},{\"font\":{\"color\":\"#FFFFFF\"},\"showarrow\":false,\"text\":\"0.06\",\"x\":\"ThreeActStructure\",\"xref\":\"x\",\"y\":\"Anticipation\",\"yref\":\"y\"},{\"font\":{\"color\":\"#FFFFFF\"},\"showarrow\":false,\"text\":\"0.02\",\"x\":\"FiveActStructure\",\"xref\":\"x\",\"y\":\"Anticipation\",\"yref\":\"y\"},{\"font\":{\"color\":\"#FFFFFF\"},\"showarrow\":false,\"text\":\"0.04\",\"x\":\"HeroStructure\",\"xref\":\"x\",\"y\":\"Anticipation\",\"yref\":\"y\"},{\"font\":{\"color\":\"#FFFFFF\"},\"showarrow\":false,\"text\":\"0.06\",\"x\":\"NonlinearStructure\",\"xref\":\"x\",\"y\":\"Anticipation\",\"yref\":\"y\"},{\"font\":{\"color\":\"#FFFFFF\"},\"showarrow\":false,\"text\":\"0.03\",\"x\":\"ParallelStructure\",\"xref\":\"x\",\"y\":\"Anticipation\",\"yref\":\"y\"},{\"font\":{\"color\":\"#FFFFFF\"},\"showarrow\":false,\"text\":\"0.08\",\"x\":\"CircularStructure\",\"xref\":\"x\",\"y\":\"Anticipation\",\"yref\":\"y\"},{\"font\":{\"color\":\"#FFFFFF\"},\"showarrow\":false,\"text\":\"-0.01\",\"x\":\"OpenEndedStructre\",\"xref\":\"x\",\"y\":\"Anticipation\",\"yref\":\"y\"},{\"font\":{\"color\":\"#FFFFFF\"},\"showarrow\":false,\"text\":\"-0.01\",\"x\":\"InMediasStructure\",\"xref\":\"x\",\"y\":\"Anticipation\",\"yref\":\"y\"},{\"font\":{\"color\":\"#FFFFFF\"},\"showarrow\":false,\"text\":\"0.02\",\"x\":\"ExperimentalStructure\",\"xref\":\"x\",\"y\":\"Anticipation\",\"yref\":\"y\"},{\"font\":{\"color\":\"#FFFFFF\"},\"showarrow\":false,\"text\":\"0.12\",\"x\":\"Rating\",\"xref\":\"x\",\"y\":\"Anticipation\",\"yref\":\"y\"},{\"font\":{\"color\":\"#FFFFFF\"},\"showarrow\":false,\"text\":\"-0.04\",\"x\":\"budget\",\"xref\":\"x\",\"y\":\"Anticipation\",\"yref\":\"y\"},{\"font\":{\"color\":\"#FFFFFF\"},\"showarrow\":false,\"text\":\"-0.02\",\"x\":\"collections\",\"xref\":\"x\",\"y\":\"Anticipation\",\"yref\":\"y\"},{\"font\":{\"color\":\"#000000\"},\"showarrow\":false,\"text\":\"0.87\",\"x\":\"NumberOfScenes\",\"xref\":\"x\",\"y\":\"Trust\",\"yref\":\"y\"},{\"font\":{\"color\":\"#000000\"},\"showarrow\":false,\"text\":\"0.68\",\"x\":\"RunTime\",\"xref\":\"x\",\"y\":\"Trust\",\"yref\":\"y\"},{\"font\":{\"color\":\"#000000\"},\"showarrow\":false,\"text\":\"0.65\",\"x\":\"PositiveScenes\",\"xref\":\"x\",\"y\":\"Trust\",\"yref\":\"y\"},{\"font\":{\"color\":\"#000000\"},\"showarrow\":false,\"text\":\"0.66\",\"x\":\"NegativeScenes\",\"xref\":\"x\",\"y\":\"Trust\",\"yref\":\"y\"},{\"font\":{\"color\":\"#000000\"},\"showarrow\":false,\"text\":\"0.89\",\"x\":\"NeutralScenes\",\"xref\":\"x\",\"y\":\"Trust\",\"yref\":\"y\"},{\"font\":{\"color\":\"#FFFFFF\"},\"showarrow\":false,\"text\":\"-0.08\",\"x\":\"SentimentPolarity\",\"xref\":\"x\",\"y\":\"Trust\",\"yref\":\"y\"},{\"font\":{\"color\":\"#000000\"},\"showarrow\":false,\"text\":\"0.91\",\"x\":\"Fear\",\"xref\":\"x\",\"y\":\"Trust\",\"yref\":\"y\"},{\"font\":{\"color\":\"#000000\"},\"showarrow\":false,\"text\":\"0.92\",\"x\":\"Anger\",\"xref\":\"x\",\"y\":\"Trust\",\"yref\":\"y\"},{\"font\":{\"color\":\"#000000\"},\"showarrow\":false,\"text\":\"0.73\",\"x\":\"Anticipation\",\"xref\":\"x\",\"y\":\"Trust\",\"yref\":\"y\"},{\"font\":{\"color\":\"#000000\"},\"showarrow\":false,\"text\":\"1.0\",\"x\":\"Trust\",\"xref\":\"x\",\"y\":\"Trust\",\"yref\":\"y\"},{\"font\":{\"color\":\"#000000\"},\"showarrow\":false,\"text\":\"0.92\",\"x\":\"Surprise\",\"xref\":\"x\",\"y\":\"Trust\",\"yref\":\"y\"},{\"font\":{\"color\":\"#000000\"},\"showarrow\":false,\"text\":\"0.86\",\"x\":\"Positive\",\"xref\":\"x\",\"y\":\"Trust\",\"yref\":\"y\"},{\"font\":{\"color\":\"#000000\"},\"showarrow\":false,\"text\":\"0.81\",\"x\":\"Negative\",\"xref\":\"x\",\"y\":\"Trust\",\"yref\":\"y\"},{\"font\":{\"color\":\"#000000\"},\"showarrow\":false,\"text\":\"0.92\",\"x\":\"Sadness\",\"xref\":\"x\",\"y\":\"Trust\",\"yref\":\"y\"},{\"font\":{\"color\":\"#000000\"},\"showarrow\":false,\"text\":\"0.92\",\"x\":\"Disgust\",\"xref\":\"x\",\"y\":\"Trust\",\"yref\":\"y\"},{\"font\":{\"color\":\"#000000\"},\"showarrow\":false,\"text\":\"0.92\",\"x\":\"Joy\",\"xref\":\"x\",\"y\":\"Trust\",\"yref\":\"y\"},{\"font\":{\"color\":\"#FFFFFF\"},\"showarrow\":false,\"text\":\"0.05\",\"x\":\"NumberOfCharacters\",\"xref\":\"x\",\"y\":\"Trust\",\"yref\":\"y\"},{\"font\":{\"color\":\"#FFFFFF\"},\"showarrow\":false,\"text\":\"0.04\",\"x\":\"ThreeActStructure\",\"xref\":\"x\",\"y\":\"Trust\",\"yref\":\"y\"},{\"font\":{\"color\":\"#FFFFFF\"},\"showarrow\":false,\"text\":\"-0.0\",\"x\":\"FiveActStructure\",\"xref\":\"x\",\"y\":\"Trust\",\"yref\":\"y\"},{\"font\":{\"color\":\"#FFFFFF\"},\"showarrow\":false,\"text\":\"-0.0\",\"x\":\"HeroStructure\",\"xref\":\"x\",\"y\":\"Trust\",\"yref\":\"y\"},{\"font\":{\"color\":\"#FFFFFF\"},\"showarrow\":false,\"text\":\"0.09\",\"x\":\"NonlinearStructure\",\"xref\":\"x\",\"y\":\"Trust\",\"yref\":\"y\"},{\"font\":{\"color\":\"#FFFFFF\"},\"showarrow\":false,\"text\":\"0.06\",\"x\":\"ParallelStructure\",\"xref\":\"x\",\"y\":\"Trust\",\"yref\":\"y\"},{\"font\":{\"color\":\"#FFFFFF\"},\"showarrow\":false,\"text\":\"0.07\",\"x\":\"CircularStructure\",\"xref\":\"x\",\"y\":\"Trust\",\"yref\":\"y\"},{\"font\":{\"color\":\"#FFFFFF\"},\"showarrow\":false,\"text\":\"-0.02\",\"x\":\"OpenEndedStructre\",\"xref\":\"x\",\"y\":\"Trust\",\"yref\":\"y\"},{\"font\":{\"color\":\"#FFFFFF\"},\"showarrow\":false,\"text\":\"-0.01\",\"x\":\"InMediasStructure\",\"xref\":\"x\",\"y\":\"Trust\",\"yref\":\"y\"},{\"font\":{\"color\":\"#FFFFFF\"},\"showarrow\":false,\"text\":\"-0.0\",\"x\":\"ExperimentalStructure\",\"xref\":\"x\",\"y\":\"Trust\",\"yref\":\"y\"},{\"font\":{\"color\":\"#FFFFFF\"},\"showarrow\":false,\"text\":\"0.13\",\"x\":\"Rating\",\"xref\":\"x\",\"y\":\"Trust\",\"yref\":\"y\"},{\"font\":{\"color\":\"#FFFFFF\"},\"showarrow\":false,\"text\":\"-0.05\",\"x\":\"budget\",\"xref\":\"x\",\"y\":\"Trust\",\"yref\":\"y\"},{\"font\":{\"color\":\"#FFFFFF\"},\"showarrow\":false,\"text\":\"-0.04\",\"x\":\"collections\",\"xref\":\"x\",\"y\":\"Trust\",\"yref\":\"y\"},{\"font\":{\"color\":\"#000000\"},\"showarrow\":false,\"text\":\"0.81\",\"x\":\"NumberOfScenes\",\"xref\":\"x\",\"y\":\"Surprise\",\"yref\":\"y\"},{\"font\":{\"color\":\"#000000\"},\"showarrow\":false,\"text\":\"0.62\",\"x\":\"RunTime\",\"xref\":\"x\",\"y\":\"Surprise\",\"yref\":\"y\"},{\"font\":{\"color\":\"#000000\"},\"showarrow\":false,\"text\":\"0.56\",\"x\":\"PositiveScenes\",\"xref\":\"x\",\"y\":\"Surprise\",\"yref\":\"y\"},{\"font\":{\"color\":\"#000000\"},\"showarrow\":false,\"text\":\"0.59\",\"x\":\"NegativeScenes\",\"xref\":\"x\",\"y\":\"Surprise\",\"yref\":\"y\"},{\"font\":{\"color\":\"#000000\"},\"showarrow\":false,\"text\":\"0.91\",\"x\":\"NeutralScenes\",\"xref\":\"x\",\"y\":\"Surprise\",\"yref\":\"y\"},{\"font\":{\"color\":\"#FFFFFF\"},\"showarrow\":false,\"text\":\"-0.08\",\"x\":\"SentimentPolarity\",\"xref\":\"x\",\"y\":\"Surprise\",\"yref\":\"y\"},{\"font\":{\"color\":\"#000000\"},\"showarrow\":false,\"text\":\"0.92\",\"x\":\"Fear\",\"xref\":\"x\",\"y\":\"Surprise\",\"yref\":\"y\"},{\"font\":{\"color\":\"#000000\"},\"showarrow\":false,\"text\":\"0.96\",\"x\":\"Anger\",\"xref\":\"x\",\"y\":\"Surprise\",\"yref\":\"y\"},{\"font\":{\"color\":\"#000000\"},\"showarrow\":false,\"text\":\"0.67\",\"x\":\"Anticipation\",\"xref\":\"x\",\"y\":\"Surprise\",\"yref\":\"y\"},{\"font\":{\"color\":\"#000000\"},\"showarrow\":false,\"text\":\"0.92\",\"x\":\"Trust\",\"xref\":\"x\",\"y\":\"Surprise\",\"yref\":\"y\"},{\"font\":{\"color\":\"#000000\"},\"showarrow\":false,\"text\":\"1.0\",\"x\":\"Surprise\",\"xref\":\"x\",\"y\":\"Surprise\",\"yref\":\"y\"},{\"font\":{\"color\":\"#000000\"},\"showarrow\":false,\"text\":\"0.82\",\"x\":\"Positive\",\"xref\":\"x\",\"y\":\"Surprise\",\"yref\":\"y\"},{\"font\":{\"color\":\"#000000\"},\"showarrow\":false,\"text\":\"0.8\",\"x\":\"Negative\",\"xref\":\"x\",\"y\":\"Surprise\",\"yref\":\"y\"},{\"font\":{\"color\":\"#000000\"},\"showarrow\":false,\"text\":\"0.96\",\"x\":\"Sadness\",\"xref\":\"x\",\"y\":\"Surprise\",\"yref\":\"y\"},{\"font\":{\"color\":\"#000000\"},\"showarrow\":false,\"text\":\"0.97\",\"x\":\"Disgust\",\"xref\":\"x\",\"y\":\"Surprise\",\"yref\":\"y\"},{\"font\":{\"color\":\"#000000\"},\"showarrow\":false,\"text\":\"0.96\",\"x\":\"Joy\",\"xref\":\"x\",\"y\":\"Surprise\",\"yref\":\"y\"},{\"font\":{\"color\":\"#FFFFFF\"},\"showarrow\":false,\"text\":\"0.02\",\"x\":\"NumberOfCharacters\",\"xref\":\"x\",\"y\":\"Surprise\",\"yref\":\"y\"},{\"font\":{\"color\":\"#FFFFFF\"},\"showarrow\":false,\"text\":\"0.0\",\"x\":\"ThreeActStructure\",\"xref\":\"x\",\"y\":\"Surprise\",\"yref\":\"y\"},{\"font\":{\"color\":\"#FFFFFF\"},\"showarrow\":false,\"text\":\"-0.01\",\"x\":\"FiveActStructure\",\"xref\":\"x\",\"y\":\"Surprise\",\"yref\":\"y\"},{\"font\":{\"color\":\"#FFFFFF\"},\"showarrow\":false,\"text\":\"-0.03\",\"x\":\"HeroStructure\",\"xref\":\"x\",\"y\":\"Surprise\",\"yref\":\"y\"},{\"font\":{\"color\":\"#FFFFFF\"},\"showarrow\":false,\"text\":\"0.07\",\"x\":\"NonlinearStructure\",\"xref\":\"x\",\"y\":\"Surprise\",\"yref\":\"y\"},{\"font\":{\"color\":\"#FFFFFF\"},\"showarrow\":false,\"text\":\"0.02\",\"x\":\"ParallelStructure\",\"xref\":\"x\",\"y\":\"Surprise\",\"yref\":\"y\"},{\"font\":{\"color\":\"#FFFFFF\"},\"showarrow\":false,\"text\":\"0.06\",\"x\":\"CircularStructure\",\"xref\":\"x\",\"y\":\"Surprise\",\"yref\":\"y\"},{\"font\":{\"color\":\"#FFFFFF\"},\"showarrow\":false,\"text\":\"-0.01\",\"x\":\"OpenEndedStructre\",\"xref\":\"x\",\"y\":\"Surprise\",\"yref\":\"y\"},{\"font\":{\"color\":\"#FFFFFF\"},\"showarrow\":false,\"text\":\"-0.01\",\"x\":\"InMediasStructure\",\"xref\":\"x\",\"y\":\"Surprise\",\"yref\":\"y\"},{\"font\":{\"color\":\"#FFFFFF\"},\"showarrow\":false,\"text\":\"0.02\",\"x\":\"ExperimentalStructure\",\"xref\":\"x\",\"y\":\"Surprise\",\"yref\":\"y\"},{\"font\":{\"color\":\"#FFFFFF\"},\"showarrow\":false,\"text\":\"0.1\",\"x\":\"Rating\",\"xref\":\"x\",\"y\":\"Surprise\",\"yref\":\"y\"},{\"font\":{\"color\":\"#FFFFFF\"},\"showarrow\":false,\"text\":\"-0.04\",\"x\":\"budget\",\"xref\":\"x\",\"y\":\"Surprise\",\"yref\":\"y\"},{\"font\":{\"color\":\"#FFFFFF\"},\"showarrow\":false,\"text\":\"-0.04\",\"x\":\"collections\",\"xref\":\"x\",\"y\":\"Surprise\",\"yref\":\"y\"},{\"font\":{\"color\":\"#000000\"},\"showarrow\":false,\"text\":\"0.91\",\"x\":\"NumberOfScenes\",\"xref\":\"x\",\"y\":\"Positive\",\"yref\":\"y\"},{\"font\":{\"color\":\"#000000\"},\"showarrow\":false,\"text\":\"0.73\",\"x\":\"RunTime\",\"xref\":\"x\",\"y\":\"Positive\",\"yref\":\"y\"},{\"font\":{\"color\":\"#000000\"},\"showarrow\":false,\"text\":\"0.85\",\"x\":\"PositiveScenes\",\"xref\":\"x\",\"y\":\"Positive\",\"yref\":\"y\"},{\"font\":{\"color\":\"#000000\"},\"showarrow\":false,\"text\":\"0.58\",\"x\":\"NegativeScenes\",\"xref\":\"x\",\"y\":\"Positive\",\"yref\":\"y\"},{\"font\":{\"color\":\"#000000\"},\"showarrow\":false,\"text\":\"0.79\",\"x\":\"NeutralScenes\",\"xref\":\"x\",\"y\":\"Positive\",\"yref\":\"y\"},{\"font\":{\"color\":\"#FFFFFF\"},\"showarrow\":false,\"text\":\"0.13\",\"x\":\"SentimentPolarity\",\"xref\":\"x\",\"y\":\"Positive\",\"yref\":\"y\"},{\"font\":{\"color\":\"#000000\"},\"showarrow\":false,\"text\":\"0.78\",\"x\":\"Fear\",\"xref\":\"x\",\"y\":\"Positive\",\"yref\":\"y\"},{\"font\":{\"color\":\"#000000\"},\"showarrow\":false,\"text\":\"0.8\",\"x\":\"Anger\",\"xref\":\"x\",\"y\":\"Positive\",\"yref\":\"y\"},{\"font\":{\"color\":\"#000000\"},\"showarrow\":false,\"text\":\"0.77\",\"x\":\"Anticipation\",\"xref\":\"x\",\"y\":\"Positive\",\"yref\":\"y\"},{\"font\":{\"color\":\"#000000\"},\"showarrow\":false,\"text\":\"0.86\",\"x\":\"Trust\",\"xref\":\"x\",\"y\":\"Positive\",\"yref\":\"y\"},{\"font\":{\"color\":\"#000000\"},\"showarrow\":false,\"text\":\"0.82\",\"x\":\"Surprise\",\"xref\":\"x\",\"y\":\"Positive\",\"yref\":\"y\"},{\"font\":{\"color\":\"#000000\"},\"showarrow\":false,\"text\":\"1.0\",\"x\":\"Positive\",\"xref\":\"x\",\"y\":\"Positive\",\"yref\":\"y\"},{\"font\":{\"color\":\"#000000\"},\"showarrow\":false,\"text\":\"0.71\",\"x\":\"Negative\",\"xref\":\"x\",\"y\":\"Positive\",\"yref\":\"y\"},{\"font\":{\"color\":\"#000000\"},\"showarrow\":false,\"text\":\"0.81\",\"x\":\"Sadness\",\"xref\":\"x\",\"y\":\"Positive\",\"yref\":\"y\"},{\"font\":{\"color\":\"#000000\"},\"showarrow\":false,\"text\":\"0.8\",\"x\":\"Disgust\",\"xref\":\"x\",\"y\":\"Positive\",\"yref\":\"y\"},{\"font\":{\"color\":\"#000000\"},\"showarrow\":false,\"text\":\"0.85\",\"x\":\"Joy\",\"xref\":\"x\",\"y\":\"Positive\",\"yref\":\"y\"},{\"font\":{\"color\":\"#FFFFFF\"},\"showarrow\":false,\"text\":\"0.08\",\"x\":\"NumberOfCharacters\",\"xref\":\"x\",\"y\":\"Positive\",\"yref\":\"y\"},{\"font\":{\"color\":\"#FFFFFF\"},\"showarrow\":false,\"text\":\"0.09\",\"x\":\"ThreeActStructure\",\"xref\":\"x\",\"y\":\"Positive\",\"yref\":\"y\"},{\"font\":{\"color\":\"#FFFFFF\"},\"showarrow\":false,\"text\":\"0.08\",\"x\":\"FiveActStructure\",\"xref\":\"x\",\"y\":\"Positive\",\"yref\":\"y\"},{\"font\":{\"color\":\"#FFFFFF\"},\"showarrow\":false,\"text\":\"0.03\",\"x\":\"HeroStructure\",\"xref\":\"x\",\"y\":\"Positive\",\"yref\":\"y\"},{\"font\":{\"color\":\"#FFFFFF\"},\"showarrow\":false,\"text\":\"0.07\",\"x\":\"NonlinearStructure\",\"xref\":\"x\",\"y\":\"Positive\",\"yref\":\"y\"},{\"font\":{\"color\":\"#FFFFFF\"},\"showarrow\":false,\"text\":\"0.03\",\"x\":\"ParallelStructure\",\"xref\":\"x\",\"y\":\"Positive\",\"yref\":\"y\"},{\"font\":{\"color\":\"#FFFFFF\"},\"showarrow\":false,\"text\":\"0.07\",\"x\":\"CircularStructure\",\"xref\":\"x\",\"y\":\"Positive\",\"yref\":\"y\"},{\"font\":{\"color\":\"#FFFFFF\"},\"showarrow\":false,\"text\":\"0.04\",\"x\":\"OpenEndedStructre\",\"xref\":\"x\",\"y\":\"Positive\",\"yref\":\"y\"},{\"font\":{\"color\":\"#FFFFFF\"},\"showarrow\":false,\"text\":\"0.01\",\"x\":\"InMediasStructure\",\"xref\":\"x\",\"y\":\"Positive\",\"yref\":\"y\"},{\"font\":{\"color\":\"#FFFFFF\"},\"showarrow\":false,\"text\":\"0.01\",\"x\":\"ExperimentalStructure\",\"xref\":\"x\",\"y\":\"Positive\",\"yref\":\"y\"},{\"font\":{\"color\":\"#FFFFFF\"},\"showarrow\":false,\"text\":\"0.14\",\"x\":\"Rating\",\"xref\":\"x\",\"y\":\"Positive\",\"yref\":\"y\"},{\"font\":{\"color\":\"#FFFFFF\"},\"showarrow\":false,\"text\":\"-0.06\",\"x\":\"budget\",\"xref\":\"x\",\"y\":\"Positive\",\"yref\":\"y\"},{\"font\":{\"color\":\"#FFFFFF\"},\"showarrow\":false,\"text\":\"-0.04\",\"x\":\"collections\",\"xref\":\"x\",\"y\":\"Positive\",\"yref\":\"y\"},{\"font\":{\"color\":\"#000000\"},\"showarrow\":false,\"text\":\"0.91\",\"x\":\"NumberOfScenes\",\"xref\":\"x\",\"y\":\"Negative\",\"yref\":\"y\"},{\"font\":{\"color\":\"#000000\"},\"showarrow\":false,\"text\":\"0.73\",\"x\":\"RunTime\",\"xref\":\"x\",\"y\":\"Negative\",\"yref\":\"y\"},{\"font\":{\"color\":\"#000000\"},\"showarrow\":false,\"text\":\"0.58\",\"x\":\"PositiveScenes\",\"xref\":\"x\",\"y\":\"Negative\",\"yref\":\"y\"},{\"font\":{\"color\":\"#000000\"},\"showarrow\":false,\"text\":\"0.86\",\"x\":\"NegativeScenes\",\"xref\":\"x\",\"y\":\"Negative\",\"yref\":\"y\"},{\"font\":{\"color\":\"#000000\"},\"showarrow\":false,\"text\":\"0.78\",\"x\":\"NeutralScenes\",\"xref\":\"x\",\"y\":\"Negative\",\"yref\":\"y\"},{\"font\":{\"color\":\"#FFFFFF\"},\"showarrow\":false,\"text\":\"-0.32\",\"x\":\"SentimentPolarity\",\"xref\":\"x\",\"y\":\"Negative\",\"yref\":\"y\"},{\"font\":{\"color\":\"#000000\"},\"showarrow\":false,\"text\":\"0.89\",\"x\":\"Fear\",\"xref\":\"x\",\"y\":\"Negative\",\"yref\":\"y\"},{\"font\":{\"color\":\"#000000\"},\"showarrow\":false,\"text\":\"0.86\",\"x\":\"Anger\",\"xref\":\"x\",\"y\":\"Negative\",\"yref\":\"y\"},{\"font\":{\"color\":\"#000000\"},\"showarrow\":false,\"text\":\"0.64\",\"x\":\"Anticipation\",\"xref\":\"x\",\"y\":\"Negative\",\"yref\":\"y\"},{\"font\":{\"color\":\"#000000\"},\"showarrow\":false,\"text\":\"0.81\",\"x\":\"Trust\",\"xref\":\"x\",\"y\":\"Negative\",\"yref\":\"y\"},{\"font\":{\"color\":\"#000000\"},\"showarrow\":false,\"text\":\"0.8\",\"x\":\"Surprise\",\"xref\":\"x\",\"y\":\"Negative\",\"yref\":\"y\"},{\"font\":{\"color\":\"#000000\"},\"showarrow\":false,\"text\":\"0.71\",\"x\":\"Positive\",\"xref\":\"x\",\"y\":\"Negative\",\"yref\":\"y\"},{\"font\":{\"color\":\"#000000\"},\"showarrow\":false,\"text\":\"1.0\",\"x\":\"Negative\",\"xref\":\"x\",\"y\":\"Negative\",\"yref\":\"y\"},{\"font\":{\"color\":\"#000000\"},\"showarrow\":false,\"text\":\"0.84\",\"x\":\"Sadness\",\"xref\":\"x\",\"y\":\"Negative\",\"yref\":\"y\"},{\"font\":{\"color\":\"#000000\"},\"showarrow\":false,\"text\":\"0.82\",\"x\":\"Disgust\",\"xref\":\"x\",\"y\":\"Negative\",\"yref\":\"y\"},{\"font\":{\"color\":\"#000000\"},\"showarrow\":false,\"text\":\"0.76\",\"x\":\"Joy\",\"xref\":\"x\",\"y\":\"Negative\",\"yref\":\"y\"},{\"font\":{\"color\":\"#FFFFFF\"},\"showarrow\":false,\"text\":\"0.03\",\"x\":\"NumberOfCharacters\",\"xref\":\"x\",\"y\":\"Negative\",\"yref\":\"y\"},{\"font\":{\"color\":\"#FFFFFF\"},\"showarrow\":false,\"text\":\"0.03\",\"x\":\"ThreeActStructure\",\"xref\":\"x\",\"y\":\"Negative\",\"yref\":\"y\"},{\"font\":{\"color\":\"#FFFFFF\"},\"showarrow\":false,\"text\":\"-0.03\",\"x\":\"FiveActStructure\",\"xref\":\"x\",\"y\":\"Negative\",\"yref\":\"y\"},{\"font\":{\"color\":\"#FFFFFF\"},\"showarrow\":false,\"text\":\"0.04\",\"x\":\"HeroStructure\",\"xref\":\"x\",\"y\":\"Negative\",\"yref\":\"y\"},{\"font\":{\"color\":\"#FFFFFF\"},\"showarrow\":false,\"text\":\"0.12\",\"x\":\"NonlinearStructure\",\"xref\":\"x\",\"y\":\"Negative\",\"yref\":\"y\"},{\"font\":{\"color\":\"#FFFFFF\"},\"showarrow\":false,\"text\":\"0.09\",\"x\":\"ParallelStructure\",\"xref\":\"x\",\"y\":\"Negative\",\"yref\":\"y\"},{\"font\":{\"color\":\"#FFFFFF\"},\"showarrow\":false,\"text\":\"0.14\",\"x\":\"CircularStructure\",\"xref\":\"x\",\"y\":\"Negative\",\"yref\":\"y\"},{\"font\":{\"color\":\"#FFFFFF\"},\"showarrow\":false,\"text\":\"-0.01\",\"x\":\"OpenEndedStructre\",\"xref\":\"x\",\"y\":\"Negative\",\"yref\":\"y\"},{\"font\":{\"color\":\"#FFFFFF\"},\"showarrow\":false,\"text\":\"-0.02\",\"x\":\"InMediasStructure\",\"xref\":\"x\",\"y\":\"Negative\",\"yref\":\"y\"},{\"font\":{\"color\":\"#FFFFFF\"},\"showarrow\":false,\"text\":\"0.01\",\"x\":\"ExperimentalStructure\",\"xref\":\"x\",\"y\":\"Negative\",\"yref\":\"y\"},{\"font\":{\"color\":\"#FFFFFF\"},\"showarrow\":false,\"text\":\"0.09\",\"x\":\"Rating\",\"xref\":\"x\",\"y\":\"Negative\",\"yref\":\"y\"},{\"font\":{\"color\":\"#FFFFFF\"},\"showarrow\":false,\"text\":\"-0.06\",\"x\":\"budget\",\"xref\":\"x\",\"y\":\"Negative\",\"yref\":\"y\"},{\"font\":{\"color\":\"#FFFFFF\"},\"showarrow\":false,\"text\":\"-0.05\",\"x\":\"collections\",\"xref\":\"x\",\"y\":\"Negative\",\"yref\":\"y\"},{\"font\":{\"color\":\"#000000\"},\"showarrow\":false,\"text\":\"0.84\",\"x\":\"NumberOfScenes\",\"xref\":\"x\",\"y\":\"Sadness\",\"yref\":\"y\"},{\"font\":{\"color\":\"#000000\"},\"showarrow\":false,\"text\":\"0.65\",\"x\":\"RunTime\",\"xref\":\"x\",\"y\":\"Sadness\",\"yref\":\"y\"},{\"font\":{\"color\":\"#000000\"},\"showarrow\":false,\"text\":\"0.57\",\"x\":\"PositiveScenes\",\"xref\":\"x\",\"y\":\"Sadness\",\"yref\":\"y\"},{\"font\":{\"color\":\"#000000\"},\"showarrow\":false,\"text\":\"0.66\",\"x\":\"NegativeScenes\",\"xref\":\"x\",\"y\":\"Sadness\",\"yref\":\"y\"},{\"font\":{\"color\":\"#000000\"},\"showarrow\":false,\"text\":\"0.88\",\"x\":\"NeutralScenes\",\"xref\":\"x\",\"y\":\"Sadness\",\"yref\":\"y\"},{\"font\":{\"color\":\"#FFFFFF\"},\"showarrow\":false,\"text\":\"-0.12\",\"x\":\"SentimentPolarity\",\"xref\":\"x\",\"y\":\"Sadness\",\"yref\":\"y\"},{\"font\":{\"color\":\"#000000\"},\"showarrow\":false,\"text\":\"0.92\",\"x\":\"Fear\",\"xref\":\"x\",\"y\":\"Sadness\",\"yref\":\"y\"},{\"font\":{\"color\":\"#000000\"},\"showarrow\":false,\"text\":\"0.96\",\"x\":\"Anger\",\"xref\":\"x\",\"y\":\"Sadness\",\"yref\":\"y\"},{\"font\":{\"color\":\"#000000\"},\"showarrow\":false,\"text\":\"0.68\",\"x\":\"Anticipation\",\"xref\":\"x\",\"y\":\"Sadness\",\"yref\":\"y\"},{\"font\":{\"color\":\"#000000\"},\"showarrow\":false,\"text\":\"0.92\",\"x\":\"Trust\",\"xref\":\"x\",\"y\":\"Sadness\",\"yref\":\"y\"},{\"font\":{\"color\":\"#000000\"},\"showarrow\":false,\"text\":\"0.96\",\"x\":\"Surprise\",\"xref\":\"x\",\"y\":\"Sadness\",\"yref\":\"y\"},{\"font\":{\"color\":\"#000000\"},\"showarrow\":false,\"text\":\"0.81\",\"x\":\"Positive\",\"xref\":\"x\",\"y\":\"Sadness\",\"yref\":\"y\"},{\"font\":{\"color\":\"#000000\"},\"showarrow\":false,\"text\":\"0.84\",\"x\":\"Negative\",\"xref\":\"x\",\"y\":\"Sadness\",\"yref\":\"y\"},{\"font\":{\"color\":\"#000000\"},\"showarrow\":false,\"text\":\"1.0\",\"x\":\"Sadness\",\"xref\":\"x\",\"y\":\"Sadness\",\"yref\":\"y\"},{\"font\":{\"color\":\"#000000\"},\"showarrow\":false,\"text\":\"0.96\",\"x\":\"Disgust\",\"xref\":\"x\",\"y\":\"Sadness\",\"yref\":\"y\"},{\"font\":{\"color\":\"#000000\"},\"showarrow\":false,\"text\":\"0.95\",\"x\":\"Joy\",\"xref\":\"x\",\"y\":\"Sadness\",\"yref\":\"y\"},{\"font\":{\"color\":\"#FFFFFF\"},\"showarrow\":false,\"text\":\"-0.0\",\"x\":\"NumberOfCharacters\",\"xref\":\"x\",\"y\":\"Sadness\",\"yref\":\"y\"},{\"font\":{\"color\":\"#FFFFFF\"},\"showarrow\":false,\"text\":\"-0.0\",\"x\":\"ThreeActStructure\",\"xref\":\"x\",\"y\":\"Sadness\",\"yref\":\"y\"},{\"font\":{\"color\":\"#FFFFFF\"},\"showarrow\":false,\"text\":\"-0.02\",\"x\":\"FiveActStructure\",\"xref\":\"x\",\"y\":\"Sadness\",\"yref\":\"y\"},{\"font\":{\"color\":\"#FFFFFF\"},\"showarrow\":false,\"text\":\"-0.02\",\"x\":\"HeroStructure\",\"xref\":\"x\",\"y\":\"Sadness\",\"yref\":\"y\"},{\"font\":{\"color\":\"#FFFFFF\"},\"showarrow\":false,\"text\":\"0.09\",\"x\":\"NonlinearStructure\",\"xref\":\"x\",\"y\":\"Sadness\",\"yref\":\"y\"},{\"font\":{\"color\":\"#FFFFFF\"},\"showarrow\":false,\"text\":\"0.03\",\"x\":\"ParallelStructure\",\"xref\":\"x\",\"y\":\"Sadness\",\"yref\":\"y\"},{\"font\":{\"color\":\"#FFFFFF\"},\"showarrow\":false,\"text\":\"0.06\",\"x\":\"CircularStructure\",\"xref\":\"x\",\"y\":\"Sadness\",\"yref\":\"y\"},{\"font\":{\"color\":\"#FFFFFF\"},\"showarrow\":false,\"text\":\"0.01\",\"x\":\"OpenEndedStructre\",\"xref\":\"x\",\"y\":\"Sadness\",\"yref\":\"y\"},{\"font\":{\"color\":\"#FFFFFF\"},\"showarrow\":false,\"text\":\"-0.0\",\"x\":\"InMediasStructure\",\"xref\":\"x\",\"y\":\"Sadness\",\"yref\":\"y\"},{\"font\":{\"color\":\"#FFFFFF\"},\"showarrow\":false,\"text\":\"0.01\",\"x\":\"ExperimentalStructure\",\"xref\":\"x\",\"y\":\"Sadness\",\"yref\":\"y\"},{\"font\":{\"color\":\"#FFFFFF\"},\"showarrow\":false,\"text\":\"0.11\",\"x\":\"Rating\",\"xref\":\"x\",\"y\":\"Sadness\",\"yref\":\"y\"},{\"font\":{\"color\":\"#FFFFFF\"},\"showarrow\":false,\"text\":\"-0.05\",\"x\":\"budget\",\"xref\":\"x\",\"y\":\"Sadness\",\"yref\":\"y\"},{\"font\":{\"color\":\"#FFFFFF\"},\"showarrow\":false,\"text\":\"-0.04\",\"x\":\"collections\",\"xref\":\"x\",\"y\":\"Sadness\",\"yref\":\"y\"},{\"font\":{\"color\":\"#000000\"},\"showarrow\":false,\"text\":\"0.8\",\"x\":\"NumberOfScenes\",\"xref\":\"x\",\"y\":\"Disgust\",\"yref\":\"y\"},{\"font\":{\"color\":\"#000000\"},\"showarrow\":false,\"text\":\"0.63\",\"x\":\"RunTime\",\"xref\":\"x\",\"y\":\"Disgust\",\"yref\":\"y\"},{\"font\":{\"color\":\"#000000\"},\"showarrow\":false,\"text\":\"0.53\",\"x\":\"PositiveScenes\",\"xref\":\"x\",\"y\":\"Disgust\",\"yref\":\"y\"},{\"font\":{\"color\":\"#000000\"},\"showarrow\":false,\"text\":\"0.62\",\"x\":\"NegativeScenes\",\"xref\":\"x\",\"y\":\"Disgust\",\"yref\":\"y\"},{\"font\":{\"color\":\"#000000\"},\"showarrow\":false,\"text\":\"0.9\",\"x\":\"NeutralScenes\",\"xref\":\"x\",\"y\":\"Disgust\",\"yref\":\"y\"},{\"font\":{\"color\":\"#FFFFFF\"},\"showarrow\":false,\"text\":\"-0.13\",\"x\":\"SentimentPolarity\",\"xref\":\"x\",\"y\":\"Disgust\",\"yref\":\"y\"},{\"font\":{\"color\":\"#000000\"},\"showarrow\":false,\"text\":\"0.92\",\"x\":\"Fear\",\"xref\":\"x\",\"y\":\"Disgust\",\"yref\":\"y\"},{\"font\":{\"color\":\"#000000\"},\"showarrow\":false,\"text\":\"0.97\",\"x\":\"Anger\",\"xref\":\"x\",\"y\":\"Disgust\",\"yref\":\"y\"},{\"font\":{\"color\":\"#000000\"},\"showarrow\":false,\"text\":\"0.64\",\"x\":\"Anticipation\",\"xref\":\"x\",\"y\":\"Disgust\",\"yref\":\"y\"},{\"font\":{\"color\":\"#000000\"},\"showarrow\":false,\"text\":\"0.92\",\"x\":\"Trust\",\"xref\":\"x\",\"y\":\"Disgust\",\"yref\":\"y\"},{\"font\":{\"color\":\"#000000\"},\"showarrow\":false,\"text\":\"0.97\",\"x\":\"Surprise\",\"xref\":\"x\",\"y\":\"Disgust\",\"yref\":\"y\"},{\"font\":{\"color\":\"#000000\"},\"showarrow\":false,\"text\":\"0.8\",\"x\":\"Positive\",\"xref\":\"x\",\"y\":\"Disgust\",\"yref\":\"y\"},{\"font\":{\"color\":\"#000000\"},\"showarrow\":false,\"text\":\"0.82\",\"x\":\"Negative\",\"xref\":\"x\",\"y\":\"Disgust\",\"yref\":\"y\"},{\"font\":{\"color\":\"#000000\"},\"showarrow\":false,\"text\":\"0.96\",\"x\":\"Sadness\",\"xref\":\"x\",\"y\":\"Disgust\",\"yref\":\"y\"},{\"font\":{\"color\":\"#000000\"},\"showarrow\":false,\"text\":\"1.0\",\"x\":\"Disgust\",\"xref\":\"x\",\"y\":\"Disgust\",\"yref\":\"y\"},{\"font\":{\"color\":\"#000000\"},\"showarrow\":false,\"text\":\"0.96\",\"x\":\"Joy\",\"xref\":\"x\",\"y\":\"Disgust\",\"yref\":\"y\"},{\"font\":{\"color\":\"#FFFFFF\"},\"showarrow\":false,\"text\":\"0.01\",\"x\":\"NumberOfCharacters\",\"xref\":\"x\",\"y\":\"Disgust\",\"yref\":\"y\"},{\"font\":{\"color\":\"#FFFFFF\"},\"showarrow\":false,\"text\":\"-0.02\",\"x\":\"ThreeActStructure\",\"xref\":\"x\",\"y\":\"Disgust\",\"yref\":\"y\"},{\"font\":{\"color\":\"#FFFFFF\"},\"showarrow\":false,\"text\":\"-0.03\",\"x\":\"FiveActStructure\",\"xref\":\"x\",\"y\":\"Disgust\",\"yref\":\"y\"},{\"font\":{\"color\":\"#FFFFFF\"},\"showarrow\":false,\"text\":\"-0.03\",\"x\":\"HeroStructure\",\"xref\":\"x\",\"y\":\"Disgust\",\"yref\":\"y\"},{\"font\":{\"color\":\"#FFFFFF\"},\"showarrow\":false,\"text\":\"0.07\",\"x\":\"NonlinearStructure\",\"xref\":\"x\",\"y\":\"Disgust\",\"yref\":\"y\"},{\"font\":{\"color\":\"#FFFFFF\"},\"showarrow\":false,\"text\":\"0.03\",\"x\":\"ParallelStructure\",\"xref\":\"x\",\"y\":\"Disgust\",\"yref\":\"y\"},{\"font\":{\"color\":\"#FFFFFF\"},\"showarrow\":false,\"text\":\"0.05\",\"x\":\"CircularStructure\",\"xref\":\"x\",\"y\":\"Disgust\",\"yref\":\"y\"},{\"font\":{\"color\":\"#FFFFFF\"},\"showarrow\":false,\"text\":\"-0.0\",\"x\":\"OpenEndedStructre\",\"xref\":\"x\",\"y\":\"Disgust\",\"yref\":\"y\"},{\"font\":{\"color\":\"#FFFFFF\"},\"showarrow\":false,\"text\":\"-0.02\",\"x\":\"InMediasStructure\",\"xref\":\"x\",\"y\":\"Disgust\",\"yref\":\"y\"},{\"font\":{\"color\":\"#FFFFFF\"},\"showarrow\":false,\"text\":\"0.02\",\"x\":\"ExperimentalStructure\",\"xref\":\"x\",\"y\":\"Disgust\",\"yref\":\"y\"},{\"font\":{\"color\":\"#FFFFFF\"},\"showarrow\":false,\"text\":\"0.1\",\"x\":\"Rating\",\"xref\":\"x\",\"y\":\"Disgust\",\"yref\":\"y\"},{\"font\":{\"color\":\"#FFFFFF\"},\"showarrow\":false,\"text\":\"-0.04\",\"x\":\"budget\",\"xref\":\"x\",\"y\":\"Disgust\",\"yref\":\"y\"},{\"font\":{\"color\":\"#FFFFFF\"},\"showarrow\":false,\"text\":\"-0.04\",\"x\":\"collections\",\"xref\":\"x\",\"y\":\"Disgust\",\"yref\":\"y\"},{\"font\":{\"color\":\"#000000\"},\"showarrow\":false,\"text\":\"0.8\",\"x\":\"NumberOfScenes\",\"xref\":\"x\",\"y\":\"Joy\",\"yref\":\"y\"},{\"font\":{\"color\":\"#000000\"},\"showarrow\":false,\"text\":\"0.63\",\"x\":\"RunTime\",\"xref\":\"x\",\"y\":\"Joy\",\"yref\":\"y\"},{\"font\":{\"color\":\"#000000\"},\"showarrow\":false,\"text\":\"0.6\",\"x\":\"PositiveScenes\",\"xref\":\"x\",\"y\":\"Joy\",\"yref\":\"y\"},{\"font\":{\"color\":\"#000000\"},\"showarrow\":false,\"text\":\"0.55\",\"x\":\"NegativeScenes\",\"xref\":\"x\",\"y\":\"Joy\",\"yref\":\"y\"},{\"font\":{\"color\":\"#000000\"},\"showarrow\":false,\"text\":\"0.89\",\"x\":\"NeutralScenes\",\"xref\":\"x\",\"y\":\"Joy\",\"yref\":\"y\"},{\"font\":{\"color\":\"#FFFFFF\"},\"showarrow\":false,\"text\":\"-0.02\",\"x\":\"SentimentPolarity\",\"xref\":\"x\",\"y\":\"Joy\",\"yref\":\"y\"},{\"font\":{\"color\":\"#000000\"},\"showarrow\":false,\"text\":\"0.88\",\"x\":\"Fear\",\"xref\":\"x\",\"y\":\"Joy\",\"yref\":\"y\"},{\"font\":{\"color\":\"#000000\"},\"showarrow\":false,\"text\":\"0.94\",\"x\":\"Anger\",\"xref\":\"x\",\"y\":\"Joy\",\"yref\":\"y\"},{\"font\":{\"color\":\"#000000\"},\"showarrow\":false,\"text\":\"0.69\",\"x\":\"Anticipation\",\"xref\":\"x\",\"y\":\"Joy\",\"yref\":\"y\"},{\"font\":{\"color\":\"#000000\"},\"showarrow\":false,\"text\":\"0.92\",\"x\":\"Trust\",\"xref\":\"x\",\"y\":\"Joy\",\"yref\":\"y\"},{\"font\":{\"color\":\"#000000\"},\"showarrow\":false,\"text\":\"0.96\",\"x\":\"Surprise\",\"xref\":\"x\",\"y\":\"Joy\",\"yref\":\"y\"},{\"font\":{\"color\":\"#000000\"},\"showarrow\":false,\"text\":\"0.85\",\"x\":\"Positive\",\"xref\":\"x\",\"y\":\"Joy\",\"yref\":\"y\"},{\"font\":{\"color\":\"#000000\"},\"showarrow\":false,\"text\":\"0.76\",\"x\":\"Negative\",\"xref\":\"x\",\"y\":\"Joy\",\"yref\":\"y\"},{\"font\":{\"color\":\"#000000\"},\"showarrow\":false,\"text\":\"0.95\",\"x\":\"Sadness\",\"xref\":\"x\",\"y\":\"Joy\",\"yref\":\"y\"},{\"font\":{\"color\":\"#000000\"},\"showarrow\":false,\"text\":\"0.96\",\"x\":\"Disgust\",\"xref\":\"x\",\"y\":\"Joy\",\"yref\":\"y\"},{\"font\":{\"color\":\"#000000\"},\"showarrow\":false,\"text\":\"1.0\",\"x\":\"Joy\",\"xref\":\"x\",\"y\":\"Joy\",\"yref\":\"y\"},{\"font\":{\"color\":\"#FFFFFF\"},\"showarrow\":false,\"text\":\"0.02\",\"x\":\"NumberOfCharacters\",\"xref\":\"x\",\"y\":\"Joy\",\"yref\":\"y\"},{\"font\":{\"color\":\"#FFFFFF\"},\"showarrow\":false,\"text\":\"-0.0\",\"x\":\"ThreeActStructure\",\"xref\":\"x\",\"y\":\"Joy\",\"yref\":\"y\"},{\"font\":{\"color\":\"#FFFFFF\"},\"showarrow\":false,\"text\":\"-0.03\",\"x\":\"FiveActStructure\",\"xref\":\"x\",\"y\":\"Joy\",\"yref\":\"y\"},{\"font\":{\"color\":\"#FFFFFF\"},\"showarrow\":false,\"text\":\"-0.06\",\"x\":\"HeroStructure\",\"xref\":\"x\",\"y\":\"Joy\",\"yref\":\"y\"},{\"font\":{\"color\":\"#FFFFFF\"},\"showarrow\":false,\"text\":\"0.08\",\"x\":\"NonlinearStructure\",\"xref\":\"x\",\"y\":\"Joy\",\"yref\":\"y\"},{\"font\":{\"color\":\"#FFFFFF\"},\"showarrow\":false,\"text\":\"-0.01\",\"x\":\"ParallelStructure\",\"xref\":\"x\",\"y\":\"Joy\",\"yref\":\"y\"},{\"font\":{\"color\":\"#FFFFFF\"},\"showarrow\":false,\"text\":\"0.03\",\"x\":\"CircularStructure\",\"xref\":\"x\",\"y\":\"Joy\",\"yref\":\"y\"},{\"font\":{\"color\":\"#FFFFFF\"},\"showarrow\":false,\"text\":\"-0.0\",\"x\":\"OpenEndedStructre\",\"xref\":\"x\",\"y\":\"Joy\",\"yref\":\"y\"},{\"font\":{\"color\":\"#FFFFFF\"},\"showarrow\":false,\"text\":\"0.0\",\"x\":\"InMediasStructure\",\"xref\":\"x\",\"y\":\"Joy\",\"yref\":\"y\"},{\"font\":{\"color\":\"#FFFFFF\"},\"showarrow\":false,\"text\":\"-0.0\",\"x\":\"ExperimentalStructure\",\"xref\":\"x\",\"y\":\"Joy\",\"yref\":\"y\"},{\"font\":{\"color\":\"#FFFFFF\"},\"showarrow\":false,\"text\":\"0.12\",\"x\":\"Rating\",\"xref\":\"x\",\"y\":\"Joy\",\"yref\":\"y\"},{\"font\":{\"color\":\"#FFFFFF\"},\"showarrow\":false,\"text\":\"-0.05\",\"x\":\"budget\",\"xref\":\"x\",\"y\":\"Joy\",\"yref\":\"y\"},{\"font\":{\"color\":\"#FFFFFF\"},\"showarrow\":false,\"text\":\"-0.05\",\"x\":\"collections\",\"xref\":\"x\",\"y\":\"Joy\",\"yref\":\"y\"},{\"font\":{\"color\":\"#FFFFFF\"},\"showarrow\":false,\"text\":\"0.07\",\"x\":\"NumberOfScenes\",\"xref\":\"x\",\"y\":\"NumberOfCharacters\",\"yref\":\"y\"},{\"font\":{\"color\":\"#FFFFFF\"},\"showarrow\":false,\"text\":\"0.07\",\"x\":\"RunTime\",\"xref\":\"x\",\"y\":\"NumberOfCharacters\",\"yref\":\"y\"},{\"font\":{\"color\":\"#FFFFFF\"},\"showarrow\":false,\"text\":\"0.11\",\"x\":\"PositiveScenes\",\"xref\":\"x\",\"y\":\"NumberOfCharacters\",\"yref\":\"y\"},{\"font\":{\"color\":\"#FFFFFF\"},\"showarrow\":false,\"text\":\"0.01\",\"x\":\"NegativeScenes\",\"xref\":\"x\",\"y\":\"NumberOfCharacters\",\"yref\":\"y\"},{\"font\":{\"color\":\"#FFFFFF\"},\"showarrow\":false,\"text\":\"0.04\",\"x\":\"NeutralScenes\",\"xref\":\"x\",\"y\":\"NumberOfCharacters\",\"yref\":\"y\"},{\"font\":{\"color\":\"#FFFFFF\"},\"showarrow\":false,\"text\":\"0.05\",\"x\":\"SentimentPolarity\",\"xref\":\"x\",\"y\":\"NumberOfCharacters\",\"yref\":\"y\"},{\"font\":{\"color\":\"#FFFFFF\"},\"showarrow\":false,\"text\":\"0.04\",\"x\":\"Fear\",\"xref\":\"x\",\"y\":\"NumberOfCharacters\",\"yref\":\"y\"},{\"font\":{\"color\":\"#FFFFFF\"},\"showarrow\":false,\"text\":\"0.03\",\"x\":\"Anger\",\"xref\":\"x\",\"y\":\"NumberOfCharacters\",\"yref\":\"y\"},{\"font\":{\"color\":\"#FFFFFF\"},\"showarrow\":false,\"text\":\"0.04\",\"x\":\"Anticipation\",\"xref\":\"x\",\"y\":\"NumberOfCharacters\",\"yref\":\"y\"},{\"font\":{\"color\":\"#FFFFFF\"},\"showarrow\":false,\"text\":\"0.05\",\"x\":\"Trust\",\"xref\":\"x\",\"y\":\"NumberOfCharacters\",\"yref\":\"y\"},{\"font\":{\"color\":\"#FFFFFF\"},\"showarrow\":false,\"text\":\"0.02\",\"x\":\"Surprise\",\"xref\":\"x\",\"y\":\"NumberOfCharacters\",\"yref\":\"y\"},{\"font\":{\"color\":\"#FFFFFF\"},\"showarrow\":false,\"text\":\"0.08\",\"x\":\"Positive\",\"xref\":\"x\",\"y\":\"NumberOfCharacters\",\"yref\":\"y\"},{\"font\":{\"color\":\"#FFFFFF\"},\"showarrow\":false,\"text\":\"0.03\",\"x\":\"Negative\",\"xref\":\"x\",\"y\":\"NumberOfCharacters\",\"yref\":\"y\"},{\"font\":{\"color\":\"#FFFFFF\"},\"showarrow\":false,\"text\":\"-0.0\",\"x\":\"Sadness\",\"xref\":\"x\",\"y\":\"NumberOfCharacters\",\"yref\":\"y\"},{\"font\":{\"color\":\"#FFFFFF\"},\"showarrow\":false,\"text\":\"0.01\",\"x\":\"Disgust\",\"xref\":\"x\",\"y\":\"NumberOfCharacters\",\"yref\":\"y\"},{\"font\":{\"color\":\"#FFFFFF\"},\"showarrow\":false,\"text\":\"0.02\",\"x\":\"Joy\",\"xref\":\"x\",\"y\":\"NumberOfCharacters\",\"yref\":\"y\"},{\"font\":{\"color\":\"#000000\"},\"showarrow\":false,\"text\":\"1.0\",\"x\":\"NumberOfCharacters\",\"xref\":\"x\",\"y\":\"NumberOfCharacters\",\"yref\":\"y\"},{\"font\":{\"color\":\"#FFFFFF\"},\"showarrow\":false,\"text\":\"0.1\",\"x\":\"ThreeActStructure\",\"xref\":\"x\",\"y\":\"NumberOfCharacters\",\"yref\":\"y\"},{\"font\":{\"color\":\"#FFFFFF\"},\"showarrow\":false,\"text\":\"0.11\",\"x\":\"FiveActStructure\",\"xref\":\"x\",\"y\":\"NumberOfCharacters\",\"yref\":\"y\"},{\"font\":{\"color\":\"#FFFFFF\"},\"showarrow\":false,\"text\":\"-0.01\",\"x\":\"HeroStructure\",\"xref\":\"x\",\"y\":\"NumberOfCharacters\",\"yref\":\"y\"},{\"font\":{\"color\":\"#FFFFFF\"},\"showarrow\":false,\"text\":\"-0.0\",\"x\":\"NonlinearStructure\",\"xref\":\"x\",\"y\":\"NumberOfCharacters\",\"yref\":\"y\"},{\"font\":{\"color\":\"#FFFFFF\"},\"showarrow\":false,\"text\":\"-0.01\",\"x\":\"ParallelStructure\",\"xref\":\"x\",\"y\":\"NumberOfCharacters\",\"yref\":\"y\"},{\"font\":{\"color\":\"#FFFFFF\"},\"showarrow\":false,\"text\":\"0.03\",\"x\":\"CircularStructure\",\"xref\":\"x\",\"y\":\"NumberOfCharacters\",\"yref\":\"y\"},{\"font\":{\"color\":\"#FFFFFF\"},\"showarrow\":false,\"text\":\"0.06\",\"x\":\"OpenEndedStructre\",\"xref\":\"x\",\"y\":\"NumberOfCharacters\",\"yref\":\"y\"},{\"font\":{\"color\":\"#FFFFFF\"},\"showarrow\":false,\"text\":\"0.05\",\"x\":\"InMediasStructure\",\"xref\":\"x\",\"y\":\"NumberOfCharacters\",\"yref\":\"y\"},{\"font\":{\"color\":\"#FFFFFF\"},\"showarrow\":false,\"text\":\"-0.02\",\"x\":\"ExperimentalStructure\",\"xref\":\"x\",\"y\":\"NumberOfCharacters\",\"yref\":\"y\"},{\"font\":{\"color\":\"#FFFFFF\"},\"showarrow\":false,\"text\":\"0.06\",\"x\":\"Rating\",\"xref\":\"x\",\"y\":\"NumberOfCharacters\",\"yref\":\"y\"},{\"font\":{\"color\":\"#FFFFFF\"},\"showarrow\":false,\"text\":\"-0.0\",\"x\":\"budget\",\"xref\":\"x\",\"y\":\"NumberOfCharacters\",\"yref\":\"y\"},{\"font\":{\"color\":\"#FFFFFF\"},\"showarrow\":false,\"text\":\"0.02\",\"x\":\"collections\",\"xref\":\"x\",\"y\":\"NumberOfCharacters\",\"yref\":\"y\"},{\"font\":{\"color\":\"#FFFFFF\"},\"showarrow\":false,\"text\":\"0.08\",\"x\":\"NumberOfScenes\",\"xref\":\"x\",\"y\":\"ThreeActStructure\",\"yref\":\"y\"},{\"font\":{\"color\":\"#FFFFFF\"},\"showarrow\":false,\"text\":\"0.06\",\"x\":\"RunTime\",\"xref\":\"x\",\"y\":\"ThreeActStructure\",\"yref\":\"y\"},{\"font\":{\"color\":\"#FFFFFF\"},\"showarrow\":false,\"text\":\"0.12\",\"x\":\"PositiveScenes\",\"xref\":\"x\",\"y\":\"ThreeActStructure\",\"yref\":\"y\"},{\"font\":{\"color\":\"#FFFFFF\"},\"showarrow\":false,\"text\":\"0.02\",\"x\":\"NegativeScenes\",\"xref\":\"x\",\"y\":\"ThreeActStructure\",\"yref\":\"y\"},{\"font\":{\"color\":\"#FFFFFF\"},\"showarrow\":false,\"text\":\"0.02\",\"x\":\"NeutralScenes\",\"xref\":\"x\",\"y\":\"ThreeActStructure\",\"yref\":\"y\"},{\"font\":{\"color\":\"#FFFFFF\"},\"showarrow\":false,\"text\":\"0.05\",\"x\":\"SentimentPolarity\",\"xref\":\"x\",\"y\":\"ThreeActStructure\",\"yref\":\"y\"},{\"font\":{\"color\":\"#FFFFFF\"},\"showarrow\":false,\"text\":\"0.01\",\"x\":\"Fear\",\"xref\":\"x\",\"y\":\"ThreeActStructure\",\"yref\":\"y\"},{\"font\":{\"color\":\"#FFFFFF\"},\"showarrow\":false,\"text\":\"0.0\",\"x\":\"Anger\",\"xref\":\"x\",\"y\":\"ThreeActStructure\",\"yref\":\"y\"},{\"font\":{\"color\":\"#FFFFFF\"},\"showarrow\":false,\"text\":\"0.06\",\"x\":\"Anticipation\",\"xref\":\"x\",\"y\":\"ThreeActStructure\",\"yref\":\"y\"},{\"font\":{\"color\":\"#FFFFFF\"},\"showarrow\":false,\"text\":\"0.04\",\"x\":\"Trust\",\"xref\":\"x\",\"y\":\"ThreeActStructure\",\"yref\":\"y\"},{\"font\":{\"color\":\"#FFFFFF\"},\"showarrow\":false,\"text\":\"0.0\",\"x\":\"Surprise\",\"xref\":\"x\",\"y\":\"ThreeActStructure\",\"yref\":\"y\"},{\"font\":{\"color\":\"#FFFFFF\"},\"showarrow\":false,\"text\":\"0.09\",\"x\":\"Positive\",\"xref\":\"x\",\"y\":\"ThreeActStructure\",\"yref\":\"y\"},{\"font\":{\"color\":\"#FFFFFF\"},\"showarrow\":false,\"text\":\"0.03\",\"x\":\"Negative\",\"xref\":\"x\",\"y\":\"ThreeActStructure\",\"yref\":\"y\"},{\"font\":{\"color\":\"#FFFFFF\"},\"showarrow\":false,\"text\":\"-0.0\",\"x\":\"Sadness\",\"xref\":\"x\",\"y\":\"ThreeActStructure\",\"yref\":\"y\"},{\"font\":{\"color\":\"#FFFFFF\"},\"showarrow\":false,\"text\":\"-0.02\",\"x\":\"Disgust\",\"xref\":\"x\",\"y\":\"ThreeActStructure\",\"yref\":\"y\"},{\"font\":{\"color\":\"#FFFFFF\"},\"showarrow\":false,\"text\":\"-0.0\",\"x\":\"Joy\",\"xref\":\"x\",\"y\":\"ThreeActStructure\",\"yref\":\"y\"},{\"font\":{\"color\":\"#FFFFFF\"},\"showarrow\":false,\"text\":\"0.1\",\"x\":\"NumberOfCharacters\",\"xref\":\"x\",\"y\":\"ThreeActStructure\",\"yref\":\"y\"},{\"font\":{\"color\":\"#000000\"},\"showarrow\":false,\"text\":\"1.0\",\"x\":\"ThreeActStructure\",\"xref\":\"x\",\"y\":\"ThreeActStructure\",\"yref\":\"y\"},{\"font\":{\"color\":\"#000000\"},\"showarrow\":false,\"text\":\"0.44\",\"x\":\"FiveActStructure\",\"xref\":\"x\",\"y\":\"ThreeActStructure\",\"yref\":\"y\"},{\"font\":{\"color\":\"#FFFFFF\"},\"showarrow\":false,\"text\":\"0.03\",\"x\":\"HeroStructure\",\"xref\":\"x\",\"y\":\"ThreeActStructure\",\"yref\":\"y\"},{\"font\":{\"color\":\"#FFFFFF\"},\"showarrow\":false,\"text\":\"0.06\",\"x\":\"NonlinearStructure\",\"xref\":\"x\",\"y\":\"ThreeActStructure\",\"yref\":\"y\"},{\"font\":{\"color\":\"#FFFFFF\"},\"showarrow\":false,\"text\":\"0.06\",\"x\":\"ParallelStructure\",\"xref\":\"x\",\"y\":\"ThreeActStructure\",\"yref\":\"y\"},{\"font\":{\"color\":\"#FFFFFF\"},\"showarrow\":false,\"text\":\"0.1\",\"x\":\"CircularStructure\",\"xref\":\"x\",\"y\":\"ThreeActStructure\",\"yref\":\"y\"},{\"font\":{\"color\":\"#FFFFFF\"},\"showarrow\":false,\"text\":\"0.08\",\"x\":\"OpenEndedStructre\",\"xref\":\"x\",\"y\":\"ThreeActStructure\",\"yref\":\"y\"},{\"font\":{\"color\":\"#FFFFFF\"},\"showarrow\":false,\"text\":\"-0.04\",\"x\":\"InMediasStructure\",\"xref\":\"x\",\"y\":\"ThreeActStructure\",\"yref\":\"y\"},{\"font\":{\"color\":\"#FFFFFF\"},\"showarrow\":false,\"text\":\"0.13\",\"x\":\"ExperimentalStructure\",\"xref\":\"x\",\"y\":\"ThreeActStructure\",\"yref\":\"y\"},{\"font\":{\"color\":\"#FFFFFF\"},\"showarrow\":false,\"text\":\"0.06\",\"x\":\"Rating\",\"xref\":\"x\",\"y\":\"ThreeActStructure\",\"yref\":\"y\"},{\"font\":{\"color\":\"#FFFFFF\"},\"showarrow\":false,\"text\":\"-0.03\",\"x\":\"budget\",\"xref\":\"x\",\"y\":\"ThreeActStructure\",\"yref\":\"y\"},{\"font\":{\"color\":\"#FFFFFF\"},\"showarrow\":false,\"text\":\"-0.01\",\"x\":\"collections\",\"xref\":\"x\",\"y\":\"ThreeActStructure\",\"yref\":\"y\"},{\"font\":{\"color\":\"#FFFFFF\"},\"showarrow\":false,\"text\":\"0.02\",\"x\":\"NumberOfScenes\",\"xref\":\"x\",\"y\":\"FiveActStructure\",\"yref\":\"y\"},{\"font\":{\"color\":\"#FFFFFF\"},\"showarrow\":false,\"text\":\"0.02\",\"x\":\"RunTime\",\"xref\":\"x\",\"y\":\"FiveActStructure\",\"yref\":\"y\"},{\"font\":{\"color\":\"#FFFFFF\"},\"showarrow\":false,\"text\":\"0.1\",\"x\":\"PositiveScenes\",\"xref\":\"x\",\"y\":\"FiveActStructure\",\"yref\":\"y\"},{\"font\":{\"color\":\"#FFFFFF\"},\"showarrow\":false,\"text\":\"-0.05\",\"x\":\"NegativeScenes\",\"xref\":\"x\",\"y\":\"FiveActStructure\",\"yref\":\"y\"},{\"font\":{\"color\":\"#FFFFFF\"},\"showarrow\":false,\"text\":\"-0.02\",\"x\":\"NeutralScenes\",\"xref\":\"x\",\"y\":\"FiveActStructure\",\"yref\":\"y\"},{\"font\":{\"color\":\"#FFFFFF\"},\"showarrow\":false,\"text\":\"0.08\",\"x\":\"SentimentPolarity\",\"xref\":\"x\",\"y\":\"FiveActStructure\",\"yref\":\"y\"},{\"font\":{\"color\":\"#FFFFFF\"},\"showarrow\":false,\"text\":\"-0.02\",\"x\":\"Fear\",\"xref\":\"x\",\"y\":\"FiveActStructure\",\"yref\":\"y\"},{\"font\":{\"color\":\"#FFFFFF\"},\"showarrow\":false,\"text\":\"-0.01\",\"x\":\"Anger\",\"xref\":\"x\",\"y\":\"FiveActStructure\",\"yref\":\"y\"},{\"font\":{\"color\":\"#FFFFFF\"},\"showarrow\":false,\"text\":\"0.02\",\"x\":\"Anticipation\",\"xref\":\"x\",\"y\":\"FiveActStructure\",\"yref\":\"y\"},{\"font\":{\"color\":\"#FFFFFF\"},\"showarrow\":false,\"text\":\"-0.0\",\"x\":\"Trust\",\"xref\":\"x\",\"y\":\"FiveActStructure\",\"yref\":\"y\"},{\"font\":{\"color\":\"#FFFFFF\"},\"showarrow\":false,\"text\":\"-0.01\",\"x\":\"Surprise\",\"xref\":\"x\",\"y\":\"FiveActStructure\",\"yref\":\"y\"},{\"font\":{\"color\":\"#FFFFFF\"},\"showarrow\":false,\"text\":\"0.08\",\"x\":\"Positive\",\"xref\":\"x\",\"y\":\"FiveActStructure\",\"yref\":\"y\"},{\"font\":{\"color\":\"#FFFFFF\"},\"showarrow\":false,\"text\":\"-0.03\",\"x\":\"Negative\",\"xref\":\"x\",\"y\":\"FiveActStructure\",\"yref\":\"y\"},{\"font\":{\"color\":\"#FFFFFF\"},\"showarrow\":false,\"text\":\"-0.02\",\"x\":\"Sadness\",\"xref\":\"x\",\"y\":\"FiveActStructure\",\"yref\":\"y\"},{\"font\":{\"color\":\"#FFFFFF\"},\"showarrow\":false,\"text\":\"-0.03\",\"x\":\"Disgust\",\"xref\":\"x\",\"y\":\"FiveActStructure\",\"yref\":\"y\"},{\"font\":{\"color\":\"#FFFFFF\"},\"showarrow\":false,\"text\":\"-0.03\",\"x\":\"Joy\",\"xref\":\"x\",\"y\":\"FiveActStructure\",\"yref\":\"y\"},{\"font\":{\"color\":\"#FFFFFF\"},\"showarrow\":false,\"text\":\"0.11\",\"x\":\"NumberOfCharacters\",\"xref\":\"x\",\"y\":\"FiveActStructure\",\"yref\":\"y\"},{\"font\":{\"color\":\"#000000\"},\"showarrow\":false,\"text\":\"0.44\",\"x\":\"ThreeActStructure\",\"xref\":\"x\",\"y\":\"FiveActStructure\",\"yref\":\"y\"},{\"font\":{\"color\":\"#000000\"},\"showarrow\":false,\"text\":\"1.0\",\"x\":\"FiveActStructure\",\"xref\":\"x\",\"y\":\"FiveActStructure\",\"yref\":\"y\"},{\"font\":{\"color\":\"#FFFFFF\"},\"showarrow\":false,\"text\":\"0.05\",\"x\":\"HeroStructure\",\"xref\":\"x\",\"y\":\"FiveActStructure\",\"yref\":\"y\"},{\"font\":{\"color\":\"#FFFFFF\"},\"showarrow\":false,\"text\":\"0.01\",\"x\":\"NonlinearStructure\",\"xref\":\"x\",\"y\":\"FiveActStructure\",\"yref\":\"y\"},{\"font\":{\"color\":\"#FFFFFF\"},\"showarrow\":false,\"text\":\"0.06\",\"x\":\"ParallelStructure\",\"xref\":\"x\",\"y\":\"FiveActStructure\",\"yref\":\"y\"},{\"font\":{\"color\":\"#FFFFFF\"},\"showarrow\":false,\"text\":\"0.11\",\"x\":\"CircularStructure\",\"xref\":\"x\",\"y\":\"FiveActStructure\",\"yref\":\"y\"},{\"font\":{\"color\":\"#FFFFFF\"},\"showarrow\":false,\"text\":\"-0.0\",\"x\":\"OpenEndedStructre\",\"xref\":\"x\",\"y\":\"FiveActStructure\",\"yref\":\"y\"},{\"font\":{\"color\":\"#FFFFFF\"},\"showarrow\":false,\"text\":\"-0.03\",\"x\":\"InMediasStructure\",\"xref\":\"x\",\"y\":\"FiveActStructure\",\"yref\":\"y\"},{\"font\":{\"color\":\"#FFFFFF\"},\"showarrow\":false,\"text\":\"0.11\",\"x\":\"ExperimentalStructure\",\"xref\":\"x\",\"y\":\"FiveActStructure\",\"yref\":\"y\"},{\"font\":{\"color\":\"#FFFFFF\"},\"showarrow\":false,\"text\":\"0.0\",\"x\":\"Rating\",\"xref\":\"x\",\"y\":\"FiveActStructure\",\"yref\":\"y\"},{\"font\":{\"color\":\"#FFFFFF\"},\"showarrow\":false,\"text\":\"0.0\",\"x\":\"budget\",\"xref\":\"x\",\"y\":\"FiveActStructure\",\"yref\":\"y\"},{\"font\":{\"color\":\"#FFFFFF\"},\"showarrow\":false,\"text\":\"0.02\",\"x\":\"collections\",\"xref\":\"x\",\"y\":\"FiveActStructure\",\"yref\":\"y\"},{\"font\":{\"color\":\"#FFFFFF\"},\"showarrow\":false,\"text\":\"0.07\",\"x\":\"NumberOfScenes\",\"xref\":\"x\",\"y\":\"HeroStructure\",\"yref\":\"y\"},{\"font\":{\"color\":\"#FFFFFF\"},\"showarrow\":false,\"text\":\"0.06\",\"x\":\"RunTime\",\"xref\":\"x\",\"y\":\"HeroStructure\",\"yref\":\"y\"},{\"font\":{\"color\":\"#FFFFFF\"},\"showarrow\":false,\"text\":\"0.08\",\"x\":\"PositiveScenes\",\"xref\":\"x\",\"y\":\"HeroStructure\",\"yref\":\"y\"},{\"font\":{\"color\":\"#FFFFFF\"},\"showarrow\":false,\"text\":\"0.07\",\"x\":\"NegativeScenes\",\"xref\":\"x\",\"y\":\"HeroStructure\",\"yref\":\"y\"},{\"font\":{\"color\":\"#FFFFFF\"},\"showarrow\":false,\"text\":\"-0.03\",\"x\":\"NeutralScenes\",\"xref\":\"x\",\"y\":\"HeroStructure\",\"yref\":\"y\"},{\"font\":{\"color\":\"#FFFFFF\"},\"showarrow\":false,\"text\":\"0.01\",\"x\":\"SentimentPolarity\",\"xref\":\"x\",\"y\":\"HeroStructure\",\"yref\":\"y\"},{\"font\":{\"color\":\"#FFFFFF\"},\"showarrow\":false,\"text\":\"0.01\",\"x\":\"Fear\",\"xref\":\"x\",\"y\":\"HeroStructure\",\"yref\":\"y\"},{\"font\":{\"color\":\"#FFFFFF\"},\"showarrow\":false,\"text\":\"-0.02\",\"x\":\"Anger\",\"xref\":\"x\",\"y\":\"HeroStructure\",\"yref\":\"y\"},{\"font\":{\"color\":\"#FFFFFF\"},\"showarrow\":false,\"text\":\"0.04\",\"x\":\"Anticipation\",\"xref\":\"x\",\"y\":\"HeroStructure\",\"yref\":\"y\"},{\"font\":{\"color\":\"#FFFFFF\"},\"showarrow\":false,\"text\":\"-0.0\",\"x\":\"Trust\",\"xref\":\"x\",\"y\":\"HeroStructure\",\"yref\":\"y\"},{\"font\":{\"color\":\"#FFFFFF\"},\"showarrow\":false,\"text\":\"-0.03\",\"x\":\"Surprise\",\"xref\":\"x\",\"y\":\"HeroStructure\",\"yref\":\"y\"},{\"font\":{\"color\":\"#FFFFFF\"},\"showarrow\":false,\"text\":\"0.03\",\"x\":\"Positive\",\"xref\":\"x\",\"y\":\"HeroStructure\",\"yref\":\"y\"},{\"font\":{\"color\":\"#FFFFFF\"},\"showarrow\":false,\"text\":\"0.04\",\"x\":\"Negative\",\"xref\":\"x\",\"y\":\"HeroStructure\",\"yref\":\"y\"},{\"font\":{\"color\":\"#FFFFFF\"},\"showarrow\":false,\"text\":\"-0.02\",\"x\":\"Sadness\",\"xref\":\"x\",\"y\":\"HeroStructure\",\"yref\":\"y\"},{\"font\":{\"color\":\"#FFFFFF\"},\"showarrow\":false,\"text\":\"-0.03\",\"x\":\"Disgust\",\"xref\":\"x\",\"y\":\"HeroStructure\",\"yref\":\"y\"},{\"font\":{\"color\":\"#FFFFFF\"},\"showarrow\":false,\"text\":\"-0.06\",\"x\":\"Joy\",\"xref\":\"x\",\"y\":\"HeroStructure\",\"yref\":\"y\"},{\"font\":{\"color\":\"#FFFFFF\"},\"showarrow\":false,\"text\":\"-0.01\",\"x\":\"NumberOfCharacters\",\"xref\":\"x\",\"y\":\"HeroStructure\",\"yref\":\"y\"},{\"font\":{\"color\":\"#FFFFFF\"},\"showarrow\":false,\"text\":\"0.03\",\"x\":\"ThreeActStructure\",\"xref\":\"x\",\"y\":\"HeroStructure\",\"yref\":\"y\"},{\"font\":{\"color\":\"#FFFFFF\"},\"showarrow\":false,\"text\":\"0.05\",\"x\":\"FiveActStructure\",\"xref\":\"x\",\"y\":\"HeroStructure\",\"yref\":\"y\"},{\"font\":{\"color\":\"#000000\"},\"showarrow\":false,\"text\":\"1.0\",\"x\":\"HeroStructure\",\"xref\":\"x\",\"y\":\"HeroStructure\",\"yref\":\"y\"},{\"font\":{\"color\":\"#FFFFFF\"},\"showarrow\":false,\"text\":\"0.02\",\"x\":\"NonlinearStructure\",\"xref\":\"x\",\"y\":\"HeroStructure\",\"yref\":\"y\"},{\"font\":{\"color\":\"#FFFFFF\"},\"showarrow\":false,\"text\":\"0.05\",\"x\":\"ParallelStructure\",\"xref\":\"x\",\"y\":\"HeroStructure\",\"yref\":\"y\"},{\"font\":{\"color\":\"#FFFFFF\"},\"showarrow\":false,\"text\":\"0.05\",\"x\":\"CircularStructure\",\"xref\":\"x\",\"y\":\"HeroStructure\",\"yref\":\"y\"},{\"font\":{\"color\":\"#FFFFFF\"},\"showarrow\":false,\"text\":\"-0.01\",\"x\":\"OpenEndedStructre\",\"xref\":\"x\",\"y\":\"HeroStructure\",\"yref\":\"y\"},{\"font\":{\"color\":\"#FFFFFF\"},\"showarrow\":false,\"text\":\"0.01\",\"x\":\"InMediasStructure\",\"xref\":\"x\",\"y\":\"HeroStructure\",\"yref\":\"y\"},{\"font\":{\"color\":\"#FFFFFF\"},\"showarrow\":false,\"text\":\"0.02\",\"x\":\"ExperimentalStructure\",\"xref\":\"x\",\"y\":\"HeroStructure\",\"yref\":\"y\"},{\"font\":{\"color\":\"#FFFFFF\"},\"showarrow\":false,\"text\":\"0.0\",\"x\":\"Rating\",\"xref\":\"x\",\"y\":\"HeroStructure\",\"yref\":\"y\"},{\"font\":{\"color\":\"#FFFFFF\"},\"showarrow\":false,\"text\":\"0.02\",\"x\":\"budget\",\"xref\":\"x\",\"y\":\"HeroStructure\",\"yref\":\"y\"},{\"font\":{\"color\":\"#FFFFFF\"},\"showarrow\":false,\"text\":\"0.02\",\"x\":\"collections\",\"xref\":\"x\",\"y\":\"HeroStructure\",\"yref\":\"y\"},{\"font\":{\"color\":\"#FFFFFF\"},\"showarrow\":false,\"text\":\"0.1\",\"x\":\"NumberOfScenes\",\"xref\":\"x\",\"y\":\"NonlinearStructure\",\"yref\":\"y\"},{\"font\":{\"color\":\"#FFFFFF\"},\"showarrow\":false,\"text\":\"0.07\",\"x\":\"RunTime\",\"xref\":\"x\",\"y\":\"NonlinearStructure\",\"yref\":\"y\"},{\"font\":{\"color\":\"#FFFFFF\"},\"showarrow\":false,\"text\":\"0.09\",\"x\":\"PositiveScenes\",\"xref\":\"x\",\"y\":\"NonlinearStructure\",\"yref\":\"y\"},{\"font\":{\"color\":\"#FFFFFF\"},\"showarrow\":false,\"text\":\"0.09\",\"x\":\"NegativeScenes\",\"xref\":\"x\",\"y\":\"NonlinearStructure\",\"yref\":\"y\"},{\"font\":{\"color\":\"#FFFFFF\"},\"showarrow\":false,\"text\":\"0.06\",\"x\":\"NeutralScenes\",\"xref\":\"x\",\"y\":\"NonlinearStructure\",\"yref\":\"y\"},{\"font\":{\"color\":\"#FFFFFF\"},\"showarrow\":false,\"text\":\"-0.01\",\"x\":\"SentimentPolarity\",\"xref\":\"x\",\"y\":\"NonlinearStructure\",\"yref\":\"y\"},{\"font\":{\"color\":\"#FFFFFF\"},\"showarrow\":false,\"text\":\"0.1\",\"x\":\"Fear\",\"xref\":\"x\",\"y\":\"NonlinearStructure\",\"yref\":\"y\"},{\"font\":{\"color\":\"#FFFFFF\"},\"showarrow\":false,\"text\":\"0.08\",\"x\":\"Anger\",\"xref\":\"x\",\"y\":\"NonlinearStructure\",\"yref\":\"y\"},{\"font\":{\"color\":\"#FFFFFF\"},\"showarrow\":false,\"text\":\"0.06\",\"x\":\"Anticipation\",\"xref\":\"x\",\"y\":\"NonlinearStructure\",\"yref\":\"y\"},{\"font\":{\"color\":\"#FFFFFF\"},\"showarrow\":false,\"text\":\"0.09\",\"x\":\"Trust\",\"xref\":\"x\",\"y\":\"NonlinearStructure\",\"yref\":\"y\"},{\"font\":{\"color\":\"#FFFFFF\"},\"showarrow\":false,\"text\":\"0.07\",\"x\":\"Surprise\",\"xref\":\"x\",\"y\":\"NonlinearStructure\",\"yref\":\"y\"},{\"font\":{\"color\":\"#FFFFFF\"},\"showarrow\":false,\"text\":\"0.07\",\"x\":\"Positive\",\"xref\":\"x\",\"y\":\"NonlinearStructure\",\"yref\":\"y\"},{\"font\":{\"color\":\"#FFFFFF\"},\"showarrow\":false,\"text\":\"0.12\",\"x\":\"Negative\",\"xref\":\"x\",\"y\":\"NonlinearStructure\",\"yref\":\"y\"},{\"font\":{\"color\":\"#FFFFFF\"},\"showarrow\":false,\"text\":\"0.09\",\"x\":\"Sadness\",\"xref\":\"x\",\"y\":\"NonlinearStructure\",\"yref\":\"y\"},{\"font\":{\"color\":\"#FFFFFF\"},\"showarrow\":false,\"text\":\"0.07\",\"x\":\"Disgust\",\"xref\":\"x\",\"y\":\"NonlinearStructure\",\"yref\":\"y\"},{\"font\":{\"color\":\"#FFFFFF\"},\"showarrow\":false,\"text\":\"0.08\",\"x\":\"Joy\",\"xref\":\"x\",\"y\":\"NonlinearStructure\",\"yref\":\"y\"},{\"font\":{\"color\":\"#FFFFFF\"},\"showarrow\":false,\"text\":\"-0.0\",\"x\":\"NumberOfCharacters\",\"xref\":\"x\",\"y\":\"NonlinearStructure\",\"yref\":\"y\"},{\"font\":{\"color\":\"#FFFFFF\"},\"showarrow\":false,\"text\":\"0.06\",\"x\":\"ThreeActStructure\",\"xref\":\"x\",\"y\":\"NonlinearStructure\",\"yref\":\"y\"},{\"font\":{\"color\":\"#FFFFFF\"},\"showarrow\":false,\"text\":\"0.01\",\"x\":\"FiveActStructure\",\"xref\":\"x\",\"y\":\"NonlinearStructure\",\"yref\":\"y\"},{\"font\":{\"color\":\"#FFFFFF\"},\"showarrow\":false,\"text\":\"0.02\",\"x\":\"HeroStructure\",\"xref\":\"x\",\"y\":\"NonlinearStructure\",\"yref\":\"y\"},{\"font\":{\"color\":\"#000000\"},\"showarrow\":false,\"text\":\"1.0\",\"x\":\"NonlinearStructure\",\"xref\":\"x\",\"y\":\"NonlinearStructure\",\"yref\":\"y\"},{\"font\":{\"color\":\"#FFFFFF\"},\"showarrow\":false,\"text\":\"0.02\",\"x\":\"ParallelStructure\",\"xref\":\"x\",\"y\":\"NonlinearStructure\",\"yref\":\"y\"},{\"font\":{\"color\":\"#FFFFFF\"},\"showarrow\":false,\"text\":\"0.03\",\"x\":\"CircularStructure\",\"xref\":\"x\",\"y\":\"NonlinearStructure\",\"yref\":\"y\"},{\"font\":{\"color\":\"#FFFFFF\"},\"showarrow\":false,\"text\":\"0.04\",\"x\":\"OpenEndedStructre\",\"xref\":\"x\",\"y\":\"NonlinearStructure\",\"yref\":\"y\"},{\"font\":{\"color\":\"#FFFFFF\"},\"showarrow\":false,\"text\":\"-0.02\",\"x\":\"InMediasStructure\",\"xref\":\"x\",\"y\":\"NonlinearStructure\",\"yref\":\"y\"},{\"font\":{\"color\":\"#FFFFFF\"},\"showarrow\":false,\"text\":\"0.03\",\"x\":\"ExperimentalStructure\",\"xref\":\"x\",\"y\":\"NonlinearStructure\",\"yref\":\"y\"},{\"font\":{\"color\":\"#FFFFFF\"},\"showarrow\":false,\"text\":\"0.01\",\"x\":\"Rating\",\"xref\":\"x\",\"y\":\"NonlinearStructure\",\"yref\":\"y\"},{\"font\":{\"color\":\"#FFFFFF\"},\"showarrow\":false,\"text\":\"-0.01\",\"x\":\"budget\",\"xref\":\"x\",\"y\":\"NonlinearStructure\",\"yref\":\"y\"},{\"font\":{\"color\":\"#FFFFFF\"},\"showarrow\":false,\"text\":\"-0.02\",\"x\":\"collections\",\"xref\":\"x\",\"y\":\"NonlinearStructure\",\"yref\":\"y\"},{\"font\":{\"color\":\"#FFFFFF\"},\"showarrow\":false,\"text\":\"0.08\",\"x\":\"NumberOfScenes\",\"xref\":\"x\",\"y\":\"ParallelStructure\",\"yref\":\"y\"},{\"font\":{\"color\":\"#FFFFFF\"},\"showarrow\":false,\"text\":\"0.02\",\"x\":\"RunTime\",\"xref\":\"x\",\"y\":\"ParallelStructure\",\"yref\":\"y\"},{\"font\":{\"color\":\"#FFFFFF\"},\"showarrow\":false,\"text\":\"0.02\",\"x\":\"PositiveScenes\",\"xref\":\"x\",\"y\":\"ParallelStructure\",\"yref\":\"y\"},{\"font\":{\"color\":\"#FFFFFF\"},\"showarrow\":false,\"text\":\"0.12\",\"x\":\"NegativeScenes\",\"xref\":\"x\",\"y\":\"ParallelStructure\",\"yref\":\"y\"},{\"font\":{\"color\":\"#FFFFFF\"},\"showarrow\":false,\"text\":\"0.06\",\"x\":\"NeutralScenes\",\"xref\":\"x\",\"y\":\"ParallelStructure\",\"yref\":\"y\"},{\"font\":{\"color\":\"#FFFFFF\"},\"showarrow\":false,\"text\":\"-0.08\",\"x\":\"SentimentPolarity\",\"xref\":\"x\",\"y\":\"ParallelStructure\",\"yref\":\"y\"},{\"font\":{\"color\":\"#FFFFFF\"},\"showarrow\":false,\"text\":\"0.08\",\"x\":\"Fear\",\"xref\":\"x\",\"y\":\"ParallelStructure\",\"yref\":\"y\"},{\"font\":{\"color\":\"#FFFFFF\"},\"showarrow\":false,\"text\":\"0.06\",\"x\":\"Anger\",\"xref\":\"x\",\"y\":\"ParallelStructure\",\"yref\":\"y\"},{\"font\":{\"color\":\"#FFFFFF\"},\"showarrow\":false,\"text\":\"0.03\",\"x\":\"Anticipation\",\"xref\":\"x\",\"y\":\"ParallelStructure\",\"yref\":\"y\"},{\"font\":{\"color\":\"#FFFFFF\"},\"showarrow\":false,\"text\":\"0.06\",\"x\":\"Trust\",\"xref\":\"x\",\"y\":\"ParallelStructure\",\"yref\":\"y\"},{\"font\":{\"color\":\"#FFFFFF\"},\"showarrow\":false,\"text\":\"0.02\",\"x\":\"Surprise\",\"xref\":\"x\",\"y\":\"ParallelStructure\",\"yref\":\"y\"},{\"font\":{\"color\":\"#FFFFFF\"},\"showarrow\":false,\"text\":\"0.03\",\"x\":\"Positive\",\"xref\":\"x\",\"y\":\"ParallelStructure\",\"yref\":\"y\"},{\"font\":{\"color\":\"#FFFFFF\"},\"showarrow\":false,\"text\":\"0.09\",\"x\":\"Negative\",\"xref\":\"x\",\"y\":\"ParallelStructure\",\"yref\":\"y\"},{\"font\":{\"color\":\"#FFFFFF\"},\"showarrow\":false,\"text\":\"0.03\",\"x\":\"Sadness\",\"xref\":\"x\",\"y\":\"ParallelStructure\",\"yref\":\"y\"},{\"font\":{\"color\":\"#FFFFFF\"},\"showarrow\":false,\"text\":\"0.03\",\"x\":\"Disgust\",\"xref\":\"x\",\"y\":\"ParallelStructure\",\"yref\":\"y\"},{\"font\":{\"color\":\"#FFFFFF\"},\"showarrow\":false,\"text\":\"-0.01\",\"x\":\"Joy\",\"xref\":\"x\",\"y\":\"ParallelStructure\",\"yref\":\"y\"},{\"font\":{\"color\":\"#FFFFFF\"},\"showarrow\":false,\"text\":\"-0.01\",\"x\":\"NumberOfCharacters\",\"xref\":\"x\",\"y\":\"ParallelStructure\",\"yref\":\"y\"},{\"font\":{\"color\":\"#FFFFFF\"},\"showarrow\":false,\"text\":\"0.06\",\"x\":\"ThreeActStructure\",\"xref\":\"x\",\"y\":\"ParallelStructure\",\"yref\":\"y\"},{\"font\":{\"color\":\"#FFFFFF\"},\"showarrow\":false,\"text\":\"0.06\",\"x\":\"FiveActStructure\",\"xref\":\"x\",\"y\":\"ParallelStructure\",\"yref\":\"y\"},{\"font\":{\"color\":\"#FFFFFF\"},\"showarrow\":false,\"text\":\"0.05\",\"x\":\"HeroStructure\",\"xref\":\"x\",\"y\":\"ParallelStructure\",\"yref\":\"y\"},{\"font\":{\"color\":\"#FFFFFF\"},\"showarrow\":false,\"text\":\"0.02\",\"x\":\"NonlinearStructure\",\"xref\":\"x\",\"y\":\"ParallelStructure\",\"yref\":\"y\"},{\"font\":{\"color\":\"#000000\"},\"showarrow\":false,\"text\":\"1.0\",\"x\":\"ParallelStructure\",\"xref\":\"x\",\"y\":\"ParallelStructure\",\"yref\":\"y\"},{\"font\":{\"color\":\"#FFFFFF\"},\"showarrow\":false,\"text\":\"0.04\",\"x\":\"CircularStructure\",\"xref\":\"x\",\"y\":\"ParallelStructure\",\"yref\":\"y\"},{\"font\":{\"color\":\"#FFFFFF\"},\"showarrow\":false,\"text\":\"0.03\",\"x\":\"OpenEndedStructre\",\"xref\":\"x\",\"y\":\"ParallelStructure\",\"yref\":\"y\"},{\"font\":{\"color\":\"#FFFFFF\"},\"showarrow\":false,\"text\":\"-0.01\",\"x\":\"InMediasStructure\",\"xref\":\"x\",\"y\":\"ParallelStructure\",\"yref\":\"y\"},{\"font\":{\"color\":\"#FFFFFF\"},\"showarrow\":false,\"text\":\"-0.01\",\"x\":\"ExperimentalStructure\",\"xref\":\"x\",\"y\":\"ParallelStructure\",\"yref\":\"y\"},{\"font\":{\"color\":\"#FFFFFF\"},\"showarrow\":false,\"text\":\"-0.04\",\"x\":\"Rating\",\"xref\":\"x\",\"y\":\"ParallelStructure\",\"yref\":\"y\"},{\"font\":{\"color\":\"#FFFFFF\"},\"showarrow\":false,\"text\":\"-0.03\",\"x\":\"budget\",\"xref\":\"x\",\"y\":\"ParallelStructure\",\"yref\":\"y\"},{\"font\":{\"color\":\"#FFFFFF\"},\"showarrow\":false,\"text\":\"-0.02\",\"x\":\"collections\",\"xref\":\"x\",\"y\":\"ParallelStructure\",\"yref\":\"y\"},{\"font\":{\"color\":\"#FFFFFF\"},\"showarrow\":false,\"text\":\"0.12\",\"x\":\"NumberOfScenes\",\"xref\":\"x\",\"y\":\"CircularStructure\",\"yref\":\"y\"},{\"font\":{\"color\":\"#FFFFFF\"},\"showarrow\":false,\"text\":\"0.1\",\"x\":\"RunTime\",\"xref\":\"x\",\"y\":\"CircularStructure\",\"yref\":\"y\"},{\"font\":{\"color\":\"#FFFFFF\"},\"showarrow\":false,\"text\":\"0.1\",\"x\":\"PositiveScenes\",\"xref\":\"x\",\"y\":\"CircularStructure\",\"yref\":\"y\"},{\"font\":{\"color\":\"#FFFFFF\"},\"showarrow\":false,\"text\":\"0.13\",\"x\":\"NegativeScenes\",\"xref\":\"x\",\"y\":\"CircularStructure\",\"yref\":\"y\"},{\"font\":{\"color\":\"#FFFFFF\"},\"showarrow\":false,\"text\":\"0.06\",\"x\":\"NeutralScenes\",\"xref\":\"x\",\"y\":\"CircularStructure\",\"yref\":\"y\"},{\"font\":{\"color\":\"#FFFFFF\"},\"showarrow\":false,\"text\":\"-0.07\",\"x\":\"SentimentPolarity\",\"xref\":\"x\",\"y\":\"CircularStructure\",\"yref\":\"y\"},{\"font\":{\"color\":\"#FFFFFF\"},\"showarrow\":false,\"text\":\"0.1\",\"x\":\"Fear\",\"xref\":\"x\",\"y\":\"CircularStructure\",\"yref\":\"y\"},{\"font\":{\"color\":\"#FFFFFF\"},\"showarrow\":false,\"text\":\"0.08\",\"x\":\"Anger\",\"xref\":\"x\",\"y\":\"CircularStructure\",\"yref\":\"y\"},{\"font\":{\"color\":\"#FFFFFF\"},\"showarrow\":false,\"text\":\"0.08\",\"x\":\"Anticipation\",\"xref\":\"x\",\"y\":\"CircularStructure\",\"yref\":\"y\"},{\"font\":{\"color\":\"#FFFFFF\"},\"showarrow\":false,\"text\":\"0.07\",\"x\":\"Trust\",\"xref\":\"x\",\"y\":\"CircularStructure\",\"yref\":\"y\"},{\"font\":{\"color\":\"#FFFFFF\"},\"showarrow\":false,\"text\":\"0.06\",\"x\":\"Surprise\",\"xref\":\"x\",\"y\":\"CircularStructure\",\"yref\":\"y\"},{\"font\":{\"color\":\"#FFFFFF\"},\"showarrow\":false,\"text\":\"0.07\",\"x\":\"Positive\",\"xref\":\"x\",\"y\":\"CircularStructure\",\"yref\":\"y\"},{\"font\":{\"color\":\"#FFFFFF\"},\"showarrow\":false,\"text\":\"0.14\",\"x\":\"Negative\",\"xref\":\"x\",\"y\":\"CircularStructure\",\"yref\":\"y\"},{\"font\":{\"color\":\"#FFFFFF\"},\"showarrow\":false,\"text\":\"0.06\",\"x\":\"Sadness\",\"xref\":\"x\",\"y\":\"CircularStructure\",\"yref\":\"y\"},{\"font\":{\"color\":\"#FFFFFF\"},\"showarrow\":false,\"text\":\"0.05\",\"x\":\"Disgust\",\"xref\":\"x\",\"y\":\"CircularStructure\",\"yref\":\"y\"},{\"font\":{\"color\":\"#FFFFFF\"},\"showarrow\":false,\"text\":\"0.03\",\"x\":\"Joy\",\"xref\":\"x\",\"y\":\"CircularStructure\",\"yref\":\"y\"},{\"font\":{\"color\":\"#FFFFFF\"},\"showarrow\":false,\"text\":\"0.03\",\"x\":\"NumberOfCharacters\",\"xref\":\"x\",\"y\":\"CircularStructure\",\"yref\":\"y\"},{\"font\":{\"color\":\"#FFFFFF\"},\"showarrow\":false,\"text\":\"0.1\",\"x\":\"ThreeActStructure\",\"xref\":\"x\",\"y\":\"CircularStructure\",\"yref\":\"y\"},{\"font\":{\"color\":\"#FFFFFF\"},\"showarrow\":false,\"text\":\"0.11\",\"x\":\"FiveActStructure\",\"xref\":\"x\",\"y\":\"CircularStructure\",\"yref\":\"y\"},{\"font\":{\"color\":\"#FFFFFF\"},\"showarrow\":false,\"text\":\"0.05\",\"x\":\"HeroStructure\",\"xref\":\"x\",\"y\":\"CircularStructure\",\"yref\":\"y\"},{\"font\":{\"color\":\"#FFFFFF\"},\"showarrow\":false,\"text\":\"0.03\",\"x\":\"NonlinearStructure\",\"xref\":\"x\",\"y\":\"CircularStructure\",\"yref\":\"y\"},{\"font\":{\"color\":\"#FFFFFF\"},\"showarrow\":false,\"text\":\"0.04\",\"x\":\"ParallelStructure\",\"xref\":\"x\",\"y\":\"CircularStructure\",\"yref\":\"y\"},{\"font\":{\"color\":\"#000000\"},\"showarrow\":false,\"text\":\"1.0\",\"x\":\"CircularStructure\",\"xref\":\"x\",\"y\":\"CircularStructure\",\"yref\":\"y\"},{\"font\":{\"color\":\"#FFFFFF\"},\"showarrow\":false,\"text\":\"0.05\",\"x\":\"OpenEndedStructre\",\"xref\":\"x\",\"y\":\"CircularStructure\",\"yref\":\"y\"},{\"font\":{\"color\":\"#FFFFFF\"},\"showarrow\":false,\"text\":\"0.02\",\"x\":\"InMediasStructure\",\"xref\":\"x\",\"y\":\"CircularStructure\",\"yref\":\"y\"},{\"font\":{\"color\":\"#FFFFFF\"},\"showarrow\":false,\"text\":\"0.05\",\"x\":\"ExperimentalStructure\",\"xref\":\"x\",\"y\":\"CircularStructure\",\"yref\":\"y\"},{\"font\":{\"color\":\"#FFFFFF\"},\"showarrow\":false,\"text\":\"0.03\",\"x\":\"Rating\",\"xref\":\"x\",\"y\":\"CircularStructure\",\"yref\":\"y\"},{\"font\":{\"color\":\"#FFFFFF\"},\"showarrow\":false,\"text\":\"0.0\",\"x\":\"budget\",\"xref\":\"x\",\"y\":\"CircularStructure\",\"yref\":\"y\"},{\"font\":{\"color\":\"#FFFFFF\"},\"showarrow\":false,\"text\":\"-0.01\",\"x\":\"collections\",\"xref\":\"x\",\"y\":\"CircularStructure\",\"yref\":\"y\"},{\"font\":{\"color\":\"#FFFFFF\"},\"showarrow\":false,\"text\":\"0.01\",\"x\":\"NumberOfScenes\",\"xref\":\"x\",\"y\":\"OpenEndedStructre\",\"yref\":\"y\"},{\"font\":{\"color\":\"#FFFFFF\"},\"showarrow\":false,\"text\":\"0.01\",\"x\":\"RunTime\",\"xref\":\"x\",\"y\":\"OpenEndedStructre\",\"yref\":\"y\"},{\"font\":{\"color\":\"#FFFFFF\"},\"showarrow\":false,\"text\":\"0.04\",\"x\":\"PositiveScenes\",\"xref\":\"x\",\"y\":\"OpenEndedStructre\",\"yref\":\"y\"},{\"font\":{\"color\":\"#FFFFFF\"},\"showarrow\":false,\"text\":\"-0.02\",\"x\":\"NegativeScenes\",\"xref\":\"x\",\"y\":\"OpenEndedStructre\",\"yref\":\"y\"},{\"font\":{\"color\":\"#FFFFFF\"},\"showarrow\":false,\"text\":\"-0.01\",\"x\":\"NeutralScenes\",\"xref\":\"x\",\"y\":\"OpenEndedStructre\",\"yref\":\"y\"},{\"font\":{\"color\":\"#FFFFFF\"},\"showarrow\":false,\"text\":\"0.06\",\"x\":\"SentimentPolarity\",\"xref\":\"x\",\"y\":\"OpenEndedStructre\",\"yref\":\"y\"},{\"font\":{\"color\":\"#FFFFFF\"},\"showarrow\":false,\"text\":\"-0.0\",\"x\":\"Fear\",\"xref\":\"x\",\"y\":\"OpenEndedStructre\",\"yref\":\"y\"},{\"font\":{\"color\":\"#FFFFFF\"},\"showarrow\":false,\"text\":\"-0.01\",\"x\":\"Anger\",\"xref\":\"x\",\"y\":\"OpenEndedStructre\",\"yref\":\"y\"},{\"font\":{\"color\":\"#FFFFFF\"},\"showarrow\":false,\"text\":\"-0.01\",\"x\":\"Anticipation\",\"xref\":\"x\",\"y\":\"OpenEndedStructre\",\"yref\":\"y\"},{\"font\":{\"color\":\"#FFFFFF\"},\"showarrow\":false,\"text\":\"-0.02\",\"x\":\"Trust\",\"xref\":\"x\",\"y\":\"OpenEndedStructre\",\"yref\":\"y\"},{\"font\":{\"color\":\"#FFFFFF\"},\"showarrow\":false,\"text\":\"-0.01\",\"x\":\"Surprise\",\"xref\":\"x\",\"y\":\"OpenEndedStructre\",\"yref\":\"y\"},{\"font\":{\"color\":\"#FFFFFF\"},\"showarrow\":false,\"text\":\"0.04\",\"x\":\"Positive\",\"xref\":\"x\",\"y\":\"OpenEndedStructre\",\"yref\":\"y\"},{\"font\":{\"color\":\"#FFFFFF\"},\"showarrow\":false,\"text\":\"-0.01\",\"x\":\"Negative\",\"xref\":\"x\",\"y\":\"OpenEndedStructre\",\"yref\":\"y\"},{\"font\":{\"color\":\"#FFFFFF\"},\"showarrow\":false,\"text\":\"0.01\",\"x\":\"Sadness\",\"xref\":\"x\",\"y\":\"OpenEndedStructre\",\"yref\":\"y\"},{\"font\":{\"color\":\"#FFFFFF\"},\"showarrow\":false,\"text\":\"-0.0\",\"x\":\"Disgust\",\"xref\":\"x\",\"y\":\"OpenEndedStructre\",\"yref\":\"y\"},{\"font\":{\"color\":\"#FFFFFF\"},\"showarrow\":false,\"text\":\"-0.0\",\"x\":\"Joy\",\"xref\":\"x\",\"y\":\"OpenEndedStructre\",\"yref\":\"y\"},{\"font\":{\"color\":\"#FFFFFF\"},\"showarrow\":false,\"text\":\"0.06\",\"x\":\"NumberOfCharacters\",\"xref\":\"x\",\"y\":\"OpenEndedStructre\",\"yref\":\"y\"},{\"font\":{\"color\":\"#FFFFFF\"},\"showarrow\":false,\"text\":\"0.08\",\"x\":\"ThreeActStructure\",\"xref\":\"x\",\"y\":\"OpenEndedStructre\",\"yref\":\"y\"},{\"font\":{\"color\":\"#FFFFFF\"},\"showarrow\":false,\"text\":\"-0.0\",\"x\":\"FiveActStructure\",\"xref\":\"x\",\"y\":\"OpenEndedStructre\",\"yref\":\"y\"},{\"font\":{\"color\":\"#FFFFFF\"},\"showarrow\":false,\"text\":\"-0.01\",\"x\":\"HeroStructure\",\"xref\":\"x\",\"y\":\"OpenEndedStructre\",\"yref\":\"y\"},{\"font\":{\"color\":\"#FFFFFF\"},\"showarrow\":false,\"text\":\"0.04\",\"x\":\"NonlinearStructure\",\"xref\":\"x\",\"y\":\"OpenEndedStructre\",\"yref\":\"y\"},{\"font\":{\"color\":\"#FFFFFF\"},\"showarrow\":false,\"text\":\"0.03\",\"x\":\"ParallelStructure\",\"xref\":\"x\",\"y\":\"OpenEndedStructre\",\"yref\":\"y\"},{\"font\":{\"color\":\"#FFFFFF\"},\"showarrow\":false,\"text\":\"0.05\",\"x\":\"CircularStructure\",\"xref\":\"x\",\"y\":\"OpenEndedStructre\",\"yref\":\"y\"},{\"font\":{\"color\":\"#000000\"},\"showarrow\":false,\"text\":\"1.0\",\"x\":\"OpenEndedStructre\",\"xref\":\"x\",\"y\":\"OpenEndedStructre\",\"yref\":\"y\"},{\"font\":{\"color\":\"#FFFFFF\"},\"showarrow\":false,\"text\":\"-0.01\",\"x\":\"InMediasStructure\",\"xref\":\"x\",\"y\":\"OpenEndedStructre\",\"yref\":\"y\"},{\"font\":{\"color\":\"#FFFFFF\"},\"showarrow\":false,\"text\":\"0.0\",\"x\":\"ExperimentalStructure\",\"xref\":\"x\",\"y\":\"OpenEndedStructre\",\"yref\":\"y\"},{\"font\":{\"color\":\"#FFFFFF\"},\"showarrow\":false,\"text\":\"-0.02\",\"x\":\"Rating\",\"xref\":\"x\",\"y\":\"OpenEndedStructre\",\"yref\":\"y\"},{\"font\":{\"color\":\"#FFFFFF\"},\"showarrow\":false,\"text\":\"-0.04\",\"x\":\"budget\",\"xref\":\"x\",\"y\":\"OpenEndedStructre\",\"yref\":\"y\"},{\"font\":{\"color\":\"#FFFFFF\"},\"showarrow\":false,\"text\":\"-0.05\",\"x\":\"collections\",\"xref\":\"x\",\"y\":\"OpenEndedStructre\",\"yref\":\"y\"},{\"font\":{\"color\":\"#FFFFFF\"},\"showarrow\":false,\"text\":\"-0.01\",\"x\":\"NumberOfScenes\",\"xref\":\"x\",\"y\":\"InMediasStructure\",\"yref\":\"y\"},{\"font\":{\"color\":\"#FFFFFF\"},\"showarrow\":false,\"text\":\"-0.01\",\"x\":\"RunTime\",\"xref\":\"x\",\"y\":\"InMediasStructure\",\"yref\":\"y\"},{\"font\":{\"color\":\"#FFFFFF\"},\"showarrow\":false,\"text\":\"0.01\",\"x\":\"PositiveScenes\",\"xref\":\"x\",\"y\":\"InMediasStructure\",\"yref\":\"y\"},{\"font\":{\"color\":\"#FFFFFF\"},\"showarrow\":false,\"text\":\"-0.02\",\"x\":\"NegativeScenes\",\"xref\":\"x\",\"y\":\"InMediasStructure\",\"yref\":\"y\"},{\"font\":{\"color\":\"#FFFFFF\"},\"showarrow\":false,\"text\":\"-0.01\",\"x\":\"NeutralScenes\",\"xref\":\"x\",\"y\":\"InMediasStructure\",\"yref\":\"y\"},{\"font\":{\"color\":\"#FFFFFF\"},\"showarrow\":false,\"text\":\"0.03\",\"x\":\"SentimentPolarity\",\"xref\":\"x\",\"y\":\"InMediasStructure\",\"yref\":\"y\"},{\"font\":{\"color\":\"#FFFFFF\"},\"showarrow\":false,\"text\":\"-0.02\",\"x\":\"Fear\",\"xref\":\"x\",\"y\":\"InMediasStructure\",\"yref\":\"y\"},{\"font\":{\"color\":\"#FFFFFF\"},\"showarrow\":false,\"text\":\"-0.01\",\"x\":\"Anger\",\"xref\":\"x\",\"y\":\"InMediasStructure\",\"yref\":\"y\"},{\"font\":{\"color\":\"#FFFFFF\"},\"showarrow\":false,\"text\":\"-0.01\",\"x\":\"Anticipation\",\"xref\":\"x\",\"y\":\"InMediasStructure\",\"yref\":\"y\"},{\"font\":{\"color\":\"#FFFFFF\"},\"showarrow\":false,\"text\":\"-0.01\",\"x\":\"Trust\",\"xref\":\"x\",\"y\":\"InMediasStructure\",\"yref\":\"y\"},{\"font\":{\"color\":\"#FFFFFF\"},\"showarrow\":false,\"text\":\"-0.01\",\"x\":\"Surprise\",\"xref\":\"x\",\"y\":\"InMediasStructure\",\"yref\":\"y\"},{\"font\":{\"color\":\"#FFFFFF\"},\"showarrow\":false,\"text\":\"0.01\",\"x\":\"Positive\",\"xref\":\"x\",\"y\":\"InMediasStructure\",\"yref\":\"y\"},{\"font\":{\"color\":\"#FFFFFF\"},\"showarrow\":false,\"text\":\"-0.02\",\"x\":\"Negative\",\"xref\":\"x\",\"y\":\"InMediasStructure\",\"yref\":\"y\"},{\"font\":{\"color\":\"#FFFFFF\"},\"showarrow\":false,\"text\":\"-0.0\",\"x\":\"Sadness\",\"xref\":\"x\",\"y\":\"InMediasStructure\",\"yref\":\"y\"},{\"font\":{\"color\":\"#FFFFFF\"},\"showarrow\":false,\"text\":\"-0.02\",\"x\":\"Disgust\",\"xref\":\"x\",\"y\":\"InMediasStructure\",\"yref\":\"y\"},{\"font\":{\"color\":\"#FFFFFF\"},\"showarrow\":false,\"text\":\"0.0\",\"x\":\"Joy\",\"xref\":\"x\",\"y\":\"InMediasStructure\",\"yref\":\"y\"},{\"font\":{\"color\":\"#FFFFFF\"},\"showarrow\":false,\"text\":\"0.05\",\"x\":\"NumberOfCharacters\",\"xref\":\"x\",\"y\":\"InMediasStructure\",\"yref\":\"y\"},{\"font\":{\"color\":\"#FFFFFF\"},\"showarrow\":false,\"text\":\"-0.04\",\"x\":\"ThreeActStructure\",\"xref\":\"x\",\"y\":\"InMediasStructure\",\"yref\":\"y\"},{\"font\":{\"color\":\"#FFFFFF\"},\"showarrow\":false,\"text\":\"-0.03\",\"x\":\"FiveActStructure\",\"xref\":\"x\",\"y\":\"InMediasStructure\",\"yref\":\"y\"},{\"font\":{\"color\":\"#FFFFFF\"},\"showarrow\":false,\"text\":\"0.01\",\"x\":\"HeroStructure\",\"xref\":\"x\",\"y\":\"InMediasStructure\",\"yref\":\"y\"},{\"font\":{\"color\":\"#FFFFFF\"},\"showarrow\":false,\"text\":\"-0.02\",\"x\":\"NonlinearStructure\",\"xref\":\"x\",\"y\":\"InMediasStructure\",\"yref\":\"y\"},{\"font\":{\"color\":\"#FFFFFF\"},\"showarrow\":false,\"text\":\"-0.01\",\"x\":\"ParallelStructure\",\"xref\":\"x\",\"y\":\"InMediasStructure\",\"yref\":\"y\"},{\"font\":{\"color\":\"#FFFFFF\"},\"showarrow\":false,\"text\":\"0.02\",\"x\":\"CircularStructure\",\"xref\":\"x\",\"y\":\"InMediasStructure\",\"yref\":\"y\"},{\"font\":{\"color\":\"#FFFFFF\"},\"showarrow\":false,\"text\":\"-0.01\",\"x\":\"OpenEndedStructre\",\"xref\":\"x\",\"y\":\"InMediasStructure\",\"yref\":\"y\"},{\"font\":{\"color\":\"#000000\"},\"showarrow\":false,\"text\":\"1.0\",\"x\":\"InMediasStructure\",\"xref\":\"x\",\"y\":\"InMediasStructure\",\"yref\":\"y\"},{\"font\":{\"color\":\"#FFFFFF\"},\"showarrow\":false,\"text\":\"-0.01\",\"x\":\"ExperimentalStructure\",\"xref\":\"x\",\"y\":\"InMediasStructure\",\"yref\":\"y\"},{\"font\":{\"color\":\"#FFFFFF\"},\"showarrow\":false,\"text\":\"-0.0\",\"x\":\"Rating\",\"xref\":\"x\",\"y\":\"InMediasStructure\",\"yref\":\"y\"},{\"font\":{\"color\":\"#FFFFFF\"},\"showarrow\":false,\"text\":\"-0.02\",\"x\":\"budget\",\"xref\":\"x\",\"y\":\"InMediasStructure\",\"yref\":\"y\"},{\"font\":{\"color\":\"#FFFFFF\"},\"showarrow\":false,\"text\":\"-0.02\",\"x\":\"collections\",\"xref\":\"x\",\"y\":\"InMediasStructure\",\"yref\":\"y\"},{\"font\":{\"color\":\"#FFFFFF\"},\"showarrow\":false,\"text\":\"0.01\",\"x\":\"NumberOfScenes\",\"xref\":\"x\",\"y\":\"ExperimentalStructure\",\"yref\":\"y\"},{\"font\":{\"color\":\"#FFFFFF\"},\"showarrow\":false,\"text\":\"-0.02\",\"x\":\"RunTime\",\"xref\":\"x\",\"y\":\"ExperimentalStructure\",\"yref\":\"y\"},{\"font\":{\"color\":\"#FFFFFF\"},\"showarrow\":false,\"text\":\"0.0\",\"x\":\"PositiveScenes\",\"xref\":\"x\",\"y\":\"ExperimentalStructure\",\"yref\":\"y\"},{\"font\":{\"color\":\"#FFFFFF\"},\"showarrow\":false,\"text\":\"0.0\",\"x\":\"NegativeScenes\",\"xref\":\"x\",\"y\":\"ExperimentalStructure\",\"yref\":\"y\"},{\"font\":{\"color\":\"#FFFFFF\"},\"showarrow\":false,\"text\":\"0.02\",\"x\":\"NeutralScenes\",\"xref\":\"x\",\"y\":\"ExperimentalStructure\",\"yref\":\"y\"},{\"font\":{\"color\":\"#FFFFFF\"},\"showarrow\":false,\"text\":\"-0.0\",\"x\":\"SentimentPolarity\",\"xref\":\"x\",\"y\":\"ExperimentalStructure\",\"yref\":\"y\"},{\"font\":{\"color\":\"#FFFFFF\"},\"showarrow\":false,\"text\":\"0.03\",\"x\":\"Fear\",\"xref\":\"x\",\"y\":\"ExperimentalStructure\",\"yref\":\"y\"},{\"font\":{\"color\":\"#FFFFFF\"},\"showarrow\":false,\"text\":\"0.02\",\"x\":\"Anger\",\"xref\":\"x\",\"y\":\"ExperimentalStructure\",\"yref\":\"y\"},{\"font\":{\"color\":\"#FFFFFF\"},\"showarrow\":false,\"text\":\"0.02\",\"x\":\"Anticipation\",\"xref\":\"x\",\"y\":\"ExperimentalStructure\",\"yref\":\"y\"},{\"font\":{\"color\":\"#FFFFFF\"},\"showarrow\":false,\"text\":\"-0.0\",\"x\":\"Trust\",\"xref\":\"x\",\"y\":\"ExperimentalStructure\",\"yref\":\"y\"},{\"font\":{\"color\":\"#FFFFFF\"},\"showarrow\":false,\"text\":\"0.02\",\"x\":\"Surprise\",\"xref\":\"x\",\"y\":\"ExperimentalStructure\",\"yref\":\"y\"},{\"font\":{\"color\":\"#FFFFFF\"},\"showarrow\":false,\"text\":\"0.01\",\"x\":\"Positive\",\"xref\":\"x\",\"y\":\"ExperimentalStructure\",\"yref\":\"y\"},{\"font\":{\"color\":\"#FFFFFF\"},\"showarrow\":false,\"text\":\"0.01\",\"x\":\"Negative\",\"xref\":\"x\",\"y\":\"ExperimentalStructure\",\"yref\":\"y\"},{\"font\":{\"color\":\"#FFFFFF\"},\"showarrow\":false,\"text\":\"0.01\",\"x\":\"Sadness\",\"xref\":\"x\",\"y\":\"ExperimentalStructure\",\"yref\":\"y\"},{\"font\":{\"color\":\"#FFFFFF\"},\"showarrow\":false,\"text\":\"0.02\",\"x\":\"Disgust\",\"xref\":\"x\",\"y\":\"ExperimentalStructure\",\"yref\":\"y\"},{\"font\":{\"color\":\"#FFFFFF\"},\"showarrow\":false,\"text\":\"-0.0\",\"x\":\"Joy\",\"xref\":\"x\",\"y\":\"ExperimentalStructure\",\"yref\":\"y\"},{\"font\":{\"color\":\"#FFFFFF\"},\"showarrow\":false,\"text\":\"-0.02\",\"x\":\"NumberOfCharacters\",\"xref\":\"x\",\"y\":\"ExperimentalStructure\",\"yref\":\"y\"},{\"font\":{\"color\":\"#FFFFFF\"},\"showarrow\":false,\"text\":\"0.13\",\"x\":\"ThreeActStructure\",\"xref\":\"x\",\"y\":\"ExperimentalStructure\",\"yref\":\"y\"},{\"font\":{\"color\":\"#FFFFFF\"},\"showarrow\":false,\"text\":\"0.11\",\"x\":\"FiveActStructure\",\"xref\":\"x\",\"y\":\"ExperimentalStructure\",\"yref\":\"y\"},{\"font\":{\"color\":\"#FFFFFF\"},\"showarrow\":false,\"text\":\"0.02\",\"x\":\"HeroStructure\",\"xref\":\"x\",\"y\":\"ExperimentalStructure\",\"yref\":\"y\"},{\"font\":{\"color\":\"#FFFFFF\"},\"showarrow\":false,\"text\":\"0.03\",\"x\":\"NonlinearStructure\",\"xref\":\"x\",\"y\":\"ExperimentalStructure\",\"yref\":\"y\"},{\"font\":{\"color\":\"#FFFFFF\"},\"showarrow\":false,\"text\":\"-0.01\",\"x\":\"ParallelStructure\",\"xref\":\"x\",\"y\":\"ExperimentalStructure\",\"yref\":\"y\"},{\"font\":{\"color\":\"#FFFFFF\"},\"showarrow\":false,\"text\":\"0.05\",\"x\":\"CircularStructure\",\"xref\":\"x\",\"y\":\"ExperimentalStructure\",\"yref\":\"y\"},{\"font\":{\"color\":\"#FFFFFF\"},\"showarrow\":false,\"text\":\"0.0\",\"x\":\"OpenEndedStructre\",\"xref\":\"x\",\"y\":\"ExperimentalStructure\",\"yref\":\"y\"},{\"font\":{\"color\":\"#FFFFFF\"},\"showarrow\":false,\"text\":\"-0.01\",\"x\":\"InMediasStructure\",\"xref\":\"x\",\"y\":\"ExperimentalStructure\",\"yref\":\"y\"},{\"font\":{\"color\":\"#000000\"},\"showarrow\":false,\"text\":\"1.0\",\"x\":\"ExperimentalStructure\",\"xref\":\"x\",\"y\":\"ExperimentalStructure\",\"yref\":\"y\"},{\"font\":{\"color\":\"#FFFFFF\"},\"showarrow\":false,\"text\":\"-0.04\",\"x\":\"Rating\",\"xref\":\"x\",\"y\":\"ExperimentalStructure\",\"yref\":\"y\"},{\"font\":{\"color\":\"#FFFFFF\"},\"showarrow\":false,\"text\":\"0.06\",\"x\":\"budget\",\"xref\":\"x\",\"y\":\"ExperimentalStructure\",\"yref\":\"y\"},{\"font\":{\"color\":\"#FFFFFF\"},\"showarrow\":false,\"text\":\"0.03\",\"x\":\"collections\",\"xref\":\"x\",\"y\":\"ExperimentalStructure\",\"yref\":\"y\"},{\"font\":{\"color\":\"#FFFFFF\"},\"showarrow\":false,\"text\":\"0.13\",\"x\":\"NumberOfScenes\",\"xref\":\"x\",\"y\":\"Rating\",\"yref\":\"y\"},{\"font\":{\"color\":\"#FFFFFF\"},\"showarrow\":false,\"text\":\"0.09\",\"x\":\"RunTime\",\"xref\":\"x\",\"y\":\"Rating\",\"yref\":\"y\"},{\"font\":{\"color\":\"#FFFFFF\"},\"showarrow\":false,\"text\":\"0.13\",\"x\":\"PositiveScenes\",\"xref\":\"x\",\"y\":\"Rating\",\"yref\":\"y\"},{\"font\":{\"color\":\"#FFFFFF\"},\"showarrow\":false,\"text\":\"0.08\",\"x\":\"NegativeScenes\",\"xref\":\"x\",\"y\":\"Rating\",\"yref\":\"y\"},{\"font\":{\"color\":\"#FFFFFF\"},\"showarrow\":false,\"text\":\"0.09\",\"x\":\"NeutralScenes\",\"xref\":\"x\",\"y\":\"Rating\",\"yref\":\"y\"},{\"font\":{\"color\":\"#FFFFFF\"},\"showarrow\":false,\"text\":\"0.01\",\"x\":\"SentimentPolarity\",\"xref\":\"x\",\"y\":\"Rating\",\"yref\":\"y\"},{\"font\":{\"color\":\"#FFFFFF\"},\"showarrow\":false,\"text\":\"0.08\",\"x\":\"Fear\",\"xref\":\"x\",\"y\":\"Rating\",\"yref\":\"y\"},{\"font\":{\"color\":\"#FFFFFF\"},\"showarrow\":false,\"text\":\"0.09\",\"x\":\"Anger\",\"xref\":\"x\",\"y\":\"Rating\",\"yref\":\"y\"},{\"font\":{\"color\":\"#FFFFFF\"},\"showarrow\":false,\"text\":\"0.12\",\"x\":\"Anticipation\",\"xref\":\"x\",\"y\":\"Rating\",\"yref\":\"y\"},{\"font\":{\"color\":\"#FFFFFF\"},\"showarrow\":false,\"text\":\"0.13\",\"x\":\"Trust\",\"xref\":\"x\",\"y\":\"Rating\",\"yref\":\"y\"},{\"font\":{\"color\":\"#FFFFFF\"},\"showarrow\":false,\"text\":\"0.1\",\"x\":\"Surprise\",\"xref\":\"x\",\"y\":\"Rating\",\"yref\":\"y\"},{\"font\":{\"color\":\"#FFFFFF\"},\"showarrow\":false,\"text\":\"0.14\",\"x\":\"Positive\",\"xref\":\"x\",\"y\":\"Rating\",\"yref\":\"y\"},{\"font\":{\"color\":\"#FFFFFF\"},\"showarrow\":false,\"text\":\"0.09\",\"x\":\"Negative\",\"xref\":\"x\",\"y\":\"Rating\",\"yref\":\"y\"},{\"font\":{\"color\":\"#FFFFFF\"},\"showarrow\":false,\"text\":\"0.11\",\"x\":\"Sadness\",\"xref\":\"x\",\"y\":\"Rating\",\"yref\":\"y\"},{\"font\":{\"color\":\"#FFFFFF\"},\"showarrow\":false,\"text\":\"0.1\",\"x\":\"Disgust\",\"xref\":\"x\",\"y\":\"Rating\",\"yref\":\"y\"},{\"font\":{\"color\":\"#FFFFFF\"},\"showarrow\":false,\"text\":\"0.12\",\"x\":\"Joy\",\"xref\":\"x\",\"y\":\"Rating\",\"yref\":\"y\"},{\"font\":{\"color\":\"#FFFFFF\"},\"showarrow\":false,\"text\":\"0.06\",\"x\":\"NumberOfCharacters\",\"xref\":\"x\",\"y\":\"Rating\",\"yref\":\"y\"},{\"font\":{\"color\":\"#FFFFFF\"},\"showarrow\":false,\"text\":\"0.06\",\"x\":\"ThreeActStructure\",\"xref\":\"x\",\"y\":\"Rating\",\"yref\":\"y\"},{\"font\":{\"color\":\"#FFFFFF\"},\"showarrow\":false,\"text\":\"0.0\",\"x\":\"FiveActStructure\",\"xref\":\"x\",\"y\":\"Rating\",\"yref\":\"y\"},{\"font\":{\"color\":\"#FFFFFF\"},\"showarrow\":false,\"text\":\"0.0\",\"x\":\"HeroStructure\",\"xref\":\"x\",\"y\":\"Rating\",\"yref\":\"y\"},{\"font\":{\"color\":\"#FFFFFF\"},\"showarrow\":false,\"text\":\"0.01\",\"x\":\"NonlinearStructure\",\"xref\":\"x\",\"y\":\"Rating\",\"yref\":\"y\"},{\"font\":{\"color\":\"#FFFFFF\"},\"showarrow\":false,\"text\":\"-0.04\",\"x\":\"ParallelStructure\",\"xref\":\"x\",\"y\":\"Rating\",\"yref\":\"y\"},{\"font\":{\"color\":\"#FFFFFF\"},\"showarrow\":false,\"text\":\"0.03\",\"x\":\"CircularStructure\",\"xref\":\"x\",\"y\":\"Rating\",\"yref\":\"y\"},{\"font\":{\"color\":\"#FFFFFF\"},\"showarrow\":false,\"text\":\"-0.02\",\"x\":\"OpenEndedStructre\",\"xref\":\"x\",\"y\":\"Rating\",\"yref\":\"y\"},{\"font\":{\"color\":\"#FFFFFF\"},\"showarrow\":false,\"text\":\"-0.0\",\"x\":\"InMediasStructure\",\"xref\":\"x\",\"y\":\"Rating\",\"yref\":\"y\"},{\"font\":{\"color\":\"#FFFFFF\"},\"showarrow\":false,\"text\":\"-0.04\",\"x\":\"ExperimentalStructure\",\"xref\":\"x\",\"y\":\"Rating\",\"yref\":\"y\"},{\"font\":{\"color\":\"#000000\"},\"showarrow\":false,\"text\":\"1.0\",\"x\":\"Rating\",\"xref\":\"x\",\"y\":\"Rating\",\"yref\":\"y\"},{\"font\":{\"color\":\"#FFFFFF\"},\"showarrow\":false,\"text\":\"-0.01\",\"x\":\"budget\",\"xref\":\"x\",\"y\":\"Rating\",\"yref\":\"y\"},{\"font\":{\"color\":\"#FFFFFF\"},\"showarrow\":false,\"text\":\"-0.0\",\"x\":\"collections\",\"xref\":\"x\",\"y\":\"Rating\",\"yref\":\"y\"},{\"font\":{\"color\":\"#FFFFFF\"},\"showarrow\":false,\"text\":\"-0.06\",\"x\":\"NumberOfScenes\",\"xref\":\"x\",\"y\":\"budget\",\"yref\":\"y\"},{\"font\":{\"color\":\"#FFFFFF\"},\"showarrow\":false,\"text\":\"-0.06\",\"x\":\"RunTime\",\"xref\":\"x\",\"y\":\"budget\",\"yref\":\"y\"},{\"font\":{\"color\":\"#FFFFFF\"},\"showarrow\":false,\"text\":\"-0.07\",\"x\":\"PositiveScenes\",\"xref\":\"x\",\"y\":\"budget\",\"yref\":\"y\"},{\"font\":{\"color\":\"#FFFFFF\"},\"showarrow\":false,\"text\":\"-0.04\",\"x\":\"NegativeScenes\",\"xref\":\"x\",\"y\":\"budget\",\"yref\":\"y\"},{\"font\":{\"color\":\"#FFFFFF\"},\"showarrow\":false,\"text\":\"-0.02\",\"x\":\"NeutralScenes\",\"xref\":\"x\",\"y\":\"budget\",\"yref\":\"y\"},{\"font\":{\"color\":\"#FFFFFF\"},\"showarrow\":false,\"text\":\"0.0\",\"x\":\"SentimentPolarity\",\"xref\":\"x\",\"y\":\"budget\",\"yref\":\"y\"},{\"font\":{\"color\":\"#FFFFFF\"},\"showarrow\":false,\"text\":\"-0.03\",\"x\":\"Fear\",\"xref\":\"x\",\"y\":\"budget\",\"yref\":\"y\"},{\"font\":{\"color\":\"#FFFFFF\"},\"showarrow\":false,\"text\":\"-0.04\",\"x\":\"Anger\",\"xref\":\"x\",\"y\":\"budget\",\"yref\":\"y\"},{\"font\":{\"color\":\"#FFFFFF\"},\"showarrow\":false,\"text\":\"-0.04\",\"x\":\"Anticipation\",\"xref\":\"x\",\"y\":\"budget\",\"yref\":\"y\"},{\"font\":{\"color\":\"#FFFFFF\"},\"showarrow\":false,\"text\":\"-0.05\",\"x\":\"Trust\",\"xref\":\"x\",\"y\":\"budget\",\"yref\":\"y\"},{\"font\":{\"color\":\"#FFFFFF\"},\"showarrow\":false,\"text\":\"-0.04\",\"x\":\"Surprise\",\"xref\":\"x\",\"y\":\"budget\",\"yref\":\"y\"},{\"font\":{\"color\":\"#FFFFFF\"},\"showarrow\":false,\"text\":\"-0.06\",\"x\":\"Positive\",\"xref\":\"x\",\"y\":\"budget\",\"yref\":\"y\"},{\"font\":{\"color\":\"#FFFFFF\"},\"showarrow\":false,\"text\":\"-0.06\",\"x\":\"Negative\",\"xref\":\"x\",\"y\":\"budget\",\"yref\":\"y\"},{\"font\":{\"color\":\"#FFFFFF\"},\"showarrow\":false,\"text\":\"-0.05\",\"x\":\"Sadness\",\"xref\":\"x\",\"y\":\"budget\",\"yref\":\"y\"},{\"font\":{\"color\":\"#FFFFFF\"},\"showarrow\":false,\"text\":\"-0.04\",\"x\":\"Disgust\",\"xref\":\"x\",\"y\":\"budget\",\"yref\":\"y\"},{\"font\":{\"color\":\"#FFFFFF\"},\"showarrow\":false,\"text\":\"-0.05\",\"x\":\"Joy\",\"xref\":\"x\",\"y\":\"budget\",\"yref\":\"y\"},{\"font\":{\"color\":\"#FFFFFF\"},\"showarrow\":false,\"text\":\"-0.0\",\"x\":\"NumberOfCharacters\",\"xref\":\"x\",\"y\":\"budget\",\"yref\":\"y\"},{\"font\":{\"color\":\"#FFFFFF\"},\"showarrow\":false,\"text\":\"-0.03\",\"x\":\"ThreeActStructure\",\"xref\":\"x\",\"y\":\"budget\",\"yref\":\"y\"},{\"font\":{\"color\":\"#FFFFFF\"},\"showarrow\":false,\"text\":\"0.0\",\"x\":\"FiveActStructure\",\"xref\":\"x\",\"y\":\"budget\",\"yref\":\"y\"},{\"font\":{\"color\":\"#FFFFFF\"},\"showarrow\":false,\"text\":\"0.02\",\"x\":\"HeroStructure\",\"xref\":\"x\",\"y\":\"budget\",\"yref\":\"y\"},{\"font\":{\"color\":\"#FFFFFF\"},\"showarrow\":false,\"text\":\"-0.01\",\"x\":\"NonlinearStructure\",\"xref\":\"x\",\"y\":\"budget\",\"yref\":\"y\"},{\"font\":{\"color\":\"#FFFFFF\"},\"showarrow\":false,\"text\":\"-0.03\",\"x\":\"ParallelStructure\",\"xref\":\"x\",\"y\":\"budget\",\"yref\":\"y\"},{\"font\":{\"color\":\"#FFFFFF\"},\"showarrow\":false,\"text\":\"0.0\",\"x\":\"CircularStructure\",\"xref\":\"x\",\"y\":\"budget\",\"yref\":\"y\"},{\"font\":{\"color\":\"#FFFFFF\"},\"showarrow\":false,\"text\":\"-0.04\",\"x\":\"OpenEndedStructre\",\"xref\":\"x\",\"y\":\"budget\",\"yref\":\"y\"},{\"font\":{\"color\":\"#FFFFFF\"},\"showarrow\":false,\"text\":\"-0.02\",\"x\":\"InMediasStructure\",\"xref\":\"x\",\"y\":\"budget\",\"yref\":\"y\"},{\"font\":{\"color\":\"#FFFFFF\"},\"showarrow\":false,\"text\":\"0.06\",\"x\":\"ExperimentalStructure\",\"xref\":\"x\",\"y\":\"budget\",\"yref\":\"y\"},{\"font\":{\"color\":\"#FFFFFF\"},\"showarrow\":false,\"text\":\"-0.01\",\"x\":\"Rating\",\"xref\":\"x\",\"y\":\"budget\",\"yref\":\"y\"},{\"font\":{\"color\":\"#000000\"},\"showarrow\":false,\"text\":\"1.0\",\"x\":\"budget\",\"xref\":\"x\",\"y\":\"budget\",\"yref\":\"y\"},{\"font\":{\"color\":\"#000000\"},\"showarrow\":false,\"text\":\"0.89\",\"x\":\"collections\",\"xref\":\"x\",\"y\":\"budget\",\"yref\":\"y\"},{\"font\":{\"color\":\"#FFFFFF\"},\"showarrow\":false,\"text\":\"-0.04\",\"x\":\"NumberOfScenes\",\"xref\":\"x\",\"y\":\"collections\",\"yref\":\"y\"},{\"font\":{\"color\":\"#FFFFFF\"},\"showarrow\":false,\"text\":\"-0.04\",\"x\":\"RunTime\",\"xref\":\"x\",\"y\":\"collections\",\"yref\":\"y\"},{\"font\":{\"color\":\"#FFFFFF\"},\"showarrow\":false,\"text\":\"-0.05\",\"x\":\"PositiveScenes\",\"xref\":\"x\",\"y\":\"collections\",\"yref\":\"y\"},{\"font\":{\"color\":\"#FFFFFF\"},\"showarrow\":false,\"text\":\"-0.03\",\"x\":\"NegativeScenes\",\"xref\":\"x\",\"y\":\"collections\",\"yref\":\"y\"},{\"font\":{\"color\":\"#FFFFFF\"},\"showarrow\":false,\"text\":\"-0.02\",\"x\":\"NeutralScenes\",\"xref\":\"x\",\"y\":\"collections\",\"yref\":\"y\"},{\"font\":{\"color\":\"#FFFFFF\"},\"showarrow\":false,\"text\":\"-0.01\",\"x\":\"SentimentPolarity\",\"xref\":\"x\",\"y\":\"collections\",\"yref\":\"y\"},{\"font\":{\"color\":\"#FFFFFF\"},\"showarrow\":false,\"text\":\"-0.03\",\"x\":\"Fear\",\"xref\":\"x\",\"y\":\"collections\",\"yref\":\"y\"},{\"font\":{\"color\":\"#FFFFFF\"},\"showarrow\":false,\"text\":\"-0.04\",\"x\":\"Anger\",\"xref\":\"x\",\"y\":\"collections\",\"yref\":\"y\"},{\"font\":{\"color\":\"#FFFFFF\"},\"showarrow\":false,\"text\":\"-0.02\",\"x\":\"Anticipation\",\"xref\":\"x\",\"y\":\"collections\",\"yref\":\"y\"},{\"font\":{\"color\":\"#FFFFFF\"},\"showarrow\":false,\"text\":\"-0.04\",\"x\":\"Trust\",\"xref\":\"x\",\"y\":\"collections\",\"yref\":\"y\"},{\"font\":{\"color\":\"#FFFFFF\"},\"showarrow\":false,\"text\":\"-0.04\",\"x\":\"Surprise\",\"xref\":\"x\",\"y\":\"collections\",\"yref\":\"y\"},{\"font\":{\"color\":\"#FFFFFF\"},\"showarrow\":false,\"text\":\"-0.04\",\"x\":\"Positive\",\"xref\":\"x\",\"y\":\"collections\",\"yref\":\"y\"},{\"font\":{\"color\":\"#FFFFFF\"},\"showarrow\":false,\"text\":\"-0.05\",\"x\":\"Negative\",\"xref\":\"x\",\"y\":\"collections\",\"yref\":\"y\"},{\"font\":{\"color\":\"#FFFFFF\"},\"showarrow\":false,\"text\":\"-0.04\",\"x\":\"Sadness\",\"xref\":\"x\",\"y\":\"collections\",\"yref\":\"y\"},{\"font\":{\"color\":\"#FFFFFF\"},\"showarrow\":false,\"text\":\"-0.04\",\"x\":\"Disgust\",\"xref\":\"x\",\"y\":\"collections\",\"yref\":\"y\"},{\"font\":{\"color\":\"#FFFFFF\"},\"showarrow\":false,\"text\":\"-0.05\",\"x\":\"Joy\",\"xref\":\"x\",\"y\":\"collections\",\"yref\":\"y\"},{\"font\":{\"color\":\"#FFFFFF\"},\"showarrow\":false,\"text\":\"0.02\",\"x\":\"NumberOfCharacters\",\"xref\":\"x\",\"y\":\"collections\",\"yref\":\"y\"},{\"font\":{\"color\":\"#FFFFFF\"},\"showarrow\":false,\"text\":\"-0.01\",\"x\":\"ThreeActStructure\",\"xref\":\"x\",\"y\":\"collections\",\"yref\":\"y\"},{\"font\":{\"color\":\"#FFFFFF\"},\"showarrow\":false,\"text\":\"0.02\",\"x\":\"FiveActStructure\",\"xref\":\"x\",\"y\":\"collections\",\"yref\":\"y\"},{\"font\":{\"color\":\"#FFFFFF\"},\"showarrow\":false,\"text\":\"0.02\",\"x\":\"HeroStructure\",\"xref\":\"x\",\"y\":\"collections\",\"yref\":\"y\"},{\"font\":{\"color\":\"#FFFFFF\"},\"showarrow\":false,\"text\":\"-0.02\",\"x\":\"NonlinearStructure\",\"xref\":\"x\",\"y\":\"collections\",\"yref\":\"y\"},{\"font\":{\"color\":\"#FFFFFF\"},\"showarrow\":false,\"text\":\"-0.02\",\"x\":\"ParallelStructure\",\"xref\":\"x\",\"y\":\"collections\",\"yref\":\"y\"},{\"font\":{\"color\":\"#FFFFFF\"},\"showarrow\":false,\"text\":\"-0.01\",\"x\":\"CircularStructure\",\"xref\":\"x\",\"y\":\"collections\",\"yref\":\"y\"},{\"font\":{\"color\":\"#FFFFFF\"},\"showarrow\":false,\"text\":\"-0.05\",\"x\":\"OpenEndedStructre\",\"xref\":\"x\",\"y\":\"collections\",\"yref\":\"y\"},{\"font\":{\"color\":\"#FFFFFF\"},\"showarrow\":false,\"text\":\"-0.02\",\"x\":\"InMediasStructure\",\"xref\":\"x\",\"y\":\"collections\",\"yref\":\"y\"},{\"font\":{\"color\":\"#FFFFFF\"},\"showarrow\":false,\"text\":\"0.03\",\"x\":\"ExperimentalStructure\",\"xref\":\"x\",\"y\":\"collections\",\"yref\":\"y\"},{\"font\":{\"color\":\"#FFFFFF\"},\"showarrow\":false,\"text\":\"-0.0\",\"x\":\"Rating\",\"xref\":\"x\",\"y\":\"collections\",\"yref\":\"y\"},{\"font\":{\"color\":\"#000000\"},\"showarrow\":false,\"text\":\"0.89\",\"x\":\"budget\",\"xref\":\"x\",\"y\":\"collections\",\"yref\":\"y\"},{\"font\":{\"color\":\"#000000\"},\"showarrow\":false,\"text\":\"1.0\",\"x\":\"collections\",\"xref\":\"x\",\"y\":\"collections\",\"yref\":\"y\"}],\"xaxis\":{\"dtick\":1,\"gridcolor\":\"rgb(0, 0, 0)\",\"side\":\"top\",\"ticks\":\"\"},\"yaxis\":{\"dtick\":1,\"ticks\":\"\",\"ticksuffix\":\"  \"},\"template\":{\"data\":{\"bar\":[{\"error_x\":{\"color\":\"#2a3f5f\"},\"error_y\":{\"color\":\"#2a3f5f\"},\"marker\":{\"line\":{\"color\":\"#E5ECF6\",\"width\":0.5},\"pattern\":{\"fillmode\":\"overlay\",\"size\":10,\"solidity\":0.2}},\"type\":\"bar\"}],\"barpolar\":[{\"marker\":{\"line\":{\"color\":\"#E5ECF6\",\"width\":0.5},\"pattern\":{\"fillmode\":\"overlay\",\"size\":10,\"solidity\":0.2}},\"type\":\"barpolar\"}],\"carpet\":[{\"aaxis\":{\"endlinecolor\":\"#2a3f5f\",\"gridcolor\":\"white\",\"linecolor\":\"white\",\"minorgridcolor\":\"white\",\"startlinecolor\":\"#2a3f5f\"},\"baxis\":{\"endlinecolor\":\"#2a3f5f\",\"gridcolor\":\"white\",\"linecolor\":\"white\",\"minorgridcolor\":\"white\",\"startlinecolor\":\"#2a3f5f\"},\"type\":\"carpet\"}],\"choropleth\":[{\"colorbar\":{\"outlinewidth\":0,\"ticks\":\"\"},\"type\":\"choropleth\"}],\"contour\":[{\"colorbar\":{\"outlinewidth\":0,\"ticks\":\"\"},\"colorscale\":[[0.0,\"#0d0887\"],[0.1111111111111111,\"#46039f\"],[0.2222222222222222,\"#7201a8\"],[0.3333333333333333,\"#9c179e\"],[0.4444444444444444,\"#bd3786\"],[0.5555555555555556,\"#d8576b\"],[0.6666666666666666,\"#ed7953\"],[0.7777777777777778,\"#fb9f3a\"],[0.8888888888888888,\"#fdca26\"],[1.0,\"#f0f921\"]],\"type\":\"contour\"}],\"contourcarpet\":[{\"colorbar\":{\"outlinewidth\":0,\"ticks\":\"\"},\"type\":\"contourcarpet\"}],\"heatmap\":[{\"colorbar\":{\"outlinewidth\":0,\"ticks\":\"\"},\"colorscale\":[[0.0,\"#0d0887\"],[0.1111111111111111,\"#46039f\"],[0.2222222222222222,\"#7201a8\"],[0.3333333333333333,\"#9c179e\"],[0.4444444444444444,\"#bd3786\"],[0.5555555555555556,\"#d8576b\"],[0.6666666666666666,\"#ed7953\"],[0.7777777777777778,\"#fb9f3a\"],[0.8888888888888888,\"#fdca26\"],[1.0,\"#f0f921\"]],\"type\":\"heatmap\"}],\"heatmapgl\":[{\"colorbar\":{\"outlinewidth\":0,\"ticks\":\"\"},\"colorscale\":[[0.0,\"#0d0887\"],[0.1111111111111111,\"#46039f\"],[0.2222222222222222,\"#7201a8\"],[0.3333333333333333,\"#9c179e\"],[0.4444444444444444,\"#bd3786\"],[0.5555555555555556,\"#d8576b\"],[0.6666666666666666,\"#ed7953\"],[0.7777777777777778,\"#fb9f3a\"],[0.8888888888888888,\"#fdca26\"],[1.0,\"#f0f921\"]],\"type\":\"heatmapgl\"}],\"histogram\":[{\"marker\":{\"pattern\":{\"fillmode\":\"overlay\",\"size\":10,\"solidity\":0.2}},\"type\":\"histogram\"}],\"histogram2d\":[{\"colorbar\":{\"outlinewidth\":0,\"ticks\":\"\"},\"colorscale\":[[0.0,\"#0d0887\"],[0.1111111111111111,\"#46039f\"],[0.2222222222222222,\"#7201a8\"],[0.3333333333333333,\"#9c179e\"],[0.4444444444444444,\"#bd3786\"],[0.5555555555555556,\"#d8576b\"],[0.6666666666666666,\"#ed7953\"],[0.7777777777777778,\"#fb9f3a\"],[0.8888888888888888,\"#fdca26\"],[1.0,\"#f0f921\"]],\"type\":\"histogram2d\"}],\"histogram2dcontour\":[{\"colorbar\":{\"outlinewidth\":0,\"ticks\":\"\"},\"colorscale\":[[0.0,\"#0d0887\"],[0.1111111111111111,\"#46039f\"],[0.2222222222222222,\"#7201a8\"],[0.3333333333333333,\"#9c179e\"],[0.4444444444444444,\"#bd3786\"],[0.5555555555555556,\"#d8576b\"],[0.6666666666666666,\"#ed7953\"],[0.7777777777777778,\"#fb9f3a\"],[0.8888888888888888,\"#fdca26\"],[1.0,\"#f0f921\"]],\"type\":\"histogram2dcontour\"}],\"mesh3d\":[{\"colorbar\":{\"outlinewidth\":0,\"ticks\":\"\"},\"type\":\"mesh3d\"}],\"parcoords\":[{\"line\":{\"colorbar\":{\"outlinewidth\":0,\"ticks\":\"\"}},\"type\":\"parcoords\"}],\"pie\":[{\"automargin\":true,\"type\":\"pie\"}],\"scatter\":[{\"marker\":{\"colorbar\":{\"outlinewidth\":0,\"ticks\":\"\"}},\"type\":\"scatter\"}],\"scatter3d\":[{\"line\":{\"colorbar\":{\"outlinewidth\":0,\"ticks\":\"\"}},\"marker\":{\"colorbar\":{\"outlinewidth\":0,\"ticks\":\"\"}},\"type\":\"scatter3d\"}],\"scattercarpet\":[{\"marker\":{\"colorbar\":{\"outlinewidth\":0,\"ticks\":\"\"}},\"type\":\"scattercarpet\"}],\"scattergeo\":[{\"marker\":{\"colorbar\":{\"outlinewidth\":0,\"ticks\":\"\"}},\"type\":\"scattergeo\"}],\"scattergl\":[{\"marker\":{\"colorbar\":{\"outlinewidth\":0,\"ticks\":\"\"}},\"type\":\"scattergl\"}],\"scattermapbox\":[{\"marker\":{\"colorbar\":{\"outlinewidth\":0,\"ticks\":\"\"}},\"type\":\"scattermapbox\"}],\"scatterpolar\":[{\"marker\":{\"colorbar\":{\"outlinewidth\":0,\"ticks\":\"\"}},\"type\":\"scatterpolar\"}],\"scatterpolargl\":[{\"marker\":{\"colorbar\":{\"outlinewidth\":0,\"ticks\":\"\"}},\"type\":\"scatterpolargl\"}],\"scatterternary\":[{\"marker\":{\"colorbar\":{\"outlinewidth\":0,\"ticks\":\"\"}},\"type\":\"scatterternary\"}],\"surface\":[{\"colorbar\":{\"outlinewidth\":0,\"ticks\":\"\"},\"colorscale\":[[0.0,\"#0d0887\"],[0.1111111111111111,\"#46039f\"],[0.2222222222222222,\"#7201a8\"],[0.3333333333333333,\"#9c179e\"],[0.4444444444444444,\"#bd3786\"],[0.5555555555555556,\"#d8576b\"],[0.6666666666666666,\"#ed7953\"],[0.7777777777777778,\"#fb9f3a\"],[0.8888888888888888,\"#fdca26\"],[1.0,\"#f0f921\"]],\"type\":\"surface\"}],\"table\":[{\"cells\":{\"fill\":{\"color\":\"#EBF0F8\"},\"line\":{\"color\":\"white\"}},\"header\":{\"fill\":{\"color\":\"#C8D4E3\"},\"line\":{\"color\":\"white\"}},\"type\":\"table\"}]},\"layout\":{\"annotationdefaults\":{\"arrowcolor\":\"#2a3f5f\",\"arrowhead\":0,\"arrowwidth\":1},\"autotypenumbers\":\"strict\",\"coloraxis\":{\"colorbar\":{\"outlinewidth\":0,\"ticks\":\"\"}},\"colorscale\":{\"diverging\":[[0,\"#8e0152\"],[0.1,\"#c51b7d\"],[0.2,\"#de77ae\"],[0.3,\"#f1b6da\"],[0.4,\"#fde0ef\"],[0.5,\"#f7f7f7\"],[0.6,\"#e6f5d0\"],[0.7,\"#b8e186\"],[0.8,\"#7fbc41\"],[0.9,\"#4d9221\"],[1,\"#276419\"]],\"sequential\":[[0.0,\"#0d0887\"],[0.1111111111111111,\"#46039f\"],[0.2222222222222222,\"#7201a8\"],[0.3333333333333333,\"#9c179e\"],[0.4444444444444444,\"#bd3786\"],[0.5555555555555556,\"#d8576b\"],[0.6666666666666666,\"#ed7953\"],[0.7777777777777778,\"#fb9f3a\"],[0.8888888888888888,\"#fdca26\"],[1.0,\"#f0f921\"]],\"sequentialminus\":[[0.0,\"#0d0887\"],[0.1111111111111111,\"#46039f\"],[0.2222222222222222,\"#7201a8\"],[0.3333333333333333,\"#9c179e\"],[0.4444444444444444,\"#bd3786\"],[0.5555555555555556,\"#d8576b\"],[0.6666666666666666,\"#ed7953\"],[0.7777777777777778,\"#fb9f3a\"],[0.8888888888888888,\"#fdca26\"],[1.0,\"#f0f921\"]]},\"colorway\":[\"#636efa\",\"#EF553B\",\"#00cc96\",\"#ab63fa\",\"#FFA15A\",\"#19d3f3\",\"#FF6692\",\"#B6E880\",\"#FF97FF\",\"#FECB52\"],\"font\":{\"color\":\"#2a3f5f\"},\"geo\":{\"bgcolor\":\"white\",\"lakecolor\":\"white\",\"landcolor\":\"#E5ECF6\",\"showlakes\":true,\"showland\":true,\"subunitcolor\":\"white\"},\"hoverlabel\":{\"align\":\"left\"},\"hovermode\":\"closest\",\"mapbox\":{\"style\":\"light\"},\"paper_bgcolor\":\"white\",\"plot_bgcolor\":\"#E5ECF6\",\"polar\":{\"angularaxis\":{\"gridcolor\":\"white\",\"linecolor\":\"white\",\"ticks\":\"\"},\"bgcolor\":\"#E5ECF6\",\"radialaxis\":{\"gridcolor\":\"white\",\"linecolor\":\"white\",\"ticks\":\"\"}},\"scene\":{\"xaxis\":{\"backgroundcolor\":\"#E5ECF6\",\"gridcolor\":\"white\",\"gridwidth\":2,\"linecolor\":\"white\",\"showbackground\":true,\"ticks\":\"\",\"zerolinecolor\":\"white\"},\"yaxis\":{\"backgroundcolor\":\"#E5ECF6\",\"gridcolor\":\"white\",\"gridwidth\":2,\"linecolor\":\"white\",\"showbackground\":true,\"ticks\":\"\",\"zerolinecolor\":\"white\"},\"zaxis\":{\"backgroundcolor\":\"#E5ECF6\",\"gridcolor\":\"white\",\"gridwidth\":2,\"linecolor\":\"white\",\"showbackground\":true,\"ticks\":\"\",\"zerolinecolor\":\"white\"}},\"shapedefaults\":{\"line\":{\"color\":\"#2a3f5f\"}},\"ternary\":{\"aaxis\":{\"gridcolor\":\"white\",\"linecolor\":\"white\",\"ticks\":\"\"},\"baxis\":{\"gridcolor\":\"white\",\"linecolor\":\"white\",\"ticks\":\"\"},\"bgcolor\":\"#E5ECF6\",\"caxis\":{\"gridcolor\":\"white\",\"linecolor\":\"white\",\"ticks\":\"\"}},\"title\":{\"x\":0.05},\"xaxis\":{\"automargin\":true,\"gridcolor\":\"white\",\"linecolor\":\"white\",\"ticks\":\"\",\"title\":{\"standoff\":15},\"zerolinecolor\":\"white\",\"zerolinewidth\":2},\"yaxis\":{\"automargin\":true,\"gridcolor\":\"white\",\"linecolor\":\"white\",\"ticks\":\"\",\"title\":{\"standoff\":15},\"zerolinecolor\":\"white\",\"zerolinewidth\":2}}},\"width\":1000,\"height\":800,\"title\":{\"text\":\"Heatmap\"}},                        {\"responsive\": true}                    ).then(function(){\n",
       "                            \n",
       "var gd = document.getElementById('48863017-1459-407c-8fb3-58e9136f74b1');\n",
       "var x = new MutationObserver(function (mutations, observer) {{\n",
       "        var display = window.getComputedStyle(gd).display;\n",
       "        if (!display || display === 'none') {{\n",
       "            console.log([gd, 'removed!']);\n",
       "            Plotly.purge(gd);\n",
       "            observer.disconnect();\n",
       "        }}\n",
       "}});\n",
       "\n",
       "// Listen for the removal of the full notebook cells\n",
       "var notebookContainer = gd.closest('#notebook-container');\n",
       "if (notebookContainer) {{\n",
       "    x.observe(notebookContainer, {childList: true});\n",
       "}}\n",
       "\n",
       "// Listen for the clearing of the current output cell\n",
       "var outputEl = gd.closest('.output');\n",
       "if (outputEl) {{\n",
       "    x.observe(outputEl, {childList: true});\n",
       "}}\n",
       "\n",
       "                        })                };                });            </script>        </div>"
      ]
     },
     "metadata": {},
     "output_type": "display_data"
    }
   ],
   "source": [
    "import plotly.figure_factory as ff\n",
    "\n",
    "# Create a heatmap using Plotly\n",
    "fig = ff.create_annotated_heatmap(\n",
    "    z=correlation.values,\n",
    "    x=list(correlation.columns),\n",
    "    y=list(correlation.index),\n",
    "    annotation_text=correlation.round(2).values,\n",
    "    colorscale='Viridis',\n",
    "    hoverinfo=\"z\"\n",
    ")\n",
    "fig.update_layout(width=1000, height=800, title=\"Heatmap\")\n",
    "fig.show()\n"
   ]
  },
  {
   "cell_type": "code",
   "execution_count": 38,
   "id": "aac8deb3",
   "metadata": {},
   "outputs": [
    {
     "data": {
      "text/plain": [
       "<AxesSubplot:xlabel='NumberOfScenes'>"
      ]
     },
     "execution_count": 38,
     "metadata": {},
     "output_type": "execute_result"
    },
    {
     "data": {
      "image/png": "[encoded data removed]",
      "text/plain": [
       "<Figure size 432x288 with 1 Axes>"
      ]
     },
     "metadata": {},
     "output_type": "display_data"
    }
   ],
   "source": [
    "\n",
    "# Histogram\n",
    "# process_df['column_name'].hist()\n",
    "\n",
    "# Box plot\n",
    "sns.boxplot(x='NumberOfScenes', data=process_df)\n",
    "\n",
    "# Scatter plot\n",
    "# sns.scatterplot(x='column1', y='column2', data=process_df)\n"
   ]
  },
  {
   "cell_type": "code",
   "execution_count": 42,
   "id": "086b72f7",
   "metadata": {},
   "outputs": [],
   "source": [
    "# Let's assume 'target_column' is the name of your target variable\n",
    "target = process_df['Rating']\n",
    "predictors = process_df.drop(columns=['Rating'])"
   ]
  },
  {
   "cell_type": "code",
   "execution_count": 43,
   "id": "097b7c61",
   "metadata": {},
   "outputs": [
    {
     "name": "stdout",
     "output_type": "stream",
     "text": [
      "Positive                 0.137462\n",
      "Trust                    0.128636\n",
      "NumberOfScenes           0.126500\n",
      "PositiveScenes           0.125999\n",
      "Joy                      0.124767\n",
      "Anticipation             0.117603\n",
      "Sadness                  0.111567\n",
      "Surprise                 0.099719\n",
      "Disgust                  0.097092\n",
      "Anger                    0.094983\n",
      "NeutralScenes            0.091815\n",
      "Negative                 0.089003\n",
      "RunTime                  0.086135\n",
      "NegativeScenes           0.084324\n",
      "Fear                     0.083107\n",
      "ThreeActStructure        0.061981\n",
      "NumberOfCharacters       0.055492\n",
      "CircularStructure        0.027146\n",
      "SentimentPolarity        0.014304\n",
      "NonlinearStructure       0.011554\n",
      "FiveActStructure         0.004926\n",
      "HeroStructure            0.002989\n",
      "InMediasStructure       -0.003433\n",
      "collections             -0.004839\n",
      "budget                  -0.012684\n",
      "OpenEndedStructre       -0.020649\n",
      "ParallelStructure       -0.039137\n",
      "ExperimentalStructure   -0.040516\n",
      "dtype: float64\n"
     ]
    }
   ],
   "source": [
    "# Calculating correlation between each predictor and the target variable\n",
    "correlations = predictors.corrwith(target)\n",
    "\n",
    "# Displaying the correlation coefficients\n",
    "print(correlations.sort_values(ascending=False))\n"
   ]
  },
  {
   "cell_type": "code",
   "execution_count": 44,
   "id": "13cbb9e4",
   "metadata": {},
   "outputs": [
    {
     "data": {
      "image/png": "[encoded data removed]",
      "text/plain": [
       "<Figure size 432x288 with 1 Axes>"
      ]
     },
     "metadata": {},
     "output_type": "display_data"
    }
   ],
   "source": [
    "\n",
    "# Plotting the correlations\n",
    "sns.barplot(x=correlations.values, y=correlations.index, orient='h')\n",
    "plt.title('Correlation of Predictors with Target Variable')\n",
    "plt.xlabel('Correlation Coefficient')\n",
    "plt.show()\n"
   ]
  },
  {
   "cell_type": "code",
   "execution_count": 66,
   "id": "3acca90f",
   "metadata": {},
   "outputs": [],
   "source": [
    "# Select predictors with correlation greater than 0.5 or less than -0.5\n",
    "selected_features = correlations[(correlations > 0) | (correlations < 0)].index\n",
    "selected_predictors = predictors[selected_features]\n"
   ]
  },
  {
   "cell_type": "code",
   "execution_count": 67,
   "id": "4467a67e",
   "metadata": {},
   "outputs": [
    {
     "data": {
      "text/html": [
       "<div>\n",
       "<style scoped>\n",
       "    .dataframe tbody tr th:only-of-type {\n",
       "        vertical-align: middle;\n",
       "    }\n",
       "\n",
       "    .dataframe tbody tr th {\n",
       "        vertical-align: top;\n",
       "    }\n",
       "\n",
       "    .dataframe thead th {\n",
       "        text-align: right;\n",
       "    }\n",
       "</style>\n",
       "<table border=\"1\" class=\"dataframe\">\n",
       "  <thead>\n",
       "    <tr style=\"text-align: right;\">\n",
       "      <th></th>\n",
       "      <th>NumberOfScenes</th>\n",
       "      <th>RunTime</th>\n",
       "      <th>PositiveScenes</th>\n",
       "      <th>NegativeScenes</th>\n",
       "      <th>NeutralScenes</th>\n",
       "      <th>SentimentPolarity</th>\n",
       "      <th>Fear</th>\n",
       "      <th>Anger</th>\n",
       "      <th>Anticipation</th>\n",
       "      <th>Trust</th>\n",
       "      <th>...</th>\n",
       "      <th>FiveActStructure</th>\n",
       "      <th>HeroStructure</th>\n",
       "      <th>NonlinearStructure</th>\n",
       "      <th>ParallelStructure</th>\n",
       "      <th>CircularStructure</th>\n",
       "      <th>OpenEndedStructre</th>\n",
       "      <th>InMediasStructure</th>\n",
       "      <th>ExperimentalStructure</th>\n",
       "      <th>budget</th>\n",
       "      <th>collections</th>\n",
       "    </tr>\n",
       "  </thead>\n",
       "  <tbody>\n",
       "    <tr>\n",
       "      <th>0</th>\n",
       "      <td>122</td>\n",
       "      <td>122.0</td>\n",
       "      <td>68</td>\n",
       "      <td>46</td>\n",
       "      <td>8</td>\n",
       "      <td>0.039856</td>\n",
       "      <td>18</td>\n",
       "      <td>16</td>\n",
       "      <td>10</td>\n",
       "      <td>18</td>\n",
       "      <td>...</td>\n",
       "      <td>1</td>\n",
       "      <td>1</td>\n",
       "      <td>1</td>\n",
       "      <td>0</td>\n",
       "      <td>0</td>\n",
       "      <td>1</td>\n",
       "      <td>0</td>\n",
       "      <td>0</td>\n",
       "      <td>5000000</td>\n",
       "      <td>15000000</td>\n",
       "    </tr>\n",
       "    <tr>\n",
       "      <th>1</th>\n",
       "      <td>169</td>\n",
       "      <td>169.0</td>\n",
       "      <td>87</td>\n",
       "      <td>53</td>\n",
       "      <td>29</td>\n",
       "      <td>0.006693</td>\n",
       "      <td>39</td>\n",
       "      <td>29</td>\n",
       "      <td>31</td>\n",
       "      <td>48</td>\n",
       "      <td>...</td>\n",
       "      <td>1</td>\n",
       "      <td>1</td>\n",
       "      <td>0</td>\n",
       "      <td>0</td>\n",
       "      <td>1</td>\n",
       "      <td>0</td>\n",
       "      <td>0</td>\n",
       "      <td>0</td>\n",
       "      <td>18000000</td>\n",
       "      <td>35000000</td>\n",
       "    </tr>\n",
       "    <tr>\n",
       "      <th>2</th>\n",
       "      <td>120</td>\n",
       "      <td>120.0</td>\n",
       "      <td>52</td>\n",
       "      <td>52</td>\n",
       "      <td>16</td>\n",
       "      <td>0.021793</td>\n",
       "      <td>27</td>\n",
       "      <td>15</td>\n",
       "      <td>15</td>\n",
       "      <td>25</td>\n",
       "      <td>...</td>\n",
       "      <td>0</td>\n",
       "      <td>1</td>\n",
       "      <td>1</td>\n",
       "      <td>0</td>\n",
       "      <td>1</td>\n",
       "      <td>1</td>\n",
       "      <td>0</td>\n",
       "      <td>0</td>\n",
       "      <td>3000000</td>\n",
       "      <td>2000000</td>\n",
       "    </tr>\n",
       "    <tr>\n",
       "      <th>3</th>\n",
       "      <td>164</td>\n",
       "      <td>164.0</td>\n",
       "      <td>85</td>\n",
       "      <td>52</td>\n",
       "      <td>27</td>\n",
       "      <td>0.051395</td>\n",
       "      <td>37</td>\n",
       "      <td>35</td>\n",
       "      <td>31</td>\n",
       "      <td>54</td>\n",
       "      <td>...</td>\n",
       "      <td>0</td>\n",
       "      <td>1</td>\n",
       "      <td>0</td>\n",
       "      <td>0</td>\n",
       "      <td>1</td>\n",
       "      <td>0</td>\n",
       "      <td>0</td>\n",
       "      <td>0</td>\n",
       "      <td>3000000</td>\n",
       "      <td>6000000</td>\n",
       "    </tr>\n",
       "    <tr>\n",
       "      <th>4</th>\n",
       "      <td>112</td>\n",
       "      <td>112.0</td>\n",
       "      <td>75</td>\n",
       "      <td>33</td>\n",
       "      <td>4</td>\n",
       "      <td>0.030608</td>\n",
       "      <td>9</td>\n",
       "      <td>5</td>\n",
       "      <td>10</td>\n",
       "      <td>12</td>\n",
       "      <td>...</td>\n",
       "      <td>1</td>\n",
       "      <td>1</td>\n",
       "      <td>1</td>\n",
       "      <td>0</td>\n",
       "      <td>1</td>\n",
       "      <td>0</td>\n",
       "      <td>0</td>\n",
       "      <td>0</td>\n",
       "      <td>12000000</td>\n",
       "      <td>25000000</td>\n",
       "    </tr>\n",
       "  </tbody>\n",
       "</table>\n",
       "<p>5 rows × 28 columns</p>\n",
       "</div>"
      ],
      "text/plain": [
       "   NumberOfScenes  RunTime  PositiveScenes  NegativeScenes  NeutralScenes  \\\n",
       "0             122    122.0              68              46              8   \n",
       "1             169    169.0              87              53             29   \n",
       "2             120    120.0              52              52             16   \n",
       "3             164    164.0              85              52             27   \n",
       "4             112    112.0              75              33              4   \n",
       "\n",
       "   SentimentPolarity  Fear  Anger  Anticipation  Trust  ...  FiveActStructure  \\\n",
       "0           0.039856    18     16            10     18  ...                 1   \n",
       "1           0.006693    39     29            31     48  ...                 1   \n",
       "2           0.021793    27     15            15     25  ...                 0   \n",
       "3           0.051395    37     35            31     54  ...                 0   \n",
       "4           0.030608     9      5            10     12  ...                 1   \n",
       "\n",
       "   HeroStructure  NonlinearStructure  ParallelStructure  CircularStructure  \\\n",
       "0              1                   1                  0                  0   \n",
       "1              1                   0                  0                  1   \n",
       "2              1                   1                  0                  1   \n",
       "3              1                   0                  0                  1   \n",
       "4              1                   1                  0                  1   \n",
       "\n",
       "   OpenEndedStructre  InMediasStructure  ExperimentalStructure    budget  \\\n",
       "0                  1                  0                      0   5000000   \n",
       "1                  0                  0                      0  18000000   \n",
       "2                  1                  0                      0   3000000   \n",
       "3                  0                  0                      0   3000000   \n",
       "4                  0                  0                      0  12000000   \n",
       "\n",
       "   collections  \n",
       "0     15000000  \n",
       "1     35000000  \n",
       "2      2000000  \n",
       "3      6000000  \n",
       "4     25000000  \n",
       "\n",
       "[5 rows x 28 columns]"
      ]
     },
     "execution_count": 67,
     "metadata": {},
     "output_type": "execute_result"
    }
   ],
   "source": [
    "selected_predictors.head()"
   ]
  },
  {
   "cell_type": "code",
   "execution_count": 68,
   "id": "68857c06",
   "metadata": {},
   "outputs": [
    {
     "name": "stdout",
     "output_type": "stream",
     "text": [
      "Model R-squared: -0.015023653484720567\n"
     ]
    }
   ],
   "source": [
    "from sklearn.model_selection import train_test_split\n",
    "from sklearn.linear_model import LinearRegression\n",
    "\n",
    "# Splitting the data into training and testing sets\n",
    "X_train, X_test, y_train, y_test = train_test_split(selected_predictors, target, test_size=0.2, random_state=42)\n",
    "\n",
    "# Fitting a linear regression model\n",
    "model = LinearRegression()\n",
    "model.fit(X_train, y_train)\n",
    "\n",
    "# Evaluating the model\n",
    "print(f'Model R-squared: {model.score(X_test, y_test)}')\n"
   ]
  },
  {
   "cell_type": "code",
   "execution_count": 69,
   "id": "97d655a3",
   "metadata": {},
   "outputs": [
    {
     "name": "stdout",
     "output_type": "stream",
     "text": [
      "Model R-squared: -1.7373232352373051\n"
     ]
    }
   ],
   "source": [
    "from sklearn.model_selection import train_test_split\n",
    "from sklearn.tree import DecisionTreeRegressor\n",
    "\n",
    "# Splitting the data into training and testing sets\n",
    "X_train, X_test, y_train, y_test = train_test_split(selected_predictors, target, test_size=0.2, random_state=42)\n",
    "\n",
    "# Fitting a decision tree regressor model\n",
    "model = DecisionTreeRegressor(random_state=42)\n",
    "model.fit(X_train, y_train)\n",
    "\n",
    "# Evaluating the model\n",
    "print(f'Model R-squared: {model.score(X_test, y_test)}')\n"
   ]
  },
  {
   "cell_type": "code",
   "execution_count": 70,
   "id": "609e70a4",
   "metadata": {},
   "outputs": [
    {
     "name": "stdout",
     "output_type": "stream",
     "text": [
      "Model R-squared: -0.11216450408818845\n"
     ]
    }
   ],
   "source": [
    "from sklearn.model_selection import train_test_split\n",
    "from sklearn.svm import SVR\n",
    "\n",
    "# Splitting the data into training and testing sets\n",
    "X_train, X_test, y_train, y_test = train_test_split(selected_predictors, target, test_size=0.2, random_state=42)\n",
    "\n",
    "# Fitting an SVM regressor model\n",
    "model = SVR()\n",
    "model.fit(X_train, y_train)\n",
    "\n",
    "# Evaluating the model\n",
    "print(f'Model R-squared: {model.score(X_test, y_test)}')\n"
   ]
  },
  {
   "cell_type": "code",
   "execution_count": 71,
   "id": "c3559ad3",
   "metadata": {},
   "outputs": [
    {
     "name": "stdout",
     "output_type": "stream",
     "text": [
      "Model R-squared: -0.011247957970312195\n"
     ]
    }
   ],
   "source": [
    "from sklearn.model_selection import train_test_split\n",
    "from sklearn.ensemble import RandomForestRegressor\n",
    "\n",
    "# Splitting the data into training and testing sets\n",
    "X_train, X_test, y_train, y_test = train_test_split(selected_predictors, target, test_size=0.2, random_state=42)\n",
    "\n",
    "# Fitting a random forest regressor model\n",
    "model = RandomForestRegressor(random_state=42)\n",
    "model.fit(X_train, y_train)\n",
    "\n",
    "# Evaluating the model\n",
    "print(f'Model R-squared: {model.score(X_test, y_test)}')\n"
   ]
  },
  {
   "cell_type": "code",
   "execution_count": 72,
   "id": "cc9e9ac6",
   "metadata": {},
   "outputs": [
    {
     "name": "stdout",
     "output_type": "stream",
     "text": [
      "Model R-squared: -0.05808986533144744\n"
     ]
    }
   ],
   "source": [
    "from sklearn.model_selection import train_test_split\n",
    "from sklearn.ensemble import GradientBoostingRegressor\n",
    "\n",
    "# Splitting the data into training and testing sets\n",
    "X_train, X_test, y_train, y_test = train_test_split(selected_predictors, target, test_size=0.2, random_state=42)\n",
    "\n",
    "# Fitting a gradient boosting regressor model\n",
    "model = GradientBoostingRegressor(random_state=42)\n",
    "model.fit(X_train, y_train)\n",
    "\n",
    "# Evaluating the model\n",
    "print(f'Model R-squared: {model.score(X_test, y_test)}')\n"
   ]
  },
  {
   "cell_type": "code",
   "execution_count": null,
   "id": "71d1d196",
   "metadata": {},
   "outputs": [],
   "source": []
  }
 ],
 "metadata": {
  "kernelspec": {
   "display_name": "Python 3 (ipykernel)",
   "language": "python",
   "name": "python3"
  },
  "language_info": {
   "codemirror_mode": {
    "name": "ipython",
    "version": 3
   },
   "file_extension": ".py",
   "mimetype": "text/x-python",
   "name": "python",
   "nbconvert_exporter": "python",
   "pygments_lexer": "ipython3",
   "version": "3.9.16"
  }
 },
 "nbformat": 4,
 "nbformat_minor": 5
}
